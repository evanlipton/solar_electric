{
 "cells": [
  {
   "cell_type": "code",
   "execution_count": 1,
   "outputs": [],
   "source": [
    "import numpy as np\n",
    "import pandas as pd\n",
    "import os\n",
    "import re\n",
    "from tqdm import tqdm\n",
    "import requests\n",
    "from io import StringIO\n",
    "from os import listdir\n",
    "from os.path import isfile, join\n",
    "import datetime as dt\n",
    "from datetime import datetime, timedelta\n",
    "\n",
    "import gridstatus"
   ],
   "metadata": {
    "collapsed": false
   }
  },
  {
   "cell_type": "code",
   "execution_count": 2,
   "outputs": [],
   "source": [
    "def listdir_nohidden(path):\n",
    "    for f in os.listdir(path):\n",
    "        if not f.startswith('.'):\n",
    "            yield f\n",
    "\n"
   ],
   "metadata": {
    "collapsed": false
   }
  },
  {
   "cell_type": "code",
   "execution_count": 3,
   "outputs": [],
   "source": [
    "FILE_PATH = \"/Users/evanlipton/Dropbox (YSE)/Solar_ElectricData/Data\""
   ],
   "metadata": {
    "collapsed": false
   }
  },
  {
   "cell_type": "code",
   "execution_count": 4,
   "outputs": [],
   "source": [
    "ISOS = [\"PJM\"]"
   ],
   "metadata": {
    "collapsed": false
   }
  },
  {
   "cell_type": "code",
   "execution_count": 5,
   "outputs": [
    {
     "name": "stderr",
     "output_type": "stream",
     "text": [
      "16it [00:05,  2.70it/s]\n"
     ]
    }
   ],
   "source": [
    "ISO_files = {}\n",
    "ISO_data = {}\n",
    "ISO_final = {}\n",
    "\n",
    "#load in\n",
    "for ISO in ISOS:\n",
    "    ISO_files[ISO] = listdir_nohidden(f\"{FILE_PATH}/{ISO}/old\")\n",
    "    ISO_data[ISO] = {}\n",
    "    for file in tqdm(ISO_files[ISO]):\n",
    "        compiled = re.compile(re.escape(f\"{ISO}_\"), re.IGNORECASE)\n",
    "\n",
    "        ISO_data[ISO][compiled.sub(\"\", file).replace(\".csv\",\"\")] = pd.read_csv(f\"{FILE_PATH}/{ISO}/old/{file}\")"
   ],
   "metadata": {
    "collapsed": false
   }
  },
  {
   "cell_type": "code",
   "execution_count": 6,
   "outputs": [
    {
     "name": "stdout",
     "output_type": "stream",
     "text": [
      "PJM\n"
     ]
    }
   ],
   "source": [
    "#add merge datetime\n",
    "titles = {}\n",
    "for key in ISO_data:\n",
    "    print(key)\n",
    "    titles[key]= []\n",
    "    for k in ISO_data[key]:\n",
    "        try:\n",
    "            ISO_data[key][k][\"time_tomerge\"] = pd.to_datetime(ISO_data[key][k].iloc[:,0], utc=True)\n",
    "        except:\n",
    "            ISO_data[key][k] = ISO_data[key][k][ISO_data[key][k].index % 24 != 0]\n",
    "            ISO_data[key][k][\"time_tomerge\"] = pd.to_datetime(ISO_data[key][k].iloc[:,0], utc=True)\n",
    "            print(type(ISO_data[key][k][\"time_tomerge\"]))"
   ],
   "metadata": {
    "collapsed": false
   }
  },
  {
   "cell_type": "code",
   "execution_count": 7,
   "outputs": [],
   "source": [
    "ISO_final = {}\n",
    "def clean_final(ISO: str, df: str):\n",
    "    ISO_data[ISO][df].columns = ISO_data[ISO][df].columns.str.lower()\n",
    "    no_date = [col for col in ISO_data[ISO][df].columns if \"date\" not in col]\n",
    "    ISO_data[ISO][df] = ISO_data[ISO][df][no_date]\n",
    "    try:\n",
    "        ISO_data[ISO][df] = ISO_data[ISO][df].drop(\"unnamed: 0\")\n",
    "        ISO_data[ISO][df] = ISO_data[ISO][df].drop(\"hour\")\n",
    "    except:\n",
    "        pass\n",
    "    ISO_data[ISO][df] = ISO_data[ISO][df].sort_values(by=\"time_tomerge\")\n",
    "    ISO_data[ISO][df] = ISO_data[ISO][df].set_index(\"time_tomerge\")\n",
    "    ISO_final[ISO] = ISO_data[ISO][df]\n",
    "    for column in ISO_final[ISO].columns:\n",
    "        if str(ISO).lower() in column:\n",
    "            ISO_final[ISO] = ISO_final[ISO].rename(columns={column: column.replace(f\"{str(ISO).lower()}_\",\"\")})\n",
    "    print(ISO_final[ISO])"
   ],
   "metadata": {
    "collapsed": false
   }
  },
  {
   "cell_type": "code",
   "execution_count": 8,
   "outputs": [
    {
     "name": "stdout",
     "output_type": "stream",
     "text": [
      "                           dasr_procurement_price  dasr_procurement_quantity  \\\n",
      "time_tomerge                                                                   \n",
      "2014-01-01 05:00:00+00:00                     0.0                     5840.1   \n",
      "2014-01-01 06:00:00+00:00                     0.0                     5846.7   \n",
      "2014-01-01 07:00:00+00:00                     0.0                     5477.1   \n",
      "2014-01-01 08:00:00+00:00                     0.0                     6297.9   \n",
      "2014-01-01 09:00:00+00:00                     0.0                     5476.9   \n",
      "...                                           ...                        ...   \n",
      "2019-01-01 00:00:00+00:00                     0.0                     5223.8   \n",
      "2019-01-01 01:00:00+00:00                     0.0                     5253.8   \n",
      "2019-01-01 02:00:00+00:00                     0.0                     5223.8   \n",
      "2019-01-01 03:00:00+00:00                     0.0                     5223.8   \n",
      "2019-01-01 04:00:00+00:00                     0.0                     5253.8   \n",
      "\n",
      "                           dasr_cost  rto_activation_cost_nonsynchr  \\\n",
      "time_tomerge                                                          \n",
      "2014-01-01 05:00:00+00:00        0.0                            0.0   \n",
      "2014-01-01 06:00:00+00:00        0.0                            0.0   \n",
      "2014-01-01 07:00:00+00:00        0.0                            0.0   \n",
      "2014-01-01 08:00:00+00:00        0.0                            0.0   \n",
      "2014-01-01 09:00:00+00:00        0.0                            0.0   \n",
      "...                              ...                            ...   \n",
      "2019-01-01 00:00:00+00:00        0.0                            0.0   \n",
      "2019-01-01 01:00:00+00:00        0.0                            0.0   \n",
      "2019-01-01 02:00:00+00:00        0.0                            0.0   \n",
      "2019-01-01 03:00:00+00:00        0.0                            0.0   \n",
      "2019-01-01 04:00:00+00:00        0.0                            0.0   \n",
      "\n",
      "                           mad_activation_cost_nonsynchr  mad_pr_price  \\\n",
      "time_tomerge                                                             \n",
      "2014-01-01 05:00:00+00:00                            0.0           0.0   \n",
      "2014-01-01 06:00:00+00:00                            0.0           0.0   \n",
      "2014-01-01 07:00:00+00:00                            0.0           0.0   \n",
      "2014-01-01 08:00:00+00:00                            0.0           0.0   \n",
      "2014-01-01 09:00:00+00:00                            0.0           0.0   \n",
      "...                                                  ...           ...   \n",
      "2019-01-01 00:00:00+00:00                            0.0           0.0   \n",
      "2019-01-01 01:00:00+00:00                            0.0           0.0   \n",
      "2019-01-01 02:00:00+00:00                            0.0           0.0   \n",
      "2019-01-01 03:00:00+00:00                            0.0           0.0   \n",
      "2019-01-01 04:00:00+00:00                            0.0           0.0   \n",
      "\n",
      "                           mad_sr_price  rto_mileage_ratio  rto_pr_price  \\\n",
      "time_tomerge                                                               \n",
      "2014-01-01 05:00:00+00:00          6.45           2.091172           0.0   \n",
      "2014-01-01 06:00:00+00:00          5.52           2.867065           0.0   \n",
      "2014-01-01 07:00:00+00:00          1.53           1.587149           0.0   \n",
      "2014-01-01 08:00:00+00:00          4.11           1.688147           0.0   \n",
      "2014-01-01 09:00:00+00:00          3.52           2.076917           0.0   \n",
      "...                                 ...                ...           ...   \n",
      "2019-01-01 00:00:00+00:00          0.00           9.106328           0.0   \n",
      "2019-01-01 01:00:00+00:00          0.00           7.029504           0.0   \n",
      "2019-01-01 02:00:00+00:00          0.00           6.530455           0.0   \n",
      "2019-01-01 03:00:00+00:00          0.00           4.916959           0.0   \n",
      "2019-01-01 04:00:00+00:00          0.00           6.614262           0.0   \n",
      "\n",
      "                           rto_reg_capability_price  ...   hydro  \\\n",
      "time_tomerge                                         ...           \n",
      "2014-01-01 05:00:00+00:00                     27.91  ...     NaN   \n",
      "2014-01-01 06:00:00+00:00                     10.09  ...     NaN   \n",
      "2014-01-01 07:00:00+00:00                      6.45  ...     NaN   \n",
      "2014-01-01 08:00:00+00:00                     17.50  ...     NaN   \n",
      "2014-01-01 09:00:00+00:00                     17.68  ...     NaN   \n",
      "...                                             ...  ...     ...   \n",
      "2019-01-01 00:00:00+00:00                      3.32  ...  3085.4   \n",
      "2019-01-01 01:00:00+00:00                      5.79  ...  2752.2   \n",
      "2019-01-01 02:00:00+00:00                      3.86  ...  2209.0   \n",
      "2019-01-01 03:00:00+00:00                      2.36  ...  2144.6   \n",
      "2019-01-01 04:00:00+00:00                     26.62  ...  2169.1   \n",
      "\n",
      "                           multiple fuels  nuclear    oil  other  \\\n",
      "time_tomerge                                                       \n",
      "2014-01-01 05:00:00+00:00             NaN      NaN    NaN    NaN   \n",
      "2014-01-01 06:00:00+00:00             NaN      NaN    NaN    NaN   \n",
      "2014-01-01 07:00:00+00:00             NaN      NaN    NaN    NaN   \n",
      "2014-01-01 08:00:00+00:00             NaN      NaN    NaN    NaN   \n",
      "2014-01-01 09:00:00+00:00             NaN      NaN    NaN    NaN   \n",
      "...                                   ...      ...    ...    ...   \n",
      "2019-01-01 00:00:00+00:00             4.7  34730.2  211.8   32.3   \n",
      "2019-01-01 01:00:00+00:00             4.7  34721.3  207.6   31.9   \n",
      "2019-01-01 02:00:00+00:00             4.7  34713.5  208.5   31.1   \n",
      "2019-01-01 03:00:00+00:00             3.2  34729.4  210.5   32.3   \n",
      "2019-01-01 04:00:00+00:00             1.6  34704.6  209.3   31.0   \n",
      "\n",
      "                           other renewables  solar    wind       load  \\\n",
      "time_tomerge                                                            \n",
      "2014-01-01 05:00:00+00:00               NaN    NaN     NaN  91392.412   \n",
      "2014-01-01 06:00:00+00:00               NaN    NaN     NaN  89227.554   \n",
      "2014-01-01 07:00:00+00:00               NaN    NaN     NaN  87668.736   \n",
      "2014-01-01 08:00:00+00:00               NaN    NaN     NaN  87062.268   \n",
      "2014-01-01 09:00:00+00:00               NaN    NaN     NaN  87373.595   \n",
      "...                                     ...    ...     ...        ...   \n",
      "2019-01-01 00:00:00+00:00             531.3    4.4  6457.7  89783.241   \n",
      "2019-01-01 01:00:00+00:00             525.3    4.4  6543.4  86139.387   \n",
      "2019-01-01 02:00:00+00:00             532.3    4.4  6175.4  82366.316   \n",
      "2019-01-01 03:00:00+00:00             531.7    4.4  5810.3  78861.563   \n",
      "2019-01-01 04:00:00+00:00             523.5    4.4  5474.5  75325.078   \n",
      "\n",
      "                           gen_wind  \n",
      "time_tomerge                         \n",
      "2014-01-01 05:00:00+00:00    1750.0  \n",
      "2014-01-01 06:00:00+00:00    1351.0  \n",
      "2014-01-01 07:00:00+00:00    1267.0  \n",
      "2014-01-01 08:00:00+00:00    1315.0  \n",
      "2014-01-01 09:00:00+00:00    1448.0  \n",
      "...                             ...  \n",
      "2019-01-01 00:00:00+00:00       NaN  \n",
      "2019-01-01 01:00:00+00:00       NaN  \n",
      "2019-01-01 02:00:00+00:00       NaN  \n",
      "2019-01-01 03:00:00+00:00       NaN  \n",
      "2019-01-01 04:00:00+00:00       NaN  \n",
      "\n",
      "[43824 rows x 46 columns]\n"
     ]
    }
   ],
   "source": [
    "for iso in ISOS:\n",
    "    clean_final(iso, \"final\")"
   ],
   "metadata": {
    "collapsed": false
   }
  },
  {
   "cell_type": "code",
   "execution_count": 9,
   "outputs": [
    {
     "name": "stderr",
     "output_type": "stream",
     "text": [
      "4it [00:00,  9.96it/s]\n"
     ]
    }
   ],
   "source": [
    "#FOR COMBING DATA\n",
    "ISO_done = [\"PJM\"]\n",
    "FILE_PATH = \"/Users/evanlipton/Dropbox (YSE)/Solar_ElectricData/Data/PJM/new\"\n",
    "for file in (listdir_nohidden(FILE_PATH)):\n",
    "    if file in [\"generation\"]:\n",
    "        dfs = []\n",
    "        for f in tqdm(listdir_nohidden(f\"{FILE_PATH}/{file}\")):\n",
    "            df = pd.read_csv(f\"{FILE_PATH}/{file}/{f}\")\n",
    "            #df['Date'] = [f[14:24].replace(\"_\", \"-\") for _ in range(len(df))]\n",
    "            dfs.append(df)\n",
    "\n",
    "        temp = pd.concat(dfs)\n",
    "        os.makedirs(f\"{FILE_PATH}/combined\", exist_ok=True)\n",
    "        temp.to_csv(f\"{FILE_PATH}/combined/{file}.csv\")"
   ],
   "metadata": {
    "collapsed": false
   }
  },
  {
   "cell_type": "code",
   "execution_count": 10,
   "outputs": [
    {
     "data": {
      "text/plain": "Index(['dasr_procurement_price', 'dasr_procurement_quantity', 'dasr_cost',\n       'rto_activation_cost_nonsynchr', 'mad_activation_cost_nonsynchr',\n       'mad_pr_price', 'mad_sr_price', 'rto_mileage_ratio', 'rto_pr_price',\n       'rto_reg_capability_price', 'rto_reg_performance_price', 'rto_sr_price',\n       'mad_pr_reg', 'mad_sr_req', 'rto_pr_req', 'rto_reg_req', 'rto_sr_req',\n       'mad_pr_total', 'mad_sr_total', 'rto_pr_total', 'rto_reg_total',\n       'rto_sr_total', 'rto_reg_activation_quantity', 'energy_da', 'lmp_da',\n       'congestion_da', 'losses_da', 'energy_rt', 'lmp_rt', 'congestion_rt',\n       'losses_rt', 'exchange_rt', 'unnamed: 0', 'gas_price', 'coal', 'gas',\n       'hydro', 'multiple fuels', 'nuclear', 'oil', 'other',\n       'other renewables', 'solar', 'wind', 'load', 'gen_wind'],\n      dtype='object')"
     },
     "execution_count": 10,
     "metadata": {},
     "output_type": "execute_result"
    }
   ],
   "source": [
    "ISO_final[ISO].columns\n"
   ],
   "metadata": {
    "collapsed": false
   }
  },
  {
   "cell_type": "code",
   "execution_count": 11,
   "outputs": [
    {
     "name": "stdout",
     "output_type": "stream",
     "text": [
      "PJM\n"
     ]
    },
    {
     "name": "stderr",
     "output_type": "stream",
     "text": [
      "100%|██████████| 11/11 [00:05<00:00,  2.01it/s]\n"
     ]
    }
   ],
   "source": [
    "ISO_done = [\"PJM\"]\n",
    "FILE_PATH = \"/Users/evanlipton/Dropbox (YSE)/Solar_ElectricData/Data\"\n",
    "new_data = {}\n",
    "for ISO in ISO_done:\n",
    "    sub_folder = f\"{FILE_PATH}/{ISO}/new/combined\"\n",
    "    files = [f for f in listdir(sub_folder) if isfile(join(sub_folder, f)) and f[0]!=\".\"]\n",
    "    new_data[ISO] = {}\n",
    "    print(ISO)\n",
    "    for file in tqdm(files):\n",
    "        new_data[ISO][file.replace(\".csv\", \"\")] = pd.read_csv(f\"{sub_folder}/{file}\")"
   ],
   "metadata": {
    "collapsed": false
   }
  },
  {
   "cell_type": "code",
   "execution_count": 12,
   "outputs": [
    {
     "name": "stdout",
     "output_type": "stream",
     "text": [
      "['solar', 'ancillary_dasr_procurement', 'energy_da', 'ancillary_procurement_price', 'energy_rt', 'wind', 'generation', 'ancillary_nonsynchr_cost', 'load', 'exchange', 'ancillary_procurement_quantity']\n"
     ]
    }
   ],
   "source": [
    "print([key for key in new_data[\"PJM\"]])"
   ],
   "metadata": {
    "collapsed": false
   }
  },
  {
   "cell_type": "code",
   "execution_count": 13,
   "outputs": [
    {
     "data": {
      "text/plain": "Index(['Unnamed: 0', 'datetime_beginning_ept', 'pnode_id', 'pnode_name',\n       'voltage', 'equipment', 'type', 'zone', 'system_energy_price_rt',\n       'total_lmp_rt', 'congestion_price_rt', 'marginal_loss_price_rt',\n       'row_is_current', 'version_nbr'],\n      dtype='object')"
     },
     "execution_count": 13,
     "metadata": {},
     "output_type": "execute_result"
    }
   ],
   "source": [
    "new_data[\"PJM\"][\"energy_rt\"].columns"
   ],
   "metadata": {
    "collapsed": false
   }
  },
  {
   "cell_type": "code",
   "execution_count": 14,
   "outputs": [
    {
     "name": "stdout",
     "output_type": "stream",
     "text": [
      "              time_tomerge  energy_rt  congestion_rt  losses_rt     lmp_rt\n",
      "0      2022-01-01 01:00:00      18.91       0.000251   0.006118  18.914703\n",
      "23     2022-01-01 02:00:00      18.16       0.000000   0.005346  18.163679\n",
      "46     2022-01-01 03:00:00      18.50       0.000162   0.005814  18.509309\n",
      "69     2022-01-01 04:00:00      18.38       0.000711   0.009022  18.390567\n",
      "92     2022-01-01 05:00:00      18.11      -0.000033   0.006453  18.119753\n",
      "...                    ...        ...            ...        ...        ...\n",
      "811992 2019-12-30 21:00:00      18.69       0.010342   0.008448  18.711290\n",
      "812015 2019-12-30 22:00:00      18.50       0.007895   0.008187  18.516915\n",
      "812038 2019-12-30 23:00:00      17.62       0.006954   0.011930  17.642217\n",
      "812061 2019-12-31 00:00:00      17.47       0.009210   0.010926  17.488469\n",
      "812084 2019-12-31 01:00:00      17.41       0.052813   0.009547  17.467360\n",
      "\n",
      "[35309 rows x 5 columns]\n"
     ]
    },
    {
     "name": "stderr",
     "output_type": "stream",
     "text": [
      "/var/folders/cz/nv3pr_214md_31815rhfvdkh0000gn/T/ipykernel_98461/1791878446.py:3: SettingWithCopyWarning: \n",
      "A value is trying to be set on a copy of a slice from a DataFrame.\n",
      "Try using .loc[row_indexer,col_indexer] = value instead\n",
      "\n",
      "See the caveats in the documentation: https://pandas.pydata.org/pandas-docs/stable/user_guide/indexing.html#returning-a-view-versus-a-copy\n",
      "  energy_rt[\"time_tomerge\"] = pd.to_datetime(energy_rt[\"datetime_beginning_ept\"]) + timedelta(hours=1)\n"
     ]
    }
   ],
   "source": [
    "energy_rt = new_data[\"PJM\"][\"energy_rt\"]\n",
    "energy_rt = energy_rt[energy_rt[\"pnode_name\"] == \"PJM-RTO\"]\n",
    "energy_rt[\"time_tomerge\"] = pd.to_datetime(energy_rt[\"datetime_beginning_ept\"]) + timedelta(hours=1)\n",
    "energy_rt = energy_rt[[\"time_tomerge\", \"system_energy_price_rt\", \"congestion_price_rt\", \"marginal_loss_price_rt\", \"total_lmp_rt\"]].rename(columns={\"system_energy_price_rt\": \"energy_rt\", \"congestion_price_rt\": \"congestion_rt\", \"marginal_loss_price_rt\": \"losses_rt\", \"total_lmp_rt\": \"lmp_rt\"})\n",
    "print(energy_rt)"
   ],
   "metadata": {
    "collapsed": false
   }
  },
  {
   "cell_type": "code",
   "execution_count": 15,
   "outputs": [
    {
     "name": "stdout",
     "output_type": "stream",
     "text": [
      "              time_tomerge  energy_da  congestion_da  losses_da     lmp_da\n",
      "0      2019-01-01 01:00:00      18.96      -0.017594   0.048129  18.990535\n",
      "23     2019-01-01 02:00:00      18.80      -0.025540  -0.008323  18.766137\n",
      "46     2019-01-01 03:00:00      18.57      -0.014702  -0.027308  18.527990\n",
      "69     2019-01-01 04:00:00      18.40      -0.016699  -0.018047  18.365254\n",
      "92     2019-01-01 05:00:00      18.57      -0.010931  -0.023695  18.535374\n",
      "...                    ...        ...            ...        ...        ...\n",
      "804264 2020-12-30 21:00:00      22.03       0.125627   0.266690  22.422317\n",
      "804287 2020-12-30 22:00:00      20.53       0.058729   0.228399  20.817128\n",
      "804310 2020-12-30 23:00:00      18.78       0.007678   0.117070  18.904748\n",
      "804333 2020-12-31 00:00:00      18.10       0.070194   0.130718  18.300912\n",
      "804356 2020-12-31 01:00:00      17.25       0.329560   0.024265  17.603824\n",
      "\n",
      "[34973 rows x 5 columns]\n"
     ]
    },
    {
     "name": "stderr",
     "output_type": "stream",
     "text": [
      "/var/folders/cz/nv3pr_214md_31815rhfvdkh0000gn/T/ipykernel_98461/2463706358.py:3: SettingWithCopyWarning: \n",
      "A value is trying to be set on a copy of a slice from a DataFrame.\n",
      "Try using .loc[row_indexer,col_indexer] = value instead\n",
      "\n",
      "See the caveats in the documentation: https://pandas.pydata.org/pandas-docs/stable/user_guide/indexing.html#returning-a-view-versus-a-copy\n",
      "  energy_da[\"time_tomerge\"] = pd.to_datetime(energy_da[\"datetime_beginning_ept\"]) + timedelta(hours=1)\n"
     ]
    }
   ],
   "source": [
    "energy_da = new_data[\"PJM\"][\"energy_da\"]\n",
    "energy_da = energy_da[energy_da[\"pnode_name\"] == \"PJM-RTO\"]\n",
    "energy_da[\"time_tomerge\"] = pd.to_datetime(energy_da[\"datetime_beginning_ept\"]) + timedelta(hours=1)\n",
    "energy_da = energy_da[[\"time_tomerge\", \"system_energy_price_da\", \"congestion_price_da\", \"marginal_loss_price_da\", \"total_lmp_da\"]].rename(columns={\"system_energy_price_da\": \"energy_da\", \"congestion_price_da\": \"congestion_da\", \"marginal_loss_price_da\": \"losses_da\", \"total_lmp_da\": \"lmp_da\"})\n",
    "print(energy_da)"
   ],
   "metadata": {
    "collapsed": false
   }
  },
  {
   "cell_type": "code",
   "execution_count": 16,
   "outputs": [
    {
     "name": "stdout",
     "output_type": "stream",
     "text": [
      "             time_tomerge       load\n",
      "0     2020-01-01 01:00:00  79182.471\n",
      "1     2020-01-01 02:00:00  77573.714\n",
      "2     2020-01-01 03:00:00  76202.136\n",
      "3     2020-01-01 04:00:00  75674.034\n",
      "4     2020-01-01 05:00:00  76238.041\n",
      "...                   ...        ...\n",
      "35059 2019-12-31 20:00:00  92784.789\n",
      "35060 2019-12-31 21:00:00  90016.822\n",
      "35061 2019-12-31 22:00:00  87332.351\n",
      "35062 2019-12-31 23:00:00  84430.223\n",
      "35063 2020-01-01 00:00:00  81522.416\n",
      "\n",
      "[35064 rows x 2 columns]\n"
     ]
    }
   ],
   "source": [
    "load = new_data[\"PJM\"][\"load\"]\n",
    "load[\"time_tomerge\"] = pd.to_datetime(load[\"datetime_beginning_ept\"]) + timedelta(hours=1)\n",
    "load = load[[\"time_tomerge\", \"mw\"]].rename(columns={\"mw\":\"load\"})\n",
    "print(load)"
   ],
   "metadata": {
    "collapsed": false
   }
  },
  {
   "cell_type": "code",
   "execution_count": 17,
   "outputs": [
    {
     "data": {
      "text/plain": "             time_tomerge  exchange_positive  exchange_negative  exchange_rt\n0     2019-01-01 01:00:00            1273.75           -4706.00     -3432.25\n1     2019-01-01 02:00:00            1582.00           -5814.50     -4232.50\n2     2019-01-01 03:00:00            1656.75           -5607.25     -3950.50\n3     2019-01-01 04:00:00            1668.25           -5574.00     -3905.75\n4     2019-01-01 05:00:00            1455.00           -5908.00     -4453.00\n...                   ...                ...                ...          ...\n32856 2022-12-30 21:00:00             982.00           -3632.25     -2650.25\n32857 2022-12-30 22:00:00             771.00           -3568.75     -2797.75\n32858 2022-12-30 23:00:00            1152.50           -3669.00     -2516.50\n32859 2022-12-31 00:00:00            1587.50           -3638.75     -2051.25\n32860 2022-12-31 01:00:00            1224.00           -4161.00     -2937.00\n\n[32861 rows x 4 columns]",
      "text/html": "<div>\n<style scoped>\n    .dataframe tbody tr th:only-of-type {\n        vertical-align: middle;\n    }\n\n    .dataframe tbody tr th {\n        vertical-align: top;\n    }\n\n    .dataframe thead th {\n        text-align: right;\n    }\n</style>\n<table border=\"1\" class=\"dataframe\">\n  <thead>\n    <tr style=\"text-align: right;\">\n      <th></th>\n      <th>time_tomerge</th>\n      <th>exchange_positive</th>\n      <th>exchange_negative</th>\n      <th>exchange_rt</th>\n    </tr>\n  </thead>\n  <tbody>\n    <tr>\n      <th>0</th>\n      <td>2019-01-01 01:00:00</td>\n      <td>1273.75</td>\n      <td>-4706.00</td>\n      <td>-3432.25</td>\n    </tr>\n    <tr>\n      <th>1</th>\n      <td>2019-01-01 02:00:00</td>\n      <td>1582.00</td>\n      <td>-5814.50</td>\n      <td>-4232.50</td>\n    </tr>\n    <tr>\n      <th>2</th>\n      <td>2019-01-01 03:00:00</td>\n      <td>1656.75</td>\n      <td>-5607.25</td>\n      <td>-3950.50</td>\n    </tr>\n    <tr>\n      <th>3</th>\n      <td>2019-01-01 04:00:00</td>\n      <td>1668.25</td>\n      <td>-5574.00</td>\n      <td>-3905.75</td>\n    </tr>\n    <tr>\n      <th>4</th>\n      <td>2019-01-01 05:00:00</td>\n      <td>1455.00</td>\n      <td>-5908.00</td>\n      <td>-4453.00</td>\n    </tr>\n    <tr>\n      <th>...</th>\n      <td>...</td>\n      <td>...</td>\n      <td>...</td>\n      <td>...</td>\n    </tr>\n    <tr>\n      <th>32856</th>\n      <td>2022-12-30 21:00:00</td>\n      <td>982.00</td>\n      <td>-3632.25</td>\n      <td>-2650.25</td>\n    </tr>\n    <tr>\n      <th>32857</th>\n      <td>2022-12-30 22:00:00</td>\n      <td>771.00</td>\n      <td>-3568.75</td>\n      <td>-2797.75</td>\n    </tr>\n    <tr>\n      <th>32858</th>\n      <td>2022-12-30 23:00:00</td>\n      <td>1152.50</td>\n      <td>-3669.00</td>\n      <td>-2516.50</td>\n    </tr>\n    <tr>\n      <th>32859</th>\n      <td>2022-12-31 00:00:00</td>\n      <td>1587.50</td>\n      <td>-3638.75</td>\n      <td>-2051.25</td>\n    </tr>\n    <tr>\n      <th>32860</th>\n      <td>2022-12-31 01:00:00</td>\n      <td>1224.00</td>\n      <td>-4161.00</td>\n      <td>-2937.00</td>\n    </tr>\n  </tbody>\n</table>\n<p>32861 rows × 4 columns</p>\n</div>"
     },
     "execution_count": 17,
     "metadata": {},
     "output_type": "execute_result"
    }
   ],
   "source": [
    "exchange = new_data[\"PJM\"][\"exchange\"]\n",
    "exchange[\"time_tomerge\"] = pd.to_datetime(exchange[\"datetime_ending_ept\"])\n",
    "\n",
    "exchange_average = pd.DataFrame()\n",
    "exchange_average[\"time_tomerge\"] = np.unique(pd.to_datetime(exchange[\"datetime_ending_ept\"]))\n",
    "exchange_average = exchange_average.merge(exchange[exchange[\"hrly_net_tie_sched\"]>0].groupby([\"time_tomerge\"])[\"hrly_net_tie_sched\"].sum(), on = \"time_tomerge\").rename(columns = {\"hrly_net_tie_sched\": \"exchange_positive\"})\n",
    "exchange_average = exchange_average.merge(exchange[exchange[\"hrly_net_tie_sched\"]<0].groupby([\"time_tomerge\"])[\"hrly_net_tie_sched\"].sum(), on = \"time_tomerge\").rename(columns = {\"hrly_net_tie_sched\": \"exchange_negative\"})\n",
    "exchange_average = exchange_average.merge(exchange.groupby([\"time_tomerge\"])[\"hrly_net_tie_sched\"].sum(), on = \"time_tomerge\").rename(columns = {\"hrly_net_tie_sched\": \"exchange_rt\"})\n",
    "exchange_average"
   ],
   "metadata": {
    "collapsed": false
   }
  },
  {
   "cell_type": "code",
   "execution_count": 18,
   "outputs": [],
   "source": [
    "generation = new_data[\"PJM\"][\"generation\"]\n",
    "generation[\"time_tomerge\"] = pd.to_datetime(generation[\"datetime_beginning_ept\"]) + timedelta(hours=1)\n"
   ],
   "metadata": {
    "collapsed": false
   }
  },
  {
   "cell_type": "code",
   "execution_count": 19,
   "outputs": [
    {
     "name": "stderr",
     "output_type": "stream",
     "text": [
      "100%|██████████| 11/11 [00:00<00:00, 22.56it/s]\n"
     ]
    }
   ],
   "source": [
    "generation_new = pd.DataFrame()\n",
    "generation_new[\"time_tomerge\"] = np.unique(pd.to_datetime(generation[\"datetime_beginning_ept\"]) + timedelta(hours=1))\n",
    "for fuel in tqdm(np.unique(generation[\"fuel_type\"])):\n",
    "    generation_new = generation_new.merge(generation[[\"time_tomerge\",\"mw\"]][generation[\"fuel_type\"] == fuel], on = \"time_tomerge\").rename(columns={\"mw\": fuel})"
   ],
   "metadata": {
    "collapsed": false
   }
  },
  {
   "cell_type": "code",
   "execution_count": 20,
   "outputs": [],
   "source": [
    "generation_new.columns = [x.lower() for x in generation_new.columns]\n",
    "\n",
    "generation_new = generation_new.rename(columns = {'coal':'gen_coal',\n",
    " 'gas':'gen_gas',\n",
    " 'hydro': 'gen_hydro',\n",
    " 'multiple fuels': \"gen_multiple_fuels\",\n",
    " 'nuclear': \"gen_nuclear\",\n",
    " 'oil': \"gen_oil\",\n",
    " 'other': \"gen_other\",\n",
    " 'other renewables': \"gen_other_renewables\",\n",
    " 'solar': \"gen_solar\",\n",
    " 'storage': \"gen_storage\",\n",
    " 'wind': \"gen_wind\"})\n"
   ],
   "metadata": {
    "collapsed": false
   }
  },
  {
   "cell_type": "code",
   "execution_count": 21,
   "outputs": [
    {
     "name": "stdout",
     "output_type": "stream",
     "text": [
      "             time_tomerge  gen_coal  gen_gas  gen_hydro  gen_multiple_fuels  \\\n",
      "0     2019-01-01 01:00:00   17096.1  17973.6     2099.6                 3.2   \n",
      "1     2019-01-01 02:00:00   17192.6  16787.6     2039.8                 3.2   \n",
      "2     2019-01-01 03:00:00   17037.8  16104.1     2054.6                 3.2   \n",
      "3     2019-01-01 04:00:00   16940.3  15509.3     2048.7                 3.3   \n",
      "4     2019-01-01 05:00:00   16652.0  15266.8     2041.7                 3.2   \n",
      "...                   ...       ...      ...        ...                 ...   \n",
      "43081 2022-12-30 21:00:00   14359.3  37030.2     2172.3               313.2   \n",
      "43082 2022-12-30 22:00:00   14025.6  35371.1     2064.3               314.2   \n",
      "43083 2022-12-30 23:00:00   13606.7  34407.7     1784.0                 3.2   \n",
      "43084 2022-12-31 00:00:00   13351.4  31816.3     1006.7                 3.1   \n",
      "43085 2022-12-31 01:00:00   13130.7  29708.9      859.0                 3.2   \n",
      "\n",
      "       gen_nuclear  gen_oil  gen_other  gen_other_renewables  gen_solar  \\\n",
      "0          34710.3    211.0       33.1                 521.1        4.4   \n",
      "1          34701.5    211.8       34.1                 516.3        4.4   \n",
      "2          34689.3    216.8       33.4                 527.4        4.4   \n",
      "3          34671.3    219.0       33.5                 551.3        4.4   \n",
      "4          34676.6    221.0       33.1                 536.5        4.4   \n",
      "...            ...      ...        ...                   ...        ...   \n",
      "43081      33970.9    185.4      309.6                 669.5        8.4   \n",
      "43082      33973.8    187.9      353.2                 661.3        8.4   \n",
      "43083      33922.8    193.3      199.5                 662.7        8.4   \n",
      "43084      33953.7    193.4      200.6                 668.7        8.4   \n",
      "43085      33960.7    192.4      219.8                 668.8        8.4   \n",
      "\n",
      "       gen_storage  gen_wind  \n",
      "0              0.0    4927.1  \n",
      "1              0.0    4538.0  \n",
      "2              0.0    4163.2  \n",
      "3              0.0    3712.5  \n",
      "4              0.0    3452.0  \n",
      "...            ...       ...  \n",
      "43081          0.0    1428.5  \n",
      "43082          0.0    1498.4  \n",
      "43083          0.0    1499.8  \n",
      "43084          0.0    1478.8  \n",
      "43085          0.0    1632.8  \n",
      "\n",
      "[43086 rows x 12 columns]\n"
     ]
    }
   ],
   "source": [
    "print(generation_new)"
   ],
   "metadata": {
    "collapsed": false
   }
  },
  {
   "cell_type": "code",
   "execution_count": 25,
   "outputs": [
    {
     "ename": "KeyError",
     "evalue": "\"['gen_wind'] not found in axis\"",
     "output_type": "error",
     "traceback": [
      "\u001B[0;31m---------------------------------------------------------------------------\u001B[0m",
      "\u001B[0;31mKeyError\u001B[0m                                  Traceback (most recent call last)",
      "Cell \u001B[0;32mIn[25], line 1\u001B[0m\n\u001B[0;32m----> 1\u001B[0m ISO_final[\u001B[38;5;124m\"\u001B[39m\u001B[38;5;124mPJM\u001B[39m\u001B[38;5;124m\"\u001B[39m] \u001B[38;5;241m=\u001B[39m \u001B[43mISO_final\u001B[49m\u001B[43m[\u001B[49m\u001B[38;5;124;43m\"\u001B[39;49m\u001B[38;5;124;43mPJM\u001B[39;49m\u001B[38;5;124;43m\"\u001B[39;49m\u001B[43m]\u001B[49m\u001B[38;5;241;43m.\u001B[39;49m\u001B[43mdrop\u001B[49m\u001B[43m(\u001B[49m\u001B[43mcolumns\u001B[49m\u001B[38;5;241;43m=\u001B[39;49m\u001B[43m[\u001B[49m\u001B[38;5;124;43m\"\u001B[39;49m\u001B[38;5;124;43mgen_wind\u001B[39;49m\u001B[38;5;124;43m\"\u001B[39;49m\u001B[43m]\u001B[49m\u001B[43m)\u001B[49m\n",
      "File \u001B[0;32m/usr/local/lib/python3.8/site-packages/pandas/util/_decorators.py:311\u001B[0m, in \u001B[0;36mdeprecate_nonkeyword_arguments.<locals>.decorate.<locals>.wrapper\u001B[0;34m(*args, **kwargs)\u001B[0m\n\u001B[1;32m    305\u001B[0m \u001B[38;5;28;01mif\u001B[39;00m \u001B[38;5;28mlen\u001B[39m(args) \u001B[38;5;241m>\u001B[39m num_allow_args:\n\u001B[1;32m    306\u001B[0m     warnings\u001B[38;5;241m.\u001B[39mwarn(\n\u001B[1;32m    307\u001B[0m         msg\u001B[38;5;241m.\u001B[39mformat(arguments\u001B[38;5;241m=\u001B[39marguments),\n\u001B[1;32m    308\u001B[0m         \u001B[38;5;167;01mFutureWarning\u001B[39;00m,\n\u001B[1;32m    309\u001B[0m         stacklevel\u001B[38;5;241m=\u001B[39mstacklevel,\n\u001B[1;32m    310\u001B[0m     )\n\u001B[0;32m--> 311\u001B[0m \u001B[38;5;28;01mreturn\u001B[39;00m \u001B[43mfunc\u001B[49m\u001B[43m(\u001B[49m\u001B[38;5;241;43m*\u001B[39;49m\u001B[43margs\u001B[49m\u001B[43m,\u001B[49m\u001B[43m \u001B[49m\u001B[38;5;241;43m*\u001B[39;49m\u001B[38;5;241;43m*\u001B[39;49m\u001B[43mkwargs\u001B[49m\u001B[43m)\u001B[49m\n",
      "File \u001B[0;32m/usr/local/lib/python3.8/site-packages/pandas/core/frame.py:4906\u001B[0m, in \u001B[0;36mDataFrame.drop\u001B[0;34m(self, labels, axis, index, columns, level, inplace, errors)\u001B[0m\n\u001B[1;32m   4774\u001B[0m \u001B[38;5;129m@deprecate_nonkeyword_arguments\u001B[39m(version\u001B[38;5;241m=\u001B[39m\u001B[38;5;28;01mNone\u001B[39;00m, allowed_args\u001B[38;5;241m=\u001B[39m[\u001B[38;5;124m\"\u001B[39m\u001B[38;5;124mself\u001B[39m\u001B[38;5;124m\"\u001B[39m, \u001B[38;5;124m\"\u001B[39m\u001B[38;5;124mlabels\u001B[39m\u001B[38;5;124m\"\u001B[39m])\n\u001B[1;32m   4775\u001B[0m \u001B[38;5;28;01mdef\u001B[39;00m \u001B[38;5;21mdrop\u001B[39m(\n\u001B[1;32m   4776\u001B[0m     \u001B[38;5;28mself\u001B[39m,\n\u001B[0;32m   (...)\u001B[0m\n\u001B[1;32m   4783\u001B[0m     errors: \u001B[38;5;28mstr\u001B[39m \u001B[38;5;241m=\u001B[39m \u001B[38;5;124m\"\u001B[39m\u001B[38;5;124mraise\u001B[39m\u001B[38;5;124m\"\u001B[39m,\n\u001B[1;32m   4784\u001B[0m ):\n\u001B[1;32m   4785\u001B[0m \u001B[38;5;250m    \u001B[39m\u001B[38;5;124;03m\"\"\"\u001B[39;00m\n\u001B[1;32m   4786\u001B[0m \u001B[38;5;124;03m    Drop specified labels from rows or columns.\u001B[39;00m\n\u001B[1;32m   4787\u001B[0m \n\u001B[0;32m   (...)\u001B[0m\n\u001B[1;32m   4904\u001B[0m \u001B[38;5;124;03m            weight  1.0     0.8\u001B[39;00m\n\u001B[1;32m   4905\u001B[0m \u001B[38;5;124;03m    \"\"\"\u001B[39;00m\n\u001B[0;32m-> 4906\u001B[0m     \u001B[38;5;28;01mreturn\u001B[39;00m \u001B[38;5;28;43msuper\u001B[39;49m\u001B[43m(\u001B[49m\u001B[43m)\u001B[49m\u001B[38;5;241;43m.\u001B[39;49m\u001B[43mdrop\u001B[49m\u001B[43m(\u001B[49m\n\u001B[1;32m   4907\u001B[0m \u001B[43m        \u001B[49m\u001B[43mlabels\u001B[49m\u001B[38;5;241;43m=\u001B[39;49m\u001B[43mlabels\u001B[49m\u001B[43m,\u001B[49m\n\u001B[1;32m   4908\u001B[0m \u001B[43m        \u001B[49m\u001B[43maxis\u001B[49m\u001B[38;5;241;43m=\u001B[39;49m\u001B[43maxis\u001B[49m\u001B[43m,\u001B[49m\n\u001B[1;32m   4909\u001B[0m \u001B[43m        \u001B[49m\u001B[43mindex\u001B[49m\u001B[38;5;241;43m=\u001B[39;49m\u001B[43mindex\u001B[49m\u001B[43m,\u001B[49m\n\u001B[1;32m   4910\u001B[0m \u001B[43m        \u001B[49m\u001B[43mcolumns\u001B[49m\u001B[38;5;241;43m=\u001B[39;49m\u001B[43mcolumns\u001B[49m\u001B[43m,\u001B[49m\n\u001B[1;32m   4911\u001B[0m \u001B[43m        \u001B[49m\u001B[43mlevel\u001B[49m\u001B[38;5;241;43m=\u001B[39;49m\u001B[43mlevel\u001B[49m\u001B[43m,\u001B[49m\n\u001B[1;32m   4912\u001B[0m \u001B[43m        \u001B[49m\u001B[43minplace\u001B[49m\u001B[38;5;241;43m=\u001B[39;49m\u001B[43minplace\u001B[49m\u001B[43m,\u001B[49m\n\u001B[1;32m   4913\u001B[0m \u001B[43m        \u001B[49m\u001B[43merrors\u001B[49m\u001B[38;5;241;43m=\u001B[39;49m\u001B[43merrors\u001B[49m\u001B[43m,\u001B[49m\n\u001B[1;32m   4914\u001B[0m \u001B[43m    \u001B[49m\u001B[43m)\u001B[49m\n",
      "File \u001B[0;32m/usr/local/lib/python3.8/site-packages/pandas/core/generic.py:4150\u001B[0m, in \u001B[0;36mNDFrame.drop\u001B[0;34m(self, labels, axis, index, columns, level, inplace, errors)\u001B[0m\n\u001B[1;32m   4148\u001B[0m \u001B[38;5;28;01mfor\u001B[39;00m axis, labels \u001B[38;5;129;01min\u001B[39;00m axes\u001B[38;5;241m.\u001B[39mitems():\n\u001B[1;32m   4149\u001B[0m     \u001B[38;5;28;01mif\u001B[39;00m labels \u001B[38;5;129;01mis\u001B[39;00m \u001B[38;5;129;01mnot\u001B[39;00m \u001B[38;5;28;01mNone\u001B[39;00m:\n\u001B[0;32m-> 4150\u001B[0m         obj \u001B[38;5;241m=\u001B[39m \u001B[43mobj\u001B[49m\u001B[38;5;241;43m.\u001B[39;49m\u001B[43m_drop_axis\u001B[49m\u001B[43m(\u001B[49m\u001B[43mlabels\u001B[49m\u001B[43m,\u001B[49m\u001B[43m \u001B[49m\u001B[43maxis\u001B[49m\u001B[43m,\u001B[49m\u001B[43m \u001B[49m\u001B[43mlevel\u001B[49m\u001B[38;5;241;43m=\u001B[39;49m\u001B[43mlevel\u001B[49m\u001B[43m,\u001B[49m\u001B[43m \u001B[49m\u001B[43merrors\u001B[49m\u001B[38;5;241;43m=\u001B[39;49m\u001B[43merrors\u001B[49m\u001B[43m)\u001B[49m\n\u001B[1;32m   4152\u001B[0m \u001B[38;5;28;01mif\u001B[39;00m inplace:\n\u001B[1;32m   4153\u001B[0m     \u001B[38;5;28mself\u001B[39m\u001B[38;5;241m.\u001B[39m_update_inplace(obj)\n",
      "File \u001B[0;32m/usr/local/lib/python3.8/site-packages/pandas/core/generic.py:4185\u001B[0m, in \u001B[0;36mNDFrame._drop_axis\u001B[0;34m(self, labels, axis, level, errors)\u001B[0m\n\u001B[1;32m   4183\u001B[0m         new_axis \u001B[38;5;241m=\u001B[39m axis\u001B[38;5;241m.\u001B[39mdrop(labels, level\u001B[38;5;241m=\u001B[39mlevel, errors\u001B[38;5;241m=\u001B[39merrors)\n\u001B[1;32m   4184\u001B[0m     \u001B[38;5;28;01melse\u001B[39;00m:\n\u001B[0;32m-> 4185\u001B[0m         new_axis \u001B[38;5;241m=\u001B[39m \u001B[43maxis\u001B[49m\u001B[38;5;241;43m.\u001B[39;49m\u001B[43mdrop\u001B[49m\u001B[43m(\u001B[49m\u001B[43mlabels\u001B[49m\u001B[43m,\u001B[49m\u001B[43m \u001B[49m\u001B[43merrors\u001B[49m\u001B[38;5;241;43m=\u001B[39;49m\u001B[43merrors\u001B[49m\u001B[43m)\u001B[49m\n\u001B[1;32m   4186\u001B[0m     result \u001B[38;5;241m=\u001B[39m \u001B[38;5;28mself\u001B[39m\u001B[38;5;241m.\u001B[39mreindex(\u001B[38;5;241m*\u001B[39m\u001B[38;5;241m*\u001B[39m{axis_name: new_axis})\n\u001B[1;32m   4188\u001B[0m \u001B[38;5;66;03m# Case for non-unique axis\u001B[39;00m\n\u001B[1;32m   4189\u001B[0m \u001B[38;5;28;01melse\u001B[39;00m:\n",
      "File \u001B[0;32m/usr/local/lib/python3.8/site-packages/pandas/core/indexes/base.py:6017\u001B[0m, in \u001B[0;36mIndex.drop\u001B[0;34m(self, labels, errors)\u001B[0m\n\u001B[1;32m   6015\u001B[0m \u001B[38;5;28;01mif\u001B[39;00m mask\u001B[38;5;241m.\u001B[39many():\n\u001B[1;32m   6016\u001B[0m     \u001B[38;5;28;01mif\u001B[39;00m errors \u001B[38;5;241m!=\u001B[39m \u001B[38;5;124m\"\u001B[39m\u001B[38;5;124mignore\u001B[39m\u001B[38;5;124m\"\u001B[39m:\n\u001B[0;32m-> 6017\u001B[0m         \u001B[38;5;28;01mraise\u001B[39;00m \u001B[38;5;167;01mKeyError\u001B[39;00m(\u001B[38;5;124mf\u001B[39m\u001B[38;5;124m\"\u001B[39m\u001B[38;5;132;01m{\u001B[39;00mlabels[mask]\u001B[38;5;132;01m}\u001B[39;00m\u001B[38;5;124m not found in axis\u001B[39m\u001B[38;5;124m\"\u001B[39m)\n\u001B[1;32m   6018\u001B[0m     indexer \u001B[38;5;241m=\u001B[39m indexer[\u001B[38;5;241m~\u001B[39mmask]\n\u001B[1;32m   6019\u001B[0m \u001B[38;5;28;01mreturn\u001B[39;00m \u001B[38;5;28mself\u001B[39m\u001B[38;5;241m.\u001B[39mdelete(indexer)\n",
      "\u001B[0;31mKeyError\u001B[0m: \"['gen_wind'] not found in axis\""
     ]
    }
   ],
   "source": [
    "ISO_final[\"PJM\"] = ISO_final[\"PJM\"].drop(columns=[\"gen_wind\"])"
   ],
   "metadata": {
    "collapsed": false
   }
  },
  {
   "cell_type": "code",
   "execution_count": null,
   "outputs": [],
   "source": [
    "ISO_final[\"PJM\"].columns.sort_values()"
   ],
   "metadata": {
    "collapsed": false
   }
  },
  {
   "cell_type": "code",
   "execution_count": null,
   "outputs": [],
   "source": [
    "print([key for key in new_data[\"PJM\"]])\n"
   ],
   "metadata": {
    "collapsed": false
   }
  },
  {
   "cell_type": "code",
   "execution_count": 26,
   "outputs": [
    {
     "name": "stdout",
     "output_type": "stream",
     "text": [
      "            value        time_tomerge\n",
      "2        5.352964 2022-01-01 01:00:00\n",
      "9        4.070268 2022-01-01 02:00:00\n",
      "16       3.291446 2022-01-01 03:00:00\n",
      "23       5.480822 2022-01-01 04:00:00\n",
      "30       7.043057 2022-01-01 05:00:00\n",
      "...           ...                 ...\n",
      "252689   7.806754 2019-12-31 20:00:00\n",
      "252696   6.997204 2019-12-31 21:00:00\n",
      "252703   7.047283 2019-12-31 22:00:00\n",
      "252710   8.758310 2019-12-31 23:00:00\n",
      "252717  11.987182 2020-01-01 00:00:00\n",
      "\n",
      "[35472 rows x 2 columns]\n"
     ]
    }
   ],
   "source": [
    "prices = new_data[\"PJM\"][\"ancillary_procurement_price\"]\n",
    "prices[\"time_tomerge\"] = pd.to_datetime(prices[\"datetime_beginning_ept\"]) + timedelta(hours=1)\n",
    "prices_new = pd.DataFrame()\n",
    "prices_new[\"time_tomerge\"] = np.unique(prices[\"time_tomerge\"])\n",
    "print(prices[[\"value\", \"time_tomerge\"]][prices[\"ancillary_service\"] == \"RTO Mileage Ratio\"])\n",
    "prices_new = prices_new.merge(prices[[\"value\", \"time_tomerge\"]][prices[\"ancillary_service\"] == \"RTO Mileage Ratio\"]).rename(columns={\"value\":'rto_mileage_ratio'})\n",
    "prices_new = prices_new.merge(prices[[\"value\", \"time_tomerge\"]][prices[\"ancillary_service\"] == \"MAD Non-Synchronized Reserve\"]).rename(columns={\"value\":'mad_activation_cost_nonsynchr'})\n",
    "prices_new = prices_new.merge(prices[[\"value\", \"time_tomerge\"]][prices[\"ancillary_service\"] == \"RTO Non-Synchronized Reserve\"]).rename(columns={\"value\":'rto_activation_cost_nonsynchr'})"
   ],
   "metadata": {
    "collapsed": false
   }
  },
  {
   "cell_type": "code",
   "execution_count": 27,
   "outputs": [
    {
     "data": {
      "text/plain": "array(['MAD Non-Synchronized Reserve', 'MAD Secondary Reserve',\n       'MAD Synchronized Reserve', 'RTO Mileage Ratio',\n       'RTO Non-Synchronized Reserve', 'RTO Regulation Capability',\n       'RTO Regulation Performance', 'RTO Secondary Reserve',\n       'RTO Synchronized Reserve'], dtype=object)"
     },
     "execution_count": 27,
     "metadata": {},
     "output_type": "execute_result"
    }
   ],
   "source": [
    "np.unique(prices[\"ancillary_service\"])"
   ],
   "metadata": {
    "collapsed": false
   }
  },
  {
   "cell_type": "code",
   "execution_count": 28,
   "outputs": [
    {
     "name": "stdout",
     "output_type": "stream",
     "text": [
      "             time_tomerge  rto_mileage_ratio  mad_activation_cost_nonsynchr  \\\n",
      "0     2019-01-01 01:00:00           3.805164                            0.0   \n",
      "1     2019-01-01 02:00:00           3.810625                            0.0   \n",
      "2     2019-01-01 03:00:00           4.645885                            0.0   \n",
      "3     2019-01-01 04:00:00           7.363433                            0.0   \n",
      "4     2019-01-01 05:00:00           5.071925                            0.0   \n",
      "...                   ...                ...                            ...   \n",
      "37939 2022-12-31 20:00:00           6.540520                            0.0   \n",
      "37940 2022-12-31 21:00:00           8.937083                            0.0   \n",
      "37941 2022-12-31 22:00:00           6.242416                            0.0   \n",
      "37942 2022-12-31 23:00:00           5.700740                            0.0   \n",
      "37943 2023-01-01 00:00:00           9.124056                            0.0   \n",
      "\n",
      "       rto_activation_cost_nonsynchr  \n",
      "0                                0.0  \n",
      "1                                0.0  \n",
      "2                                0.0  \n",
      "3                                0.0  \n",
      "4                                0.0  \n",
      "...                              ...  \n",
      "37939                            0.0  \n",
      "37940                            0.0  \n",
      "37941                            0.0  \n",
      "37942                            0.0  \n",
      "37943                            0.0  \n",
      "\n",
      "[37944 rows x 4 columns]\n"
     ]
    }
   ],
   "source": [
    "print(prices_new)"
   ],
   "metadata": {
    "collapsed": false
   }
  },
  {
   "cell_type": "code",
   "execution_count": 29,
   "outputs": [],
   "source": [
    "dasr = new_data[\"PJM\"][\"ancillary_dasr_procurement\"]\n",
    "dasr[\"time_tomerge\"] =  pd.to_datetime(dasr[\"datetime_ending_ept\"]).dt.floor(\"H\")\n",
    "dasr = dasr[[\"time_tomerge\", \"dasrmcp\", \"total_pjm_cleared_dasr_mwh\"]].rename(columns={\"dasrmcp\": \"dasr_procurement_price\", \"total_pjm_cleared_dasr_mwh\": \"dasr_procurement_quantity\"})"
   ],
   "metadata": {
    "collapsed": false
   }
  },
  {
   "cell_type": "code",
   "execution_count": 30,
   "outputs": [
    {
     "name": "stderr",
     "output_type": "stream",
     "text": [
      "/var/folders/cz/nv3pr_214md_31815rhfvdkh0000gn/T/ipykernel_98461/2226348389.py:3: SettingWithCopyWarning: \n",
      "A value is trying to be set on a copy of a slice from a DataFrame.\n",
      "Try using .loc[row_indexer,col_indexer] = value instead\n",
      "\n",
      "See the caveats in the documentation: https://pandas.pydata.org/pandas-docs/stable/user_guide/indexing.html#returning-a-view-versus-a-copy\n",
      "  rto[\"time_tomerge\"] = pd.to_datetime(rto[\"datetime_beginning_ept\"]).dt.floor(\"H\")+timedelta(hours=1)\n"
     ]
    }
   ],
   "source": [
    "#rto_reg_capability_price =\n",
    "rto = new_data[\"PJM\"][\"ancillary_procurement_quantity\"][new_data[\"PJM\"][\"ancillary_procurement_quantity\"][\"service\"] == \"REG\"]\n",
    "rto[\"time_tomerge\"] = pd.to_datetime(rto[\"datetime_beginning_ept\"]).dt.floor(\"H\")+timedelta(hours=1)"
   ],
   "metadata": {
    "collapsed": false
   }
  },
  {
   "cell_type": "code",
   "execution_count": 31,
   "outputs": [],
   "source": [
    "rto = rto[['time_tomerge', 'reg_ccp', 'reg_pcp', 'as_req_mw', 'total_mw']].rename(columns={'reg_ccp': 'rto_reg_capability_price', 'reg_pcp': 'rto_reg_performance_price', 'as_req_mw': 'rto_reg_req', 'total_mw': 'rto_reg_total'})"
   ],
   "metadata": {
    "collapsed": false
   }
  },
  {
   "cell_type": "code",
   "execution_count": 32,
   "outputs": [],
   "source": [
    "rto_sr = new_data[\"PJM\"][\"ancillary_procurement_quantity\"][new_data[\"PJM\"][\"ancillary_procurement_quantity\"][\"locale\"] ==\"PJM_RTO\"]\n",
    "rto_sr = rto_sr[rto_sr[\"service\"] == \"SR\"]\n",
    "rto_sr[\"time_tomerge\"] = pd.to_datetime(rto_sr[\"datetime_beginning_ept\"]).dt.floor(\"H\")+timedelta(hours=1)\n",
    "rto_sr = rto_sr[['time_tomerge', 'mcp', 'as_req_mw', 'total_mw']].rename(columns={'mcp': 'rto_sr_price', 'as_req_mw':'rto_sr_req', 'total_mw': 'rto_sr_total'})"
   ],
   "metadata": {
    "collapsed": false
   }
  },
  {
   "cell_type": "code",
   "execution_count": 33,
   "outputs": [],
   "source": [
    "mad_sr = new_data[\"PJM\"][\"ancillary_procurement_quantity\"][new_data[\"PJM\"][\"ancillary_procurement_quantity\"][\"locale\"] ==\"MAD\"]\n",
    "mad_sr = mad_sr[mad_sr[\"service\"] == \"SR\"]\n",
    "mad_sr[\"time_tomerge\"] = pd.to_datetime(mad_sr[\"datetime_beginning_ept\"]).dt.floor(\"H\")+timedelta(hours=1)\n",
    "mad_sr = mad_sr[['time_tomerge', 'mcp', 'as_req_mw', 'total_mw']].rename(columns={'mcp': 'mad_sr_price', 'as_req_mw':'mad_sr_req', 'total_mw': 'mad_sr_total'})"
   ],
   "metadata": {
    "collapsed": false
   }
  },
  {
   "cell_type": "code",
   "execution_count": 34,
   "outputs": [],
   "source": [
    "rto_pr = new_data[\"PJM\"][\"ancillary_procurement_quantity\"][new_data[\"PJM\"][\"ancillary_procurement_quantity\"][\"locale\"] ==\"PJM_RTO\"]\n",
    "rto_pr = rto_pr[rto_pr[\"service\"] == \"PR\"]\n",
    "rto_pr[\"time_tomerge\"] = pd.to_datetime(rto_pr[\"datetime_beginning_ept\"]).dt.floor(\"H\")+timedelta(hours=1)\n",
    "rto_pr = rto_pr[['time_tomerge', 'mcp', 'as_req_mw', 'total_mw']].rename(columns={'mcp': 'rto_pr_price', 'as_req_mw':'rto_pr_req', 'total_mw': 'rto_pr_total'})"
   ],
   "metadata": {
    "collapsed": false
   }
  },
  {
   "cell_type": "code",
   "execution_count": 35,
   "outputs": [],
   "source": [
    "mad_pr = new_data[\"PJM\"][\"ancillary_procurement_quantity\"][new_data[\"PJM\"][\"ancillary_procurement_quantity\"][\"locale\"] ==\"MAD\"]\n",
    "mad_pr = mad_pr[mad_pr[\"service\"] == \"PR\"]\n",
    "mad_pr[\"time_tomerge\"] = pd.to_datetime(mad_pr[\"datetime_beginning_ept\"]).dt.floor(\"H\")+timedelta(hours=1)\n",
    "mad_pr = mad_pr[['time_tomerge', 'mcp', 'as_req_mw', 'total_mw']].rename(columns={'mcp': 'mad_pr_price', 'as_req_mw':'mad_pr_req', 'total_mw': 'mad_pr_total'})"
   ],
   "metadata": {
    "collapsed": false
   }
  },
  {
   "cell_type": "code",
   "execution_count": 36,
   "outputs": [],
   "source": [
    "ISO_final[\"PJM\"] = ISO_final[\"PJM\"].rename(columns={'coal':'gen_coal',\n",
    " 'gas':'gen_gas',\n",
    " 'hydro': 'gen_hydro',\n",
    " 'multiple fuels': \"gen_multiple_fuels\",\n",
    " 'nuclear': \"gen_nuclear\",\n",
    " 'oil': \"gen_oil\",\n",
    " 'other': \"gen_other\",\n",
    " 'other renewables': \"gen_other_renewables\",\n",
    " 'solar': \"gen_solar\",\n",
    " 'wind': \"gen_wind\", \"mad_pr_reg\": \"mad_pr_req\"\n",
    "                                                    })"
   ],
   "metadata": {
    "collapsed": false
   }
  },
  {
   "cell_type": "code",
   "execution_count": 37,
   "outputs": [
    {
     "name": "stdout",
     "output_type": "stream",
     "text": [
      "                     energy_rt  congestion_rt  losses_rt     lmp_rt\n",
      "time_tomerge                                                       \n",
      "2019-01-01 01:00:00      18.03       0.000000   0.008116  18.039782\n",
      "2019-01-01 02:00:00      17.77       0.000000   0.008393  17.775893\n",
      "2019-01-01 03:00:00      16.36       0.000000   0.007960  16.371294\n",
      "2019-01-01 04:00:00      12.27       0.000000   0.005159  12.279325\n",
      "2019-01-01 05:00:00       6.24       0.000000   0.002282   6.241449\n",
      "...                        ...            ...        ...        ...\n",
      "2022-12-30 21:00:00      27.67       0.016360   0.013778  27.700971\n",
      "2022-12-30 22:00:00      25.83       0.017902   0.012333  25.862735\n",
      "2022-12-30 23:00:00      26.01       0.027443   0.009514  26.045290\n",
      "2022-12-31 00:00:00      32.79       0.007247   0.014244  32.806490\n",
      "2022-12-31 01:00:00      26.05       0.002246   0.010917  26.063163\n",
      "\n",
      "[34945 rows x 4 columns]\n",
      "                     gen_coal  gen_gas  gen_hydro  gen_multiple_fuels  \\\n",
      "time_tomerge                                                            \n",
      "2019-01-01 01:00:00   17096.1  17973.6     2099.6                 3.2   \n",
      "2019-01-01 02:00:00   17192.6  16787.6     2039.8                 3.2   \n",
      "2019-01-01 03:00:00   17037.8  16104.1     2054.6                 3.2   \n",
      "2019-01-01 04:00:00   16940.3  15509.3     2048.7                 3.3   \n",
      "2019-01-01 05:00:00   16652.0  15266.8     2041.7                 3.2   \n",
      "...                       ...      ...        ...                 ...   \n",
      "2022-12-30 21:00:00   14359.3  37030.2     2172.3               313.2   \n",
      "2022-12-30 22:00:00   14025.6  35371.1     2064.3               314.2   \n",
      "2022-12-30 23:00:00   13606.7  34407.7     1784.0                 3.2   \n",
      "2022-12-31 00:00:00   13351.4  31816.3     1006.7                 3.1   \n",
      "2022-12-31 01:00:00   13130.7  29708.9      859.0                 3.2   \n",
      "\n",
      "                     gen_nuclear  gen_oil  gen_other  gen_other_renewables  \\\n",
      "time_tomerge                                                                 \n",
      "2019-01-01 01:00:00      34710.3    211.0       33.1                 521.1   \n",
      "2019-01-01 02:00:00      34701.5    211.8       34.1                 516.3   \n",
      "2019-01-01 03:00:00      34689.3    216.8       33.4                 527.4   \n",
      "2019-01-01 04:00:00      34671.3    219.0       33.5                 551.3   \n",
      "2019-01-01 05:00:00      34676.6    221.0       33.1                 536.5   \n",
      "...                          ...      ...        ...                   ...   \n",
      "2022-12-30 21:00:00      33970.9    185.4      309.6                 669.5   \n",
      "2022-12-30 22:00:00      33973.8    187.9      353.2                 661.3   \n",
      "2022-12-30 23:00:00      33922.8    193.3      199.5                 662.7   \n",
      "2022-12-31 00:00:00      33953.7    193.4      200.6                 668.7   \n",
      "2022-12-31 01:00:00      33960.7    192.4      219.8                 668.8   \n",
      "\n",
      "                     gen_solar  gen_storage  gen_wind  \n",
      "time_tomerge                                           \n",
      "2019-01-01 01:00:00        4.4          0.0    4927.1  \n",
      "2019-01-01 02:00:00        4.4          0.0    4538.0  \n",
      "2019-01-01 03:00:00        4.4          0.0    4163.2  \n",
      "2019-01-01 04:00:00        4.4          0.0    3712.5  \n",
      "2019-01-01 05:00:00        4.4          0.0    3452.0  \n",
      "...                        ...          ...       ...  \n",
      "2022-12-30 21:00:00        8.4          0.0    1428.5  \n",
      "2022-12-30 22:00:00        8.4          0.0    1498.4  \n",
      "2022-12-30 23:00:00        8.4          0.0    1499.8  \n",
      "2022-12-31 00:00:00        8.4          0.0    1478.8  \n",
      "2022-12-31 01:00:00        8.4          0.0    1632.8  \n",
      "\n",
      "[34898 rows x 11 columns]\n",
      "                          load\n",
      "time_tomerge                  \n",
      "2019-01-01 01:00:00  72141.088\n",
      "2019-01-01 02:00:00  69272.310\n",
      "2019-01-01 03:00:00  67162.813\n",
      "2019-01-01 04:00:00  65962.403\n",
      "2019-01-01 05:00:00  65839.864\n",
      "...                        ...\n",
      "2022-12-31 20:00:00  85108.164\n",
      "2022-12-31 21:00:00  82886.258\n",
      "2022-12-31 22:00:00  80316.499\n",
      "2022-12-31 23:00:00  77899.150\n",
      "2023-01-01 00:00:00  75422.946\n",
      "\n",
      "[35060 rows x 1 columns]\n",
      "                     exchange_positive  exchange_negative  exchange_rt\n",
      "time_tomerge                                                          \n",
      "2019-01-01 01:00:00            1273.75           -4706.00     -3432.25\n",
      "2019-01-01 02:00:00            1582.00           -5814.50     -4232.50\n",
      "2019-01-01 03:00:00            1656.75           -5607.25     -3950.50\n",
      "2019-01-01 04:00:00            1668.25           -5574.00     -3905.75\n",
      "2019-01-01 05:00:00            1455.00           -5908.00     -4453.00\n",
      "...                                ...                ...          ...\n",
      "2022-12-30 21:00:00             982.00           -3632.25     -2650.25\n",
      "2022-12-30 22:00:00             771.00           -3568.75     -2797.75\n",
      "2022-12-30 23:00:00            1152.50           -3669.00     -2516.50\n",
      "2022-12-31 00:00:00            1587.50           -3638.75     -2051.25\n",
      "2022-12-31 01:00:00            1224.00           -4161.00     -2937.00\n",
      "\n",
      "[32861 rows x 3 columns]\n",
      "                     rto_reg_capability_price  rto_reg_performance_price  \\\n",
      "time_tomerge                                                               \n",
      "2019-01-01 01:00:00                  0.640000                   2.220000   \n",
      "2019-01-01 02:00:00                  2.590000                   3.160000   \n",
      "2019-01-01 03:00:00                  1.050000                   2.180000   \n",
      "2019-01-01 04:00:00                  5.090000                   2.580000   \n",
      "2019-01-01 05:00:00                 15.130000                   2.120000   \n",
      "...                                       ...                        ...   \n",
      "2022-12-31 20:00:00                  6.387500                   0.572500   \n",
      "2022-12-31 21:00:00                  5.495000                   0.000000   \n",
      "2022-12-31 22:00:00                  6.598333                   0.000000   \n",
      "2022-12-31 23:00:00                  8.180833                   0.000000   \n",
      "2023-01-01 00:00:00                  9.446667                   0.833333   \n",
      "\n",
      "                     rto_reg_req  rto_reg_total  \n",
      "time_tomerge                                     \n",
      "2019-01-01 01:00:00        525.0        525.000  \n",
      "2019-01-01 02:00:00        525.0        525.000  \n",
      "2019-01-01 03:00:00        525.0        525.000  \n",
      "2019-01-01 04:00:00        525.0        525.000  \n",
      "2019-01-01 05:00:00        800.0        800.100  \n",
      "...                          ...            ...  \n",
      "2022-12-31 20:00:00        800.0        804.000  \n",
      "2022-12-31 21:00:00        800.0        803.100  \n",
      "2022-12-31 22:00:00        800.0        795.225  \n",
      "2022-12-31 23:00:00        800.0        800.100  \n",
      "2023-01-01 00:00:00        800.0        800.000  \n",
      "\n",
      "[34964 rows x 4 columns]\n",
      "                     rto_pr_price  rto_pr_req  rto_pr_total\n",
      "time_tomerge                                               \n",
      "2019-01-01 01:00:00           0.0      2248.7   4127.500000\n",
      "2019-01-01 02:00:00           0.0      2215.5   3977.300000\n",
      "2019-01-01 03:00:00           0.0      2214.8   4118.600000\n",
      "2019-01-01 04:00:00           0.0      2214.1   4108.200000\n",
      "2019-01-01 05:00:00           0.0      2215.1   3975.600000\n",
      "...                           ...         ...           ...\n",
      "2022-12-31 20:00:00           0.0      2611.0   2742.083333\n",
      "2022-12-31 21:00:00           0.0      2617.0   2864.333333\n",
      "2022-12-31 22:00:00           0.0      2629.0   3001.833333\n",
      "2022-12-31 23:00:00           0.0      2627.5   2940.083333\n",
      "2023-01-01 00:00:00           0.0      2633.5   2934.266667\n",
      "\n",
      "[34964 rows x 3 columns]\n",
      "                     rto_sr_price  rto_sr_req  rto_sr_total\n",
      "time_tomerge                                               \n",
      "2019-01-01 01:00:00           0.0      1562.5   3532.800000\n",
      "2019-01-01 02:00:00           0.0      1540.3   3553.500000\n",
      "2019-01-01 03:00:00           0.0      1539.9   3619.600000\n",
      "2019-01-01 04:00:00           0.0      1539.4   3513.500000\n",
      "2019-01-01 05:00:00           0.0      1540.0   3366.300000\n",
      "...                           ...         ...           ...\n",
      "2022-12-31 20:00:00           0.0      1804.0   1889.583333\n",
      "2022-12-31 21:00:00           0.0      1808.0   1808.000000\n",
      "2022-12-31 22:00:00           0.0      1816.0   1816.000000\n",
      "2022-12-31 23:00:00           0.0      1815.0   1815.166667\n",
      "2023-01-01 00:00:00           0.0      1819.0   1819.183333\n",
      "\n",
      "[34964 rows x 3 columns]\n",
      "                     mad_pr_price  mad_pr_req  mad_pr_total\n",
      "time_tomerge                                               \n",
      "2019-01-01 01:00:00           0.0      2248.7   2288.100000\n",
      "2019-01-01 02:00:00           0.0      2215.5   2254.400000\n",
      "2019-01-01 03:00:00           0.0      2214.8   2229.500000\n",
      "2019-01-01 04:00:00           0.0      2214.1   2237.200000\n",
      "2019-01-01 05:00:00           0.0      2215.1   2270.300000\n",
      "...                           ...         ...           ...\n",
      "2022-12-31 20:00:00           0.0      2611.0   2611.000000\n",
      "2022-12-31 21:00:00           0.0      2617.0   2676.416667\n",
      "2022-12-31 22:00:00           0.0      2629.0   2724.333333\n",
      "2022-12-31 23:00:00           0.0      2627.5   2627.500000\n",
      "2023-01-01 00:00:00           0.0      2633.5   2633.500000\n",
      "\n",
      "[34964 rows x 3 columns]\n",
      "                     mad_sr_price  mad_sr_req  mad_sr_total\n",
      "time_tomerge                                               \n",
      "2019-01-01 01:00:00           0.0      1562.5   1693.400000\n",
      "2019-01-01 02:00:00           0.0      1540.3   1830.600000\n",
      "2019-01-01 03:00:00           0.0      1539.9   1730.500000\n",
      "2019-01-01 04:00:00           0.0      1539.4   1642.500000\n",
      "2019-01-01 05:00:00           0.0      1540.0   1661.000000\n",
      "...                           ...         ...           ...\n",
      "2022-12-31 20:00:00           0.0      1804.0   1883.166667\n",
      "2022-12-31 21:00:00           0.0      1808.0   1808.000000\n",
      "2022-12-31 22:00:00           0.0      1816.0   1816.000000\n",
      "2022-12-31 23:00:00           0.0      1815.0   1815.166667\n",
      "2023-01-01 00:00:00           0.0      1819.0   1819.183333\n",
      "\n",
      "[34964 rows x 3 columns]\n",
      "                     dasr_procurement_price  dasr_procurement_quantity\n",
      "time_tomerge                                                          \n",
      "2019-01-01 01:00:00                     0.0                     4896.7\n",
      "2019-01-01 02:00:00                     0.0                     4908.7\n",
      "2019-01-01 03:00:00                     0.0                     4908.7\n",
      "2019-01-01 04:00:00                     0.0                     4908.8\n",
      "2019-01-01 05:00:00                     0.0                     4908.7\n",
      "...                                     ...                        ...\n",
      "2022-09-30 20:00:00                     0.0                     3695.7\n",
      "2022-09-30 21:00:00                     0.0                     3695.7\n",
      "2022-09-30 22:00:00                     0.0                     3671.7\n",
      "2022-09-30 23:00:00                     0.0                     3523.8\n",
      "2022-10-01 00:00:00                     0.0                     3679.7\n",
      "\n",
      "[32852 rows x 2 columns]\n",
      "                     rto_mileage_ratio  mad_activation_cost_nonsynchr  \\\n",
      "time_tomerge                                                            \n",
      "2019-01-01 01:00:00           3.805164                            0.0   \n",
      "2019-01-01 02:00:00           3.810625                            0.0   \n",
      "2019-01-01 03:00:00           4.645885                            0.0   \n",
      "2019-01-01 04:00:00           7.363433                            0.0   \n",
      "2019-01-01 05:00:00           5.071925                            0.0   \n",
      "...                                ...                            ...   \n",
      "2022-12-31 20:00:00           6.540520                            0.0   \n",
      "2022-12-31 21:00:00           8.937083                            0.0   \n",
      "2022-12-31 22:00:00           6.242416                            0.0   \n",
      "2022-12-31 23:00:00           5.700740                            0.0   \n",
      "2023-01-01 00:00:00           9.124056                            0.0   \n",
      "\n",
      "                     rto_activation_cost_nonsynchr  \n",
      "time_tomerge                                        \n",
      "2019-01-01 01:00:00                            0.0  \n",
      "2019-01-01 02:00:00                            0.0  \n",
      "2019-01-01 03:00:00                            0.0  \n",
      "2019-01-01 04:00:00                            0.0  \n",
      "2019-01-01 05:00:00                            0.0  \n",
      "...                                            ...  \n",
      "2022-12-31 20:00:00                            0.0  \n",
      "2022-12-31 21:00:00                            0.0  \n",
      "2022-12-31 22:00:00                            0.0  \n",
      "2022-12-31 23:00:00                            0.0  \n",
      "2023-01-01 00:00:00                            0.0  \n",
      "\n",
      "[35060 rows x 3 columns]\n"
     ]
    }
   ],
   "source": [
    "dfs = [energy_da, energy_rt, generation_new, load, exchange_average, rto, rto_pr, rto_sr, mad_pr, mad_sr, dasr, prices_new]\n",
    "total = dfs[0]\n",
    "for df in dfs[1:]:\n",
    "    print(df.groupby([\"time_tomerge\"])[df.columns[1:]].mean())\n",
    "    total = total.merge(df.groupby([\"time_tomerge\"])[df.columns[1:]].mean().reset_index(), how=\"outer\")"
   ],
   "metadata": {
    "collapsed": false
   }
  },
  {
   "cell_type": "code",
   "execution_count": 38,
   "outputs": [],
   "source": [
    "total = total.sort_values(by=\"time_tomerge\")\n"
   ],
   "metadata": {
    "collapsed": false
   }
  },
  {
   "cell_type": "code",
   "execution_count": 44,
   "outputs": [],
   "source": [
    "ISO_final[\"PJM\"] = ISO_final[\"PJM\"].reset_index()"
   ],
   "metadata": {
    "collapsed": false
   }
  },
  {
   "cell_type": "code",
   "execution_count": 45,
   "outputs": [],
   "source": [
    "#fix the time\n",
    "ISO_final[\"PJM\"][\"time_tomerge\"] = ISO_final[\"PJM\"][\"time_tomerge\"]-timedelta(hours=4)"
   ],
   "metadata": {
    "collapsed": false
   }
  },
  {
   "cell_type": "code",
   "execution_count": 50,
   "outputs": [
    {
     "data": {
      "text/plain": "Timestamp('2014-01-01 01:00:00+0000', tz='UTC')"
     },
     "execution_count": 50,
     "metadata": {},
     "output_type": "execute_result"
    }
   ],
   "source": [
    "ISO_final[\"PJM\"][\"time_tomerge\"][0]"
   ],
   "metadata": {
    "collapsed": false
   }
  },
  {
   "cell_type": "code",
   "execution_count": 53,
   "outputs": [],
   "source": [
    "total[\"time_tomerge\"] = pd.to_datetime(total[\"time_tomerge\"], utc=True)"
   ],
   "metadata": {
    "collapsed": false
   }
  },
  {
   "cell_type": "code",
   "execution_count": 54,
   "outputs": [
    {
     "name": "stdout",
     "output_type": "stream",
     "text": [
      "0       2014-01-01 01:00:00+00:00\n",
      "1       2014-01-01 02:00:00+00:00\n",
      "2       2014-01-01 03:00:00+00:00\n",
      "3       2014-01-01 04:00:00+00:00\n",
      "4       2014-01-01 05:00:00+00:00\n",
      "                   ...           \n",
      "35083   2022-12-31 20:00:00+00:00\n",
      "35084   2022-12-31 21:00:00+00:00\n",
      "35085   2022-12-31 22:00:00+00:00\n",
      "35086   2022-12-31 23:00:00+00:00\n",
      "35087   2023-01-01 00:00:00+00:00\n",
      "Name: time_tomerge, Length: 78916, dtype: datetime64[ns, UTC]\n"
     ]
    }
   ],
   "source": [
    "combined = pd.concat([ISO_final[\"PJM\"], total])\n",
    "print(combined[\"time_tomerge\"])"
   ],
   "metadata": {
    "collapsed": false
   }
  },
  {
   "cell_type": "code",
   "execution_count": 55,
   "outputs": [],
   "source": [
    "combined.to_csv(\"/Users/evanlipton/Dropbox (YSE)/Solar_ElectricData/ISOs/PJM.csv\")\n"
   ],
   "metadata": {
    "collapsed": false
   }
  },
  {
   "cell_type": "code",
   "execution_count": null,
   "outputs": [],
   "source": [
    "ISO_final[\"PJM\"].columns.sort_values()"
   ],
   "metadata": {
    "collapsed": false
   }
  },
  {
   "cell_type": "code",
   "execution_count": null,
   "outputs": [],
   "source": [],
   "metadata": {
    "collapsed": false
   }
  }
 ],
 "metadata": {
  "kernelspec": {
   "display_name": "Python 3",
   "language": "python",
   "name": "python3"
  },
  "language_info": {
   "codemirror_mode": {
    "name": "ipython",
    "version": 2
   },
   "file_extension": ".py",
   "mimetype": "text/x-python",
   "name": "python",
   "nbconvert_exporter": "python",
   "pygments_lexer": "ipython2",
   "version": "2.7.6"
  }
 },
 "nbformat": 4,
 "nbformat_minor": 0
}
