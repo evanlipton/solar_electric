{
 "cells": [
  {
   "cell_type": "code",
   "execution_count": 1,
   "metadata": {
    "collapsed": true
   },
   "outputs": [],
   "source": [
    "import numpy as np\n",
    "import pandas as pd\n",
    "import matplotlib.pyplot as plt\n",
    "import plotly\n",
    "import os\n",
    "import plotly.express as px\n"
   ]
  },
  {
   "cell_type": "code",
   "execution_count": 2,
   "outputs": [],
   "source": [
    "FILE_PATH = \"/Users/evanlipton/Dropbox (YSE)/Solar_ElectricData/ISOs\""
   ],
   "metadata": {
    "collapsed": false
   }
  },
  {
   "cell_type": "code",
   "execution_count": 2,
   "outputs": [],
   "source": [],
   "metadata": {
    "collapsed": false
   }
  },
  {
   "cell_type": "code",
   "execution_count": 3,
   "outputs": [
    {
     "name": "stderr",
     "output_type": "stream",
     "text": [
      "UsageError: %colors: you must specify a color scheme. See '%colors?'\n"
     ]
    }
   ],
   "source": [
    "colors"
   ],
   "metadata": {
    "collapsed": false
   }
  },
  {
   "cell_type": "code",
   "execution_count": 9,
   "outputs": [],
   "source": [
    "def listdir_nohidden(path):\n",
    "    for f in os.listdir(path):\n",
    "        if not f.startswith('.'):\n",
    "            yield f\n"
   ],
   "metadata": {
    "collapsed": false
   }
  },
  {
   "cell_type": "code",
   "execution_count": 10,
   "outputs": [
    {
     "name": "stderr",
     "output_type": "stream",
     "text": [
      "/var/folders/cz/nv3pr_214md_31815rhfvdkh0000gn/T/ipykernel_14939/3786575145.py:3: DtypeWarning: Columns (33) have mixed types. Specify dtype option on import or set low_memory=False.\n",
      "  temp = pd.read_csv(os.path.join(FILE_PATH, file), thousands = \",\")\n",
      "/var/folders/cz/nv3pr_214md_31815rhfvdkh0000gn/T/ipykernel_14939/3786575145.py:3: DtypeWarning: Columns (6) have mixed types. Specify dtype option on import or set low_memory=False.\n",
      "  temp = pd.read_csv(os.path.join(FILE_PATH, file), thousands = \",\")\n",
      "/var/folders/cz/nv3pr_214md_31815rhfvdkh0000gn/T/ipykernel_14939/3786575145.py:3: DtypeWarning: Columns (15) have mixed types. Specify dtype option on import or set low_memory=False.\n",
      "  temp = pd.read_csv(os.path.join(FILE_PATH, file), thousands = \",\")\n"
     ]
    }
   ],
   "source": [
    "ISO_dict = {}\n",
    "for file in listdir_nohidden(FILE_PATH):\n",
    "    temp = pd.read_csv(os.path.join(FILE_PATH, file), thousands = \",\")\n",
    "    temp[\"time_tomerge\"] = pd.to_datetime(temp[\"time_tomerge\"])\n",
    "    ISO_dict[file.replace(\".csv\", \"\")] = temp"
   ],
   "metadata": {
    "collapsed": false
   }
  },
  {
   "cell_type": "code",
   "execution_count": 11,
   "outputs": [],
   "source": [
    "[key for key in ISO_dict]\n",
    "\n",
    "#add year, month, hour cols\n",
    "for key in ISO_dict:\n",
    "    ISO_dict[key][\"year\"] = ISO_dict[key][\"time_tomerge\"].apply(lambda x: x.year)\n",
    "    ISO_dict[key][\"month\"] = ISO_dict[key][\"time_tomerge\"].apply(lambda x: x.month)\n",
    "    ISO_dict[key][\"hour\"] = ISO_dict[key][\"time_tomerge\"].apply(lambda x: x.hour)"
   ],
   "metadata": {
    "collapsed": false
   }
  },
  {
   "cell_type": "code",
   "execution_count": 12,
   "outputs": [
    {
     "name": "stdout",
     "output_type": "stream",
     "text": [
      "year\n",
      "2014    7.973646e+08\n",
      "2015    7.925906e+08\n",
      "2016    7.923114e+08\n",
      "2017    7.736165e+08\n",
      "2018    8.065833e+08\n",
      "2019    7.898233e+08\n",
      "2020    7.572815e+08\n",
      "2021    7.826954e+08\n",
      "2022    7.950916e+08\n",
      "2023    7.542295e+04\n",
      "Name: load, dtype: float64\n"
     ]
    }
   ],
   "source": [
    "print(ISO_dict[\"PJM\"].groupby([\"year\"])[\"load\"].sum())"
   ],
   "metadata": {
    "collapsed": false
   }
  },
  {
   "cell_type": "markdown",
   "source": [
    "#clean CAISO\n",
    "ISO_dict[\"CAISO\"] = ISO_dict[\"CAISO\"].fillna(0)\n",
    "ISO_dict[\"CAISO\"][\"gen_solar_total\"] = ISO_dict[\"CAISO\"][\"gen_solar\"] + ISO_dict[\"CAISO\"][\"gen_solar_pv\"] +ISO_dict[\"CAISO\"][\"gen_solar_thermal\"]\n",
    "ISO_dict[\"CAISO\"][\"gen_natural_gas\"] = ISO_dict[\"CAISO\"][\"gen_thermal\"] + ISO_dict[\"CAISO\"][\"gen_natural_gas\"]\n",
    "\n",
    "ISO_dict[\"CAISO\"] = ISO_dict[\"CAISO\"].drop(columns=[\"gen_solar\", \"gen_solar_pv\", \"gen_solar_thermal\", \"gen_renewables\", \"gen_thermal\"])"
   ],
   "metadata": {
    "collapsed": false
   }
  },
  {
   "cell_type": "code",
   "execution_count": 4,
   "outputs": [
    {
     "name": "stdout",
     "output_type": "stream",
     "text": [
      "['#636EFA', '#EF553B', '#00CC96', '#AB63FA', '#FFA15A', '#19D3F3', '#FF6692', '#B6E880', '#FF97FF', '#FECB52']\n",
      "{'gas': '#636EFA', 'imports': '#EF553B', 'solar': '#00CC96', 'wind': '#AB63FA', 'nuclear': '#FFA15A', 'hydro': '#19D3F3', 'biomass': '#FF6692', 'biogas': '#B6E880', 'batteries': '#FF97FF', 'coal': '#FECB52'}\n"
     ]
    }
   ],
   "source": [
    "positions = {\"CAISO\": [1,1], \"ERCOT\": [1,2], \"PJM\": [2,1], \"ISONE\": [2,2]}\n",
    "print(plotly.colors.qualitative.Plotly)\n",
    "colors = {}\n",
    "for i,gen in enumerate([\"gas\", \"imports\", \"solar\", \"wind\", \"nuclear\", \"hydro\", \"biomass\", \"biogas\", \"batteries\", \"coal\"]):\n",
    "    colors[gen] = plotly.colors.qualitative.Plotly[i]\n",
    "print(colors)"
   ],
   "metadata": {
    "collapsed": false
   }
  },
  {
   "cell_type": "code",
   "execution_count": 36,
   "outputs": [],
   "source": [
    "# import graph_objects from plotly package\n",
    "import plotly.graph_objects as go\n",
    "\n",
    "# import make_subplots function from plotly.subplots\n",
    "# to make grid of plots\n",
    "from plotly.subplots import make_subplots\n",
    "\n",
    "def plot_gen(ISO_dict: dict, filepath: str):\n",
    "    isos = [\"CAISO\", \"ERCOT\", \"PJM\", \"ISONE\"]\n",
    "    solar_dict = {}\n",
    "    fig = make_subplots(\n",
    "    rows=2, cols=2,\n",
    "    subplot_titles=(isos),specs=[[{\"secondary_y\": True}, {\"secondary_y\": True}], [{\"secondary_y\": True}, {\"secondary_y\": True}]])\n",
    "    for iso in isos:\n",
    "\n",
    "        try:\n",
    "            ISO = ISO_dict[iso][[col for col in ISO_dict[iso].columns if \"gen\" in col]+[\"time_tomerge\", \"hour\" , \"month\", \"year\"]]\n",
    "        except KeyError:\n",
    "            ISO = ISO_dict[iso][[col for col in ISO_dict[iso].columns if \"gen_rt\" in col]+[\"time_tomerge\", \"hour\" , \"month\", \"year\"]]\n",
    "            ISO.columns = [col.replace(\"rt_\", \"\") for col in ISO.columns]\n",
    "        ISO = ISO.drop_duplicates()\n",
    "        ISO = ISO.reset_index()\n",
    "        ISO = ISO[ISO[\"year\"]!=2023]\n",
    "\n",
    "        long = pd.wide_to_long(ISO, ['gen_'],i='index',j='gen_type',suffix='\\w+').rename(columns={\"gen_\": \"MWh\"})\n",
    "        grouped_long = long.groupby([\"year\", \"gen_type\"])[\"MWh\"].sum().reset_index()\n",
    "        average_gen = np.mean(grouped_long.groupby([\"year\"])[\"MWh\"].sum())\n",
    "        #years_to_keep = list(np.unique(grouped_long[\"year\"])[grouped_long.groupby([\"year\"])[\"MWh\"].sum()>average_gen*.5])\n",
    "        #grouped_long = grouped_long[grouped_long[\"year\"].isin(years_to_keep)]\n",
    "        year_totals = pd.DataFrame(grouped_long.groupby([\"year\"])[\"MWh\"].sum().reset_index())\n",
    "        year_avg = year_totals.mean()\n",
    "        print(year_totals)\n",
    "        #grouped_long = grouped_long[grouped_long[\"MWh\"]>year_avg*.01]\n",
    "        grouped_long = grouped_long[grouped_long[\"gen_type\"] == \"solar\"]\n",
    "        print(type(year_totals))\n",
    "        grouped_long[\"Percent\"] = grouped_long[\"MWh\"].div(year_totals[\"MWh\"].values)\n",
    "        #grouped_long[\"date\"] = pd.to_datetime(grouped_long[['year', 'MONTH']].assign(DAY=1))\n",
    "        print(grouped_long)\n",
    "        grouped_long = grouped_long[grouped_long[\"year\"]>2015]\n",
    "        grouped_long[\"diff\"] = grouped_long['MWh']-np.min(grouped_long[\"MWh\"])\n",
    "        solar_dict[iso] = grouped_long\n",
    "        fig.add_trace(\n",
    "        go.Scatter(x=grouped_long[\"year\"], y=grouped_long[\"MWh\"], name=f\"MWh of yearly solar generation in {iso}\"),\n",
    "        secondary_y=False, row=positions[iso][0], col=positions[iso][1])\n",
    "        fig.add_trace(\n",
    "        go.Scatter(x=grouped_long[\"year\"], y=grouped_long[\"Percent\"], name=f\"% of generation in {iso} from solar\"),\n",
    "        secondary_y=True, row=positions[iso][0], col=positions[iso][1])\n",
    "        fig.update_xaxes(title_text=\"Year\", row=positions[iso][0], col=positions[iso][1])\n",
    "        fig.update_yaxes(title_text=\"Annual Solar Generation (MWh)\", secondary_y=False, row=positions[iso][0], col=positions[iso][1])\n",
    "        fig.update_yaxes(title_text=\"Percent of Annual Generation from Solar (%)\", secondary_y=True, row=positions[iso][0], col=positions[iso][1])\n",
    "\n",
    "    fig.update_layout(paper_bgcolor = \"rgba(0,0,0,0)\",\n",
    "                      plot_bgcolor = \"rgba(0,0,0,0)\", font_color=\"black\")\n",
    "    fig.update_layout(height=1000, width=1400,\n",
    "                  title_text=\"Total Annual Solar Generation from 2014 - 2022 by ISO\")\n",
    "    fig.update_yaxes(secondary_y=False, showgrid=False)\n",
    "    fig.update_yaxes(secondary_y=True, showgrid=True)\n",
    "\n",
    "    fig.show()\n",
    "\n",
    "    os.makedirs(f\"{filepath}\", exist_ok=True)\n",
    "    fig.write_html(os.path.join(filepath,f\"full_solar_gen_old.html\"))\n",
    "    return solar_dict\n",
    "\n",
    "    #fig.add_trace(go.area(grouped_long, x=\"year\", y=\"MWh\", color=\"gen_type\",  color_discrete_sequence=plotly.colors.qualitative.Light24,\n",
    "    #labels={\n",
    "    #                 \"MWh\": \"Total Generation (MWh)\",\n",
    "     #                \"year\": \"Year\",\n",
    "     #                \"gen_type\": \"Generation Type\"\n",
    "     #            },\n",
    "      #          title=f\"Total Annual Solar Generation for {iso} from 2014 - 2022\")\n",
    "    #fig.update_layout(paper_bgcolor = \"rgba(0,0,0,0)\",\n",
    "    #              plot_bgcolor = \"rgba(0,0,0,0)\")\n",
    "    #fig.show()\n",
    "    #os.makedirs(f\"{filepath}\", exist_ok=True)\n",
    "\n",
    "    #fig.write_html(os.path.join(filepath,f\"{iso}_full_annual.html\"))"
   ],
   "metadata": {
    "collapsed": false
   }
  },
  {
   "cell_type": "code",
   "execution_count": 37,
   "outputs": [
    {
     "name": "stdout",
     "output_type": "stream",
     "text": [
      "   year           MWh\n",
      "0  2014  2.317407e+08\n",
      "1  2015  2.324678e+08\n",
      "2  2016  2.310887e+08\n",
      "3  2017  2.311171e+08\n",
      "4  2018  2.263220e+08\n",
      "5  2019  2.187112e+08\n",
      "6  2020  2.220499e+08\n",
      "7  2021  2.244944e+08\n",
      "8  2022  2.314358e+08\n",
      "<class 'pandas.core.frame.DataFrame'>\n",
      "     year gen_type           MWh   Percent\n",
      "11   2014    solar  1.141813e+07  0.049271\n",
      "24   2015    solar  1.563864e+07  0.067272\n",
      "37   2016    solar  2.072511e+07  0.089685\n",
      "50   2017    solar  2.534031e+07  0.109643\n",
      "63   2018    solar  2.778036e+07  0.122747\n",
      "76   2019    solar  2.860906e+07  0.130808\n",
      "89   2020    solar  3.043528e+07  0.137065\n",
      "102  2021    solar  3.437330e+07  0.153114\n",
      "115  2022    solar  3.758854e+07  0.162415\n",
      "   year           MWh\n",
      "0  2014  8.471050e+07\n",
      "1  2015  8.681665e+07\n",
      "2  2016  8.809616e+07\n",
      "3  2017  8.959435e+07\n",
      "4  2018  9.400472e+07\n",
      "5  2019  9.583640e+07\n",
      "6  2020  9.513483e+07\n",
      "7  2021  9.788658e+07\n",
      "8  2022  1.071082e+08\n",
      "<class 'pandas.core.frame.DataFrame'>\n",
      "    year gen_type           MWh   Percent\n",
      "7   2014    solar  7.570547e+04  0.000894\n",
      "17  2015    solar  1.051710e+05  0.001211\n",
      "27  2016    solar  2.091505e+05  0.002374\n",
      "37  2017    solar  5.644578e+05  0.006300\n",
      "47  2018    solar  8.100573e+05  0.008617\n",
      "57  2019    solar  1.099461e+06  0.011472\n",
      "67  2020    solar  2.187248e+06  0.022991\n",
      "77  2021    solar  3.927911e+06  0.040127\n",
      "87  2022    solar  6.047963e+06  0.056466\n",
      "   year           MWh\n",
      "0  2014  0.000000e+00\n",
      "1  2015  0.000000e+00\n",
      "2  2016  7.997504e+08\n",
      "3  2017  7.917373e+08\n",
      "4  2018  8.377110e+08\n",
      "5  2019  8.276110e+08\n",
      "6  2020  8.079849e+08\n",
      "7  2021  8.253466e+08\n",
      "8  2022  8.377529e+08\n",
      "<class 'pandas.core.frame.DataFrame'>\n",
      "    year gen_type        MWh   Percent\n",
      "8   2014    solar        0.0       NaN\n",
      "19  2015    solar        0.0       NaN\n",
      "30  2016    solar   548031.3  0.000685\n",
      "41  2017    solar  1086448.6  0.001372\n",
      "52  2018    solar  1631492.2  0.001948\n",
      "63  2019    solar  2403276.6  0.002904\n",
      "74  2020    solar  3435161.6  0.004252\n",
      "85  2021    solar  5891865.9  0.007139\n",
      "96  2022    solar  7152997.3  0.008538\n",
      "   year           MWh\n",
      "0  2014  4.616807e+07\n",
      "1  2015  1.099105e+08\n",
      "2  2016  1.080490e+08\n",
      "3  2017  1.060425e+08\n",
      "4  2018  1.067023e+08\n",
      "5  2019  9.258827e+07\n",
      "6  2020  8.644807e+07\n",
      "7  2021  9.673727e+07\n",
      "8  2022  9.920978e+07\n",
      "<class 'pandas.core.frame.DataFrame'>\n",
      "     year gen_type          MWh   Percent\n",
      "8    2014    solar   329968.389  0.007147\n",
      "21   2015    solar   463120.216  0.004214\n",
      "34   2016    solar   656816.194  0.006079\n",
      "47   2017    solar   890079.791  0.008394\n",
      "60   2018    solar  1231150.057  0.011538\n",
      "73   2019    solar  1662407.018  0.017955\n",
      "86   2020    solar  2073535.836  0.023986\n",
      "99   2021    solar  2650229.366  0.027396\n",
      "112  2022    solar  3574279.566  0.036027\n"
     ]
    },
    {
     "data": {
      "application/vnd.plotly.v1+json": {
       "data": [
        {
         "name": "MWh of yearly solar generation in CAISO",
         "x": [
          2016,
          2017,
          2018,
          2019,
          2020,
          2021,
          2022
         ],
         "y": [
          2.0725112E7,
          2.5340314E7,
          2.7780355E7,
          2.8609064499854624E7,
          3.0435283083337817E7,
          3.4373300499988526E7,
          3.75885415999964E7
         ],
         "type": "scatter",
         "xaxis": "x",
         "yaxis": "y"
        },
        {
         "name": "% of generation in CAISO from solar",
         "x": [
          2016,
          2017,
          2018,
          2019,
          2020,
          2021,
          2022
         ],
         "y": [
          0.08968465289548269,
          0.10964273966067714,
          0.1227470515081315,
          0.1308075189946834,
          0.13706504292134944,
          0.15311429796121015,
          0.1624145763375619
         ],
         "type": "scatter",
         "xaxis": "x",
         "yaxis": "y2"
        },
        {
         "name": "MWh of yearly solar generation in ERCOT",
         "x": [
          2016,
          2017,
          2018,
          2019,
          2020,
          2021,
          2022
         ],
         "y": [
          209150.5029908,
          564457.7590186,
          810057.34334595,
          1099460.55,
          2187247.95,
          3927911.3,
          6047962.95
         ],
         "type": "scatter",
         "xaxis": "x2",
         "yaxis": "y3"
        },
        {
         "name": "% of generation in ERCOT from solar",
         "x": [
          2016,
          2017,
          2018,
          2019,
          2020,
          2021,
          2022
         ],
         "y": [
          0.002374116004032323,
          0.006300149227344678,
          0.00861719895097172,
          0.011472264614858048,
          0.02299103302542637,
          0.04012716674156346,
          0.056465929362276346
         ],
         "type": "scatter",
         "xaxis": "x2",
         "yaxis": "y4"
        },
        {
         "name": "MWh of yearly solar generation in PJM",
         "x": [
          2016,
          2017,
          2018,
          2019,
          2020,
          2021,
          2022
         ],
         "y": [
          548031.3,
          1086448.6,
          1631492.2,
          2403276.6,
          3435161.6,
          5891865.9,
          7152997.3
         ],
         "type": "scatter",
         "xaxis": "x3",
         "yaxis": "y5"
        },
        {
         "name": "% of generation in PJM from solar",
         "x": [
          2016,
          2017,
          2018,
          2019,
          2020,
          2021,
          2022
         ],
         "y": [
          6.852529427625979E-4,
          0.0013722337078733646,
          0.0019475596444222167,
          0.002903872372984401,
          0.004251517049519969,
          0.007138656241683943,
          0.008538314090084575
         ],
         "type": "scatter",
         "xaxis": "x3",
         "yaxis": "y6"
        },
        {
         "name": "MWh of yearly solar generation in ISONE",
         "x": [
          2016,
          2017,
          2018,
          2019,
          2020,
          2021,
          2022
         ],
         "y": [
          656816.194,
          890079.791,
          1231150.057,
          1662407.018,
          2073535.836,
          2650229.366,
          3574279.566
         ],
         "type": "scatter",
         "xaxis": "x4",
         "yaxis": "y7"
        },
        {
         "name": "% of generation in ISONE from solar",
         "x": [
          2016,
          2017,
          2018,
          2019,
          2020,
          2021,
          2022
         ],
         "y": [
          0.006078873028001305,
          0.008393610766618985,
          0.011538179605406245,
          0.017954833615956928,
          0.023985912168841456,
          0.027396155985986787,
          0.03602749216201826
         ],
         "type": "scatter",
         "xaxis": "x4",
         "yaxis": "y8"
        }
       ],
       "layout": {
        "template": {
         "data": {
          "histogram2dcontour": [
           {
            "type": "histogram2dcontour",
            "colorbar": {
             "outlinewidth": 0,
             "ticks": ""
            },
            "colorscale": [
             [
              0.0,
              "#0d0887"
             ],
             [
              0.1111111111111111,
              "#46039f"
             ],
             [
              0.2222222222222222,
              "#7201a8"
             ],
             [
              0.3333333333333333,
              "#9c179e"
             ],
             [
              0.4444444444444444,
              "#bd3786"
             ],
             [
              0.5555555555555556,
              "#d8576b"
             ],
             [
              0.6666666666666666,
              "#ed7953"
             ],
             [
              0.7777777777777778,
              "#fb9f3a"
             ],
             [
              0.8888888888888888,
              "#fdca26"
             ],
             [
              1.0,
              "#f0f921"
             ]
            ]
           }
          ],
          "choropleth": [
           {
            "type": "choropleth",
            "colorbar": {
             "outlinewidth": 0,
             "ticks": ""
            }
           }
          ],
          "histogram2d": [
           {
            "type": "histogram2d",
            "colorbar": {
             "outlinewidth": 0,
             "ticks": ""
            },
            "colorscale": [
             [
              0.0,
              "#0d0887"
             ],
             [
              0.1111111111111111,
              "#46039f"
             ],
             [
              0.2222222222222222,
              "#7201a8"
             ],
             [
              0.3333333333333333,
              "#9c179e"
             ],
             [
              0.4444444444444444,
              "#bd3786"
             ],
             [
              0.5555555555555556,
              "#d8576b"
             ],
             [
              0.6666666666666666,
              "#ed7953"
             ],
             [
              0.7777777777777778,
              "#fb9f3a"
             ],
             [
              0.8888888888888888,
              "#fdca26"
             ],
             [
              1.0,
              "#f0f921"
             ]
            ]
           }
          ],
          "heatmap": [
           {
            "type": "heatmap",
            "colorbar": {
             "outlinewidth": 0,
             "ticks": ""
            },
            "colorscale": [
             [
              0.0,
              "#0d0887"
             ],
             [
              0.1111111111111111,
              "#46039f"
             ],
             [
              0.2222222222222222,
              "#7201a8"
             ],
             [
              0.3333333333333333,
              "#9c179e"
             ],
             [
              0.4444444444444444,
              "#bd3786"
             ],
             [
              0.5555555555555556,
              "#d8576b"
             ],
             [
              0.6666666666666666,
              "#ed7953"
             ],
             [
              0.7777777777777778,
              "#fb9f3a"
             ],
             [
              0.8888888888888888,
              "#fdca26"
             ],
             [
              1.0,
              "#f0f921"
             ]
            ]
           }
          ],
          "heatmapgl": [
           {
            "type": "heatmapgl",
            "colorbar": {
             "outlinewidth": 0,
             "ticks": ""
            },
            "colorscale": [
             [
              0.0,
              "#0d0887"
             ],
             [
              0.1111111111111111,
              "#46039f"
             ],
             [
              0.2222222222222222,
              "#7201a8"
             ],
             [
              0.3333333333333333,
              "#9c179e"
             ],
             [
              0.4444444444444444,
              "#bd3786"
             ],
             [
              0.5555555555555556,
              "#d8576b"
             ],
             [
              0.6666666666666666,
              "#ed7953"
             ],
             [
              0.7777777777777778,
              "#fb9f3a"
             ],
             [
              0.8888888888888888,
              "#fdca26"
             ],
             [
              1.0,
              "#f0f921"
             ]
            ]
           }
          ],
          "contourcarpet": [
           {
            "type": "contourcarpet",
            "colorbar": {
             "outlinewidth": 0,
             "ticks": ""
            }
           }
          ],
          "contour": [
           {
            "type": "contour",
            "colorbar": {
             "outlinewidth": 0,
             "ticks": ""
            },
            "colorscale": [
             [
              0.0,
              "#0d0887"
             ],
             [
              0.1111111111111111,
              "#46039f"
             ],
             [
              0.2222222222222222,
              "#7201a8"
             ],
             [
              0.3333333333333333,
              "#9c179e"
             ],
             [
              0.4444444444444444,
              "#bd3786"
             ],
             [
              0.5555555555555556,
              "#d8576b"
             ],
             [
              0.6666666666666666,
              "#ed7953"
             ],
             [
              0.7777777777777778,
              "#fb9f3a"
             ],
             [
              0.8888888888888888,
              "#fdca26"
             ],
             [
              1.0,
              "#f0f921"
             ]
            ]
           }
          ],
          "surface": [
           {
            "type": "surface",
            "colorbar": {
             "outlinewidth": 0,
             "ticks": ""
            },
            "colorscale": [
             [
              0.0,
              "#0d0887"
             ],
             [
              0.1111111111111111,
              "#46039f"
             ],
             [
              0.2222222222222222,
              "#7201a8"
             ],
             [
              0.3333333333333333,
              "#9c179e"
             ],
             [
              0.4444444444444444,
              "#bd3786"
             ],
             [
              0.5555555555555556,
              "#d8576b"
             ],
             [
              0.6666666666666666,
              "#ed7953"
             ],
             [
              0.7777777777777778,
              "#fb9f3a"
             ],
             [
              0.8888888888888888,
              "#fdca26"
             ],
             [
              1.0,
              "#f0f921"
             ]
            ]
           }
          ],
          "mesh3d": [
           {
            "type": "mesh3d",
            "colorbar": {
             "outlinewidth": 0,
             "ticks": ""
            }
           }
          ],
          "scatter": [
           {
            "marker": {
             "line": {
              "color": "#283442"
             }
            },
            "type": "scatter"
           }
          ],
          "parcoords": [
           {
            "type": "parcoords",
            "line": {
             "colorbar": {
              "outlinewidth": 0,
              "ticks": ""
             }
            }
           }
          ],
          "scatterpolargl": [
           {
            "type": "scatterpolargl",
            "marker": {
             "colorbar": {
              "outlinewidth": 0,
              "ticks": ""
             }
            }
           }
          ],
          "bar": [
           {
            "error_x": {
             "color": "#f2f5fa"
            },
            "error_y": {
             "color": "#f2f5fa"
            },
            "marker": {
             "line": {
              "color": "rgb(17,17,17)",
              "width": 0.5
             },
             "pattern": {
              "fillmode": "overlay",
              "size": 10,
              "solidity": 0.2
             }
            },
            "type": "bar"
           }
          ],
          "scattergeo": [
           {
            "type": "scattergeo",
            "marker": {
             "colorbar": {
              "outlinewidth": 0,
              "ticks": ""
             }
            }
           }
          ],
          "scatterpolar": [
           {
            "type": "scatterpolar",
            "marker": {
             "colorbar": {
              "outlinewidth": 0,
              "ticks": ""
             }
            }
           }
          ],
          "histogram": [
           {
            "marker": {
             "pattern": {
              "fillmode": "overlay",
              "size": 10,
              "solidity": 0.2
             }
            },
            "type": "histogram"
           }
          ],
          "scattergl": [
           {
            "marker": {
             "line": {
              "color": "#283442"
             }
            },
            "type": "scattergl"
           }
          ],
          "scatter3d": [
           {
            "type": "scatter3d",
            "line": {
             "colorbar": {
              "outlinewidth": 0,
              "ticks": ""
             }
            },
            "marker": {
             "colorbar": {
              "outlinewidth": 0,
              "ticks": ""
             }
            }
           }
          ],
          "scattermapbox": [
           {
            "type": "scattermapbox",
            "marker": {
             "colorbar": {
              "outlinewidth": 0,
              "ticks": ""
             }
            }
           }
          ],
          "scatterternary": [
           {
            "type": "scatterternary",
            "marker": {
             "colorbar": {
              "outlinewidth": 0,
              "ticks": ""
             }
            }
           }
          ],
          "scattercarpet": [
           {
            "type": "scattercarpet",
            "marker": {
             "colorbar": {
              "outlinewidth": 0,
              "ticks": ""
             }
            }
           }
          ],
          "carpet": [
           {
            "aaxis": {
             "endlinecolor": "#A2B1C6",
             "gridcolor": "#506784",
             "linecolor": "#506784",
             "minorgridcolor": "#506784",
             "startlinecolor": "#A2B1C6"
            },
            "baxis": {
             "endlinecolor": "#A2B1C6",
             "gridcolor": "#506784",
             "linecolor": "#506784",
             "minorgridcolor": "#506784",
             "startlinecolor": "#A2B1C6"
            },
            "type": "carpet"
           }
          ],
          "table": [
           {
            "cells": {
             "fill": {
              "color": "#506784"
             },
             "line": {
              "color": "rgb(17,17,17)"
             }
            },
            "header": {
             "fill": {
              "color": "#2a3f5f"
             },
             "line": {
              "color": "rgb(17,17,17)"
             }
            },
            "type": "table"
           }
          ],
          "barpolar": [
           {
            "marker": {
             "line": {
              "color": "rgb(17,17,17)",
              "width": 0.5
             },
             "pattern": {
              "fillmode": "overlay",
              "size": 10,
              "solidity": 0.2
             }
            },
            "type": "barpolar"
           }
          ],
          "pie": [
           {
            "automargin": true,
            "type": "pie"
           }
          ]
         },
         "layout": {
          "autotypenumbers": "strict",
          "colorway": [
           "#636efa",
           "#EF553B",
           "#00cc96",
           "#ab63fa",
           "#FFA15A",
           "#19d3f3",
           "#FF6692",
           "#B6E880",
           "#FF97FF",
           "#FECB52"
          ],
          "font": {
           "color": "#f2f5fa"
          },
          "hovermode": "closest",
          "hoverlabel": {
           "align": "left"
          },
          "paper_bgcolor": "rgb(17,17,17)",
          "plot_bgcolor": "rgb(17,17,17)",
          "polar": {
           "bgcolor": "rgb(17,17,17)",
           "angularaxis": {
            "gridcolor": "#506784",
            "linecolor": "#506784",
            "ticks": ""
           },
           "radialaxis": {
            "gridcolor": "#506784",
            "linecolor": "#506784",
            "ticks": ""
           }
          },
          "ternary": {
           "bgcolor": "rgb(17,17,17)",
           "aaxis": {
            "gridcolor": "#506784",
            "linecolor": "#506784",
            "ticks": ""
           },
           "baxis": {
            "gridcolor": "#506784",
            "linecolor": "#506784",
            "ticks": ""
           },
           "caxis": {
            "gridcolor": "#506784",
            "linecolor": "#506784",
            "ticks": ""
           }
          },
          "coloraxis": {
           "colorbar": {
            "outlinewidth": 0,
            "ticks": ""
           }
          },
          "colorscale": {
           "sequential": [
            [
             0.0,
             "#0d0887"
            ],
            [
             0.1111111111111111,
             "#46039f"
            ],
            [
             0.2222222222222222,
             "#7201a8"
            ],
            [
             0.3333333333333333,
             "#9c179e"
            ],
            [
             0.4444444444444444,
             "#bd3786"
            ],
            [
             0.5555555555555556,
             "#d8576b"
            ],
            [
             0.6666666666666666,
             "#ed7953"
            ],
            [
             0.7777777777777778,
             "#fb9f3a"
            ],
            [
             0.8888888888888888,
             "#fdca26"
            ],
            [
             1.0,
             "#f0f921"
            ]
           ],
           "sequentialminus": [
            [
             0.0,
             "#0d0887"
            ],
            [
             0.1111111111111111,
             "#46039f"
            ],
            [
             0.2222222222222222,
             "#7201a8"
            ],
            [
             0.3333333333333333,
             "#9c179e"
            ],
            [
             0.4444444444444444,
             "#bd3786"
            ],
            [
             0.5555555555555556,
             "#d8576b"
            ],
            [
             0.6666666666666666,
             "#ed7953"
            ],
            [
             0.7777777777777778,
             "#fb9f3a"
            ],
            [
             0.8888888888888888,
             "#fdca26"
            ],
            [
             1.0,
             "#f0f921"
            ]
           ],
           "diverging": [
            [
             0,
             "#8e0152"
            ],
            [
             0.1,
             "#c51b7d"
            ],
            [
             0.2,
             "#de77ae"
            ],
            [
             0.3,
             "#f1b6da"
            ],
            [
             0.4,
             "#fde0ef"
            ],
            [
             0.5,
             "#f7f7f7"
            ],
            [
             0.6,
             "#e6f5d0"
            ],
            [
             0.7,
             "#b8e186"
            ],
            [
             0.8,
             "#7fbc41"
            ],
            [
             0.9,
             "#4d9221"
            ],
            [
             1,
             "#276419"
            ]
           ]
          },
          "xaxis": {
           "gridcolor": "#283442",
           "linecolor": "#506784",
           "ticks": "",
           "title": {
            "standoff": 15
           },
           "zerolinecolor": "#283442",
           "automargin": true,
           "zerolinewidth": 2
          },
          "yaxis": {
           "gridcolor": "#283442",
           "linecolor": "#506784",
           "ticks": "",
           "title": {
            "standoff": 15
           },
           "zerolinecolor": "#283442",
           "automargin": true,
           "zerolinewidth": 2
          },
          "scene": {
           "xaxis": {
            "backgroundcolor": "rgb(17,17,17)",
            "gridcolor": "#506784",
            "linecolor": "#506784",
            "showbackground": true,
            "ticks": "",
            "zerolinecolor": "#C8D4E3",
            "gridwidth": 2
           },
           "yaxis": {
            "backgroundcolor": "rgb(17,17,17)",
            "gridcolor": "#506784",
            "linecolor": "#506784",
            "showbackground": true,
            "ticks": "",
            "zerolinecolor": "#C8D4E3",
            "gridwidth": 2
           },
           "zaxis": {
            "backgroundcolor": "rgb(17,17,17)",
            "gridcolor": "#506784",
            "linecolor": "#506784",
            "showbackground": true,
            "ticks": "",
            "zerolinecolor": "#C8D4E3",
            "gridwidth": 2
           }
          },
          "shapedefaults": {
           "line": {
            "color": "#f2f5fa"
           }
          },
          "annotationdefaults": {
           "arrowcolor": "#f2f5fa",
           "arrowhead": 0,
           "arrowwidth": 1
          },
          "geo": {
           "bgcolor": "rgb(17,17,17)",
           "landcolor": "rgb(17,17,17)",
           "subunitcolor": "#506784",
           "showland": true,
           "showlakes": true,
           "lakecolor": "rgb(17,17,17)"
          },
          "title": {
           "x": 0.05
          },
          "updatemenudefaults": {
           "bgcolor": "#506784",
           "borderwidth": 0
          },
          "sliderdefaults": {
           "bgcolor": "#C8D4E3",
           "borderwidth": 1,
           "bordercolor": "rgb(17,17,17)",
           "tickwidth": 0
          },
          "mapbox": {
           "style": "dark"
          }
         }
        },
        "xaxis": {
         "anchor": "y",
         "domain": [
          0.0,
          0.37
         ],
         "title": {
          "text": "Year"
         }
        },
        "yaxis": {
         "anchor": "x",
         "domain": [
          0.625,
          1.0
         ],
         "title": {
          "text": "Annual Solar Generation (MWh)"
         },
         "showgrid": false
        },
        "yaxis2": {
         "anchor": "x",
         "overlaying": "y",
         "side": "right",
         "title": {
          "text": "Percent of Annual Generation from Solar (%)"
         },
         "showgrid": true
        },
        "xaxis2": {
         "anchor": "y3",
         "domain": [
          0.5700000000000001,
          0.9400000000000001
         ],
         "title": {
          "text": "Year"
         }
        },
        "yaxis3": {
         "anchor": "x2",
         "domain": [
          0.625,
          1.0
         ],
         "title": {
          "text": "Annual Solar Generation (MWh)"
         },
         "showgrid": false
        },
        "yaxis4": {
         "anchor": "x2",
         "overlaying": "y3",
         "side": "right",
         "title": {
          "text": "Percent of Annual Generation from Solar (%)"
         },
         "showgrid": true
        },
        "xaxis3": {
         "anchor": "y5",
         "domain": [
          0.0,
          0.37
         ],
         "title": {
          "text": "Year"
         }
        },
        "yaxis5": {
         "anchor": "x3",
         "domain": [
          0.0,
          0.375
         ],
         "title": {
          "text": "Annual Solar Generation (MWh)"
         },
         "showgrid": false
        },
        "yaxis6": {
         "anchor": "x3",
         "overlaying": "y5",
         "side": "right",
         "title": {
          "text": "Percent of Annual Generation from Solar (%)"
         },
         "showgrid": true
        },
        "xaxis4": {
         "anchor": "y7",
         "domain": [
          0.5700000000000001,
          0.9400000000000001
         ],
         "title": {
          "text": "Year"
         }
        },
        "yaxis7": {
         "anchor": "x4",
         "domain": [
          0.0,
          0.375
         ],
         "title": {
          "text": "Annual Solar Generation (MWh)"
         },
         "showgrid": false
        },
        "yaxis8": {
         "anchor": "x4",
         "overlaying": "y7",
         "side": "right",
         "title": {
          "text": "Percent of Annual Generation from Solar (%)"
         },
         "showgrid": true
        },
        "annotations": [
         {
          "font": {
           "size": 16
          },
          "showarrow": false,
          "text": "CAISO",
          "x": 0.185,
          "xanchor": "center",
          "xref": "paper",
          "y": 1.0,
          "yanchor": "bottom",
          "yref": "paper"
         },
         {
          "font": {
           "size": 16
          },
          "showarrow": false,
          "text": "ERCOT",
          "x": 0.7550000000000001,
          "xanchor": "center",
          "xref": "paper",
          "y": 1.0,
          "yanchor": "bottom",
          "yref": "paper"
         },
         {
          "font": {
           "size": 16
          },
          "showarrow": false,
          "text": "PJM",
          "x": 0.185,
          "xanchor": "center",
          "xref": "paper",
          "y": 0.375,
          "yanchor": "bottom",
          "yref": "paper"
         },
         {
          "font": {
           "size": 16
          },
          "showarrow": false,
          "text": "ISONE",
          "x": 0.7550000000000001,
          "xanchor": "center",
          "xref": "paper",
          "y": 0.375,
          "yanchor": "bottom",
          "yref": "paper"
         }
        ],
        "font": {
         "color": "black"
        },
        "paper_bgcolor": "rgba(0,0,0,0)",
        "plot_bgcolor": "rgba(0,0,0,0)",
        "title": {
         "text": "Total Annual Solar Generation from 2014 - 2022 by ISO"
        },
        "height": 1000,
        "width": 1400
       },
       "config": {
        "plotlyServerURL": "https://plot.ly"
       }
      },
      "text/html": "<div>                            <div id=\"b21013c1-dc98-4ef6-b61d-0ac1b4e37ea8\" class=\"plotly-graph-div\" style=\"height:1000px; width:1400px;\"></div>            <script type=\"text/javascript\">                require([\"plotly\"], function(Plotly) {                    window.PLOTLYENV=window.PLOTLYENV || {};                                    if (document.getElementById(\"b21013c1-dc98-4ef6-b61d-0ac1b4e37ea8\")) {                    Plotly.newPlot(                        \"b21013c1-dc98-4ef6-b61d-0ac1b4e37ea8\",                        [{\"name\":\"MWh of yearly solar generation in CAISO\",\"x\":[2016,2017,2018,2019,2020,2021,2022],\"y\":[20725112.0,25340314.0,27780355.0,28609064.499854624,30435283.083337817,34373300.499988526,37588541.5999964],\"type\":\"scatter\",\"xaxis\":\"x\",\"yaxis\":\"y\"},{\"name\":\"% of generation in CAISO from solar\",\"x\":[2016,2017,2018,2019,2020,2021,2022],\"y\":[0.08968465289548269,0.10964273966067714,0.1227470515081315,0.1308075189946834,0.13706504292134944,0.15311429796121015,0.1624145763375619],\"type\":\"scatter\",\"xaxis\":\"x\",\"yaxis\":\"y2\"},{\"name\":\"MWh of yearly solar generation in ERCOT\",\"x\":[2016,2017,2018,2019,2020,2021,2022],\"y\":[209150.5029908,564457.7590186,810057.34334595,1099460.55,2187247.95,3927911.3,6047962.95],\"type\":\"scatter\",\"xaxis\":\"x2\",\"yaxis\":\"y3\"},{\"name\":\"% of generation in ERCOT from solar\",\"x\":[2016,2017,2018,2019,2020,2021,2022],\"y\":[0.002374116004032323,0.006300149227344678,0.00861719895097172,0.011472264614858048,0.02299103302542637,0.04012716674156346,0.056465929362276346],\"type\":\"scatter\",\"xaxis\":\"x2\",\"yaxis\":\"y4\"},{\"name\":\"MWh of yearly solar generation in PJM\",\"x\":[2016,2017,2018,2019,2020,2021,2022],\"y\":[548031.3,1086448.6,1631492.2,2403276.6,3435161.6,5891865.9,7152997.3],\"type\":\"scatter\",\"xaxis\":\"x3\",\"yaxis\":\"y5\"},{\"name\":\"% of generation in PJM from solar\",\"x\":[2016,2017,2018,2019,2020,2021,2022],\"y\":[0.0006852529427625979,0.0013722337078733646,0.0019475596444222167,0.002903872372984401,0.004251517049519969,0.007138656241683943,0.008538314090084575],\"type\":\"scatter\",\"xaxis\":\"x3\",\"yaxis\":\"y6\"},{\"name\":\"MWh of yearly solar generation in ISONE\",\"x\":[2016,2017,2018,2019,2020,2021,2022],\"y\":[656816.194,890079.791,1231150.057,1662407.018,2073535.836,2650229.366,3574279.566],\"type\":\"scatter\",\"xaxis\":\"x4\",\"yaxis\":\"y7\"},{\"name\":\"% of generation in ISONE from solar\",\"x\":[2016,2017,2018,2019,2020,2021,2022],\"y\":[0.006078873028001305,0.008393610766618985,0.011538179605406245,0.017954833615956928,0.023985912168841456,0.027396155985986787,0.03602749216201826],\"type\":\"scatter\",\"xaxis\":\"x4\",\"yaxis\":\"y8\"}],                        {\"template\":{\"data\":{\"histogram2dcontour\":[{\"type\":\"histogram2dcontour\",\"colorbar\":{\"outlinewidth\":0,\"ticks\":\"\"},\"colorscale\":[[0.0,\"#0d0887\"],[0.1111111111111111,\"#46039f\"],[0.2222222222222222,\"#7201a8\"],[0.3333333333333333,\"#9c179e\"],[0.4444444444444444,\"#bd3786\"],[0.5555555555555556,\"#d8576b\"],[0.6666666666666666,\"#ed7953\"],[0.7777777777777778,\"#fb9f3a\"],[0.8888888888888888,\"#fdca26\"],[1.0,\"#f0f921\"]]}],\"choropleth\":[{\"type\":\"choropleth\",\"colorbar\":{\"outlinewidth\":0,\"ticks\":\"\"}}],\"histogram2d\":[{\"type\":\"histogram2d\",\"colorbar\":{\"outlinewidth\":0,\"ticks\":\"\"},\"colorscale\":[[0.0,\"#0d0887\"],[0.1111111111111111,\"#46039f\"],[0.2222222222222222,\"#7201a8\"],[0.3333333333333333,\"#9c179e\"],[0.4444444444444444,\"#bd3786\"],[0.5555555555555556,\"#d8576b\"],[0.6666666666666666,\"#ed7953\"],[0.7777777777777778,\"#fb9f3a\"],[0.8888888888888888,\"#fdca26\"],[1.0,\"#f0f921\"]]}],\"heatmap\":[{\"type\":\"heatmap\",\"colorbar\":{\"outlinewidth\":0,\"ticks\":\"\"},\"colorscale\":[[0.0,\"#0d0887\"],[0.1111111111111111,\"#46039f\"],[0.2222222222222222,\"#7201a8\"],[0.3333333333333333,\"#9c179e\"],[0.4444444444444444,\"#bd3786\"],[0.5555555555555556,\"#d8576b\"],[0.6666666666666666,\"#ed7953\"],[0.7777777777777778,\"#fb9f3a\"],[0.8888888888888888,\"#fdca26\"],[1.0,\"#f0f921\"]]}],\"heatmapgl\":[{\"type\":\"heatmapgl\",\"colorbar\":{\"outlinewidth\":0,\"ticks\":\"\"},\"colorscale\":[[0.0,\"#0d0887\"],[0.1111111111111111,\"#46039f\"],[0.2222222222222222,\"#7201a8\"],[0.3333333333333333,\"#9c179e\"],[0.4444444444444444,\"#bd3786\"],[0.5555555555555556,\"#d8576b\"],[0.6666666666666666,\"#ed7953\"],[0.7777777777777778,\"#fb9f3a\"],[0.8888888888888888,\"#fdca26\"],[1.0,\"#f0f921\"]]}],\"contourcarpet\":[{\"type\":\"contourcarpet\",\"colorbar\":{\"outlinewidth\":0,\"ticks\":\"\"}}],\"contour\":[{\"type\":\"contour\",\"colorbar\":{\"outlinewidth\":0,\"ticks\":\"\"},\"colorscale\":[[0.0,\"#0d0887\"],[0.1111111111111111,\"#46039f\"],[0.2222222222222222,\"#7201a8\"],[0.3333333333333333,\"#9c179e\"],[0.4444444444444444,\"#bd3786\"],[0.5555555555555556,\"#d8576b\"],[0.6666666666666666,\"#ed7953\"],[0.7777777777777778,\"#fb9f3a\"],[0.8888888888888888,\"#fdca26\"],[1.0,\"#f0f921\"]]}],\"surface\":[{\"type\":\"surface\",\"colorbar\":{\"outlinewidth\":0,\"ticks\":\"\"},\"colorscale\":[[0.0,\"#0d0887\"],[0.1111111111111111,\"#46039f\"],[0.2222222222222222,\"#7201a8\"],[0.3333333333333333,\"#9c179e\"],[0.4444444444444444,\"#bd3786\"],[0.5555555555555556,\"#d8576b\"],[0.6666666666666666,\"#ed7953\"],[0.7777777777777778,\"#fb9f3a\"],[0.8888888888888888,\"#fdca26\"],[1.0,\"#f0f921\"]]}],\"mesh3d\":[{\"type\":\"mesh3d\",\"colorbar\":{\"outlinewidth\":0,\"ticks\":\"\"}}],\"scatter\":[{\"marker\":{\"line\":{\"color\":\"#283442\"}},\"type\":\"scatter\"}],\"parcoords\":[{\"type\":\"parcoords\",\"line\":{\"colorbar\":{\"outlinewidth\":0,\"ticks\":\"\"}}}],\"scatterpolargl\":[{\"type\":\"scatterpolargl\",\"marker\":{\"colorbar\":{\"outlinewidth\":0,\"ticks\":\"\"}}}],\"bar\":[{\"error_x\":{\"color\":\"#f2f5fa\"},\"error_y\":{\"color\":\"#f2f5fa\"},\"marker\":{\"line\":{\"color\":\"rgb(17,17,17)\",\"width\":0.5},\"pattern\":{\"fillmode\":\"overlay\",\"size\":10,\"solidity\":0.2}},\"type\":\"bar\"}],\"scattergeo\":[{\"type\":\"scattergeo\",\"marker\":{\"colorbar\":{\"outlinewidth\":0,\"ticks\":\"\"}}}],\"scatterpolar\":[{\"type\":\"scatterpolar\",\"marker\":{\"colorbar\":{\"outlinewidth\":0,\"ticks\":\"\"}}}],\"histogram\":[{\"marker\":{\"pattern\":{\"fillmode\":\"overlay\",\"size\":10,\"solidity\":0.2}},\"type\":\"histogram\"}],\"scattergl\":[{\"marker\":{\"line\":{\"color\":\"#283442\"}},\"type\":\"scattergl\"}],\"scatter3d\":[{\"type\":\"scatter3d\",\"line\":{\"colorbar\":{\"outlinewidth\":0,\"ticks\":\"\"}},\"marker\":{\"colorbar\":{\"outlinewidth\":0,\"ticks\":\"\"}}}],\"scattermapbox\":[{\"type\":\"scattermapbox\",\"marker\":{\"colorbar\":{\"outlinewidth\":0,\"ticks\":\"\"}}}],\"scatterternary\":[{\"type\":\"scatterternary\",\"marker\":{\"colorbar\":{\"outlinewidth\":0,\"ticks\":\"\"}}}],\"scattercarpet\":[{\"type\":\"scattercarpet\",\"marker\":{\"colorbar\":{\"outlinewidth\":0,\"ticks\":\"\"}}}],\"carpet\":[{\"aaxis\":{\"endlinecolor\":\"#A2B1C6\",\"gridcolor\":\"#506784\",\"linecolor\":\"#506784\",\"minorgridcolor\":\"#506784\",\"startlinecolor\":\"#A2B1C6\"},\"baxis\":{\"endlinecolor\":\"#A2B1C6\",\"gridcolor\":\"#506784\",\"linecolor\":\"#506784\",\"minorgridcolor\":\"#506784\",\"startlinecolor\":\"#A2B1C6\"},\"type\":\"carpet\"}],\"table\":[{\"cells\":{\"fill\":{\"color\":\"#506784\"},\"line\":{\"color\":\"rgb(17,17,17)\"}},\"header\":{\"fill\":{\"color\":\"#2a3f5f\"},\"line\":{\"color\":\"rgb(17,17,17)\"}},\"type\":\"table\"}],\"barpolar\":[{\"marker\":{\"line\":{\"color\":\"rgb(17,17,17)\",\"width\":0.5},\"pattern\":{\"fillmode\":\"overlay\",\"size\":10,\"solidity\":0.2}},\"type\":\"barpolar\"}],\"pie\":[{\"automargin\":true,\"type\":\"pie\"}]},\"layout\":{\"autotypenumbers\":\"strict\",\"colorway\":[\"#636efa\",\"#EF553B\",\"#00cc96\",\"#ab63fa\",\"#FFA15A\",\"#19d3f3\",\"#FF6692\",\"#B6E880\",\"#FF97FF\",\"#FECB52\"],\"font\":{\"color\":\"#f2f5fa\"},\"hovermode\":\"closest\",\"hoverlabel\":{\"align\":\"left\"},\"paper_bgcolor\":\"rgb(17,17,17)\",\"plot_bgcolor\":\"rgb(17,17,17)\",\"polar\":{\"bgcolor\":\"rgb(17,17,17)\",\"angularaxis\":{\"gridcolor\":\"#506784\",\"linecolor\":\"#506784\",\"ticks\":\"\"},\"radialaxis\":{\"gridcolor\":\"#506784\",\"linecolor\":\"#506784\",\"ticks\":\"\"}},\"ternary\":{\"bgcolor\":\"rgb(17,17,17)\",\"aaxis\":{\"gridcolor\":\"#506784\",\"linecolor\":\"#506784\",\"ticks\":\"\"},\"baxis\":{\"gridcolor\":\"#506784\",\"linecolor\":\"#506784\",\"ticks\":\"\"},\"caxis\":{\"gridcolor\":\"#506784\",\"linecolor\":\"#506784\",\"ticks\":\"\"}},\"coloraxis\":{\"colorbar\":{\"outlinewidth\":0,\"ticks\":\"\"}},\"colorscale\":{\"sequential\":[[0.0,\"#0d0887\"],[0.1111111111111111,\"#46039f\"],[0.2222222222222222,\"#7201a8\"],[0.3333333333333333,\"#9c179e\"],[0.4444444444444444,\"#bd3786\"],[0.5555555555555556,\"#d8576b\"],[0.6666666666666666,\"#ed7953\"],[0.7777777777777778,\"#fb9f3a\"],[0.8888888888888888,\"#fdca26\"],[1.0,\"#f0f921\"]],\"sequentialminus\":[[0.0,\"#0d0887\"],[0.1111111111111111,\"#46039f\"],[0.2222222222222222,\"#7201a8\"],[0.3333333333333333,\"#9c179e\"],[0.4444444444444444,\"#bd3786\"],[0.5555555555555556,\"#d8576b\"],[0.6666666666666666,\"#ed7953\"],[0.7777777777777778,\"#fb9f3a\"],[0.8888888888888888,\"#fdca26\"],[1.0,\"#f0f921\"]],\"diverging\":[[0,\"#8e0152\"],[0.1,\"#c51b7d\"],[0.2,\"#de77ae\"],[0.3,\"#f1b6da\"],[0.4,\"#fde0ef\"],[0.5,\"#f7f7f7\"],[0.6,\"#e6f5d0\"],[0.7,\"#b8e186\"],[0.8,\"#7fbc41\"],[0.9,\"#4d9221\"],[1,\"#276419\"]]},\"xaxis\":{\"gridcolor\":\"#283442\",\"linecolor\":\"#506784\",\"ticks\":\"\",\"title\":{\"standoff\":15},\"zerolinecolor\":\"#283442\",\"automargin\":true,\"zerolinewidth\":2},\"yaxis\":{\"gridcolor\":\"#283442\",\"linecolor\":\"#506784\",\"ticks\":\"\",\"title\":{\"standoff\":15},\"zerolinecolor\":\"#283442\",\"automargin\":true,\"zerolinewidth\":2},\"scene\":{\"xaxis\":{\"backgroundcolor\":\"rgb(17,17,17)\",\"gridcolor\":\"#506784\",\"linecolor\":\"#506784\",\"showbackground\":true,\"ticks\":\"\",\"zerolinecolor\":\"#C8D4E3\",\"gridwidth\":2},\"yaxis\":{\"backgroundcolor\":\"rgb(17,17,17)\",\"gridcolor\":\"#506784\",\"linecolor\":\"#506784\",\"showbackground\":true,\"ticks\":\"\",\"zerolinecolor\":\"#C8D4E3\",\"gridwidth\":2},\"zaxis\":{\"backgroundcolor\":\"rgb(17,17,17)\",\"gridcolor\":\"#506784\",\"linecolor\":\"#506784\",\"showbackground\":true,\"ticks\":\"\",\"zerolinecolor\":\"#C8D4E3\",\"gridwidth\":2}},\"shapedefaults\":{\"line\":{\"color\":\"#f2f5fa\"}},\"annotationdefaults\":{\"arrowcolor\":\"#f2f5fa\",\"arrowhead\":0,\"arrowwidth\":1},\"geo\":{\"bgcolor\":\"rgb(17,17,17)\",\"landcolor\":\"rgb(17,17,17)\",\"subunitcolor\":\"#506784\",\"showland\":true,\"showlakes\":true,\"lakecolor\":\"rgb(17,17,17)\"},\"title\":{\"x\":0.05},\"updatemenudefaults\":{\"bgcolor\":\"#506784\",\"borderwidth\":0},\"sliderdefaults\":{\"bgcolor\":\"#C8D4E3\",\"borderwidth\":1,\"bordercolor\":\"rgb(17,17,17)\",\"tickwidth\":0},\"mapbox\":{\"style\":\"dark\"}}},\"xaxis\":{\"anchor\":\"y\",\"domain\":[0.0,0.37],\"title\":{\"text\":\"Year\"}},\"yaxis\":{\"anchor\":\"x\",\"domain\":[0.625,1.0],\"title\":{\"text\":\"Annual Solar Generation (MWh)\"},\"showgrid\":false},\"yaxis2\":{\"anchor\":\"x\",\"overlaying\":\"y\",\"side\":\"right\",\"title\":{\"text\":\"Percent of Annual Generation from Solar (%)\"},\"showgrid\":true},\"xaxis2\":{\"anchor\":\"y3\",\"domain\":[0.5700000000000001,0.9400000000000001],\"title\":{\"text\":\"Year\"}},\"yaxis3\":{\"anchor\":\"x2\",\"domain\":[0.625,1.0],\"title\":{\"text\":\"Annual Solar Generation (MWh)\"},\"showgrid\":false},\"yaxis4\":{\"anchor\":\"x2\",\"overlaying\":\"y3\",\"side\":\"right\",\"title\":{\"text\":\"Percent of Annual Generation from Solar (%)\"},\"showgrid\":true},\"xaxis3\":{\"anchor\":\"y5\",\"domain\":[0.0,0.37],\"title\":{\"text\":\"Year\"}},\"yaxis5\":{\"anchor\":\"x3\",\"domain\":[0.0,0.375],\"title\":{\"text\":\"Annual Solar Generation (MWh)\"},\"showgrid\":false},\"yaxis6\":{\"anchor\":\"x3\",\"overlaying\":\"y5\",\"side\":\"right\",\"title\":{\"text\":\"Percent of Annual Generation from Solar (%)\"},\"showgrid\":true},\"xaxis4\":{\"anchor\":\"y7\",\"domain\":[0.5700000000000001,0.9400000000000001],\"title\":{\"text\":\"Year\"}},\"yaxis7\":{\"anchor\":\"x4\",\"domain\":[0.0,0.375],\"title\":{\"text\":\"Annual Solar Generation (MWh)\"},\"showgrid\":false},\"yaxis8\":{\"anchor\":\"x4\",\"overlaying\":\"y7\",\"side\":\"right\",\"title\":{\"text\":\"Percent of Annual Generation from Solar (%)\"},\"showgrid\":true},\"annotations\":[{\"font\":{\"size\":16},\"showarrow\":false,\"text\":\"CAISO\",\"x\":0.185,\"xanchor\":\"center\",\"xref\":\"paper\",\"y\":1.0,\"yanchor\":\"bottom\",\"yref\":\"paper\"},{\"font\":{\"size\":16},\"showarrow\":false,\"text\":\"ERCOT\",\"x\":0.7550000000000001,\"xanchor\":\"center\",\"xref\":\"paper\",\"y\":1.0,\"yanchor\":\"bottom\",\"yref\":\"paper\"},{\"font\":{\"size\":16},\"showarrow\":false,\"text\":\"PJM\",\"x\":0.185,\"xanchor\":\"center\",\"xref\":\"paper\",\"y\":0.375,\"yanchor\":\"bottom\",\"yref\":\"paper\"},{\"font\":{\"size\":16},\"showarrow\":false,\"text\":\"ISONE\",\"x\":0.7550000000000001,\"xanchor\":\"center\",\"xref\":\"paper\",\"y\":0.375,\"yanchor\":\"bottom\",\"yref\":\"paper\"}],\"font\":{\"color\":\"black\"},\"paper_bgcolor\":\"rgba(0,0,0,0)\",\"plot_bgcolor\":\"rgba(0,0,0,0)\",\"title\":{\"text\":\"Total Annual Solar Generation from 2014 - 2022 by ISO\"},\"height\":1000,\"width\":1400},                        {\"responsive\": true}                    ).then(function(){\n                            \nvar gd = document.getElementById('b21013c1-dc98-4ef6-b61d-0ac1b4e37ea8');\nvar x = new MutationObserver(function (mutations, observer) {{\n        var display = window.getComputedStyle(gd).display;\n        if (!display || display === 'none') {{\n            console.log([gd, 'removed!']);\n            Plotly.purge(gd);\n            observer.disconnect();\n        }}\n}});\n\n// Listen for the removal of the full notebook cells\nvar notebookContainer = gd.closest('#notebook-container');\nif (notebookContainer) {{\n    x.observe(notebookContainer, {childList: true});\n}}\n\n// Listen for the clearing of the current output cell\nvar outputEl = gd.closest('.output');\nif (outputEl) {{\n    x.observe(outputEl, {childList: true});\n}}\n\n                        })                };                });            </script>        </div>"
     },
     "metadata": {},
     "output_type": "display_data"
    }
   ],
   "source": [
    "ling = plot_gen(ISO_dict, \"/Users/evanlipton/Desktop/Thesis/generation_figures\")"
   ],
   "metadata": {
    "collapsed": false
   }
  },
  {
   "cell_type": "code",
   "execution_count": 42,
   "outputs": [
    {
     "data": {
      "application/vnd.plotly.v1+json": {
       "data": [
        {
         "marker": {
          "color": "#16FF32"
         },
         "name": "CAISO",
         "x": [
          2016,
          2017,
          2018,
          2019,
          2020,
          2021,
          2022
         ],
         "y": [
          0.0,
          4615202.0,
          7055243.0,
          7883952.499854624,
          9710171.083337817,
          1.3648188499988526E7,
          1.6863429599996403E7
         ],
         "type": "scatter"
        },
        {
         "marker": {
          "color": "#FD3216"
         },
         "name": "ERCOT",
         "x": [
          2016,
          2017,
          2018,
          2019,
          2020,
          2021,
          2022
         ],
         "y": [
          0.0,
          355307.2560278,
          600906.8403551499,
          890310.0470092001,
          1978097.4470092002,
          3718760.7970092,
          5838812.4470092
         ],
         "type": "scatter"
        },
        {
         "marker": {
          "color": "#FEAF16"
         },
         "name": "PJM",
         "x": [
          2016,
          2017,
          2018,
          2019,
          2020,
          2021,
          2022
         ],
         "y": [
          0.0,
          538417.3,
          1083460.9,
          1855245.3,
          2887130.3,
          5343834.600000001,
          6604966.0
         ],
         "type": "scatter"
        },
        {
         "marker": {
          "color": "#3283FE"
         },
         "name": "ISONE",
         "x": [
          2016,
          2017,
          2018,
          2019,
          2020,
          2021,
          2022
         ],
         "y": [
          0.0,
          233263.59699999995,
          574333.863,
          1005590.8239999999,
          1416719.642,
          1993413.1719999998,
          2917463.372
         ],
         "type": "scatter"
        }
       ],
       "layout": {
        "template": {
         "data": {
          "histogram2dcontour": [
           {
            "type": "histogram2dcontour",
            "colorbar": {
             "outlinewidth": 0,
             "ticks": ""
            },
            "colorscale": [
             [
              0.0,
              "#0d0887"
             ],
             [
              0.1111111111111111,
              "#46039f"
             ],
             [
              0.2222222222222222,
              "#7201a8"
             ],
             [
              0.3333333333333333,
              "#9c179e"
             ],
             [
              0.4444444444444444,
              "#bd3786"
             ],
             [
              0.5555555555555556,
              "#d8576b"
             ],
             [
              0.6666666666666666,
              "#ed7953"
             ],
             [
              0.7777777777777778,
              "#fb9f3a"
             ],
             [
              0.8888888888888888,
              "#fdca26"
             ],
             [
              1.0,
              "#f0f921"
             ]
            ]
           }
          ],
          "choropleth": [
           {
            "type": "choropleth",
            "colorbar": {
             "outlinewidth": 0,
             "ticks": ""
            }
           }
          ],
          "histogram2d": [
           {
            "type": "histogram2d",
            "colorbar": {
             "outlinewidth": 0,
             "ticks": ""
            },
            "colorscale": [
             [
              0.0,
              "#0d0887"
             ],
             [
              0.1111111111111111,
              "#46039f"
             ],
             [
              0.2222222222222222,
              "#7201a8"
             ],
             [
              0.3333333333333333,
              "#9c179e"
             ],
             [
              0.4444444444444444,
              "#bd3786"
             ],
             [
              0.5555555555555556,
              "#d8576b"
             ],
             [
              0.6666666666666666,
              "#ed7953"
             ],
             [
              0.7777777777777778,
              "#fb9f3a"
             ],
             [
              0.8888888888888888,
              "#fdca26"
             ],
             [
              1.0,
              "#f0f921"
             ]
            ]
           }
          ],
          "heatmap": [
           {
            "type": "heatmap",
            "colorbar": {
             "outlinewidth": 0,
             "ticks": ""
            },
            "colorscale": [
             [
              0.0,
              "#0d0887"
             ],
             [
              0.1111111111111111,
              "#46039f"
             ],
             [
              0.2222222222222222,
              "#7201a8"
             ],
             [
              0.3333333333333333,
              "#9c179e"
             ],
             [
              0.4444444444444444,
              "#bd3786"
             ],
             [
              0.5555555555555556,
              "#d8576b"
             ],
             [
              0.6666666666666666,
              "#ed7953"
             ],
             [
              0.7777777777777778,
              "#fb9f3a"
             ],
             [
              0.8888888888888888,
              "#fdca26"
             ],
             [
              1.0,
              "#f0f921"
             ]
            ]
           }
          ],
          "heatmapgl": [
           {
            "type": "heatmapgl",
            "colorbar": {
             "outlinewidth": 0,
             "ticks": ""
            },
            "colorscale": [
             [
              0.0,
              "#0d0887"
             ],
             [
              0.1111111111111111,
              "#46039f"
             ],
             [
              0.2222222222222222,
              "#7201a8"
             ],
             [
              0.3333333333333333,
              "#9c179e"
             ],
             [
              0.4444444444444444,
              "#bd3786"
             ],
             [
              0.5555555555555556,
              "#d8576b"
             ],
             [
              0.6666666666666666,
              "#ed7953"
             ],
             [
              0.7777777777777778,
              "#fb9f3a"
             ],
             [
              0.8888888888888888,
              "#fdca26"
             ],
             [
              1.0,
              "#f0f921"
             ]
            ]
           }
          ],
          "contourcarpet": [
           {
            "type": "contourcarpet",
            "colorbar": {
             "outlinewidth": 0,
             "ticks": ""
            }
           }
          ],
          "contour": [
           {
            "type": "contour",
            "colorbar": {
             "outlinewidth": 0,
             "ticks": ""
            },
            "colorscale": [
             [
              0.0,
              "#0d0887"
             ],
             [
              0.1111111111111111,
              "#46039f"
             ],
             [
              0.2222222222222222,
              "#7201a8"
             ],
             [
              0.3333333333333333,
              "#9c179e"
             ],
             [
              0.4444444444444444,
              "#bd3786"
             ],
             [
              0.5555555555555556,
              "#d8576b"
             ],
             [
              0.6666666666666666,
              "#ed7953"
             ],
             [
              0.7777777777777778,
              "#fb9f3a"
             ],
             [
              0.8888888888888888,
              "#fdca26"
             ],
             [
              1.0,
              "#f0f921"
             ]
            ]
           }
          ],
          "surface": [
           {
            "type": "surface",
            "colorbar": {
             "outlinewidth": 0,
             "ticks": ""
            },
            "colorscale": [
             [
              0.0,
              "#0d0887"
             ],
             [
              0.1111111111111111,
              "#46039f"
             ],
             [
              0.2222222222222222,
              "#7201a8"
             ],
             [
              0.3333333333333333,
              "#9c179e"
             ],
             [
              0.4444444444444444,
              "#bd3786"
             ],
             [
              0.5555555555555556,
              "#d8576b"
             ],
             [
              0.6666666666666666,
              "#ed7953"
             ],
             [
              0.7777777777777778,
              "#fb9f3a"
             ],
             [
              0.8888888888888888,
              "#fdca26"
             ],
             [
              1.0,
              "#f0f921"
             ]
            ]
           }
          ],
          "mesh3d": [
           {
            "type": "mesh3d",
            "colorbar": {
             "outlinewidth": 0,
             "ticks": ""
            }
           }
          ],
          "scatter": [
           {
            "marker": {
             "line": {
              "color": "#283442"
             }
            },
            "type": "scatter"
           }
          ],
          "parcoords": [
           {
            "type": "parcoords",
            "line": {
             "colorbar": {
              "outlinewidth": 0,
              "ticks": ""
             }
            }
           }
          ],
          "scatterpolargl": [
           {
            "type": "scatterpolargl",
            "marker": {
             "colorbar": {
              "outlinewidth": 0,
              "ticks": ""
             }
            }
           }
          ],
          "bar": [
           {
            "error_x": {
             "color": "#f2f5fa"
            },
            "error_y": {
             "color": "#f2f5fa"
            },
            "marker": {
             "line": {
              "color": "rgb(17,17,17)",
              "width": 0.5
             },
             "pattern": {
              "fillmode": "overlay",
              "size": 10,
              "solidity": 0.2
             }
            },
            "type": "bar"
           }
          ],
          "scattergeo": [
           {
            "type": "scattergeo",
            "marker": {
             "colorbar": {
              "outlinewidth": 0,
              "ticks": ""
             }
            }
           }
          ],
          "scatterpolar": [
           {
            "type": "scatterpolar",
            "marker": {
             "colorbar": {
              "outlinewidth": 0,
              "ticks": ""
             }
            }
           }
          ],
          "histogram": [
           {
            "marker": {
             "pattern": {
              "fillmode": "overlay",
              "size": 10,
              "solidity": 0.2
             }
            },
            "type": "histogram"
           }
          ],
          "scattergl": [
           {
            "marker": {
             "line": {
              "color": "#283442"
             }
            },
            "type": "scattergl"
           }
          ],
          "scatter3d": [
           {
            "type": "scatter3d",
            "line": {
             "colorbar": {
              "outlinewidth": 0,
              "ticks": ""
             }
            },
            "marker": {
             "colorbar": {
              "outlinewidth": 0,
              "ticks": ""
             }
            }
           }
          ],
          "scattermapbox": [
           {
            "type": "scattermapbox",
            "marker": {
             "colorbar": {
              "outlinewidth": 0,
              "ticks": ""
             }
            }
           }
          ],
          "scatterternary": [
           {
            "type": "scatterternary",
            "marker": {
             "colorbar": {
              "outlinewidth": 0,
              "ticks": ""
             }
            }
           }
          ],
          "scattercarpet": [
           {
            "type": "scattercarpet",
            "marker": {
             "colorbar": {
              "outlinewidth": 0,
              "ticks": ""
             }
            }
           }
          ],
          "carpet": [
           {
            "aaxis": {
             "endlinecolor": "#A2B1C6",
             "gridcolor": "#506784",
             "linecolor": "#506784",
             "minorgridcolor": "#506784",
             "startlinecolor": "#A2B1C6"
            },
            "baxis": {
             "endlinecolor": "#A2B1C6",
             "gridcolor": "#506784",
             "linecolor": "#506784",
             "minorgridcolor": "#506784",
             "startlinecolor": "#A2B1C6"
            },
            "type": "carpet"
           }
          ],
          "table": [
           {
            "cells": {
             "fill": {
              "color": "#506784"
             },
             "line": {
              "color": "rgb(17,17,17)"
             }
            },
            "header": {
             "fill": {
              "color": "#2a3f5f"
             },
             "line": {
              "color": "rgb(17,17,17)"
             }
            },
            "type": "table"
           }
          ],
          "barpolar": [
           {
            "marker": {
             "line": {
              "color": "rgb(17,17,17)",
              "width": 0.5
             },
             "pattern": {
              "fillmode": "overlay",
              "size": 10,
              "solidity": 0.2
             }
            },
            "type": "barpolar"
           }
          ],
          "pie": [
           {
            "automargin": true,
            "type": "pie"
           }
          ]
         },
         "layout": {
          "autotypenumbers": "strict",
          "colorway": [
           "#636efa",
           "#EF553B",
           "#00cc96",
           "#ab63fa",
           "#FFA15A",
           "#19d3f3",
           "#FF6692",
           "#B6E880",
           "#FF97FF",
           "#FECB52"
          ],
          "font": {
           "color": "#f2f5fa"
          },
          "hovermode": "closest",
          "hoverlabel": {
           "align": "left"
          },
          "paper_bgcolor": "rgb(17,17,17)",
          "plot_bgcolor": "rgb(17,17,17)",
          "polar": {
           "bgcolor": "rgb(17,17,17)",
           "angularaxis": {
            "gridcolor": "#506784",
            "linecolor": "#506784",
            "ticks": ""
           },
           "radialaxis": {
            "gridcolor": "#506784",
            "linecolor": "#506784",
            "ticks": ""
           }
          },
          "ternary": {
           "bgcolor": "rgb(17,17,17)",
           "aaxis": {
            "gridcolor": "#506784",
            "linecolor": "#506784",
            "ticks": ""
           },
           "baxis": {
            "gridcolor": "#506784",
            "linecolor": "#506784",
            "ticks": ""
           },
           "caxis": {
            "gridcolor": "#506784",
            "linecolor": "#506784",
            "ticks": ""
           }
          },
          "coloraxis": {
           "colorbar": {
            "outlinewidth": 0,
            "ticks": ""
           }
          },
          "colorscale": {
           "sequential": [
            [
             0.0,
             "#0d0887"
            ],
            [
             0.1111111111111111,
             "#46039f"
            ],
            [
             0.2222222222222222,
             "#7201a8"
            ],
            [
             0.3333333333333333,
             "#9c179e"
            ],
            [
             0.4444444444444444,
             "#bd3786"
            ],
            [
             0.5555555555555556,
             "#d8576b"
            ],
            [
             0.6666666666666666,
             "#ed7953"
            ],
            [
             0.7777777777777778,
             "#fb9f3a"
            ],
            [
             0.8888888888888888,
             "#fdca26"
            ],
            [
             1.0,
             "#f0f921"
            ]
           ],
           "sequentialminus": [
            [
             0.0,
             "#0d0887"
            ],
            [
             0.1111111111111111,
             "#46039f"
            ],
            [
             0.2222222222222222,
             "#7201a8"
            ],
            [
             0.3333333333333333,
             "#9c179e"
            ],
            [
             0.4444444444444444,
             "#bd3786"
            ],
            [
             0.5555555555555556,
             "#d8576b"
            ],
            [
             0.6666666666666666,
             "#ed7953"
            ],
            [
             0.7777777777777778,
             "#fb9f3a"
            ],
            [
             0.8888888888888888,
             "#fdca26"
            ],
            [
             1.0,
             "#f0f921"
            ]
           ],
           "diverging": [
            [
             0,
             "#8e0152"
            ],
            [
             0.1,
             "#c51b7d"
            ],
            [
             0.2,
             "#de77ae"
            ],
            [
             0.3,
             "#f1b6da"
            ],
            [
             0.4,
             "#fde0ef"
            ],
            [
             0.5,
             "#f7f7f7"
            ],
            [
             0.6,
             "#e6f5d0"
            ],
            [
             0.7,
             "#b8e186"
            ],
            [
             0.8,
             "#7fbc41"
            ],
            [
             0.9,
             "#4d9221"
            ],
            [
             1,
             "#276419"
            ]
           ]
          },
          "xaxis": {
           "gridcolor": "#283442",
           "linecolor": "#506784",
           "ticks": "",
           "title": {
            "standoff": 15
           },
           "zerolinecolor": "#283442",
           "automargin": true,
           "zerolinewidth": 2
          },
          "yaxis": {
           "gridcolor": "#283442",
           "linecolor": "#506784",
           "ticks": "",
           "title": {
            "standoff": 15
           },
           "zerolinecolor": "#283442",
           "automargin": true,
           "zerolinewidth": 2
          },
          "scene": {
           "xaxis": {
            "backgroundcolor": "rgb(17,17,17)",
            "gridcolor": "#506784",
            "linecolor": "#506784",
            "showbackground": true,
            "ticks": "",
            "zerolinecolor": "#C8D4E3",
            "gridwidth": 2
           },
           "yaxis": {
            "backgroundcolor": "rgb(17,17,17)",
            "gridcolor": "#506784",
            "linecolor": "#506784",
            "showbackground": true,
            "ticks": "",
            "zerolinecolor": "#C8D4E3",
            "gridwidth": 2
           },
           "zaxis": {
            "backgroundcolor": "rgb(17,17,17)",
            "gridcolor": "#506784",
            "linecolor": "#506784",
            "showbackground": true,
            "ticks": "",
            "zerolinecolor": "#C8D4E3",
            "gridwidth": 2
           }
          },
          "shapedefaults": {
           "line": {
            "color": "#f2f5fa"
           }
          },
          "annotationdefaults": {
           "arrowcolor": "#f2f5fa",
           "arrowhead": 0,
           "arrowwidth": 1
          },
          "geo": {
           "bgcolor": "rgb(17,17,17)",
           "landcolor": "rgb(17,17,17)",
           "subunitcolor": "#506784",
           "showland": true,
           "showlakes": true,
           "lakecolor": "rgb(17,17,17)"
          },
          "title": {
           "x": 0.05
          },
          "updatemenudefaults": {
           "bgcolor": "#506784",
           "borderwidth": 0
          },
          "sliderdefaults": {
           "bgcolor": "#C8D4E3",
           "borderwidth": 1,
           "bordercolor": "rgb(17,17,17)",
           "tickwidth": 0
          },
          "mapbox": {
           "style": "dark"
          }
         }
        },
        "xaxis": {
         "title": {
          "text": "Year"
         }
        },
        "yaxis": {
         "title": {
          "text": "Annual Solar Generation (MWh)"
         }
        },
        "font": {
         "color": "black"
        },
        "paper_bgcolor": "rgba(0,0,0,0)",
        "plot_bgcolor": "rgba(0,0,0,0)",
        "title": {
         "text": "Increase in Annual Solar Generation from 2016 - 2022 by ISO"
        },
        "height": 1000,
        "width": 1400
       },
       "config": {
        "plotlyServerURL": "https://plot.ly"
       }
      },
      "text/html": "<div>                            <div id=\"da91052c-70d0-4bb0-8ced-511d91bf4583\" class=\"plotly-graph-div\" style=\"height:1000px; width:1400px;\"></div>            <script type=\"text/javascript\">                require([\"plotly\"], function(Plotly) {                    window.PLOTLYENV=window.PLOTLYENV || {};                                    if (document.getElementById(\"da91052c-70d0-4bb0-8ced-511d91bf4583\")) {                    Plotly.newPlot(                        \"da91052c-70d0-4bb0-8ced-511d91bf4583\",                        [{\"marker\":{\"color\":\"#16FF32\"},\"name\":\"CAISO\",\"x\":[2016,2017,2018,2019,2020,2021,2022],\"y\":[0.0,4615202.0,7055243.0,7883952.499854624,9710171.083337817,13648188.499988526,16863429.599996403],\"type\":\"scatter\"},{\"marker\":{\"color\":\"#FD3216\"},\"name\":\"ERCOT\",\"x\":[2016,2017,2018,2019,2020,2021,2022],\"y\":[0.0,355307.2560278,600906.8403551499,890310.0470092001,1978097.4470092002,3718760.7970092,5838812.4470092],\"type\":\"scatter\"},{\"marker\":{\"color\":\"#FEAF16\"},\"name\":\"PJM\",\"x\":[2016,2017,2018,2019,2020,2021,2022],\"y\":[0.0,538417.3,1083460.9,1855245.3,2887130.3,5343834.600000001,6604966.0],\"type\":\"scatter\"},{\"marker\":{\"color\":\"#3283FE\"},\"name\":\"ISONE\",\"x\":[2016,2017,2018,2019,2020,2021,2022],\"y\":[0.0,233263.59699999995,574333.863,1005590.8239999999,1416719.642,1993413.1719999998,2917463.372],\"type\":\"scatter\"}],                        {\"template\":{\"data\":{\"histogram2dcontour\":[{\"type\":\"histogram2dcontour\",\"colorbar\":{\"outlinewidth\":0,\"ticks\":\"\"},\"colorscale\":[[0.0,\"#0d0887\"],[0.1111111111111111,\"#46039f\"],[0.2222222222222222,\"#7201a8\"],[0.3333333333333333,\"#9c179e\"],[0.4444444444444444,\"#bd3786\"],[0.5555555555555556,\"#d8576b\"],[0.6666666666666666,\"#ed7953\"],[0.7777777777777778,\"#fb9f3a\"],[0.8888888888888888,\"#fdca26\"],[1.0,\"#f0f921\"]]}],\"choropleth\":[{\"type\":\"choropleth\",\"colorbar\":{\"outlinewidth\":0,\"ticks\":\"\"}}],\"histogram2d\":[{\"type\":\"histogram2d\",\"colorbar\":{\"outlinewidth\":0,\"ticks\":\"\"},\"colorscale\":[[0.0,\"#0d0887\"],[0.1111111111111111,\"#46039f\"],[0.2222222222222222,\"#7201a8\"],[0.3333333333333333,\"#9c179e\"],[0.4444444444444444,\"#bd3786\"],[0.5555555555555556,\"#d8576b\"],[0.6666666666666666,\"#ed7953\"],[0.7777777777777778,\"#fb9f3a\"],[0.8888888888888888,\"#fdca26\"],[1.0,\"#f0f921\"]]}],\"heatmap\":[{\"type\":\"heatmap\",\"colorbar\":{\"outlinewidth\":0,\"ticks\":\"\"},\"colorscale\":[[0.0,\"#0d0887\"],[0.1111111111111111,\"#46039f\"],[0.2222222222222222,\"#7201a8\"],[0.3333333333333333,\"#9c179e\"],[0.4444444444444444,\"#bd3786\"],[0.5555555555555556,\"#d8576b\"],[0.6666666666666666,\"#ed7953\"],[0.7777777777777778,\"#fb9f3a\"],[0.8888888888888888,\"#fdca26\"],[1.0,\"#f0f921\"]]}],\"heatmapgl\":[{\"type\":\"heatmapgl\",\"colorbar\":{\"outlinewidth\":0,\"ticks\":\"\"},\"colorscale\":[[0.0,\"#0d0887\"],[0.1111111111111111,\"#46039f\"],[0.2222222222222222,\"#7201a8\"],[0.3333333333333333,\"#9c179e\"],[0.4444444444444444,\"#bd3786\"],[0.5555555555555556,\"#d8576b\"],[0.6666666666666666,\"#ed7953\"],[0.7777777777777778,\"#fb9f3a\"],[0.8888888888888888,\"#fdca26\"],[1.0,\"#f0f921\"]]}],\"contourcarpet\":[{\"type\":\"contourcarpet\",\"colorbar\":{\"outlinewidth\":0,\"ticks\":\"\"}}],\"contour\":[{\"type\":\"contour\",\"colorbar\":{\"outlinewidth\":0,\"ticks\":\"\"},\"colorscale\":[[0.0,\"#0d0887\"],[0.1111111111111111,\"#46039f\"],[0.2222222222222222,\"#7201a8\"],[0.3333333333333333,\"#9c179e\"],[0.4444444444444444,\"#bd3786\"],[0.5555555555555556,\"#d8576b\"],[0.6666666666666666,\"#ed7953\"],[0.7777777777777778,\"#fb9f3a\"],[0.8888888888888888,\"#fdca26\"],[1.0,\"#f0f921\"]]}],\"surface\":[{\"type\":\"surface\",\"colorbar\":{\"outlinewidth\":0,\"ticks\":\"\"},\"colorscale\":[[0.0,\"#0d0887\"],[0.1111111111111111,\"#46039f\"],[0.2222222222222222,\"#7201a8\"],[0.3333333333333333,\"#9c179e\"],[0.4444444444444444,\"#bd3786\"],[0.5555555555555556,\"#d8576b\"],[0.6666666666666666,\"#ed7953\"],[0.7777777777777778,\"#fb9f3a\"],[0.8888888888888888,\"#fdca26\"],[1.0,\"#f0f921\"]]}],\"mesh3d\":[{\"type\":\"mesh3d\",\"colorbar\":{\"outlinewidth\":0,\"ticks\":\"\"}}],\"scatter\":[{\"marker\":{\"line\":{\"color\":\"#283442\"}},\"type\":\"scatter\"}],\"parcoords\":[{\"type\":\"parcoords\",\"line\":{\"colorbar\":{\"outlinewidth\":0,\"ticks\":\"\"}}}],\"scatterpolargl\":[{\"type\":\"scatterpolargl\",\"marker\":{\"colorbar\":{\"outlinewidth\":0,\"ticks\":\"\"}}}],\"bar\":[{\"error_x\":{\"color\":\"#f2f5fa\"},\"error_y\":{\"color\":\"#f2f5fa\"},\"marker\":{\"line\":{\"color\":\"rgb(17,17,17)\",\"width\":0.5},\"pattern\":{\"fillmode\":\"overlay\",\"size\":10,\"solidity\":0.2}},\"type\":\"bar\"}],\"scattergeo\":[{\"type\":\"scattergeo\",\"marker\":{\"colorbar\":{\"outlinewidth\":0,\"ticks\":\"\"}}}],\"scatterpolar\":[{\"type\":\"scatterpolar\",\"marker\":{\"colorbar\":{\"outlinewidth\":0,\"ticks\":\"\"}}}],\"histogram\":[{\"marker\":{\"pattern\":{\"fillmode\":\"overlay\",\"size\":10,\"solidity\":0.2}},\"type\":\"histogram\"}],\"scattergl\":[{\"marker\":{\"line\":{\"color\":\"#283442\"}},\"type\":\"scattergl\"}],\"scatter3d\":[{\"type\":\"scatter3d\",\"line\":{\"colorbar\":{\"outlinewidth\":0,\"ticks\":\"\"}},\"marker\":{\"colorbar\":{\"outlinewidth\":0,\"ticks\":\"\"}}}],\"scattermapbox\":[{\"type\":\"scattermapbox\",\"marker\":{\"colorbar\":{\"outlinewidth\":0,\"ticks\":\"\"}}}],\"scatterternary\":[{\"type\":\"scatterternary\",\"marker\":{\"colorbar\":{\"outlinewidth\":0,\"ticks\":\"\"}}}],\"scattercarpet\":[{\"type\":\"scattercarpet\",\"marker\":{\"colorbar\":{\"outlinewidth\":0,\"ticks\":\"\"}}}],\"carpet\":[{\"aaxis\":{\"endlinecolor\":\"#A2B1C6\",\"gridcolor\":\"#506784\",\"linecolor\":\"#506784\",\"minorgridcolor\":\"#506784\",\"startlinecolor\":\"#A2B1C6\"},\"baxis\":{\"endlinecolor\":\"#A2B1C6\",\"gridcolor\":\"#506784\",\"linecolor\":\"#506784\",\"minorgridcolor\":\"#506784\",\"startlinecolor\":\"#A2B1C6\"},\"type\":\"carpet\"}],\"table\":[{\"cells\":{\"fill\":{\"color\":\"#506784\"},\"line\":{\"color\":\"rgb(17,17,17)\"}},\"header\":{\"fill\":{\"color\":\"#2a3f5f\"},\"line\":{\"color\":\"rgb(17,17,17)\"}},\"type\":\"table\"}],\"barpolar\":[{\"marker\":{\"line\":{\"color\":\"rgb(17,17,17)\",\"width\":0.5},\"pattern\":{\"fillmode\":\"overlay\",\"size\":10,\"solidity\":0.2}},\"type\":\"barpolar\"}],\"pie\":[{\"automargin\":true,\"type\":\"pie\"}]},\"layout\":{\"autotypenumbers\":\"strict\",\"colorway\":[\"#636efa\",\"#EF553B\",\"#00cc96\",\"#ab63fa\",\"#FFA15A\",\"#19d3f3\",\"#FF6692\",\"#B6E880\",\"#FF97FF\",\"#FECB52\"],\"font\":{\"color\":\"#f2f5fa\"},\"hovermode\":\"closest\",\"hoverlabel\":{\"align\":\"left\"},\"paper_bgcolor\":\"rgb(17,17,17)\",\"plot_bgcolor\":\"rgb(17,17,17)\",\"polar\":{\"bgcolor\":\"rgb(17,17,17)\",\"angularaxis\":{\"gridcolor\":\"#506784\",\"linecolor\":\"#506784\",\"ticks\":\"\"},\"radialaxis\":{\"gridcolor\":\"#506784\",\"linecolor\":\"#506784\",\"ticks\":\"\"}},\"ternary\":{\"bgcolor\":\"rgb(17,17,17)\",\"aaxis\":{\"gridcolor\":\"#506784\",\"linecolor\":\"#506784\",\"ticks\":\"\"},\"baxis\":{\"gridcolor\":\"#506784\",\"linecolor\":\"#506784\",\"ticks\":\"\"},\"caxis\":{\"gridcolor\":\"#506784\",\"linecolor\":\"#506784\",\"ticks\":\"\"}},\"coloraxis\":{\"colorbar\":{\"outlinewidth\":0,\"ticks\":\"\"}},\"colorscale\":{\"sequential\":[[0.0,\"#0d0887\"],[0.1111111111111111,\"#46039f\"],[0.2222222222222222,\"#7201a8\"],[0.3333333333333333,\"#9c179e\"],[0.4444444444444444,\"#bd3786\"],[0.5555555555555556,\"#d8576b\"],[0.6666666666666666,\"#ed7953\"],[0.7777777777777778,\"#fb9f3a\"],[0.8888888888888888,\"#fdca26\"],[1.0,\"#f0f921\"]],\"sequentialminus\":[[0.0,\"#0d0887\"],[0.1111111111111111,\"#46039f\"],[0.2222222222222222,\"#7201a8\"],[0.3333333333333333,\"#9c179e\"],[0.4444444444444444,\"#bd3786\"],[0.5555555555555556,\"#d8576b\"],[0.6666666666666666,\"#ed7953\"],[0.7777777777777778,\"#fb9f3a\"],[0.8888888888888888,\"#fdca26\"],[1.0,\"#f0f921\"]],\"diverging\":[[0,\"#8e0152\"],[0.1,\"#c51b7d\"],[0.2,\"#de77ae\"],[0.3,\"#f1b6da\"],[0.4,\"#fde0ef\"],[0.5,\"#f7f7f7\"],[0.6,\"#e6f5d0\"],[0.7,\"#b8e186\"],[0.8,\"#7fbc41\"],[0.9,\"#4d9221\"],[1,\"#276419\"]]},\"xaxis\":{\"gridcolor\":\"#283442\",\"linecolor\":\"#506784\",\"ticks\":\"\",\"title\":{\"standoff\":15},\"zerolinecolor\":\"#283442\",\"automargin\":true,\"zerolinewidth\":2},\"yaxis\":{\"gridcolor\":\"#283442\",\"linecolor\":\"#506784\",\"ticks\":\"\",\"title\":{\"standoff\":15},\"zerolinecolor\":\"#283442\",\"automargin\":true,\"zerolinewidth\":2},\"scene\":{\"xaxis\":{\"backgroundcolor\":\"rgb(17,17,17)\",\"gridcolor\":\"#506784\",\"linecolor\":\"#506784\",\"showbackground\":true,\"ticks\":\"\",\"zerolinecolor\":\"#C8D4E3\",\"gridwidth\":2},\"yaxis\":{\"backgroundcolor\":\"rgb(17,17,17)\",\"gridcolor\":\"#506784\",\"linecolor\":\"#506784\",\"showbackground\":true,\"ticks\":\"\",\"zerolinecolor\":\"#C8D4E3\",\"gridwidth\":2},\"zaxis\":{\"backgroundcolor\":\"rgb(17,17,17)\",\"gridcolor\":\"#506784\",\"linecolor\":\"#506784\",\"showbackground\":true,\"ticks\":\"\",\"zerolinecolor\":\"#C8D4E3\",\"gridwidth\":2}},\"shapedefaults\":{\"line\":{\"color\":\"#f2f5fa\"}},\"annotationdefaults\":{\"arrowcolor\":\"#f2f5fa\",\"arrowhead\":0,\"arrowwidth\":1},\"geo\":{\"bgcolor\":\"rgb(17,17,17)\",\"landcolor\":\"rgb(17,17,17)\",\"subunitcolor\":\"#506784\",\"showland\":true,\"showlakes\":true,\"lakecolor\":\"rgb(17,17,17)\"},\"title\":{\"x\":0.05},\"updatemenudefaults\":{\"bgcolor\":\"#506784\",\"borderwidth\":0},\"sliderdefaults\":{\"bgcolor\":\"#C8D4E3\",\"borderwidth\":1,\"bordercolor\":\"rgb(17,17,17)\",\"tickwidth\":0},\"mapbox\":{\"style\":\"dark\"}}},\"xaxis\":{\"title\":{\"text\":\"Year\"}},\"yaxis\":{\"title\":{\"text\":\"Annual Solar Generation (MWh)\"}},\"font\":{\"color\":\"black\"},\"paper_bgcolor\":\"rgba(0,0,0,0)\",\"plot_bgcolor\":\"rgba(0,0,0,0)\",\"title\":{\"text\":\"Increase in Annual Solar Generation from 2016 - 2022 by ISO\"},\"height\":1000,\"width\":1400},                        {\"responsive\": true}                    ).then(function(){\n                            \nvar gd = document.getElementById('da91052c-70d0-4bb0-8ced-511d91bf4583');\nvar x = new MutationObserver(function (mutations, observer) {{\n        var display = window.getComputedStyle(gd).display;\n        if (!display || display === 'none') {{\n            console.log([gd, 'removed!']);\n            Plotly.purge(gd);\n            observer.disconnect();\n        }}\n}});\n\n// Listen for the removal of the full notebook cells\nvar notebookContainer = gd.closest('#notebook-container');\nif (notebookContainer) {{\n    x.observe(notebookContainer, {childList: true});\n}}\n\n// Listen for the clearing of the current output cell\nvar outputEl = gd.closest('.output');\nif (outputEl) {{\n    x.observe(outputEl, {childList: true});\n}}\n\n                        })                };                });            </script>        </div>"
     },
     "metadata": {},
     "output_type": "display_data"
    }
   ],
   "source": [
    "fig = go.Figure()\n",
    "fig = go.Figure()\n",
    "\n",
    "iso_colors = {'CAISO': '#16FF32', 'ERCOT': '#FD3216', 'ISONE': '#3283FE', 'PJM': '#FEAF16'}\n",
    "\n",
    "for key in ling:\n",
    "\n",
    "    fig.add_trace(go.Scatter(x = ling[key][\"year\"], y = ling[key][\"diff\"], name = key, marker=dict(color = iso_colors[key])))\n",
    "fig.update_xaxes(title_text=\"Year\")\n",
    "fig.update_yaxes(title_text=\"Annual Solar Generation (MWh)\")\n",
    "\n",
    "\n",
    "fig.update_layout(paper_bgcolor = \"rgba(0,0,0,0)\",\n",
    "                  plot_bgcolor = \"rgba(0,0,0,0)\", font_color=\"black\")\n",
    "fig.update_layout(height=1000, width=1400,\n",
    "              title_text=\"Increase in Annual Solar Generation from 2016 - 2022 by ISO\")\n",
    "fig.show()\n",
    "fig.write_html(os.path.join(\"/Users/evanlipton/Downloads/new_solar.html\"))\n",
    "\n"
   ],
   "metadata": {
    "collapsed": false
   }
  },
  {
   "cell_type": "code",
   "execution_count": 14,
   "outputs": [],
   "source": [
    "# import graph_objects from plotly package\n",
    "import plotly.graph_objects as go\n",
    "\n",
    "# import make_subplots function from plotly.subplots\n",
    "# to make grid of plots\n",
    "from plotly.subplots import make_subplots\n",
    "\n",
    "def plot_makeup(ISO_dict: dict, filepath: str):\n",
    "    isos = [\"CAISO\", \"ERCOT\", \"PJM\", \"ISONE\"]\n",
    "    fig = make_subplots(\n",
    "    rows=2, cols=2,\n",
    "    subplot_titles=(isos), specs=[[{'type':'domain'}, {'type':'domain'}], [{'type':'domain'}, {'type':'domain'}]])\n",
    "    for iso in isos:\n",
    "\n",
    "        try:\n",
    "            ISO = ISO_dict[iso][[col for col in ISO_dict[iso].columns if \"gen\" in col]+[\"time_tomerge\", \"hour\" , \"month\", \"year\"]]\n",
    "        except KeyError:\n",
    "            ISO = ISO_dict[iso][[col for col in ISO_dict[iso].columns if \"gen_rt\" in col]+[\"time_tomerge\", \"hour\" , \"month\", \"year\"]]\n",
    "            ISO.columns = [col.replace(\"rt_\", \"\") for col in ISO.columns]\n",
    "        ISO = ISO[[col for col in ISO.columns if (\"landfill\" not in col) & (\"old\" not in col) & (\"refuse\" not in col) & (\"oil\" not in col) & (\"other\" not in col) & (\"multiple\" not in col) & (\"wood\" not in col) & (\"small\" not in col)]]\n",
    "        if \"gen_natural_gas\" in ISO.columns:\n",
    "            print(\"natural_gas\")\n",
    "            ISO = ISO.rename(columns={\"gen_natural_gas\":\"gen_gas\"})\n",
    "        if \"gen_storage\" in ISO.columns:\n",
    "            ISO = ISO.rename(columns={\"gen_storage\":\"gen_batteries\"})\n",
    "        if \"gen_wsl\" in ISO.columns:\n",
    "            ISO = ISO.rename(columns={\"gen_wsl\":\"gen_batteries\"})\n",
    "        if \"gen_gascc\" in ISO.columns:\n",
    "            ISO[\"gen_gas\"] = ISO[\"gen_gas\"]+ ISO[\"gen_gascc\"]\n",
    "            ISO = ISO.drop(columns=[\"gen_gascc\"])\n",
    "\n",
    "        ISO = ISO.drop_duplicates()\n",
    "        ISO = ISO.reset_index()\n",
    "        ISO = ISO[ISO[\"year\"]!=2023]\n",
    "\n",
    "        long = pd.wide_to_long(ISO, ['gen_'],i='index',j='gen_type',suffix='\\w+').rename(columns={\"gen_\": \"MWh\"})\n",
    "        grouped_long = long.groupby([\"year\", \"gen_type\"])[\"MWh\"].sum().reset_index()\n",
    "        average_gen = np.mean(grouped_long.groupby([\"year\"])[\"MWh\"].sum())\n",
    "        years_to_keep = list(np.unique(grouped_long[\"year\"])[grouped_long.groupby([\"year\"])[\"MWh\"].sum()>average_gen*.5])\n",
    "        grouped_long = grouped_long[grouped_long[\"year\"].isin(years_to_keep)]\n",
    "        year_totals = pd.DataFrame(grouped_long.groupby([\"year\"])[\"MWh\"].sum().reset_index())\n",
    "        year_avg = year_totals.mean()\n",
    "        #grouped_long = grouped_long[grouped_long[\"MWh\"]>year_avg*.01]\n",
    "        grouped_long = grouped_long[grouped_long[\"year\"] == 2022]\n",
    "        grouped_long[\"Percent\"] = grouped_long[\"MWh\"]/np.sum(grouped_long[\"MWh\"])\n",
    "\n",
    "\n",
    "        fig.add_trace(\n",
    "        go.Bar(base = grouped_long[\"Percent\"], labels =grouped_long[\"gen_type\"]), row=positions[iso][0], col=positions[iso][1])\n",
    "\n",
    "    fig.update_layout(paper_bgcolor = \"rgba(0,0,0,0)\",\n",
    "                      plot_bgcolor = \"rgba(0,0,0,0)\", font_color=\"black\")\n",
    "    fig.update_layout(height=1000, width=1400,\n",
    "                  title_text=\"Make-up of Annual Generation for 2022 by ISO\")\n",
    "    fig.update_yaxes(secondary_y=False, showgrid=False)\n",
    "    fig.update_yaxes(secondary_y=True, showgrid=True)\n",
    "\n",
    "    fig.show()\n",
    "\n",
    "    os.makedirs(f\"{filepath}\", exist_ok=True)\n",
    "    fig.write_html(os.path.join(filepath,f\"makeup_gen_new.html\"))\n",
    "    return grouped_long\n",
    "\n",
    "    #fig.add_trace(go.area(grouped_long, x=\"year\", y=\"MWh\", color=\"gen_type\",  color_discrete_sequence=plotly.colors.qualitative.Light24,\n",
    "    #labels={\n",
    "    #                 \"MWh\": \"Total Generation (MWh)\",\n",
    "     #                \"year\": \"Year\",\n",
    "     #                \"gen_type\": \"Generation Type\"\n",
    "     #            },\n",
    "      #          title=f\"Total Annual Solar Generation for {iso} from 2014 - 2022\")\n",
    "    #fig.update_layout(paper_bgcolor = \"rgba(0,0,0,0)\",\n",
    "    #              plot_bgcolor = \"rgba(0,0,0,0)\")\n",
    "    #fig.show()\n",
    "    #os.makedirs(f\"{filepath}\", exist_ok=True)\n",
    "\n",
    "    #fig.write_html(os.path.join(filepath,f\"{iso}_full_annual.html\"))"
   ],
   "metadata": {
    "collapsed": false
   }
  },
  {
   "cell_type": "code",
   "execution_count": 179,
   "outputs": [],
   "source": [
    "# import graph_objects from plotly package\n",
    "import plotly.graph_objects as go\n",
    "\n",
    "# import make_subplots function from plotly.subplots\n",
    "# to make grid of plots\n",
    "from plotly.subplots import make_subplots\n",
    "\n",
    "def plot_hourly_gen(ISO_dict: dict, filepath: str):\n",
    "    isos = [\"CAISO\", \"ERCOT\", \"PJM\", \"ISONE\"]\n",
    "    fig = make_subplots(\n",
    "    rows=2, cols=2,\n",
    "    subplot_titles=(isos),)\n",
    "    for iso in isos:\n",
    "\n",
    "        try:\n",
    "            ISO = ISO_dict[iso][[col for col in ISO_dict[iso].columns if \"gen\" in col]+[\"time_tomerge\", \"hour\" , \"month\", \"year\"]]\n",
    "        except KeyError:\n",
    "            ISO = ISO_dict[iso][[col for col in ISO_dict[iso].columns if \"gen_rt\" in col]+[\"time_tomerge\", \"hour\" , \"month\", \"year\"]]\n",
    "            ISO.columns = [col.replace(\"rt_\", \"\") for col in ISO.columns]\n",
    "\n",
    "        ISO = ISO[[col for col in ISO.columns if (\"landfill\" not in col) & (\"old\" not in col) & (\"refuse\" not in col) & (\"oil\" not in col) & (\"other\" not in col) & (\"multiple\" not in col) & (\"wood\" not in col) & (\"small\" not in col)]]\n",
    "        if \"gen_natural_gas\" in ISO.columns:\n",
    "            print(\"natural_gas\")\n",
    "            ISO = ISO.rename(columns={\"gen_natural_gas\":\"gen_gas\"})\n",
    "        if \"gen_storage\" in ISO.columns:\n",
    "            ISO = ISO.rename(columns={\"gen_storage\":\"gen_batteries\"})\n",
    "        if \"gen_wsl\" in ISO.columns:\n",
    "            ISO = ISO.rename(columns={\"gen_wsl\":\"gen_batteries\"})\n",
    "        if \"gen_gascc\" in ISO.columns:\n",
    "            ISO[\"gen_gas\"] = ISO[\"gen_gas\"]+ ISO[\"gen_gascc\"]\n",
    "            ISO = ISO.drop(columns=[\"gen_gascc\"])\n",
    "        ISO = ISO.drop_duplicates()\n",
    "        ISO = ISO.reset_index()\n",
    "        ISO = ISO[ISO[\"year\"]!=2023]\n",
    "\n",
    "        long = pd.wide_to_long(ISO, ['gen_'],i='index',j='gen_type',suffix='\\w+').rename(columns={\"gen_\": \"MWh\"})\n",
    "        long = long[long[\"year\"]==2022]\n",
    "        grouped_long = long.groupby([\"hour\", \"gen_type\"])[\"MWh\"].mean().reset_index()\n",
    "        #average_gen = np.mean(grouped_long.groupby([\"year\"])[\"MWh\"].sum())\n",
    "        #years_to_keep = list(np.unique(grouped_long[\"year\"])[grouped_long.groupby([\"year\"])[\"MWh\"].sum()>average_gen*.5])\n",
    "        #grouped_long = grouped_long[grouped_long[\"year\"].isin(years_to_keep)]\n",
    "        #year_totals = pd.DataFrame(grouped_long.groupby([\"year\"])[\"MWh\"].sum().reset_index())\n",
    "        #year_avg = year_totals.mean()\n",
    "       # print(year_totals)\n",
    "        #grouped_long = grouped_long[grouped_long[\"MWh\"]>year_avg*.01]\n",
    "        print(grouped_long)\n",
    "\n",
    "        for i, gen_type in enumerate(np.unique(grouped_long[\"gen_type\"])):\n",
    "            if gen_type != \"solar\":\n",
    "                fig.add_trace(\n",
    "                go.Scatter(x=grouped_long[\"hour\"][grouped_long[\"gen_type\"] == gen_type], y=grouped_long[\"MWh\"][grouped_long[\"gen_type\"] == gen_type], stackgroup = \"one\", name = gen_type, line = dict(color=colors[gen_type])),\n",
    "                row=positions[iso][0], col=positions[iso][1])\n",
    "        gen_type = \"solar\"\n",
    "\n",
    "        fig.add_trace(\n",
    "        go.Scatter(x=grouped_long[\"hour\"][grouped_long[\"gen_type\"] == gen_type], y=grouped_long[\"MWh\"][grouped_long[\"gen_type\"] == gen_type], stackgroup = \"one\", name = gen_type, line = dict(color=colors[gen_type])),\n",
    "        row=positions[iso][0], col=positions[iso][1])\n",
    "\n",
    "\n",
    "\n",
    "\n",
    "\n",
    "        fig.update_xaxes(title_text=\"Hour\", row=positions[iso][0], col=positions[iso][1])\n",
    "        fig.update_yaxes(title_text=\"Generation (MWh)\", row=positions[iso][0], col=positions[iso][1])\n",
    "\n",
    "    fig.update_layout(paper_bgcolor = \"rgba(0,0,0,0)\",\n",
    "                      plot_bgcolor = \"rgba(0,0,0,0)\", font_color=\"black\")\n",
    "    fig.update_layout(height=1000, width=1400,\n",
    "                  title_text=\"Average Hourly Generation Profile from 2022 by ISO\")\n",
    "\n",
    "    fig.show()\n",
    "\n",
    "    os.makedirs(f\"{filepath}\", exist_ok=True)\n",
    "    fig.write_html(os.path.join(filepath,f\"hourly_gen_profile_new.html\"))\n",
    "    return grouped_long\n",
    "\n",
    "    #fig.add_trace(go.area(grouped_long, x=\"year\", y=\"MWh\", color=\"gen_type\",  color_discrete_sequence=plotly.colors.qualitative.Light24,\n",
    "    #labels={\n",
    "    #                 \"MWh\": \"Total Generation (MWh)\",\n",
    "     #                \"year\": \"Year\",\n",
    "     #                \"gen_type\": \"Generation Type\"\n",
    "     #            },\n",
    "      #          title=f\"Total Annual Solar Generation for {iso} from 2014 - 2022\")\n",
    "    #fig.update_layout(paper_bgcolor = \"rgba(0,0,0,0)\",\n",
    "    #              plot_bgcolor = \"rgba(0,0,0,0)\")\n",
    "    #fig.show()\n",
    "    #os.makedirs(f\"{filepath}\", exist_ok=True)\n",
    "\n",
    "    #fig.write_html(os.path.join(filepath,f\"{iso}_full_annual.html\"))"
   ],
   "metadata": {
    "collapsed": false
   }
  },
  {
   "cell_type": "code",
   "execution_count": 180,
   "outputs": [
    {
     "name": "stdout",
     "output_type": "stream",
     "text": [
      "natural_gas\n",
      "     hour   gen_type          MWh\n",
      "0       0  batteries    63.528311\n",
      "1       0     biogas   201.887900\n",
      "2       0    biomass   286.917123\n",
      "3       0       coal     8.608447\n",
      "4       0        gas  9951.968493\n",
      "..    ...        ...          ...\n",
      "235    23      hydro  1741.305495\n",
      "236    23    imports  7232.293361\n",
      "237    23    nuclear  2016.324084\n",
      "238    23      solar    -9.040018\n",
      "239    23       wind  2823.091438\n",
      "\n",
      "[240 rows x 3 columns]\n",
      "     hour   gen_type          MWh\n",
      "0       0  batteries   -18.454247\n",
      "1       0    biomass    15.916233\n",
      "2       0       coal  1916.620685\n",
      "3       0        gas  4319.820342\n",
      "4       0      hydro     6.254863\n",
      "..    ...        ...          ...\n",
      "187    23        gas  4823.540479\n",
      "188    23      hydro     3.241849\n",
      "189    23    nuclear  1188.888288\n",
      "190    23      solar     0.011507\n",
      "191    23       wind  3681.777534\n",
      "\n",
      "[192 rows x 3 columns]\n",
      "     hour   gen_type           MWh\n",
      "0       0  batteries      0.000000\n",
      "1       0       coal  19149.902210\n",
      "2       0        gas  36007.177072\n",
      "3       0      hydro    827.853039\n",
      "4       0    nuclear  31009.372376\n",
      "..    ...        ...           ...\n",
      "163    23        gas  38733.857851\n",
      "164    23      hydro   1007.629752\n",
      "165    23    nuclear  31019.181818\n",
      "166    23      solar     11.106336\n",
      "167    23       wind   3920.053994\n",
      "\n",
      "[168 rows x 3 columns]\n",
      "     hour gen_type          MWh\n",
      "0       0     coal    41.710303\n",
      "1       0      gas  4622.362620\n",
      "2       0    hydro   611.072057\n",
      "3       0  nuclear  3115.786644\n",
      "4       0    solar          NaN\n",
      "..    ...      ...          ...\n",
      "139    23      gas  4916.343915\n",
      "140    23    hydro   636.431825\n",
      "141    23  nuclear  3115.381782\n",
      "142    23    solar          NaN\n",
      "143    23     wind   492.909545\n",
      "\n",
      "[144 rows x 3 columns]\n"
     ]
    },
    {
     "data": {
      "application/vnd.plotly.v1+json": {
       "data": [
        {
         "line": {
          "color": "#FF97FF"
         },
         "name": "batteries",
         "stackgroup": "one",
         "x": [
          0,
          1,
          2,
          3,
          4,
          5,
          6,
          7,
          8,
          9,
          10,
          11,
          12,
          13,
          14,
          15,
          16,
          17,
          18,
          19,
          20,
          21,
          22,
          23
         ],
         "y": [
          63.528310503295884,
          -30.811126373629122,
          -151.05296803612603,
          -223.18812785290413,
          -133.51095890241095,
          40.17442922081918,
          211.03858447284657,
          134.31415524868493,
          -214.8223744159178,
          -543.6157534344767,
          -664.3577625677068,
          -685.0926940674602,
          -559.8977168926575,
          -364.45547945308493,
          -164.99041095519726,
          68.56301369754247,
          273.39497716747945,
          604.4867579953041,
          1158.5547161292034,
          1363.5460164802198,
          1180.1666666912088,
          885.2838827977198,
          439.1808607994341,
          128.01767399264835
         ],
         "type": "scatter",
         "xaxis": "x",
         "yaxis": "y"
        },
        {
         "line": {
          "color": "#B6E880"
         },
         "name": "biogas",
         "stackgroup": "one",
         "x": [
          0,
          1,
          2,
          3,
          4,
          5,
          6,
          7,
          8,
          9,
          10,
          11,
          12,
          13,
          14,
          15,
          16,
          17,
          18,
          19,
          20,
          21,
          22,
          23
         ],
         "y": [
          201.88789954219178,
          202.1293498173077,
          202.3305936068493,
          202.426712330137,
          202.17214611945207,
          201.81278538767123,
          200.84452054767124,
          199.7369862989041,
          199.0440639241096,
          198.09817351479452,
          197.69703196136987,
          197.37009132547942,
          197.5244292238356,
          197.92648401863013,
          198.7561643827397,
          199.28036529643836,
          199.9237637357143,
          200.8104395598901,
          201.54990842472526,
          202.32738095576926,
          202.7532051269231,
          202.0258699631868,
          201.31227106483516,
          201.40728021978023
         ],
         "type": "scatter",
         "xaxis": "x",
         "yaxis": "y"
        },
        {
         "line": {
          "color": "#FF6692"
         },
         "name": "biomass",
         "stackgroup": "one",
         "x": [
          0,
          1,
          2,
          3,
          4,
          5,
          6,
          7,
          8,
          9,
          10,
          11,
          12,
          13,
          14,
          15,
          16,
          17,
          18,
          19,
          20,
          21,
          22,
          23
         ],
         "y": [
          286.9171232871233,
          285.385302196978,
          285.01529680136986,
          285.97351598191784,
          286.5737442942466,
          287.33401826438353,
          289.9424657539726,
          291.4015981750685,
          291.5406392679452,
          290.05479452054794,
          289.47762557232875,
          289.1940639257534,
          289.1543378991781,
          289.6420091339726,
          290.4801369882192,
          293.44315068520547,
          297.7044413906594,
          298.5785256414835,
          298.05105311346153,
          298.14217032884613,
          298.3090659337912,
          297.9175824181319,
          294.30792124725275,
          290.44537545906593
         ],
         "type": "scatter",
         "xaxis": "x",
         "yaxis": "y"
        },
        {
         "line": {
          "color": "#FECB52"
         },
         "name": "coal",
         "stackgroup": "one",
         "x": [
          0,
          1,
          2,
          3,
          4,
          5,
          6,
          7,
          8,
          9,
          10,
          11,
          12,
          13,
          14,
          15,
          16,
          17,
          18,
          19,
          20,
          21,
          22,
          23
         ],
         "y": [
          8.608447488528768,
          8.665979853381868,
          8.680593607186301,
          8.735616438271233,
          8.809589041136986,
          8.873515981646575,
          8.568721461049314,
          8.358904109583563,
          8.320547945178083,
          8.451369863060274,
          8.600684931520547,
          8.656849314947944,
          8.602739726093152,
          8.539041095942466,
          8.549315068479451,
          8.620776255641095,
          8.785159817468493,
          8.822146118827398,
          8.596611721653847,
          8.491529304076924,
          8.436584249178571,
          8.479853479598901,
          8.522664835203296,
          8.584249084392857
         ],
         "type": "scatter",
         "xaxis": "x",
         "yaxis": "y"
        },
        {
         "line": {
          "color": "#636EFA"
         },
         "name": "gas",
         "stackgroup": "one",
         "x": [
          0,
          1,
          2,
          3,
          4,
          5,
          6,
          7,
          8,
          9,
          10,
          11,
          12,
          13,
          14,
          15,
          16,
          17,
          18,
          19,
          20,
          21,
          22,
          23
         ],
         "y": [
          9951.96849309315,
          9338.55114158904,
          8961.505022816438,
          8761.020547947946,
          8716.78219169041,
          8902.460045558904,
          9201.238584430137,
          8999.607305953425,
          8304.157305879453,
          7521.087442906849,
          7190.308447561644,
          7175.554109558904,
          7241.1986302520545,
          7384.549086810958,
          7703.914155306849,
          8214.976255676713,
          9268.214611816438,
          10799.541095747945,
          12294.768314906592,
          13050.493818719779,
          12852.097527480768,
          12360.062957846152,
          11677.947115269231,
          10766.446108107142
         ],
         "type": "scatter",
         "xaxis": "x",
         "yaxis": "y"
        },
        {
         "line": {
          "color": "#19D3F3"
         },
         "name": "hydro",
         "stackgroup": "one",
         "x": [
          0,
          1,
          2,
          3,
          4,
          5,
          6,
          7,
          8,
          9,
          10,
          11,
          12,
          13,
          14,
          15,
          16,
          17,
          18,
          19,
          20,
          21,
          22,
          23
         ],
         "y": [
          1477.5301369948766,
          1294.3919413897802,
          1197.6479451836437,
          1147.2047945382383,
          1166.6568493264192,
          1350.2191780754247,
          1608.8853881467398,
          1499.8785387942467,
          1133.995890422822,
          876.8107305954054,
          770.7285388110603,
          712.2481735133698,
          745.2835616517177,
          813.3054794589233,
          946.845890418348,
          1125.7212328580822,
          1414.755494506401,
          2002.1561355255492,
          2628.7838828049453,
          2897.6440018434064,
          2810.00343406511,
          2540.222298553022,
          2112.614239925824,
          1741.305494517033
         ],
         "type": "scatter",
         "xaxis": "x",
         "yaxis": "y"
        },
        {
         "line": {
          "color": "#EF553B"
         },
         "name": "imports",
         "stackgroup": "one",
         "x": [
          0,
          1,
          2,
          3,
          4,
          5,
          6,
          7,
          8,
          9,
          10,
          11,
          12,
          13,
          14,
          15,
          16,
          17,
          18,
          19,
          20,
          21,
          22,
          23
         ],
         "y": [
          7013.753424665753,
          6927.633699667583,
          6886.901826487671,
          6850.09155249863,
          6795.378538810959,
          6800.409132430137,
          6737.820319649316,
          6122.8719178328765,
          4712.897945227754,
          3319.7301369958086,
          2459.0267123319727,
          1989.2968036485013,
          1674.6388127884384,
          1564.4438356033615,
          1562.4984018293892,
          1801.6303652898357,
          2468.6749084430576,
          4041.25366298717,
          5781.108516481594,
          6746.592719717033,
          7044.745650107144,
          7187.369505508242,
          7315.452380923077,
          7232.293360821428
         ],
         "type": "scatter",
         "xaxis": "x",
         "yaxis": "y"
        },
        {
         "line": {
          "color": "#FFA15A"
         },
         "name": "nuclear",
         "stackgroup": "one",
         "x": [
          0,
          1,
          2,
          3,
          4,
          5,
          6,
          7,
          8,
          9,
          10,
          11,
          12,
          13,
          14,
          15,
          16,
          17,
          18,
          19,
          20,
          21,
          22,
          23
         ],
         "y": [
          2017.1301369945206,
          2019.8205128406594,
          2017.422146117808,
          2017.5751141589042,
          2017.738127841096,
          2018.000456619178,
          2018.1589040876713,
          2018.259817350685,
          2018.376940638356,
          2018.6956621123286,
          2018.4821917835616,
          2018.257534221918,
          2018.164383561644,
          2017.4289954082192,
          2016.2986301397261,
          2015.7422374383561,
          2014.564789381868,
          2014.0164835137361,
          2014.099358967033,
          2014.5393772829668,
          2014.7229853681317,
          2015.0945512664834,
          2015.8811813214286,
          2016.32408425
         ],
         "type": "scatter",
         "xaxis": "x",
         "yaxis": "y"
        },
        {
         "line": {
          "color": "#AB63FA"
         },
         "name": "wind",
         "stackgroup": "one",
         "x": [
          0,
          1,
          2,
          3,
          4,
          5,
          6,
          7,
          8,
          9,
          10,
          11,
          12,
          13,
          14,
          15,
          16,
          17,
          18,
          19,
          20,
          21,
          22,
          23
         ],
         "y": [
          2788.3022830860273,
          2735.4329212467032,
          2690.23287671863,
          2612.7630136961643,
          2500.7178082063015,
          2385.377397245479,
          2265.174657539178,
          2149.482876710685,
          2044.6582191838356,
          1965.8755707821917,
          1928.2331050249313,
          1948.3095890484933,
          2015.685388120822,
          2128.32694064,
          2279.177397249315,
          2446.4716894956164,
          2597.4276556961536,
          2706.8070054986265,
          2768.9757325989012,
          2821.0718864445057,
          2888.3351648252747,
          2915.547847998901,
          2865.567994493956,
          2823.0914377337913
         ],
         "type": "scatter",
         "xaxis": "x",
         "yaxis": "y"
        },
        {
         "line": {
          "color": "#00CC96"
         },
         "name": "solar",
         "stackgroup": "one",
         "x": [
          0,
          1,
          2,
          3,
          4,
          5,
          6,
          7,
          8,
          9,
          10,
          11,
          12,
          13,
          14,
          15,
          16,
          17,
          18,
          19,
          20,
          21,
          22,
          23
         ],
         "y": [
          -20.374429223868493,
          -23.309360730347947,
          -24.359589041131507,
          -25.2652968037863,
          -26.268493150690414,
          -19.77602739719178,
          482.1205479442466,
          2924.053196325751,
          6726.075799003561,
          9665.997716980823,
          10782.100684887671,
          11054.602511268493,
          11062.402967972603,
          11007.425342463015,
          10835.194977243835,
          10386.431506920548,
          8993.702054897809,
          6045.414383582466,
          2604.160256407478,
          479.44299450596975,
          55.61469780149725,
          25.35119047621978,
          9.27884615371978,
          -9.04001831489835
         ],
         "type": "scatter",
         "xaxis": "x",
         "yaxis": "y"
        },
        {
         "line": {
          "color": "#FF97FF"
         },
         "name": "batteries",
         "stackgroup": "one",
         "x": [
          0,
          1,
          2,
          3,
          4,
          5,
          6,
          7,
          8,
          9,
          10,
          11,
          12,
          13,
          14,
          15,
          16,
          17,
          18,
          19,
          20,
          21,
          22,
          23
         ],
         "y": [
          -18.454246575342466,
          -19.932054794520546,
          -22.38082191780822,
          -27.121565934065934,
          -24.291506849315066,
          -22.153561643835616,
          -17.684794520547946,
          -14.115616438356163,
          -22.211027397260274,
          -26.722397260273972,
          -24.48061643835616,
          -22.875821917808217,
          -21.416027397260276,
          -20.34650684931507,
          -19.302054794520547,
          -18.867260273972605,
          -15.843972602739727,
          -13.972260273972603,
          -12.91445205479452,
          -11.057534246575342,
          -12.362260273972604,
          -13.911575342465754,
          -15.66890410958904,
          -17.68431506849315
         ],
         "type": "scatter",
         "xaxis": "x2",
         "yaxis": "y2"
        },
        {
         "line": {
          "color": "#FF6692"
         },
         "name": "biomass",
         "stackgroup": "one",
         "x": [
          0,
          1,
          2,
          3,
          4,
          5,
          6,
          7,
          8,
          9,
          10,
          11,
          12,
          13,
          14,
          15,
          16,
          17,
          18,
          19,
          20,
          21,
          22,
          23
         ],
         "y": [
          15.916232876712328,
          15.061095890410959,
          14.827328767123289,
          14.805494505494504,
          14.830205479452054,
          15.104794520547944,
          15.504109589041096,
          15.861849315068493,
          16.15013698630137,
          16.614109589041096,
          17.15678082191781,
          17.829931506849316,
          18.54349315068493,
          19.09417808219178,
          19.541986301369864,
          19.953150684931504,
          20.307671232876714,
          20.728904109589042,
          20.959657534246574,
          21.02568493150685,
          20.723287671232878,
          19.769178082191782,
          18.591438356164385,
          17.421438356164384
         ],
         "type": "scatter",
         "xaxis": "x2",
         "yaxis": "y2"
        },
        {
         "line": {
          "color": "#FECB52"
         },
         "name": "coal",
         "stackgroup": "one",
         "x": [
          0,
          1,
          2,
          3,
          4,
          5,
          6,
          7,
          8,
          9,
          10,
          11,
          12,
          13,
          14,
          15,
          16,
          17,
          18,
          19,
          20,
          21,
          22,
          23
         ],
         "y": [
          1916.620684931507,
          1822.7346575342467,
          1766.1482876712328,
          1753.2372252747252,
          1772.418287671233,
          1823.9159589041094,
          1901.2455479452055,
          1995.1420547945204,
          2007.8477397260276,
          1982.4030821917809,
          1993.7421232876711,
          2031.819794520548,
          2083.372602739726,
          2124.7984246575343,
          2141.30301369863,
          2144.6064383561643,
          2158.987808219178,
          2213.383698630137,
          2291.5926712328765,
          2316.681506849315,
          2299.738698630137,
          2245.6862328767124,
          2150.4576712328767,
          2037.0618493150685
         ],
         "type": "scatter",
         "xaxis": "x2",
         "yaxis": "y2"
        },
        {
         "line": {
          "color": "#636EFA"
         },
         "name": "gas",
         "stackgroup": "one",
         "x": [
          0,
          1,
          2,
          3,
          4,
          5,
          6,
          7,
          8,
          9,
          10,
          11,
          12,
          13,
          14,
          15,
          16,
          17,
          18,
          19,
          20,
          21,
          22,
          23
         ],
         "y": [
          4319.820342465753,
          4017.0874657534246,
          3855.5106849315066,
          3804.724793956044,
          3854.315616438356,
          4084.4513013698634,
          4520.303767123288,
          4795.492808219178,
          4746.815616438356,
          4641.696301369862,
          4840.699657534246,
          5144.839726027397,
          5467.662260273973,
          5758.2954109589045,
          5975.087465753424,
          6117.31191780822,
          6288.080821917808,
          6523.02897260274,
          6697.357808219178,
          6722.441643835617,
          6623.3721232876715,
          6204.112808219177,
          5511.252397260274,
          4823.540479452055
         ],
         "type": "scatter",
         "xaxis": "x2",
         "yaxis": "y2"
        },
        {
         "line": {
          "color": "#19D3F3"
         },
         "name": "hydro",
         "stackgroup": "one",
         "x": [
          0,
          1,
          2,
          3,
          4,
          5,
          6,
          7,
          8,
          9,
          10,
          11,
          12,
          13,
          14,
          15,
          16,
          17,
          18,
          19,
          20,
          21,
          22,
          23
         ],
         "y": [
          6.25486301369863,
          8.906849315068493,
          8.736575342465754,
          7.250618131868132,
          6.6808219178082195,
          6.981917808219178,
          8.574452054794522,
          10.835753424657534,
          12.159520547945206,
          12.056712328767123,
          12.571575342465753,
          11.964109589041096,
          10.762671232876713,
          10.216643835616438,
          10.185342465753426,
          13.238287671232877,
          14.747945205479452,
          14.955,
          14.44095890410959,
          11.961438356164384,
          8.362260273972602,
          6.245821917808219,
          4.138287671232876,
          3.2418493150684933
         ],
         "type": "scatter",
         "xaxis": "x2",
         "yaxis": "y2"
        },
        {
         "line": {
          "color": "#FFA15A"
         },
         "name": "nuclear",
         "stackgroup": "one",
         "x": [
          0,
          1,
          2,
          3,
          4,
          5,
          6,
          7,
          8,
          9,
          10,
          11,
          12,
          13,
          14,
          15,
          16,
          17,
          18,
          19,
          20,
          21,
          22,
          23
         ],
         "y": [
          1188.1159589041097,
          1188.2024657534248,
          1188.3483561643836,
          1188.2876373626375,
          1188.6749315068494,
          1188.7448630136987,
          1188.9791095890412,
          1189.183904109589,
          1189.3094520547945,
          1189.3909589041095,
          1189.1802739726027,
          1189.187397260274,
          1189.2059589041096,
          1189.0574657534246,
          1188.8286986301368,
          1188.7325342465754,
          1188.7843150684932,
          1188.8731506849315,
          1189.0149315068493,
          1189.1473287671233,
          1189.2547945205479,
          1189.067397260274,
          1188.8278082191782,
          1188.8882876712328
         ],
         "type": "scatter",
         "xaxis": "x2",
         "yaxis": "y2"
        },
        {
         "line": {
          "color": "#AB63FA"
         },
         "name": "wind",
         "stackgroup": "one",
         "x": [
          0,
          1,
          2,
          3,
          4,
          5,
          6,
          7,
          8,
          9,
          10,
          11,
          12,
          13,
          14,
          15,
          16,
          17,
          18,
          19,
          20,
          21,
          22,
          23
         ],
         "y": [
          3691.173287671233,
          3645.8313698630136,
          3573.1022602739727,
          3478.2701236263733,
          3397.1749315068496,
          3324.115821917808,
          3237.586575342466,
          3143.185821917808,
          2918.004589041096,
          2717.7993150684933,
          2642.213904109589,
          2573.3253424657532,
          2494.97301369863,
          2468.172534246575,
          2491.1805479452055,
          2563.1836301369863,
          2656.9143835616437,
          2737.2953424657535,
          2864.192260273973,
          3027.592328767123,
          3188.9607534246575,
          3376.522602739726,
          3572.848561643836,
          3681.7775342465757
         ],
         "type": "scatter",
         "xaxis": "x2",
         "yaxis": "y2"
        },
        {
         "line": {
          "color": "#00CC96"
         },
         "name": "solar",
         "stackgroup": "one",
         "x": [
          0,
          1,
          2,
          3,
          4,
          5,
          6,
          7,
          8,
          9,
          10,
          11,
          12,
          13,
          14,
          15,
          16,
          17,
          18,
          19,
          20,
          21,
          22,
          23
         ],
         "y": [
          0.013150684931506848,
          0.012876712328767123,
          0.013219178082191781,
          0.015315934065934067,
          0.015684931506849315,
          0.017123287671232876,
          0.27650684931506847,
          69.47171232876713,
          632.5387671232877,
          1361.0342465753424,
          1626.7075342465753,
          1725.934589041096,
          1762.4290410958904,
          1771.8239726027398,
          1761.4418493150686,
          1710.6291780821919,
          1573.3745890410958,
          1266.8996575342467,
          858.0624657534246,
          394.8499315068493,
          54.10726027397261,
          0.07417808219178082,
          0.007191780821917808,
          0.011506849315068493
         ],
         "type": "scatter",
         "xaxis": "x2",
         "yaxis": "y2"
        },
        {
         "line": {
          "color": "#FF97FF"
         },
         "name": "batteries",
         "stackgroup": "one",
         "x": [
          0,
          1,
          2,
          3,
          4,
          5,
          6,
          7,
          8,
          9,
          10,
          11,
          12,
          13,
          14,
          15,
          16,
          17,
          18,
          19,
          20,
          21,
          22,
          23
         ],
         "y": [
          0.0,
          0.0,
          0.0,
          0.0,
          0.0,
          0.0,
          0.0,
          0.0,
          0.0,
          0.0,
          0.0,
          0.0,
          0.0,
          0.0,
          0.0,
          0.0,
          0.0,
          0.0,
          0.0,
          0.0,
          0.0,
          0.0,
          0.0,
          0.0
         ],
         "type": "scatter",
         "xaxis": "x3",
         "yaxis": "y3"
        },
        {
         "line": {
          "color": "#FECB52"
         },
         "name": "coal",
         "stackgroup": "one",
         "x": [
          0,
          1,
          2,
          3,
          4,
          5,
          6,
          7,
          8,
          9,
          10,
          11,
          12,
          13,
          14,
          15,
          16,
          17,
          18,
          19,
          20,
          21,
          22,
          23
         ],
         "y": [
          19149.90220994475,
          18332.87988980716,
          17654.76104972376,
          17242.01329639889,
          17090.366574585634,
          17087.298347107437,
          17331.766666666666,
          17965.9955922865,
          18710.280494505492,
          19131.620604395604,
          19340.27912087912,
          19511.368956043956,
          19653.26565934066,
          19671.63598901099,
          19741.25302197802,
          19701.298076923078,
          19752.359615384616,
          19884.418131868133,
          20224.96346153846,
          20586.77664835165,
          20647.343406593405,
          20570.115934065936,
          20360.377472527474,
          19814.922314049585
         ],
         "type": "scatter",
         "xaxis": "x3",
         "yaxis": "y3"
        },
        {
         "line": {
          "color": "#636EFA"
         },
         "name": "gas",
         "stackgroup": "one",
         "x": [
          0,
          1,
          2,
          3,
          4,
          5,
          6,
          7,
          8,
          9,
          10,
          11,
          12,
          13,
          14,
          15,
          16,
          17,
          18,
          19,
          20,
          21,
          22,
          23
         ],
         "y": [
          36007.1770718232,
          33489.201101928375,
          32326.648480662985,
          31452.102216066483,
          30908.25994475138,
          31116.333884297517,
          32421.03168044077,
          34869.05123966942,
          36943.51318681319,
          37905.32445054945,
          38292.480769230766,
          38761.57747252747,
          39353.55906593407,
          39823.715934065935,
          40340.54203296704,
          40672.553846153845,
          41150.19478021978,
          41939.897802197804,
          43134.192307692305,
          43808.2793956044,
          43521.11868131868,
          42735.613186813185,
          41339.87225274725,
          38733.85785123967
         ],
         "type": "scatter",
         "xaxis": "x3",
         "yaxis": "y3"
        },
        {
         "line": {
          "color": "#19D3F3"
         },
         "name": "hydro",
         "stackgroup": "one",
         "x": [
          0,
          1,
          2,
          3,
          4,
          5,
          6,
          7,
          8,
          9,
          10,
          11,
          12,
          13,
          14,
          15,
          16,
          17,
          18,
          19,
          20,
          21,
          22,
          23
         ],
         "y": [
          827.8530386740331,
          768.3498622589532,
          741.0197513812155,
          726.4731301939058,
          732.4477900552486,
          772.5501377410469,
          964.7088154269973,
          1732.1236914600552,
          2178.34478021978,
          1923.3733516483517,
          1487.7832417582417,
          1294.923901098901,
          1263.5,
          1508.807142857143,
          1902.326923076923,
          2170.0744505494504,
          2431.1557692307692,
          2973.170879120879,
          3728.701923076923,
          3884.9953296703297,
          3684.090384615384,
          3153.0464285714284,
          1991.7752747252746,
          1007.6297520661157
         ],
         "type": "scatter",
         "xaxis": "x3",
         "yaxis": "y3"
        },
        {
         "line": {
          "color": "#FFA15A"
         },
         "name": "nuclear",
         "stackgroup": "one",
         "x": [
          0,
          1,
          2,
          3,
          4,
          5,
          6,
          7,
          8,
          9,
          10,
          11,
          12,
          13,
          14,
          15,
          16,
          17,
          18,
          19,
          20,
          21,
          22,
          23
         ],
         "y": [
          31009.37237569061,
          31088.593388429752,
          31095.43922651934,
          31105.7783933518,
          31110.251657458564,
          31109.489256198347,
          31066.020936639117,
          31073.6738292011,
          31079.940109890107,
          31084.09587912088,
          31085.706318681317,
          31073.14478021978,
          31064.77087912088,
          31054.956043956045,
          31045.204945054946,
          31036.175274725276,
          31026.61978021978,
          31020.204120879123,
          31021.974725274726,
          31032.58956043956,
          31042.274999999998,
          31047.362362637363,
          31054.784615384615,
          31019.18181818182
         ],
         "type": "scatter",
         "xaxis": "x3",
         "yaxis": "y3"
        },
        {
         "line": {
          "color": "#AB63FA"
         },
         "name": "wind",
         "stackgroup": "one",
         "x": [
          0,
          1,
          2,
          3,
          4,
          5,
          6,
          7,
          8,
          9,
          10,
          11,
          12,
          13,
          14,
          15,
          16,
          17,
          18,
          19,
          20,
          21,
          22,
          23
         ],
         "y": [
          3983.247237569061,
          3981.6787878787877,
          3960.6562154696135,
          3854.870637119114,
          3778.1734806629834,
          3712.245179063361,
          3629.620936639118,
          3597.491184573003,
          3597.469505494505,
          3538.279120879121,
          3398.931868131868,
          3335.454120879121,
          3359.966208791209,
          3468.8626373626375,
          3569.7920329670333,
          3692.2912087912086,
          3763.3057692307693,
          3767.0307692307692,
          3744.9162087912086,
          3667.8843406593405,
          3602.5777472527475,
          3632.1568681318686,
          3766.7695054945057,
          3920.0539944903585
         ],
         "type": "scatter",
         "xaxis": "x3",
         "yaxis": "y3"
        },
        {
         "line": {
          "color": "#00CC96"
         },
         "name": "solar",
         "stackgroup": "one",
         "x": [
          0,
          1,
          2,
          3,
          4,
          5,
          6,
          7,
          8,
          9,
          10,
          11,
          12,
          13,
          14,
          15,
          16,
          17,
          18,
          19,
          20,
          21,
          22,
          23
         ],
         "y": [
          10.820718232044198,
          10.768044077134986,
          10.73950276243094,
          10.60803324099723,
          10.128453038674033,
          10.615977961432506,
          10.588980716253444,
          22.669972451790635,
          301.2376373626374,
          1135.8989010989012,
          1811.2420329670329,
          2099.958241758242,
          2236.88543956044,
          2273.3304945054947,
          2244.3436813186813,
          2150.980494505495,
          1938.7846153846153,
          1522.1357142857144,
          1066.639010989011,
          573.9675824175824,
          153.910989010989,
          21.806868131868132,
          12.365934065934065,
          11.10633608815427
         ],
         "type": "scatter",
         "xaxis": "x3",
         "yaxis": "y3"
        },
        {
         "line": {
          "color": "#FECB52"
         },
         "name": "coal",
         "stackgroup": "one",
         "x": [
          0,
          1,
          2,
          3,
          4,
          5,
          6,
          7,
          8,
          9,
          10,
          11,
          12,
          13,
          14,
          15,
          16,
          17,
          18,
          19,
          20,
          21,
          22,
          23
         ],
         "y": [
          41.71030264231939,
          40.945110544984786,
          40.91275604440304,
          41.67847348812928,
          42.95055082589734,
          44.8373624318327,
          46.69374931038403,
          47.94465807387453,
          48.03803164446007,
          47.828081145022814,
          48.565657392456274,
          49.361594787768055,
          51.33318128044487,
          51.27534506762738,
          49.312013375206895,
          48.69517831742748,
          48.56999652056274,
          48.448901372551326,
          48.53558101712928,
          47.64714302307605,
          45.69865825380988,
          43.898643193129274,
          42.939432104136884,
          41.66673547518702
         ],
         "type": "scatter",
         "xaxis": "x4",
         "yaxis": "y4"
        },
        {
         "line": {
          "color": "#636EFA"
         },
         "name": "gas",
         "stackgroup": "one",
         "x": [
          0,
          1,
          2,
          3,
          4,
          5,
          6,
          7,
          8,
          9,
          10,
          11,
          12,
          13,
          14,
          15,
          16,
          17,
          18,
          19,
          20,
          21,
          22,
          23
         ],
         "y": [
          4622.362620298508,
          4484.208277229851,
          4428.51154960597,
          4499.947754122388,
          4761.526407549253,
          5308.919317122388,
          5889.007356597015,
          6156.409321208955,
          6165.2051176029845,
          6143.72291741791,
          6179.756753495522,
          6269.540746525374,
          6400.776826397016,
          6551.426202921923,
          6799.275164138554,
          7184.292111282281,
          7604.680731237237,
          7855.7828581976055,
          7871.994741449102,
          7752.556909686567,
          7351.464241656717,
          6495.827266537313,
          5581.008656014926,
          4916.34391539403
         ],
         "type": "scatter",
         "xaxis": "x4",
         "yaxis": "y4"
        },
        {
         "line": {
          "color": "#19D3F3"
         },
         "name": "hydro",
         "stackgroup": "one",
         "x": [
          0,
          1,
          2,
          3,
          4,
          5,
          6,
          7,
          8,
          9,
          10,
          11,
          12,
          13,
          14,
          15,
          16,
          17,
          18,
          19,
          20,
          21,
          22,
          23
         ],
         "y": [
          611.0720572080597,
          600.4033235650746,
          595.4969928850746,
          597.144159701194,
          621.891986456418,
          712.3149647179105,
          848.2217011453731,
          880.7700030110448,
          813.3705642277611,
          749.2644459223881,
          715.5085239740299,
          694.2493123695523,
          682.6855457638806,
          707.4521986618619,
          798.110029588253,
          962.3602800780781,
          1282.811669399099,
          1509.350393492515,
          1409.1898708146707,
          1129.8562314071642,
          845.5870747435821,
          734.4990672146268,
          675.7500073492538,
          636.4318252265672
         ],
         "type": "scatter",
         "xaxis": "x4",
         "yaxis": "y4"
        },
        {
         "line": {
          "color": "#FFA15A"
         },
         "name": "nuclear",
         "stackgroup": "one",
         "x": [
          0,
          1,
          2,
          3,
          4,
          5,
          6,
          7,
          8,
          9,
          10,
          11,
          12,
          13,
          14,
          15,
          16,
          17,
          18,
          19,
          20,
          21,
          22,
          23
         ],
         "y": [
          3115.7866444805973,
          3116.2580194298507,
          3116.7002592686567,
          3116.954341808955,
          3117.286103958209,
          3117.5671192149252,
          3117.7379278388057,
          3117.088261710448,
          3115.3059647731343,
          3113.34992961791,
          3112.5581506597014,
          3111.703457641791,
          3110.658583662687,
          3116.7060574174175,
          3112.5109961475905,
          3113.2627452702704,
          3113.9109633633634,
          3115.093463497006,
          3115.5160308383233,
          3112.751239731343,
          3112.876395991045,
          3113.6068619223884,
          3114.588588674627,
          3115.381781680597
         ],
         "type": "scatter",
         "xaxis": "x4",
         "yaxis": "y4"
        },
        {
         "line": {
          "color": "#AB63FA"
         },
         "name": "wind",
         "stackgroup": "one",
         "x": [
          0,
          1,
          2,
          3,
          4,
          5,
          6,
          7,
          8,
          9,
          10,
          11,
          12,
          13,
          14,
          15,
          16,
          17,
          18,
          19,
          20,
          21,
          22,
          23
         ],
         "y": [
          487.1984082191781,
          477.5055589041096,
          469.54272252747256,
          465.80974794520546,
          460.9440821917808,
          457.74033972602734,
          454.5738082191781,
          447.4687835616438,
          430.0334630136986,
          397.6193452054794,
          376.2654684931507,
          371.6434,
          378.2837506849315,
          391.040498630137,
          404.3258383561644,
          418.92865753424655,
          430.28389863013695,
          441.74176164383556,
          452.98040273972606,
          464.6910520547945,
          474.2895506849315,
          489.4431315068493,
          493.6418712328767,
          492.90954520547945
         ],
         "type": "scatter",
         "xaxis": "x4",
         "yaxis": "y4"
        },
        {
         "line": {
          "color": "#00CC96"
         },
         "name": "solar",
         "stackgroup": "one",
         "x": [
          0,
          1,
          2,
          3,
          4,
          5,
          6,
          7,
          8,
          9,
          10,
          11,
          12,
          13,
          14,
          15,
          16,
          17,
          18,
          19,
          20,
          21,
          22,
          23
         ],
         "y": [
          null,
          null,
          null,
          null,
          null,
          1.521264705882353,
          7.269130434782609,
          42.44964931506849,
          213.33735890410958,
          566.0012493150685,
          931.8225589041095,
          1182.5727945205479,
          1295.0035698630138,
          1304.455909589041,
          1239.0459780821918,
          1096.9525424657534,
          869.4349150684932,
          587.2499287671233,
          418.86546236559144,
          187.09164864864863,
          48.23058888888889,
          10.456000000000001,
          null,
          null
         ],
         "type": "scatter",
         "xaxis": "x4",
         "yaxis": "y4"
        }
       ],
       "layout": {
        "template": {
         "data": {
          "histogram2dcontour": [
           {
            "type": "histogram2dcontour",
            "colorbar": {
             "outlinewidth": 0,
             "ticks": ""
            },
            "colorscale": [
             [
              0.0,
              "#0d0887"
             ],
             [
              0.1111111111111111,
              "#46039f"
             ],
             [
              0.2222222222222222,
              "#7201a8"
             ],
             [
              0.3333333333333333,
              "#9c179e"
             ],
             [
              0.4444444444444444,
              "#bd3786"
             ],
             [
              0.5555555555555556,
              "#d8576b"
             ],
             [
              0.6666666666666666,
              "#ed7953"
             ],
             [
              0.7777777777777778,
              "#fb9f3a"
             ],
             [
              0.8888888888888888,
              "#fdca26"
             ],
             [
              1.0,
              "#f0f921"
             ]
            ]
           }
          ],
          "choropleth": [
           {
            "type": "choropleth",
            "colorbar": {
             "outlinewidth": 0,
             "ticks": ""
            }
           }
          ],
          "histogram2d": [
           {
            "type": "histogram2d",
            "colorbar": {
             "outlinewidth": 0,
             "ticks": ""
            },
            "colorscale": [
             [
              0.0,
              "#0d0887"
             ],
             [
              0.1111111111111111,
              "#46039f"
             ],
             [
              0.2222222222222222,
              "#7201a8"
             ],
             [
              0.3333333333333333,
              "#9c179e"
             ],
             [
              0.4444444444444444,
              "#bd3786"
             ],
             [
              0.5555555555555556,
              "#d8576b"
             ],
             [
              0.6666666666666666,
              "#ed7953"
             ],
             [
              0.7777777777777778,
              "#fb9f3a"
             ],
             [
              0.8888888888888888,
              "#fdca26"
             ],
             [
              1.0,
              "#f0f921"
             ]
            ]
           }
          ],
          "heatmap": [
           {
            "type": "heatmap",
            "colorbar": {
             "outlinewidth": 0,
             "ticks": ""
            },
            "colorscale": [
             [
              0.0,
              "#0d0887"
             ],
             [
              0.1111111111111111,
              "#46039f"
             ],
             [
              0.2222222222222222,
              "#7201a8"
             ],
             [
              0.3333333333333333,
              "#9c179e"
             ],
             [
              0.4444444444444444,
              "#bd3786"
             ],
             [
              0.5555555555555556,
              "#d8576b"
             ],
             [
              0.6666666666666666,
              "#ed7953"
             ],
             [
              0.7777777777777778,
              "#fb9f3a"
             ],
             [
              0.8888888888888888,
              "#fdca26"
             ],
             [
              1.0,
              "#f0f921"
             ]
            ]
           }
          ],
          "heatmapgl": [
           {
            "type": "heatmapgl",
            "colorbar": {
             "outlinewidth": 0,
             "ticks": ""
            },
            "colorscale": [
             [
              0.0,
              "#0d0887"
             ],
             [
              0.1111111111111111,
              "#46039f"
             ],
             [
              0.2222222222222222,
              "#7201a8"
             ],
             [
              0.3333333333333333,
              "#9c179e"
             ],
             [
              0.4444444444444444,
              "#bd3786"
             ],
             [
              0.5555555555555556,
              "#d8576b"
             ],
             [
              0.6666666666666666,
              "#ed7953"
             ],
             [
              0.7777777777777778,
              "#fb9f3a"
             ],
             [
              0.8888888888888888,
              "#fdca26"
             ],
             [
              1.0,
              "#f0f921"
             ]
            ]
           }
          ],
          "contourcarpet": [
           {
            "type": "contourcarpet",
            "colorbar": {
             "outlinewidth": 0,
             "ticks": ""
            }
           }
          ],
          "contour": [
           {
            "type": "contour",
            "colorbar": {
             "outlinewidth": 0,
             "ticks": ""
            },
            "colorscale": [
             [
              0.0,
              "#0d0887"
             ],
             [
              0.1111111111111111,
              "#46039f"
             ],
             [
              0.2222222222222222,
              "#7201a8"
             ],
             [
              0.3333333333333333,
              "#9c179e"
             ],
             [
              0.4444444444444444,
              "#bd3786"
             ],
             [
              0.5555555555555556,
              "#d8576b"
             ],
             [
              0.6666666666666666,
              "#ed7953"
             ],
             [
              0.7777777777777778,
              "#fb9f3a"
             ],
             [
              0.8888888888888888,
              "#fdca26"
             ],
             [
              1.0,
              "#f0f921"
             ]
            ]
           }
          ],
          "surface": [
           {
            "type": "surface",
            "colorbar": {
             "outlinewidth": 0,
             "ticks": ""
            },
            "colorscale": [
             [
              0.0,
              "#0d0887"
             ],
             [
              0.1111111111111111,
              "#46039f"
             ],
             [
              0.2222222222222222,
              "#7201a8"
             ],
             [
              0.3333333333333333,
              "#9c179e"
             ],
             [
              0.4444444444444444,
              "#bd3786"
             ],
             [
              0.5555555555555556,
              "#d8576b"
             ],
             [
              0.6666666666666666,
              "#ed7953"
             ],
             [
              0.7777777777777778,
              "#fb9f3a"
             ],
             [
              0.8888888888888888,
              "#fdca26"
             ],
             [
              1.0,
              "#f0f921"
             ]
            ]
           }
          ],
          "mesh3d": [
           {
            "type": "mesh3d",
            "colorbar": {
             "outlinewidth": 0,
             "ticks": ""
            }
           }
          ],
          "scatter": [
           {
            "marker": {
             "line": {
              "color": "#283442"
             }
            },
            "type": "scatter"
           }
          ],
          "parcoords": [
           {
            "type": "parcoords",
            "line": {
             "colorbar": {
              "outlinewidth": 0,
              "ticks": ""
             }
            }
           }
          ],
          "scatterpolargl": [
           {
            "type": "scatterpolargl",
            "marker": {
             "colorbar": {
              "outlinewidth": 0,
              "ticks": ""
             }
            }
           }
          ],
          "bar": [
           {
            "error_x": {
             "color": "#f2f5fa"
            },
            "error_y": {
             "color": "#f2f5fa"
            },
            "marker": {
             "line": {
              "color": "rgb(17,17,17)",
              "width": 0.5
             },
             "pattern": {
              "fillmode": "overlay",
              "size": 10,
              "solidity": 0.2
             }
            },
            "type": "bar"
           }
          ],
          "scattergeo": [
           {
            "type": "scattergeo",
            "marker": {
             "colorbar": {
              "outlinewidth": 0,
              "ticks": ""
             }
            }
           }
          ],
          "scatterpolar": [
           {
            "type": "scatterpolar",
            "marker": {
             "colorbar": {
              "outlinewidth": 0,
              "ticks": ""
             }
            }
           }
          ],
          "histogram": [
           {
            "marker": {
             "pattern": {
              "fillmode": "overlay",
              "size": 10,
              "solidity": 0.2
             }
            },
            "type": "histogram"
           }
          ],
          "scattergl": [
           {
            "marker": {
             "line": {
              "color": "#283442"
             }
            },
            "type": "scattergl"
           }
          ],
          "scatter3d": [
           {
            "type": "scatter3d",
            "line": {
             "colorbar": {
              "outlinewidth": 0,
              "ticks": ""
             }
            },
            "marker": {
             "colorbar": {
              "outlinewidth": 0,
              "ticks": ""
             }
            }
           }
          ],
          "scattermapbox": [
           {
            "type": "scattermapbox",
            "marker": {
             "colorbar": {
              "outlinewidth": 0,
              "ticks": ""
             }
            }
           }
          ],
          "scatterternary": [
           {
            "type": "scatterternary",
            "marker": {
             "colorbar": {
              "outlinewidth": 0,
              "ticks": ""
             }
            }
           }
          ],
          "scattercarpet": [
           {
            "type": "scattercarpet",
            "marker": {
             "colorbar": {
              "outlinewidth": 0,
              "ticks": ""
             }
            }
           }
          ],
          "carpet": [
           {
            "aaxis": {
             "endlinecolor": "#A2B1C6",
             "gridcolor": "#506784",
             "linecolor": "#506784",
             "minorgridcolor": "#506784",
             "startlinecolor": "#A2B1C6"
            },
            "baxis": {
             "endlinecolor": "#A2B1C6",
             "gridcolor": "#506784",
             "linecolor": "#506784",
             "minorgridcolor": "#506784",
             "startlinecolor": "#A2B1C6"
            },
            "type": "carpet"
           }
          ],
          "table": [
           {
            "cells": {
             "fill": {
              "color": "#506784"
             },
             "line": {
              "color": "rgb(17,17,17)"
             }
            },
            "header": {
             "fill": {
              "color": "#2a3f5f"
             },
             "line": {
              "color": "rgb(17,17,17)"
             }
            },
            "type": "table"
           }
          ],
          "barpolar": [
           {
            "marker": {
             "line": {
              "color": "rgb(17,17,17)",
              "width": 0.5
             },
             "pattern": {
              "fillmode": "overlay",
              "size": 10,
              "solidity": 0.2
             }
            },
            "type": "barpolar"
           }
          ],
          "pie": [
           {
            "automargin": true,
            "type": "pie"
           }
          ]
         },
         "layout": {
          "autotypenumbers": "strict",
          "colorway": [
           "#636efa",
           "#EF553B",
           "#00cc96",
           "#ab63fa",
           "#FFA15A",
           "#19d3f3",
           "#FF6692",
           "#B6E880",
           "#FF97FF",
           "#FECB52"
          ],
          "font": {
           "color": "#f2f5fa"
          },
          "hovermode": "closest",
          "hoverlabel": {
           "align": "left"
          },
          "paper_bgcolor": "rgb(17,17,17)",
          "plot_bgcolor": "rgb(17,17,17)",
          "polar": {
           "bgcolor": "rgb(17,17,17)",
           "angularaxis": {
            "gridcolor": "#506784",
            "linecolor": "#506784",
            "ticks": ""
           },
           "radialaxis": {
            "gridcolor": "#506784",
            "linecolor": "#506784",
            "ticks": ""
           }
          },
          "ternary": {
           "bgcolor": "rgb(17,17,17)",
           "aaxis": {
            "gridcolor": "#506784",
            "linecolor": "#506784",
            "ticks": ""
           },
           "baxis": {
            "gridcolor": "#506784",
            "linecolor": "#506784",
            "ticks": ""
           },
           "caxis": {
            "gridcolor": "#506784",
            "linecolor": "#506784",
            "ticks": ""
           }
          },
          "coloraxis": {
           "colorbar": {
            "outlinewidth": 0,
            "ticks": ""
           }
          },
          "colorscale": {
           "sequential": [
            [
             0.0,
             "#0d0887"
            ],
            [
             0.1111111111111111,
             "#46039f"
            ],
            [
             0.2222222222222222,
             "#7201a8"
            ],
            [
             0.3333333333333333,
             "#9c179e"
            ],
            [
             0.4444444444444444,
             "#bd3786"
            ],
            [
             0.5555555555555556,
             "#d8576b"
            ],
            [
             0.6666666666666666,
             "#ed7953"
            ],
            [
             0.7777777777777778,
             "#fb9f3a"
            ],
            [
             0.8888888888888888,
             "#fdca26"
            ],
            [
             1.0,
             "#f0f921"
            ]
           ],
           "sequentialminus": [
            [
             0.0,
             "#0d0887"
            ],
            [
             0.1111111111111111,
             "#46039f"
            ],
            [
             0.2222222222222222,
             "#7201a8"
            ],
            [
             0.3333333333333333,
             "#9c179e"
            ],
            [
             0.4444444444444444,
             "#bd3786"
            ],
            [
             0.5555555555555556,
             "#d8576b"
            ],
            [
             0.6666666666666666,
             "#ed7953"
            ],
            [
             0.7777777777777778,
             "#fb9f3a"
            ],
            [
             0.8888888888888888,
             "#fdca26"
            ],
            [
             1.0,
             "#f0f921"
            ]
           ],
           "diverging": [
            [
             0,
             "#8e0152"
            ],
            [
             0.1,
             "#c51b7d"
            ],
            [
             0.2,
             "#de77ae"
            ],
            [
             0.3,
             "#f1b6da"
            ],
            [
             0.4,
             "#fde0ef"
            ],
            [
             0.5,
             "#f7f7f7"
            ],
            [
             0.6,
             "#e6f5d0"
            ],
            [
             0.7,
             "#b8e186"
            ],
            [
             0.8,
             "#7fbc41"
            ],
            [
             0.9,
             "#4d9221"
            ],
            [
             1,
             "#276419"
            ]
           ]
          },
          "xaxis": {
           "gridcolor": "#283442",
           "linecolor": "#506784",
           "ticks": "",
           "title": {
            "standoff": 15
           },
           "zerolinecolor": "#283442",
           "automargin": true,
           "zerolinewidth": 2
          },
          "yaxis": {
           "gridcolor": "#283442",
           "linecolor": "#506784",
           "ticks": "",
           "title": {
            "standoff": 15
           },
           "zerolinecolor": "#283442",
           "automargin": true,
           "zerolinewidth": 2
          },
          "scene": {
           "xaxis": {
            "backgroundcolor": "rgb(17,17,17)",
            "gridcolor": "#506784",
            "linecolor": "#506784",
            "showbackground": true,
            "ticks": "",
            "zerolinecolor": "#C8D4E3",
            "gridwidth": 2
           },
           "yaxis": {
            "backgroundcolor": "rgb(17,17,17)",
            "gridcolor": "#506784",
            "linecolor": "#506784",
            "showbackground": true,
            "ticks": "",
            "zerolinecolor": "#C8D4E3",
            "gridwidth": 2
           },
           "zaxis": {
            "backgroundcolor": "rgb(17,17,17)",
            "gridcolor": "#506784",
            "linecolor": "#506784",
            "showbackground": true,
            "ticks": "",
            "zerolinecolor": "#C8D4E3",
            "gridwidth": 2
           }
          },
          "shapedefaults": {
           "line": {
            "color": "#f2f5fa"
           }
          },
          "annotationdefaults": {
           "arrowcolor": "#f2f5fa",
           "arrowhead": 0,
           "arrowwidth": 1
          },
          "geo": {
           "bgcolor": "rgb(17,17,17)",
           "landcolor": "rgb(17,17,17)",
           "subunitcolor": "#506784",
           "showland": true,
           "showlakes": true,
           "lakecolor": "rgb(17,17,17)"
          },
          "title": {
           "x": 0.05
          },
          "updatemenudefaults": {
           "bgcolor": "#506784",
           "borderwidth": 0
          },
          "sliderdefaults": {
           "bgcolor": "#C8D4E3",
           "borderwidth": 1,
           "bordercolor": "rgb(17,17,17)",
           "tickwidth": 0
          },
          "mapbox": {
           "style": "dark"
          }
         }
        },
        "xaxis": {
         "anchor": "y",
         "domain": [
          0.0,
          0.45
         ],
         "title": {
          "text": "Hour"
         }
        },
        "yaxis": {
         "anchor": "x",
         "domain": [
          0.625,
          1.0
         ],
         "title": {
          "text": "Generation (MWh)"
         }
        },
        "xaxis2": {
         "anchor": "y2",
         "domain": [
          0.55,
          1.0
         ],
         "title": {
          "text": "Hour"
         }
        },
        "yaxis2": {
         "anchor": "x2",
         "domain": [
          0.625,
          1.0
         ],
         "title": {
          "text": "Generation (MWh)"
         }
        },
        "xaxis3": {
         "anchor": "y3",
         "domain": [
          0.0,
          0.45
         ],
         "title": {
          "text": "Hour"
         }
        },
        "yaxis3": {
         "anchor": "x3",
         "domain": [
          0.0,
          0.375
         ],
         "title": {
          "text": "Generation (MWh)"
         }
        },
        "xaxis4": {
         "anchor": "y4",
         "domain": [
          0.55,
          1.0
         ],
         "title": {
          "text": "Hour"
         }
        },
        "yaxis4": {
         "anchor": "x4",
         "domain": [
          0.0,
          0.375
         ],
         "title": {
          "text": "Generation (MWh)"
         }
        },
        "annotations": [
         {
          "font": {
           "size": 16
          },
          "showarrow": false,
          "text": "CAISO",
          "x": 0.225,
          "xanchor": "center",
          "xref": "paper",
          "y": 1.0,
          "yanchor": "bottom",
          "yref": "paper"
         },
         {
          "font": {
           "size": 16
          },
          "showarrow": false,
          "text": "ERCOT",
          "x": 0.775,
          "xanchor": "center",
          "xref": "paper",
          "y": 1.0,
          "yanchor": "bottom",
          "yref": "paper"
         },
         {
          "font": {
           "size": 16
          },
          "showarrow": false,
          "text": "PJM",
          "x": 0.225,
          "xanchor": "center",
          "xref": "paper",
          "y": 0.375,
          "yanchor": "bottom",
          "yref": "paper"
         },
         {
          "font": {
           "size": 16
          },
          "showarrow": false,
          "text": "ISONE",
          "x": 0.775,
          "xanchor": "center",
          "xref": "paper",
          "y": 0.375,
          "yanchor": "bottom",
          "yref": "paper"
         }
        ],
        "font": {
         "color": "black"
        },
        "paper_bgcolor": "rgba(0,0,0,0)",
        "plot_bgcolor": "rgba(0,0,0,0)",
        "title": {
         "text": "Average Hourly Generation Profile from 2022 by ISO"
        },
        "height": 1000,
        "width": 1400
       },
       "config": {
        "plotlyServerURL": "https://plot.ly"
       }
      },
      "text/html": "<div>                            <div id=\"44488f58-4272-455d-833f-350ec9d3606b\" class=\"plotly-graph-div\" style=\"height:1000px; width:1400px;\"></div>            <script type=\"text/javascript\">                require([\"plotly\"], function(Plotly) {                    window.PLOTLYENV=window.PLOTLYENV || {};                                    if (document.getElementById(\"44488f58-4272-455d-833f-350ec9d3606b\")) {                    Plotly.newPlot(                        \"44488f58-4272-455d-833f-350ec9d3606b\",                        [{\"line\":{\"color\":\"#FF97FF\"},\"name\":\"batteries\",\"stackgroup\":\"one\",\"x\":[0,1,2,3,4,5,6,7,8,9,10,11,12,13,14,15,16,17,18,19,20,21,22,23],\"y\":[63.528310503295884,-30.811126373629122,-151.05296803612603,-223.18812785290413,-133.51095890241095,40.17442922081918,211.03858447284657,134.31415524868493,-214.8223744159178,-543.6157534344767,-664.3577625677068,-685.0926940674602,-559.8977168926575,-364.45547945308493,-164.99041095519726,68.56301369754247,273.39497716747945,604.4867579953041,1158.5547161292034,1363.5460164802198,1180.1666666912088,885.2838827977198,439.1808607994341,128.01767399264835],\"type\":\"scatter\",\"xaxis\":\"x\",\"yaxis\":\"y\"},{\"line\":{\"color\":\"#B6E880\"},\"name\":\"biogas\",\"stackgroup\":\"one\",\"x\":[0,1,2,3,4,5,6,7,8,9,10,11,12,13,14,15,16,17,18,19,20,21,22,23],\"y\":[201.88789954219178,202.1293498173077,202.3305936068493,202.426712330137,202.17214611945207,201.81278538767123,200.84452054767124,199.7369862989041,199.0440639241096,198.09817351479452,197.69703196136987,197.37009132547942,197.5244292238356,197.92648401863013,198.7561643827397,199.28036529643836,199.9237637357143,200.8104395598901,201.54990842472526,202.32738095576926,202.7532051269231,202.0258699631868,201.31227106483516,201.40728021978023],\"type\":\"scatter\",\"xaxis\":\"x\",\"yaxis\":\"y\"},{\"line\":{\"color\":\"#FF6692\"},\"name\":\"biomass\",\"stackgroup\":\"one\",\"x\":[0,1,2,3,4,5,6,7,8,9,10,11,12,13,14,15,16,17,18,19,20,21,22,23],\"y\":[286.9171232871233,285.385302196978,285.01529680136986,285.97351598191784,286.5737442942466,287.33401826438353,289.9424657539726,291.4015981750685,291.5406392679452,290.05479452054794,289.47762557232875,289.1940639257534,289.1543378991781,289.6420091339726,290.4801369882192,293.44315068520547,297.7044413906594,298.5785256414835,298.05105311346153,298.14217032884613,298.3090659337912,297.9175824181319,294.30792124725275,290.44537545906593],\"type\":\"scatter\",\"xaxis\":\"x\",\"yaxis\":\"y\"},{\"line\":{\"color\":\"#FECB52\"},\"name\":\"coal\",\"stackgroup\":\"one\",\"x\":[0,1,2,3,4,5,6,7,8,9,10,11,12,13,14,15,16,17,18,19,20,21,22,23],\"y\":[8.608447488528768,8.665979853381868,8.680593607186301,8.735616438271233,8.809589041136986,8.873515981646575,8.568721461049314,8.358904109583563,8.320547945178083,8.451369863060274,8.600684931520547,8.656849314947944,8.602739726093152,8.539041095942466,8.549315068479451,8.620776255641095,8.785159817468493,8.822146118827398,8.596611721653847,8.491529304076924,8.436584249178571,8.479853479598901,8.522664835203296,8.584249084392857],\"type\":\"scatter\",\"xaxis\":\"x\",\"yaxis\":\"y\"},{\"line\":{\"color\":\"#636EFA\"},\"name\":\"gas\",\"stackgroup\":\"one\",\"x\":[0,1,2,3,4,5,6,7,8,9,10,11,12,13,14,15,16,17,18,19,20,21,22,23],\"y\":[9951.96849309315,9338.55114158904,8961.505022816438,8761.020547947946,8716.78219169041,8902.460045558904,9201.238584430137,8999.607305953425,8304.157305879453,7521.087442906849,7190.308447561644,7175.554109558904,7241.1986302520545,7384.549086810958,7703.914155306849,8214.976255676713,9268.214611816438,10799.541095747945,12294.768314906592,13050.493818719779,12852.097527480768,12360.062957846152,11677.947115269231,10766.446108107142],\"type\":\"scatter\",\"xaxis\":\"x\",\"yaxis\":\"y\"},{\"line\":{\"color\":\"#19D3F3\"},\"name\":\"hydro\",\"stackgroup\":\"one\",\"x\":[0,1,2,3,4,5,6,7,8,9,10,11,12,13,14,15,16,17,18,19,20,21,22,23],\"y\":[1477.5301369948766,1294.3919413897802,1197.6479451836437,1147.2047945382383,1166.6568493264192,1350.2191780754247,1608.8853881467398,1499.8785387942467,1133.995890422822,876.8107305954054,770.7285388110603,712.2481735133698,745.2835616517177,813.3054794589233,946.845890418348,1125.7212328580822,1414.755494506401,2002.1561355255492,2628.7838828049453,2897.6440018434064,2810.00343406511,2540.222298553022,2112.614239925824,1741.305494517033],\"type\":\"scatter\",\"xaxis\":\"x\",\"yaxis\":\"y\"},{\"line\":{\"color\":\"#EF553B\"},\"name\":\"imports\",\"stackgroup\":\"one\",\"x\":[0,1,2,3,4,5,6,7,8,9,10,11,12,13,14,15,16,17,18,19,20,21,22,23],\"y\":[7013.753424665753,6927.633699667583,6886.901826487671,6850.09155249863,6795.378538810959,6800.409132430137,6737.820319649316,6122.8719178328765,4712.897945227754,3319.7301369958086,2459.0267123319727,1989.2968036485013,1674.6388127884384,1564.4438356033615,1562.4984018293892,1801.6303652898357,2468.6749084430576,4041.25366298717,5781.108516481594,6746.592719717033,7044.745650107144,7187.369505508242,7315.452380923077,7232.293360821428],\"type\":\"scatter\",\"xaxis\":\"x\",\"yaxis\":\"y\"},{\"line\":{\"color\":\"#FFA15A\"},\"name\":\"nuclear\",\"stackgroup\":\"one\",\"x\":[0,1,2,3,4,5,6,7,8,9,10,11,12,13,14,15,16,17,18,19,20,21,22,23],\"y\":[2017.1301369945206,2019.8205128406594,2017.422146117808,2017.5751141589042,2017.738127841096,2018.000456619178,2018.1589040876713,2018.259817350685,2018.376940638356,2018.6956621123286,2018.4821917835616,2018.257534221918,2018.164383561644,2017.4289954082192,2016.2986301397261,2015.7422374383561,2014.564789381868,2014.0164835137361,2014.099358967033,2014.5393772829668,2014.7229853681317,2015.0945512664834,2015.8811813214286,2016.32408425],\"type\":\"scatter\",\"xaxis\":\"x\",\"yaxis\":\"y\"},{\"line\":{\"color\":\"#AB63FA\"},\"name\":\"wind\",\"stackgroup\":\"one\",\"x\":[0,1,2,3,4,5,6,7,8,9,10,11,12,13,14,15,16,17,18,19,20,21,22,23],\"y\":[2788.3022830860273,2735.4329212467032,2690.23287671863,2612.7630136961643,2500.7178082063015,2385.377397245479,2265.174657539178,2149.482876710685,2044.6582191838356,1965.8755707821917,1928.2331050249313,1948.3095890484933,2015.685388120822,2128.32694064,2279.177397249315,2446.4716894956164,2597.4276556961536,2706.8070054986265,2768.9757325989012,2821.0718864445057,2888.3351648252747,2915.547847998901,2865.567994493956,2823.0914377337913],\"type\":\"scatter\",\"xaxis\":\"x\",\"yaxis\":\"y\"},{\"line\":{\"color\":\"#00CC96\"},\"name\":\"solar\",\"stackgroup\":\"one\",\"x\":[0,1,2,3,4,5,6,7,8,9,10,11,12,13,14,15,16,17,18,19,20,21,22,23],\"y\":[-20.374429223868493,-23.309360730347947,-24.359589041131507,-25.2652968037863,-26.268493150690414,-19.77602739719178,482.1205479442466,2924.053196325751,6726.075799003561,9665.997716980823,10782.100684887671,11054.602511268493,11062.402967972603,11007.425342463015,10835.194977243835,10386.431506920548,8993.702054897809,6045.414383582466,2604.160256407478,479.44299450596975,55.61469780149725,25.35119047621978,9.27884615371978,-9.04001831489835],\"type\":\"scatter\",\"xaxis\":\"x\",\"yaxis\":\"y\"},{\"line\":{\"color\":\"#FF97FF\"},\"name\":\"batteries\",\"stackgroup\":\"one\",\"x\":[0,1,2,3,4,5,6,7,8,9,10,11,12,13,14,15,16,17,18,19,20,21,22,23],\"y\":[-18.454246575342466,-19.932054794520546,-22.38082191780822,-27.121565934065934,-24.291506849315066,-22.153561643835616,-17.684794520547946,-14.115616438356163,-22.211027397260274,-26.722397260273972,-24.48061643835616,-22.875821917808217,-21.416027397260276,-20.34650684931507,-19.302054794520547,-18.867260273972605,-15.843972602739727,-13.972260273972603,-12.91445205479452,-11.057534246575342,-12.362260273972604,-13.911575342465754,-15.66890410958904,-17.68431506849315],\"type\":\"scatter\",\"xaxis\":\"x2\",\"yaxis\":\"y2\"},{\"line\":{\"color\":\"#FF6692\"},\"name\":\"biomass\",\"stackgroup\":\"one\",\"x\":[0,1,2,3,4,5,6,7,8,9,10,11,12,13,14,15,16,17,18,19,20,21,22,23],\"y\":[15.916232876712328,15.061095890410959,14.827328767123289,14.805494505494504,14.830205479452054,15.104794520547944,15.504109589041096,15.861849315068493,16.15013698630137,16.614109589041096,17.15678082191781,17.829931506849316,18.54349315068493,19.09417808219178,19.541986301369864,19.953150684931504,20.307671232876714,20.728904109589042,20.959657534246574,21.02568493150685,20.723287671232878,19.769178082191782,18.591438356164385,17.421438356164384],\"type\":\"scatter\",\"xaxis\":\"x2\",\"yaxis\":\"y2\"},{\"line\":{\"color\":\"#FECB52\"},\"name\":\"coal\",\"stackgroup\":\"one\",\"x\":[0,1,2,3,4,5,6,7,8,9,10,11,12,13,14,15,16,17,18,19,20,21,22,23],\"y\":[1916.620684931507,1822.7346575342467,1766.1482876712328,1753.2372252747252,1772.418287671233,1823.9159589041094,1901.2455479452055,1995.1420547945204,2007.8477397260276,1982.4030821917809,1993.7421232876711,2031.819794520548,2083.372602739726,2124.7984246575343,2141.30301369863,2144.6064383561643,2158.987808219178,2213.383698630137,2291.5926712328765,2316.681506849315,2299.738698630137,2245.6862328767124,2150.4576712328767,2037.0618493150685],\"type\":\"scatter\",\"xaxis\":\"x2\",\"yaxis\":\"y2\"},{\"line\":{\"color\":\"#636EFA\"},\"name\":\"gas\",\"stackgroup\":\"one\",\"x\":[0,1,2,3,4,5,6,7,8,9,10,11,12,13,14,15,16,17,18,19,20,21,22,23],\"y\":[4319.820342465753,4017.0874657534246,3855.5106849315066,3804.724793956044,3854.315616438356,4084.4513013698634,4520.303767123288,4795.492808219178,4746.815616438356,4641.696301369862,4840.699657534246,5144.839726027397,5467.662260273973,5758.2954109589045,5975.087465753424,6117.31191780822,6288.080821917808,6523.02897260274,6697.357808219178,6722.441643835617,6623.3721232876715,6204.112808219177,5511.252397260274,4823.540479452055],\"type\":\"scatter\",\"xaxis\":\"x2\",\"yaxis\":\"y2\"},{\"line\":{\"color\":\"#19D3F3\"},\"name\":\"hydro\",\"stackgroup\":\"one\",\"x\":[0,1,2,3,4,5,6,7,8,9,10,11,12,13,14,15,16,17,18,19,20,21,22,23],\"y\":[6.25486301369863,8.906849315068493,8.736575342465754,7.250618131868132,6.6808219178082195,6.981917808219178,8.574452054794522,10.835753424657534,12.159520547945206,12.056712328767123,12.571575342465753,11.964109589041096,10.762671232876713,10.216643835616438,10.185342465753426,13.238287671232877,14.747945205479452,14.955,14.44095890410959,11.961438356164384,8.362260273972602,6.245821917808219,4.138287671232876,3.2418493150684933],\"type\":\"scatter\",\"xaxis\":\"x2\",\"yaxis\":\"y2\"},{\"line\":{\"color\":\"#FFA15A\"},\"name\":\"nuclear\",\"stackgroup\":\"one\",\"x\":[0,1,2,3,4,5,6,7,8,9,10,11,12,13,14,15,16,17,18,19,20,21,22,23],\"y\":[1188.1159589041097,1188.2024657534248,1188.3483561643836,1188.2876373626375,1188.6749315068494,1188.7448630136987,1188.9791095890412,1189.183904109589,1189.3094520547945,1189.3909589041095,1189.1802739726027,1189.187397260274,1189.2059589041096,1189.0574657534246,1188.8286986301368,1188.7325342465754,1188.7843150684932,1188.8731506849315,1189.0149315068493,1189.1473287671233,1189.2547945205479,1189.067397260274,1188.8278082191782,1188.8882876712328],\"type\":\"scatter\",\"xaxis\":\"x2\",\"yaxis\":\"y2\"},{\"line\":{\"color\":\"#AB63FA\"},\"name\":\"wind\",\"stackgroup\":\"one\",\"x\":[0,1,2,3,4,5,6,7,8,9,10,11,12,13,14,15,16,17,18,19,20,21,22,23],\"y\":[3691.173287671233,3645.8313698630136,3573.1022602739727,3478.2701236263733,3397.1749315068496,3324.115821917808,3237.586575342466,3143.185821917808,2918.004589041096,2717.7993150684933,2642.213904109589,2573.3253424657532,2494.97301369863,2468.172534246575,2491.1805479452055,2563.1836301369863,2656.9143835616437,2737.2953424657535,2864.192260273973,3027.592328767123,3188.9607534246575,3376.522602739726,3572.848561643836,3681.7775342465757],\"type\":\"scatter\",\"xaxis\":\"x2\",\"yaxis\":\"y2\"},{\"line\":{\"color\":\"#00CC96\"},\"name\":\"solar\",\"stackgroup\":\"one\",\"x\":[0,1,2,3,4,5,6,7,8,9,10,11,12,13,14,15,16,17,18,19,20,21,22,23],\"y\":[0.013150684931506848,0.012876712328767123,0.013219178082191781,0.015315934065934067,0.015684931506849315,0.017123287671232876,0.27650684931506847,69.47171232876713,632.5387671232877,1361.0342465753424,1626.7075342465753,1725.934589041096,1762.4290410958904,1771.8239726027398,1761.4418493150686,1710.6291780821919,1573.3745890410958,1266.8996575342467,858.0624657534246,394.8499315068493,54.10726027397261,0.07417808219178082,0.007191780821917808,0.011506849315068493],\"type\":\"scatter\",\"xaxis\":\"x2\",\"yaxis\":\"y2\"},{\"line\":{\"color\":\"#FF97FF\"},\"name\":\"batteries\",\"stackgroup\":\"one\",\"x\":[0,1,2,3,4,5,6,7,8,9,10,11,12,13,14,15,16,17,18,19,20,21,22,23],\"y\":[0.0,0.0,0.0,0.0,0.0,0.0,0.0,0.0,0.0,0.0,0.0,0.0,0.0,0.0,0.0,0.0,0.0,0.0,0.0,0.0,0.0,0.0,0.0,0.0],\"type\":\"scatter\",\"xaxis\":\"x3\",\"yaxis\":\"y3\"},{\"line\":{\"color\":\"#FECB52\"},\"name\":\"coal\",\"stackgroup\":\"one\",\"x\":[0,1,2,3,4,5,6,7,8,9,10,11,12,13,14,15,16,17,18,19,20,21,22,23],\"y\":[19149.90220994475,18332.87988980716,17654.76104972376,17242.01329639889,17090.366574585634,17087.298347107437,17331.766666666666,17965.9955922865,18710.280494505492,19131.620604395604,19340.27912087912,19511.368956043956,19653.26565934066,19671.63598901099,19741.25302197802,19701.298076923078,19752.359615384616,19884.418131868133,20224.96346153846,20586.77664835165,20647.343406593405,20570.115934065936,20360.377472527474,19814.922314049585],\"type\":\"scatter\",\"xaxis\":\"x3\",\"yaxis\":\"y3\"},{\"line\":{\"color\":\"#636EFA\"},\"name\":\"gas\",\"stackgroup\":\"one\",\"x\":[0,1,2,3,4,5,6,7,8,9,10,11,12,13,14,15,16,17,18,19,20,21,22,23],\"y\":[36007.1770718232,33489.201101928375,32326.648480662985,31452.102216066483,30908.25994475138,31116.333884297517,32421.03168044077,34869.05123966942,36943.51318681319,37905.32445054945,38292.480769230766,38761.57747252747,39353.55906593407,39823.715934065935,40340.54203296704,40672.553846153845,41150.19478021978,41939.897802197804,43134.192307692305,43808.2793956044,43521.11868131868,42735.613186813185,41339.87225274725,38733.85785123967],\"type\":\"scatter\",\"xaxis\":\"x3\",\"yaxis\":\"y3\"},{\"line\":{\"color\":\"#19D3F3\"},\"name\":\"hydro\",\"stackgroup\":\"one\",\"x\":[0,1,2,3,4,5,6,7,8,9,10,11,12,13,14,15,16,17,18,19,20,21,22,23],\"y\":[827.8530386740331,768.3498622589532,741.0197513812155,726.4731301939058,732.4477900552486,772.5501377410469,964.7088154269973,1732.1236914600552,2178.34478021978,1923.3733516483517,1487.7832417582417,1294.923901098901,1263.5,1508.807142857143,1902.326923076923,2170.0744505494504,2431.1557692307692,2973.170879120879,3728.701923076923,3884.9953296703297,3684.090384615384,3153.0464285714284,1991.7752747252746,1007.6297520661157],\"type\":\"scatter\",\"xaxis\":\"x3\",\"yaxis\":\"y3\"},{\"line\":{\"color\":\"#FFA15A\"},\"name\":\"nuclear\",\"stackgroup\":\"one\",\"x\":[0,1,2,3,4,5,6,7,8,9,10,11,12,13,14,15,16,17,18,19,20,21,22,23],\"y\":[31009.37237569061,31088.593388429752,31095.43922651934,31105.7783933518,31110.251657458564,31109.489256198347,31066.020936639117,31073.6738292011,31079.940109890107,31084.09587912088,31085.706318681317,31073.14478021978,31064.77087912088,31054.956043956045,31045.204945054946,31036.175274725276,31026.61978021978,31020.204120879123,31021.974725274726,31032.58956043956,31042.274999999998,31047.362362637363,31054.784615384615,31019.18181818182],\"type\":\"scatter\",\"xaxis\":\"x3\",\"yaxis\":\"y3\"},{\"line\":{\"color\":\"#AB63FA\"},\"name\":\"wind\",\"stackgroup\":\"one\",\"x\":[0,1,2,3,4,5,6,7,8,9,10,11,12,13,14,15,16,17,18,19,20,21,22,23],\"y\":[3983.247237569061,3981.6787878787877,3960.6562154696135,3854.870637119114,3778.1734806629834,3712.245179063361,3629.620936639118,3597.491184573003,3597.469505494505,3538.279120879121,3398.931868131868,3335.454120879121,3359.966208791209,3468.8626373626375,3569.7920329670333,3692.2912087912086,3763.3057692307693,3767.0307692307692,3744.9162087912086,3667.8843406593405,3602.5777472527475,3632.1568681318686,3766.7695054945057,3920.0539944903585],\"type\":\"scatter\",\"xaxis\":\"x3\",\"yaxis\":\"y3\"},{\"line\":{\"color\":\"#00CC96\"},\"name\":\"solar\",\"stackgroup\":\"one\",\"x\":[0,1,2,3,4,5,6,7,8,9,10,11,12,13,14,15,16,17,18,19,20,21,22,23],\"y\":[10.820718232044198,10.768044077134986,10.73950276243094,10.60803324099723,10.128453038674033,10.615977961432506,10.588980716253444,22.669972451790635,301.2376373626374,1135.8989010989012,1811.2420329670329,2099.958241758242,2236.88543956044,2273.3304945054947,2244.3436813186813,2150.980494505495,1938.7846153846153,1522.1357142857144,1066.639010989011,573.9675824175824,153.910989010989,21.806868131868132,12.365934065934065,11.10633608815427],\"type\":\"scatter\",\"xaxis\":\"x3\",\"yaxis\":\"y3\"},{\"line\":{\"color\":\"#FECB52\"},\"name\":\"coal\",\"stackgroup\":\"one\",\"x\":[0,1,2,3,4,5,6,7,8,9,10,11,12,13,14,15,16,17,18,19,20,21,22,23],\"y\":[41.71030264231939,40.945110544984786,40.91275604440304,41.67847348812928,42.95055082589734,44.8373624318327,46.69374931038403,47.94465807387453,48.03803164446007,47.828081145022814,48.565657392456274,49.361594787768055,51.33318128044487,51.27534506762738,49.312013375206895,48.69517831742748,48.56999652056274,48.448901372551326,48.53558101712928,47.64714302307605,45.69865825380988,43.898643193129274,42.939432104136884,41.66673547518702],\"type\":\"scatter\",\"xaxis\":\"x4\",\"yaxis\":\"y4\"},{\"line\":{\"color\":\"#636EFA\"},\"name\":\"gas\",\"stackgroup\":\"one\",\"x\":[0,1,2,3,4,5,6,7,8,9,10,11,12,13,14,15,16,17,18,19,20,21,22,23],\"y\":[4622.362620298508,4484.208277229851,4428.51154960597,4499.947754122388,4761.526407549253,5308.919317122388,5889.007356597015,6156.409321208955,6165.2051176029845,6143.72291741791,6179.756753495522,6269.540746525374,6400.776826397016,6551.426202921923,6799.275164138554,7184.292111282281,7604.680731237237,7855.7828581976055,7871.994741449102,7752.556909686567,7351.464241656717,6495.827266537313,5581.008656014926,4916.34391539403],\"type\":\"scatter\",\"xaxis\":\"x4\",\"yaxis\":\"y4\"},{\"line\":{\"color\":\"#19D3F3\"},\"name\":\"hydro\",\"stackgroup\":\"one\",\"x\":[0,1,2,3,4,5,6,7,8,9,10,11,12,13,14,15,16,17,18,19,20,21,22,23],\"y\":[611.0720572080597,600.4033235650746,595.4969928850746,597.144159701194,621.891986456418,712.3149647179105,848.2217011453731,880.7700030110448,813.3705642277611,749.2644459223881,715.5085239740299,694.2493123695523,682.6855457638806,707.4521986618619,798.110029588253,962.3602800780781,1282.811669399099,1509.350393492515,1409.1898708146707,1129.8562314071642,845.5870747435821,734.4990672146268,675.7500073492538,636.4318252265672],\"type\":\"scatter\",\"xaxis\":\"x4\",\"yaxis\":\"y4\"},{\"line\":{\"color\":\"#FFA15A\"},\"name\":\"nuclear\",\"stackgroup\":\"one\",\"x\":[0,1,2,3,4,5,6,7,8,9,10,11,12,13,14,15,16,17,18,19,20,21,22,23],\"y\":[3115.7866444805973,3116.2580194298507,3116.7002592686567,3116.954341808955,3117.286103958209,3117.5671192149252,3117.7379278388057,3117.088261710448,3115.3059647731343,3113.34992961791,3112.5581506597014,3111.703457641791,3110.658583662687,3116.7060574174175,3112.5109961475905,3113.2627452702704,3113.9109633633634,3115.093463497006,3115.5160308383233,3112.751239731343,3112.876395991045,3113.6068619223884,3114.588588674627,3115.381781680597],\"type\":\"scatter\",\"xaxis\":\"x4\",\"yaxis\":\"y4\"},{\"line\":{\"color\":\"#AB63FA\"},\"name\":\"wind\",\"stackgroup\":\"one\",\"x\":[0,1,2,3,4,5,6,7,8,9,10,11,12,13,14,15,16,17,18,19,20,21,22,23],\"y\":[487.1984082191781,477.5055589041096,469.54272252747256,465.80974794520546,460.9440821917808,457.74033972602734,454.5738082191781,447.4687835616438,430.0334630136986,397.6193452054794,376.2654684931507,371.6434,378.2837506849315,391.040498630137,404.3258383561644,418.92865753424655,430.28389863013695,441.74176164383556,452.98040273972606,464.6910520547945,474.2895506849315,489.4431315068493,493.6418712328767,492.90954520547945],\"type\":\"scatter\",\"xaxis\":\"x4\",\"yaxis\":\"y4\"},{\"line\":{\"color\":\"#00CC96\"},\"name\":\"solar\",\"stackgroup\":\"one\",\"x\":[0,1,2,3,4,5,6,7,8,9,10,11,12,13,14,15,16,17,18,19,20,21,22,23],\"y\":[null,null,null,null,null,1.521264705882353,7.269130434782609,42.44964931506849,213.33735890410958,566.0012493150685,931.8225589041095,1182.5727945205479,1295.0035698630138,1304.455909589041,1239.0459780821918,1096.9525424657534,869.4349150684932,587.2499287671233,418.86546236559144,187.09164864864863,48.23058888888889,10.456000000000001,null,null],\"type\":\"scatter\",\"xaxis\":\"x4\",\"yaxis\":\"y4\"}],                        {\"template\":{\"data\":{\"histogram2dcontour\":[{\"type\":\"histogram2dcontour\",\"colorbar\":{\"outlinewidth\":0,\"ticks\":\"\"},\"colorscale\":[[0.0,\"#0d0887\"],[0.1111111111111111,\"#46039f\"],[0.2222222222222222,\"#7201a8\"],[0.3333333333333333,\"#9c179e\"],[0.4444444444444444,\"#bd3786\"],[0.5555555555555556,\"#d8576b\"],[0.6666666666666666,\"#ed7953\"],[0.7777777777777778,\"#fb9f3a\"],[0.8888888888888888,\"#fdca26\"],[1.0,\"#f0f921\"]]}],\"choropleth\":[{\"type\":\"choropleth\",\"colorbar\":{\"outlinewidth\":0,\"ticks\":\"\"}}],\"histogram2d\":[{\"type\":\"histogram2d\",\"colorbar\":{\"outlinewidth\":0,\"ticks\":\"\"},\"colorscale\":[[0.0,\"#0d0887\"],[0.1111111111111111,\"#46039f\"],[0.2222222222222222,\"#7201a8\"],[0.3333333333333333,\"#9c179e\"],[0.4444444444444444,\"#bd3786\"],[0.5555555555555556,\"#d8576b\"],[0.6666666666666666,\"#ed7953\"],[0.7777777777777778,\"#fb9f3a\"],[0.8888888888888888,\"#fdca26\"],[1.0,\"#f0f921\"]]}],\"heatmap\":[{\"type\":\"heatmap\",\"colorbar\":{\"outlinewidth\":0,\"ticks\":\"\"},\"colorscale\":[[0.0,\"#0d0887\"],[0.1111111111111111,\"#46039f\"],[0.2222222222222222,\"#7201a8\"],[0.3333333333333333,\"#9c179e\"],[0.4444444444444444,\"#bd3786\"],[0.5555555555555556,\"#d8576b\"],[0.6666666666666666,\"#ed7953\"],[0.7777777777777778,\"#fb9f3a\"],[0.8888888888888888,\"#fdca26\"],[1.0,\"#f0f921\"]]}],\"heatmapgl\":[{\"type\":\"heatmapgl\",\"colorbar\":{\"outlinewidth\":0,\"ticks\":\"\"},\"colorscale\":[[0.0,\"#0d0887\"],[0.1111111111111111,\"#46039f\"],[0.2222222222222222,\"#7201a8\"],[0.3333333333333333,\"#9c179e\"],[0.4444444444444444,\"#bd3786\"],[0.5555555555555556,\"#d8576b\"],[0.6666666666666666,\"#ed7953\"],[0.7777777777777778,\"#fb9f3a\"],[0.8888888888888888,\"#fdca26\"],[1.0,\"#f0f921\"]]}],\"contourcarpet\":[{\"type\":\"contourcarpet\",\"colorbar\":{\"outlinewidth\":0,\"ticks\":\"\"}}],\"contour\":[{\"type\":\"contour\",\"colorbar\":{\"outlinewidth\":0,\"ticks\":\"\"},\"colorscale\":[[0.0,\"#0d0887\"],[0.1111111111111111,\"#46039f\"],[0.2222222222222222,\"#7201a8\"],[0.3333333333333333,\"#9c179e\"],[0.4444444444444444,\"#bd3786\"],[0.5555555555555556,\"#d8576b\"],[0.6666666666666666,\"#ed7953\"],[0.7777777777777778,\"#fb9f3a\"],[0.8888888888888888,\"#fdca26\"],[1.0,\"#f0f921\"]]}],\"surface\":[{\"type\":\"surface\",\"colorbar\":{\"outlinewidth\":0,\"ticks\":\"\"},\"colorscale\":[[0.0,\"#0d0887\"],[0.1111111111111111,\"#46039f\"],[0.2222222222222222,\"#7201a8\"],[0.3333333333333333,\"#9c179e\"],[0.4444444444444444,\"#bd3786\"],[0.5555555555555556,\"#d8576b\"],[0.6666666666666666,\"#ed7953\"],[0.7777777777777778,\"#fb9f3a\"],[0.8888888888888888,\"#fdca26\"],[1.0,\"#f0f921\"]]}],\"mesh3d\":[{\"type\":\"mesh3d\",\"colorbar\":{\"outlinewidth\":0,\"ticks\":\"\"}}],\"scatter\":[{\"marker\":{\"line\":{\"color\":\"#283442\"}},\"type\":\"scatter\"}],\"parcoords\":[{\"type\":\"parcoords\",\"line\":{\"colorbar\":{\"outlinewidth\":0,\"ticks\":\"\"}}}],\"scatterpolargl\":[{\"type\":\"scatterpolargl\",\"marker\":{\"colorbar\":{\"outlinewidth\":0,\"ticks\":\"\"}}}],\"bar\":[{\"error_x\":{\"color\":\"#f2f5fa\"},\"error_y\":{\"color\":\"#f2f5fa\"},\"marker\":{\"line\":{\"color\":\"rgb(17,17,17)\",\"width\":0.5},\"pattern\":{\"fillmode\":\"overlay\",\"size\":10,\"solidity\":0.2}},\"type\":\"bar\"}],\"scattergeo\":[{\"type\":\"scattergeo\",\"marker\":{\"colorbar\":{\"outlinewidth\":0,\"ticks\":\"\"}}}],\"scatterpolar\":[{\"type\":\"scatterpolar\",\"marker\":{\"colorbar\":{\"outlinewidth\":0,\"ticks\":\"\"}}}],\"histogram\":[{\"marker\":{\"pattern\":{\"fillmode\":\"overlay\",\"size\":10,\"solidity\":0.2}},\"type\":\"histogram\"}],\"scattergl\":[{\"marker\":{\"line\":{\"color\":\"#283442\"}},\"type\":\"scattergl\"}],\"scatter3d\":[{\"type\":\"scatter3d\",\"line\":{\"colorbar\":{\"outlinewidth\":0,\"ticks\":\"\"}},\"marker\":{\"colorbar\":{\"outlinewidth\":0,\"ticks\":\"\"}}}],\"scattermapbox\":[{\"type\":\"scattermapbox\",\"marker\":{\"colorbar\":{\"outlinewidth\":0,\"ticks\":\"\"}}}],\"scatterternary\":[{\"type\":\"scatterternary\",\"marker\":{\"colorbar\":{\"outlinewidth\":0,\"ticks\":\"\"}}}],\"scattercarpet\":[{\"type\":\"scattercarpet\",\"marker\":{\"colorbar\":{\"outlinewidth\":0,\"ticks\":\"\"}}}],\"carpet\":[{\"aaxis\":{\"endlinecolor\":\"#A2B1C6\",\"gridcolor\":\"#506784\",\"linecolor\":\"#506784\",\"minorgridcolor\":\"#506784\",\"startlinecolor\":\"#A2B1C6\"},\"baxis\":{\"endlinecolor\":\"#A2B1C6\",\"gridcolor\":\"#506784\",\"linecolor\":\"#506784\",\"minorgridcolor\":\"#506784\",\"startlinecolor\":\"#A2B1C6\"},\"type\":\"carpet\"}],\"table\":[{\"cells\":{\"fill\":{\"color\":\"#506784\"},\"line\":{\"color\":\"rgb(17,17,17)\"}},\"header\":{\"fill\":{\"color\":\"#2a3f5f\"},\"line\":{\"color\":\"rgb(17,17,17)\"}},\"type\":\"table\"}],\"barpolar\":[{\"marker\":{\"line\":{\"color\":\"rgb(17,17,17)\",\"width\":0.5},\"pattern\":{\"fillmode\":\"overlay\",\"size\":10,\"solidity\":0.2}},\"type\":\"barpolar\"}],\"pie\":[{\"automargin\":true,\"type\":\"pie\"}]},\"layout\":{\"autotypenumbers\":\"strict\",\"colorway\":[\"#636efa\",\"#EF553B\",\"#00cc96\",\"#ab63fa\",\"#FFA15A\",\"#19d3f3\",\"#FF6692\",\"#B6E880\",\"#FF97FF\",\"#FECB52\"],\"font\":{\"color\":\"#f2f5fa\"},\"hovermode\":\"closest\",\"hoverlabel\":{\"align\":\"left\"},\"paper_bgcolor\":\"rgb(17,17,17)\",\"plot_bgcolor\":\"rgb(17,17,17)\",\"polar\":{\"bgcolor\":\"rgb(17,17,17)\",\"angularaxis\":{\"gridcolor\":\"#506784\",\"linecolor\":\"#506784\",\"ticks\":\"\"},\"radialaxis\":{\"gridcolor\":\"#506784\",\"linecolor\":\"#506784\",\"ticks\":\"\"}},\"ternary\":{\"bgcolor\":\"rgb(17,17,17)\",\"aaxis\":{\"gridcolor\":\"#506784\",\"linecolor\":\"#506784\",\"ticks\":\"\"},\"baxis\":{\"gridcolor\":\"#506784\",\"linecolor\":\"#506784\",\"ticks\":\"\"},\"caxis\":{\"gridcolor\":\"#506784\",\"linecolor\":\"#506784\",\"ticks\":\"\"}},\"coloraxis\":{\"colorbar\":{\"outlinewidth\":0,\"ticks\":\"\"}},\"colorscale\":{\"sequential\":[[0.0,\"#0d0887\"],[0.1111111111111111,\"#46039f\"],[0.2222222222222222,\"#7201a8\"],[0.3333333333333333,\"#9c179e\"],[0.4444444444444444,\"#bd3786\"],[0.5555555555555556,\"#d8576b\"],[0.6666666666666666,\"#ed7953\"],[0.7777777777777778,\"#fb9f3a\"],[0.8888888888888888,\"#fdca26\"],[1.0,\"#f0f921\"]],\"sequentialminus\":[[0.0,\"#0d0887\"],[0.1111111111111111,\"#46039f\"],[0.2222222222222222,\"#7201a8\"],[0.3333333333333333,\"#9c179e\"],[0.4444444444444444,\"#bd3786\"],[0.5555555555555556,\"#d8576b\"],[0.6666666666666666,\"#ed7953\"],[0.7777777777777778,\"#fb9f3a\"],[0.8888888888888888,\"#fdca26\"],[1.0,\"#f0f921\"]],\"diverging\":[[0,\"#8e0152\"],[0.1,\"#c51b7d\"],[0.2,\"#de77ae\"],[0.3,\"#f1b6da\"],[0.4,\"#fde0ef\"],[0.5,\"#f7f7f7\"],[0.6,\"#e6f5d0\"],[0.7,\"#b8e186\"],[0.8,\"#7fbc41\"],[0.9,\"#4d9221\"],[1,\"#276419\"]]},\"xaxis\":{\"gridcolor\":\"#283442\",\"linecolor\":\"#506784\",\"ticks\":\"\",\"title\":{\"standoff\":15},\"zerolinecolor\":\"#283442\",\"automargin\":true,\"zerolinewidth\":2},\"yaxis\":{\"gridcolor\":\"#283442\",\"linecolor\":\"#506784\",\"ticks\":\"\",\"title\":{\"standoff\":15},\"zerolinecolor\":\"#283442\",\"automargin\":true,\"zerolinewidth\":2},\"scene\":{\"xaxis\":{\"backgroundcolor\":\"rgb(17,17,17)\",\"gridcolor\":\"#506784\",\"linecolor\":\"#506784\",\"showbackground\":true,\"ticks\":\"\",\"zerolinecolor\":\"#C8D4E3\",\"gridwidth\":2},\"yaxis\":{\"backgroundcolor\":\"rgb(17,17,17)\",\"gridcolor\":\"#506784\",\"linecolor\":\"#506784\",\"showbackground\":true,\"ticks\":\"\",\"zerolinecolor\":\"#C8D4E3\",\"gridwidth\":2},\"zaxis\":{\"backgroundcolor\":\"rgb(17,17,17)\",\"gridcolor\":\"#506784\",\"linecolor\":\"#506784\",\"showbackground\":true,\"ticks\":\"\",\"zerolinecolor\":\"#C8D4E3\",\"gridwidth\":2}},\"shapedefaults\":{\"line\":{\"color\":\"#f2f5fa\"}},\"annotationdefaults\":{\"arrowcolor\":\"#f2f5fa\",\"arrowhead\":0,\"arrowwidth\":1},\"geo\":{\"bgcolor\":\"rgb(17,17,17)\",\"landcolor\":\"rgb(17,17,17)\",\"subunitcolor\":\"#506784\",\"showland\":true,\"showlakes\":true,\"lakecolor\":\"rgb(17,17,17)\"},\"title\":{\"x\":0.05},\"updatemenudefaults\":{\"bgcolor\":\"#506784\",\"borderwidth\":0},\"sliderdefaults\":{\"bgcolor\":\"#C8D4E3\",\"borderwidth\":1,\"bordercolor\":\"rgb(17,17,17)\",\"tickwidth\":0},\"mapbox\":{\"style\":\"dark\"}}},\"xaxis\":{\"anchor\":\"y\",\"domain\":[0.0,0.45],\"title\":{\"text\":\"Hour\"}},\"yaxis\":{\"anchor\":\"x\",\"domain\":[0.625,1.0],\"title\":{\"text\":\"Generation (MWh)\"}},\"xaxis2\":{\"anchor\":\"y2\",\"domain\":[0.55,1.0],\"title\":{\"text\":\"Hour\"}},\"yaxis2\":{\"anchor\":\"x2\",\"domain\":[0.625,1.0],\"title\":{\"text\":\"Generation (MWh)\"}},\"xaxis3\":{\"anchor\":\"y3\",\"domain\":[0.0,0.45],\"title\":{\"text\":\"Hour\"}},\"yaxis3\":{\"anchor\":\"x3\",\"domain\":[0.0,0.375],\"title\":{\"text\":\"Generation (MWh)\"}},\"xaxis4\":{\"anchor\":\"y4\",\"domain\":[0.55,1.0],\"title\":{\"text\":\"Hour\"}},\"yaxis4\":{\"anchor\":\"x4\",\"domain\":[0.0,0.375],\"title\":{\"text\":\"Generation (MWh)\"}},\"annotations\":[{\"font\":{\"size\":16},\"showarrow\":false,\"text\":\"CAISO\",\"x\":0.225,\"xanchor\":\"center\",\"xref\":\"paper\",\"y\":1.0,\"yanchor\":\"bottom\",\"yref\":\"paper\"},{\"font\":{\"size\":16},\"showarrow\":false,\"text\":\"ERCOT\",\"x\":0.775,\"xanchor\":\"center\",\"xref\":\"paper\",\"y\":1.0,\"yanchor\":\"bottom\",\"yref\":\"paper\"},{\"font\":{\"size\":16},\"showarrow\":false,\"text\":\"PJM\",\"x\":0.225,\"xanchor\":\"center\",\"xref\":\"paper\",\"y\":0.375,\"yanchor\":\"bottom\",\"yref\":\"paper\"},{\"font\":{\"size\":16},\"showarrow\":false,\"text\":\"ISONE\",\"x\":0.775,\"xanchor\":\"center\",\"xref\":\"paper\",\"y\":0.375,\"yanchor\":\"bottom\",\"yref\":\"paper\"}],\"font\":{\"color\":\"black\"},\"paper_bgcolor\":\"rgba(0,0,0,0)\",\"plot_bgcolor\":\"rgba(0,0,0,0)\",\"title\":{\"text\":\"Average Hourly Generation Profile from 2022 by ISO\"},\"height\":1000,\"width\":1400},                        {\"responsive\": true}                    ).then(function(){\n                            \nvar gd = document.getElementById('44488f58-4272-455d-833f-350ec9d3606b');\nvar x = new MutationObserver(function (mutations, observer) {{\n        var display = window.getComputedStyle(gd).display;\n        if (!display || display === 'none') {{\n            console.log([gd, 'removed!']);\n            Plotly.purge(gd);\n            observer.disconnect();\n        }}\n}});\n\n// Listen for the removal of the full notebook cells\nvar notebookContainer = gd.closest('#notebook-container');\nif (notebookContainer) {{\n    x.observe(notebookContainer, {childList: true});\n}}\n\n// Listen for the clearing of the current output cell\nvar outputEl = gd.closest('.output');\nif (outputEl) {{\n    x.observe(outputEl, {childList: true});\n}}\n\n                        })                };                });            </script>        </div>"
     },
     "metadata": {},
     "output_type": "display_data"
    }
   ],
   "source": [
    "ling2 = plot_hourly_gen(ISO_dict, \"/Users/evanlipton/Desktop/Thesis/generation_figures\")\n"
   ],
   "metadata": {
    "collapsed": false
   }
  },
  {
   "cell_type": "code",
   "execution_count": 75,
   "outputs": [
    {
     "data": {
      "application/vnd.plotly.v1+json": {
       "data": [
        {
         "fillpattern": {
          "shape": ""
         },
         "hovertemplate": "Generation Type=biomass<br>Year=%{x}<br>Total Generation (MWh)=%{y}<extra></extra>",
         "legendgroup": "biomass",
         "line": {
          "color": "#FD3216"
         },
         "marker": {
          "symbol": "circle"
         },
         "mode": "lines",
         "name": "biomass",
         "orientation": "v",
         "showlegend": true,
         "stackgroup": "1",
         "x": [
          2014,
          2015,
          2017,
          2018,
          2019,
          2020,
          2021,
          2022
         ],
         "xaxis": "x",
         "y": [
          2754087.0,
          2395276.0,
          2303320.0,
          2905890.0,
          2900786.0979812,
          2681707.3333365,
          2579582.3333312,
          2550511.0333348
         ],
         "yaxis": "y",
         "type": "scatter"
        },
        {
         "fillpattern": {
          "shape": ""
         },
         "hovertemplate": "Generation Type=geothermal<br>Year=%{x}<br>Total Generation (MWh)=%{y}<extra></extra>",
         "legendgroup": "geothermal",
         "line": {
          "color": "#00FE35"
         },
         "marker": {
          "symbol": "circle"
         },
         "mode": "lines",
         "name": "geothermal",
         "orientation": "v",
         "showlegend": true,
         "stackgroup": "1",
         "x": [
          2014,
          2015,
          2016,
          2017,
          2018,
          2019,
          2020,
          2021,
          2022
         ],
         "xaxis": "x",
         "y": [
          7870608.0,
          9026433.0,
          8594619.0,
          8336366.0,
          8336673.0,
          7535856.79647,
          7845988.9999971,
          7964813.4166703,
          7603607.7666692
         ],
         "yaxis": "y",
         "type": "scatter"
        },
        {
         "fillpattern": {
          "shape": ""
         },
         "hovertemplate": "Generation Type=hydro<br>Year=%{x}<br>Total Generation (MWh)=%{y}<extra></extra>",
         "legendgroup": "hydro",
         "line": {
          "color": "#6A76FC"
         },
         "marker": {
          "symbol": "circle"
         },
         "mode": "lines",
         "name": "hydro",
         "orientation": "v",
         "showlegend": true,
         "stackgroup": "1",
         "x": [
          2014,
          2015,
          2016,
          2017,
          2018,
          2019,
          2020,
          2021,
          2022
         ],
         "xaxis": "x",
         "y": [
          1.195543E7,
          1.2362451E7,
          2.2579858E7,
          3.1590443E7,
          2.1538211E7,
          2.56586810292489E7,
          1.4166721833328199E7,
          9864617.833338019,
          1.312597445002781E7
         ],
         "yaxis": "y",
         "type": "scatter"
        },
        {
         "fillpattern": {
          "shape": ""
         },
         "hovertemplate": "Generation Type=imports<br>Year=%{x}<br>Total Generation (MWh)=%{y}<extra></extra>",
         "legendgroup": "imports",
         "line": {
          "color": "#FED4C4"
         },
         "marker": {
          "symbol": "circle"
         },
         "mode": "lines",
         "name": "imports",
         "orientation": "v",
         "showlegend": true,
         "stackgroup": "1",
         "x": [
          2014,
          2015,
          2016,
          2017,
          2018,
          2019,
          2020,
          2021,
          2022
         ],
         "xaxis": "x",
         "y": [
          6.3215483E7,
          6.3184449E7,
          6.4590625E7,
          6.1152468E7,
          6.1445396E7,
          5.13573201970007E7,
          5.635807000001056E7,
          5.044905724997805E7,
          4.41235825333179E7
         ],
         "yaxis": "y",
         "type": "scatter"
        },
        {
         "fillpattern": {
          "shape": ""
         },
         "hovertemplate": "Generation Type=natural_gas<br>Year=%{x}<br>Total Generation (MWh)=%{y}<extra></extra>",
         "legendgroup": "natural_gas",
         "line": {
          "color": "#FE00CE"
         },
         "marker": {
          "symbol": "circle"
         },
         "mode": "lines",
         "name": "natural_gas",
         "orientation": "v",
         "showlegend": true,
         "stackgroup": "1",
         "x": [
          2014,
          2015,
          2016,
          2017,
          2018,
          2019,
          2020,
          2021,
          2022
         ],
         "xaxis": "x",
         "y": [
          1.01474945E8,
          9.6022336E7,
          7.5454564E7,
          6.5027887E7,
          6.445108E7,
          6.46875952405102E7,
          7.3828291166709E7,
          7.9191632999909E7,
          8.2650032549836E7
         ],
         "yaxis": "y",
         "type": "scatter"
        },
        {
         "fillpattern": {
          "shape": ""
         },
         "hovertemplate": "Generation Type=nuclear<br>Year=%{x}<br>Total Generation (MWh)=%{y}<extra></extra>",
         "legendgroup": "nuclear",
         "line": {
          "color": "#0DF9FF"
         },
         "marker": {
          "symbol": "circle"
         },
         "mode": "lines",
         "name": "nuclear",
         "orientation": "v",
         "showlegend": true,
         "stackgroup": "1",
         "x": [
          2014,
          2015,
          2016,
          2017,
          2018,
          2019,
          2020,
          2021,
          2022
         ],
         "xaxis": "x",
         "y": [
          1.69169E7,
          1.852708E7,
          1.8926559E7,
          1.7941445E7,
          1.8291155E7,
          1.60547931105926E7,
          1.6330427416655723E7,
          1.65744026666409E7,
          1.7649610966649E7
         ],
         "yaxis": "y",
         "type": "scatter"
        },
        {
         "fillpattern": {
          "shape": ""
         },
         "hovertemplate": "Generation Type=solar<br>Year=%{x}<br>Total Generation (MWh)=%{y}<extra></extra>",
         "legendgroup": "solar",
         "line": {
          "color": "#F6F926"
         },
         "marker": {
          "symbol": "circle"
         },
         "mode": "lines",
         "name": "solar",
         "orientation": "v",
         "showlegend": true,
         "stackgroup": "1",
         "x": [
          2014,
          2015,
          2016,
          2017,
          2018,
          2019,
          2020,
          2021,
          2022
         ],
         "xaxis": "x",
         "y": [
          1.1418127E7,
          1.5638635E7,
          2.0725112E7,
          2.5340314E7,
          2.7780355E7,
          2.8609064499854624E7,
          3.0435283083337817E7,
          3.4373300499988526E7,
          3.75885415999964E7
         ],
         "yaxis": "y",
         "type": "scatter"
        },
        {
         "fillpattern": {
          "shape": ""
         },
         "hovertemplate": "Generation Type=wind<br>Year=%{x}<br>Total Generation (MWh)=%{y}<extra></extra>",
         "legendgroup": "wind",
         "line": {
          "color": "#FF9616"
         },
         "marker": {
          "symbol": "circle"
         },
         "mode": "lines",
         "name": "wind",
         "orientation": "v",
         "showlegend": true,
         "stackgroup": "1",
         "x": [
          2014,
          2015,
          2016,
          2017,
          2018,
          2019,
          2020,
          2021,
          2022
         ],
         "xaxis": "x",
         "y": [
          1.2884834E7,
          1.223793E7,
          1.3834408E7,
          1.3952956E7,
          1.6543902E7,
          1.6482449027779737E7,
          1.6462940083322141E7,
          2.012988674996003E7,
          2.16088096999923E7
         ],
         "yaxis": "y",
         "type": "scatter"
        },
        {
         "fillpattern": {
          "shape": ""
         },
         "hovertemplate": "Generation Type=small_hydro<br>Year=%{x}<br>Total Generation (MWh)=%{y}<extra></extra>",
         "legendgroup": "small_hydro",
         "line": {
          "color": "#479B55"
         },
         "marker": {
          "symbol": "circle"
         },
         "mode": "lines",
         "name": "small_hydro",
         "orientation": "v",
         "showlegend": true,
         "stackgroup": "1",
         "x": [
          2016,
          2017,
          2018,
          2019
         ],
         "xaxis": "x",
         "y": [
          2881090.0,
          3853164.0,
          3003127.0,
          3418532.8813143
         ],
         "yaxis": "y",
         "type": "scatter"
        }
       ],
       "layout": {
        "template": {
         "data": {
          "histogram2dcontour": [
           {
            "type": "histogram2dcontour",
            "colorbar": {
             "outlinewidth": 0,
             "ticks": ""
            },
            "colorscale": [
             [
              0.0,
              "#0d0887"
             ],
             [
              0.1111111111111111,
              "#46039f"
             ],
             [
              0.2222222222222222,
              "#7201a8"
             ],
             [
              0.3333333333333333,
              "#9c179e"
             ],
             [
              0.4444444444444444,
              "#bd3786"
             ],
             [
              0.5555555555555556,
              "#d8576b"
             ],
             [
              0.6666666666666666,
              "#ed7953"
             ],
             [
              0.7777777777777778,
              "#fb9f3a"
             ],
             [
              0.8888888888888888,
              "#fdca26"
             ],
             [
              1.0,
              "#f0f921"
             ]
            ]
           }
          ],
          "choropleth": [
           {
            "type": "choropleth",
            "colorbar": {
             "outlinewidth": 0,
             "ticks": ""
            }
           }
          ],
          "histogram2d": [
           {
            "type": "histogram2d",
            "colorbar": {
             "outlinewidth": 0,
             "ticks": ""
            },
            "colorscale": [
             [
              0.0,
              "#0d0887"
             ],
             [
              0.1111111111111111,
              "#46039f"
             ],
             [
              0.2222222222222222,
              "#7201a8"
             ],
             [
              0.3333333333333333,
              "#9c179e"
             ],
             [
              0.4444444444444444,
              "#bd3786"
             ],
             [
              0.5555555555555556,
              "#d8576b"
             ],
             [
              0.6666666666666666,
              "#ed7953"
             ],
             [
              0.7777777777777778,
              "#fb9f3a"
             ],
             [
              0.8888888888888888,
              "#fdca26"
             ],
             [
              1.0,
              "#f0f921"
             ]
            ]
           }
          ],
          "heatmap": [
           {
            "type": "heatmap",
            "colorbar": {
             "outlinewidth": 0,
             "ticks": ""
            },
            "colorscale": [
             [
              0.0,
              "#0d0887"
             ],
             [
              0.1111111111111111,
              "#46039f"
             ],
             [
              0.2222222222222222,
              "#7201a8"
             ],
             [
              0.3333333333333333,
              "#9c179e"
             ],
             [
              0.4444444444444444,
              "#bd3786"
             ],
             [
              0.5555555555555556,
              "#d8576b"
             ],
             [
              0.6666666666666666,
              "#ed7953"
             ],
             [
              0.7777777777777778,
              "#fb9f3a"
             ],
             [
              0.8888888888888888,
              "#fdca26"
             ],
             [
              1.0,
              "#f0f921"
             ]
            ]
           }
          ],
          "heatmapgl": [
           {
            "type": "heatmapgl",
            "colorbar": {
             "outlinewidth": 0,
             "ticks": ""
            },
            "colorscale": [
             [
              0.0,
              "#0d0887"
             ],
             [
              0.1111111111111111,
              "#46039f"
             ],
             [
              0.2222222222222222,
              "#7201a8"
             ],
             [
              0.3333333333333333,
              "#9c179e"
             ],
             [
              0.4444444444444444,
              "#bd3786"
             ],
             [
              0.5555555555555556,
              "#d8576b"
             ],
             [
              0.6666666666666666,
              "#ed7953"
             ],
             [
              0.7777777777777778,
              "#fb9f3a"
             ],
             [
              0.8888888888888888,
              "#fdca26"
             ],
             [
              1.0,
              "#f0f921"
             ]
            ]
           }
          ],
          "contourcarpet": [
           {
            "type": "contourcarpet",
            "colorbar": {
             "outlinewidth": 0,
             "ticks": ""
            }
           }
          ],
          "contour": [
           {
            "type": "contour",
            "colorbar": {
             "outlinewidth": 0,
             "ticks": ""
            },
            "colorscale": [
             [
              0.0,
              "#0d0887"
             ],
             [
              0.1111111111111111,
              "#46039f"
             ],
             [
              0.2222222222222222,
              "#7201a8"
             ],
             [
              0.3333333333333333,
              "#9c179e"
             ],
             [
              0.4444444444444444,
              "#bd3786"
             ],
             [
              0.5555555555555556,
              "#d8576b"
             ],
             [
              0.6666666666666666,
              "#ed7953"
             ],
             [
              0.7777777777777778,
              "#fb9f3a"
             ],
             [
              0.8888888888888888,
              "#fdca26"
             ],
             [
              1.0,
              "#f0f921"
             ]
            ]
           }
          ],
          "surface": [
           {
            "type": "surface",
            "colorbar": {
             "outlinewidth": 0,
             "ticks": ""
            },
            "colorscale": [
             [
              0.0,
              "#0d0887"
             ],
             [
              0.1111111111111111,
              "#46039f"
             ],
             [
              0.2222222222222222,
              "#7201a8"
             ],
             [
              0.3333333333333333,
              "#9c179e"
             ],
             [
              0.4444444444444444,
              "#bd3786"
             ],
             [
              0.5555555555555556,
              "#d8576b"
             ],
             [
              0.6666666666666666,
              "#ed7953"
             ],
             [
              0.7777777777777778,
              "#fb9f3a"
             ],
             [
              0.8888888888888888,
              "#fdca26"
             ],
             [
              1.0,
              "#f0f921"
             ]
            ]
           }
          ],
          "mesh3d": [
           {
            "type": "mesh3d",
            "colorbar": {
             "outlinewidth": 0,
             "ticks": ""
            }
           }
          ],
          "scatter": [
           {
            "marker": {
             "line": {
              "color": "#283442"
             }
            },
            "type": "scatter"
           }
          ],
          "parcoords": [
           {
            "type": "parcoords",
            "line": {
             "colorbar": {
              "outlinewidth": 0,
              "ticks": ""
             }
            }
           }
          ],
          "scatterpolargl": [
           {
            "type": "scatterpolargl",
            "marker": {
             "colorbar": {
              "outlinewidth": 0,
              "ticks": ""
             }
            }
           }
          ],
          "bar": [
           {
            "error_x": {
             "color": "#f2f5fa"
            },
            "error_y": {
             "color": "#f2f5fa"
            },
            "marker": {
             "line": {
              "color": "rgb(17,17,17)",
              "width": 0.5
             },
             "pattern": {
              "fillmode": "overlay",
              "size": 10,
              "solidity": 0.2
             }
            },
            "type": "bar"
           }
          ],
          "scattergeo": [
           {
            "type": "scattergeo",
            "marker": {
             "colorbar": {
              "outlinewidth": 0,
              "ticks": ""
             }
            }
           }
          ],
          "scatterpolar": [
           {
            "type": "scatterpolar",
            "marker": {
             "colorbar": {
              "outlinewidth": 0,
              "ticks": ""
             }
            }
           }
          ],
          "histogram": [
           {
            "marker": {
             "pattern": {
              "fillmode": "overlay",
              "size": 10,
              "solidity": 0.2
             }
            },
            "type": "histogram"
           }
          ],
          "scattergl": [
           {
            "marker": {
             "line": {
              "color": "#283442"
             }
            },
            "type": "scattergl"
           }
          ],
          "scatter3d": [
           {
            "type": "scatter3d",
            "line": {
             "colorbar": {
              "outlinewidth": 0,
              "ticks": ""
             }
            },
            "marker": {
             "colorbar": {
              "outlinewidth": 0,
              "ticks": ""
             }
            }
           }
          ],
          "scattermapbox": [
           {
            "type": "scattermapbox",
            "marker": {
             "colorbar": {
              "outlinewidth": 0,
              "ticks": ""
             }
            }
           }
          ],
          "scatterternary": [
           {
            "type": "scatterternary",
            "marker": {
             "colorbar": {
              "outlinewidth": 0,
              "ticks": ""
             }
            }
           }
          ],
          "scattercarpet": [
           {
            "type": "scattercarpet",
            "marker": {
             "colorbar": {
              "outlinewidth": 0,
              "ticks": ""
             }
            }
           }
          ],
          "carpet": [
           {
            "aaxis": {
             "endlinecolor": "#A2B1C6",
             "gridcolor": "#506784",
             "linecolor": "#506784",
             "minorgridcolor": "#506784",
             "startlinecolor": "#A2B1C6"
            },
            "baxis": {
             "endlinecolor": "#A2B1C6",
             "gridcolor": "#506784",
             "linecolor": "#506784",
             "minorgridcolor": "#506784",
             "startlinecolor": "#A2B1C6"
            },
            "type": "carpet"
           }
          ],
          "table": [
           {
            "cells": {
             "fill": {
              "color": "#506784"
             },
             "line": {
              "color": "rgb(17,17,17)"
             }
            },
            "header": {
             "fill": {
              "color": "#2a3f5f"
             },
             "line": {
              "color": "rgb(17,17,17)"
             }
            },
            "type": "table"
           }
          ],
          "barpolar": [
           {
            "marker": {
             "line": {
              "color": "rgb(17,17,17)",
              "width": 0.5
             },
             "pattern": {
              "fillmode": "overlay",
              "size": 10,
              "solidity": 0.2
             }
            },
            "type": "barpolar"
           }
          ],
          "pie": [
           {
            "automargin": true,
            "type": "pie"
           }
          ]
         },
         "layout": {
          "autotypenumbers": "strict",
          "colorway": [
           "#636efa",
           "#EF553B",
           "#00cc96",
           "#ab63fa",
           "#FFA15A",
           "#19d3f3",
           "#FF6692",
           "#B6E880",
           "#FF97FF",
           "#FECB52"
          ],
          "font": {
           "color": "#f2f5fa"
          },
          "hovermode": "closest",
          "hoverlabel": {
           "align": "left"
          },
          "paper_bgcolor": "rgb(17,17,17)",
          "plot_bgcolor": "rgb(17,17,17)",
          "polar": {
           "bgcolor": "rgb(17,17,17)",
           "angularaxis": {
            "gridcolor": "#506784",
            "linecolor": "#506784",
            "ticks": ""
           },
           "radialaxis": {
            "gridcolor": "#506784",
            "linecolor": "#506784",
            "ticks": ""
           }
          },
          "ternary": {
           "bgcolor": "rgb(17,17,17)",
           "aaxis": {
            "gridcolor": "#506784",
            "linecolor": "#506784",
            "ticks": ""
           },
           "baxis": {
            "gridcolor": "#506784",
            "linecolor": "#506784",
            "ticks": ""
           },
           "caxis": {
            "gridcolor": "#506784",
            "linecolor": "#506784",
            "ticks": ""
           }
          },
          "coloraxis": {
           "colorbar": {
            "outlinewidth": 0,
            "ticks": ""
           }
          },
          "colorscale": {
           "sequential": [
            [
             0.0,
             "#0d0887"
            ],
            [
             0.1111111111111111,
             "#46039f"
            ],
            [
             0.2222222222222222,
             "#7201a8"
            ],
            [
             0.3333333333333333,
             "#9c179e"
            ],
            [
             0.4444444444444444,
             "#bd3786"
            ],
            [
             0.5555555555555556,
             "#d8576b"
            ],
            [
             0.6666666666666666,
             "#ed7953"
            ],
            [
             0.7777777777777778,
             "#fb9f3a"
            ],
            [
             0.8888888888888888,
             "#fdca26"
            ],
            [
             1.0,
             "#f0f921"
            ]
           ],
           "sequentialminus": [
            [
             0.0,
             "#0d0887"
            ],
            [
             0.1111111111111111,
             "#46039f"
            ],
            [
             0.2222222222222222,
             "#7201a8"
            ],
            [
             0.3333333333333333,
             "#9c179e"
            ],
            [
             0.4444444444444444,
             "#bd3786"
            ],
            [
             0.5555555555555556,
             "#d8576b"
            ],
            [
             0.6666666666666666,
             "#ed7953"
            ],
            [
             0.7777777777777778,
             "#fb9f3a"
            ],
            [
             0.8888888888888888,
             "#fdca26"
            ],
            [
             1.0,
             "#f0f921"
            ]
           ],
           "diverging": [
            [
             0,
             "#8e0152"
            ],
            [
             0.1,
             "#c51b7d"
            ],
            [
             0.2,
             "#de77ae"
            ],
            [
             0.3,
             "#f1b6da"
            ],
            [
             0.4,
             "#fde0ef"
            ],
            [
             0.5,
             "#f7f7f7"
            ],
            [
             0.6,
             "#e6f5d0"
            ],
            [
             0.7,
             "#b8e186"
            ],
            [
             0.8,
             "#7fbc41"
            ],
            [
             0.9,
             "#4d9221"
            ],
            [
             1,
             "#276419"
            ]
           ]
          },
          "xaxis": {
           "gridcolor": "#283442",
           "linecolor": "#506784",
           "ticks": "",
           "title": {
            "standoff": 15
           },
           "zerolinecolor": "#283442",
           "automargin": true,
           "zerolinewidth": 2
          },
          "yaxis": {
           "gridcolor": "#283442",
           "linecolor": "#506784",
           "ticks": "",
           "title": {
            "standoff": 15
           },
           "zerolinecolor": "#283442",
           "automargin": true,
           "zerolinewidth": 2
          },
          "scene": {
           "xaxis": {
            "backgroundcolor": "rgb(17,17,17)",
            "gridcolor": "#506784",
            "linecolor": "#506784",
            "showbackground": true,
            "ticks": "",
            "zerolinecolor": "#C8D4E3",
            "gridwidth": 2
           },
           "yaxis": {
            "backgroundcolor": "rgb(17,17,17)",
            "gridcolor": "#506784",
            "linecolor": "#506784",
            "showbackground": true,
            "ticks": "",
            "zerolinecolor": "#C8D4E3",
            "gridwidth": 2
           },
           "zaxis": {
            "backgroundcolor": "rgb(17,17,17)",
            "gridcolor": "#506784",
            "linecolor": "#506784",
            "showbackground": true,
            "ticks": "",
            "zerolinecolor": "#C8D4E3",
            "gridwidth": 2
           }
          },
          "shapedefaults": {
           "line": {
            "color": "#f2f5fa"
           }
          },
          "annotationdefaults": {
           "arrowcolor": "#f2f5fa",
           "arrowhead": 0,
           "arrowwidth": 1
          },
          "geo": {
           "bgcolor": "rgb(17,17,17)",
           "landcolor": "rgb(17,17,17)",
           "subunitcolor": "#506784",
           "showland": true,
           "showlakes": true,
           "lakecolor": "rgb(17,17,17)"
          },
          "title": {
           "x": 0.05
          },
          "updatemenudefaults": {
           "bgcolor": "#506784",
           "borderwidth": 0
          },
          "sliderdefaults": {
           "bgcolor": "#C8D4E3",
           "borderwidth": 1,
           "bordercolor": "rgb(17,17,17)",
           "tickwidth": 0
          },
          "mapbox": {
           "style": "dark"
          }
         }
        },
        "xaxis": {
         "anchor": "y",
         "domain": [
          0.0,
          1.0
         ],
         "title": {
          "text": "Year"
         }
        },
        "yaxis": {
         "anchor": "x",
         "domain": [
          0.0,
          1.0
         ],
         "title": {
          "text": "Total Generation (MWh)"
         }
        },
        "legend": {
         "title": {
          "text": "Generation Type"
         },
         "tracegroupgap": 0
        },
        "title": {
         "text": "Total Annual Generation by Type for CAISO from 2014 - 2022"
        },
        "paper_bgcolor": "rgba(0,0,0,0)",
        "plot_bgcolor": "rgba(0,0,0,0)"
       },
       "config": {
        "plotlyServerURL": "https://plot.ly"
       }
      },
      "text/html": "<div>                            <div id=\"87ed23e2-c876-4e5d-b1a0-e0a6a5bd6351\" class=\"plotly-graph-div\" style=\"height:525px; width:100%;\"></div>            <script type=\"text/javascript\">                require([\"plotly\"], function(Plotly) {                    window.PLOTLYENV=window.PLOTLYENV || {};                                    if (document.getElementById(\"87ed23e2-c876-4e5d-b1a0-e0a6a5bd6351\")) {                    Plotly.newPlot(                        \"87ed23e2-c876-4e5d-b1a0-e0a6a5bd6351\",                        [{\"fillpattern\":{\"shape\":\"\"},\"hovertemplate\":\"Generation Type=biomass<br>Year=%{x}<br>Total Generation (MWh)=%{y}<extra></extra>\",\"legendgroup\":\"biomass\",\"line\":{\"color\":\"#FD3216\"},\"marker\":{\"symbol\":\"circle\"},\"mode\":\"lines\",\"name\":\"biomass\",\"orientation\":\"v\",\"showlegend\":true,\"stackgroup\":\"1\",\"x\":[2014,2015,2017,2018,2019,2020,2021,2022],\"xaxis\":\"x\",\"y\":[2754087.0,2395276.0,2303320.0,2905890.0,2900786.0979812,2681707.3333365,2579582.3333312,2550511.0333348],\"yaxis\":\"y\",\"type\":\"scatter\"},{\"fillpattern\":{\"shape\":\"\"},\"hovertemplate\":\"Generation Type=geothermal<br>Year=%{x}<br>Total Generation (MWh)=%{y}<extra></extra>\",\"legendgroup\":\"geothermal\",\"line\":{\"color\":\"#00FE35\"},\"marker\":{\"symbol\":\"circle\"},\"mode\":\"lines\",\"name\":\"geothermal\",\"orientation\":\"v\",\"showlegend\":true,\"stackgroup\":\"1\",\"x\":[2014,2015,2016,2017,2018,2019,2020,2021,2022],\"xaxis\":\"x\",\"y\":[7870608.0,9026433.0,8594619.0,8336366.0,8336673.0,7535856.79647,7845988.9999971,7964813.4166703,7603607.7666692],\"yaxis\":\"y\",\"type\":\"scatter\"},{\"fillpattern\":{\"shape\":\"\"},\"hovertemplate\":\"Generation Type=hydro<br>Year=%{x}<br>Total Generation (MWh)=%{y}<extra></extra>\",\"legendgroup\":\"hydro\",\"line\":{\"color\":\"#6A76FC\"},\"marker\":{\"symbol\":\"circle\"},\"mode\":\"lines\",\"name\":\"hydro\",\"orientation\":\"v\",\"showlegend\":true,\"stackgroup\":\"1\",\"x\":[2014,2015,2016,2017,2018,2019,2020,2021,2022],\"xaxis\":\"x\",\"y\":[11955430.0,12362451.0,22579858.0,31590443.0,21538211.0,25658681.0292489,14166721.833328199,9864617.833338019,13125974.45002781],\"yaxis\":\"y\",\"type\":\"scatter\"},{\"fillpattern\":{\"shape\":\"\"},\"hovertemplate\":\"Generation Type=imports<br>Year=%{x}<br>Total Generation (MWh)=%{y}<extra></extra>\",\"legendgroup\":\"imports\",\"line\":{\"color\":\"#FED4C4\"},\"marker\":{\"symbol\":\"circle\"},\"mode\":\"lines\",\"name\":\"imports\",\"orientation\":\"v\",\"showlegend\":true,\"stackgroup\":\"1\",\"x\":[2014,2015,2016,2017,2018,2019,2020,2021,2022],\"xaxis\":\"x\",\"y\":[63215483.0,63184449.0,64590625.0,61152468.0,61445396.0,51357320.1970007,56358070.00001056,50449057.24997805,44123582.5333179],\"yaxis\":\"y\",\"type\":\"scatter\"},{\"fillpattern\":{\"shape\":\"\"},\"hovertemplate\":\"Generation Type=natural_gas<br>Year=%{x}<br>Total Generation (MWh)=%{y}<extra></extra>\",\"legendgroup\":\"natural_gas\",\"line\":{\"color\":\"#FE00CE\"},\"marker\":{\"symbol\":\"circle\"},\"mode\":\"lines\",\"name\":\"natural_gas\",\"orientation\":\"v\",\"showlegend\":true,\"stackgroup\":\"1\",\"x\":[2014,2015,2016,2017,2018,2019,2020,2021,2022],\"xaxis\":\"x\",\"y\":[101474945.0,96022336.0,75454564.0,65027887.0,64451080.0,64687595.2405102,73828291.166709,79191632.999909,82650032.549836],\"yaxis\":\"y\",\"type\":\"scatter\"},{\"fillpattern\":{\"shape\":\"\"},\"hovertemplate\":\"Generation Type=nuclear<br>Year=%{x}<br>Total Generation (MWh)=%{y}<extra></extra>\",\"legendgroup\":\"nuclear\",\"line\":{\"color\":\"#0DF9FF\"},\"marker\":{\"symbol\":\"circle\"},\"mode\":\"lines\",\"name\":\"nuclear\",\"orientation\":\"v\",\"showlegend\":true,\"stackgroup\":\"1\",\"x\":[2014,2015,2016,2017,2018,2019,2020,2021,2022],\"xaxis\":\"x\",\"y\":[16916900.0,18527080.0,18926559.0,17941445.0,18291155.0,16054793.1105926,16330427.416655723,16574402.6666409,17649610.966649],\"yaxis\":\"y\",\"type\":\"scatter\"},{\"fillpattern\":{\"shape\":\"\"},\"hovertemplate\":\"Generation Type=solar<br>Year=%{x}<br>Total Generation (MWh)=%{y}<extra></extra>\",\"legendgroup\":\"solar\",\"line\":{\"color\":\"#F6F926\"},\"marker\":{\"symbol\":\"circle\"},\"mode\":\"lines\",\"name\":\"solar\",\"orientation\":\"v\",\"showlegend\":true,\"stackgroup\":\"1\",\"x\":[2014,2015,2016,2017,2018,2019,2020,2021,2022],\"xaxis\":\"x\",\"y\":[11418127.0,15638635.0,20725112.0,25340314.0,27780355.0,28609064.499854624,30435283.083337817,34373300.499988526,37588541.5999964],\"yaxis\":\"y\",\"type\":\"scatter\"},{\"fillpattern\":{\"shape\":\"\"},\"hovertemplate\":\"Generation Type=wind<br>Year=%{x}<br>Total Generation (MWh)=%{y}<extra></extra>\",\"legendgroup\":\"wind\",\"line\":{\"color\":\"#FF9616\"},\"marker\":{\"symbol\":\"circle\"},\"mode\":\"lines\",\"name\":\"wind\",\"orientation\":\"v\",\"showlegend\":true,\"stackgroup\":\"1\",\"x\":[2014,2015,2016,2017,2018,2019,2020,2021,2022],\"xaxis\":\"x\",\"y\":[12884834.0,12237930.0,13834408.0,13952956.0,16543902.0,16482449.027779737,16462940.083322141,20129886.74996003,21608809.6999923],\"yaxis\":\"y\",\"type\":\"scatter\"},{\"fillpattern\":{\"shape\":\"\"},\"hovertemplate\":\"Generation Type=small_hydro<br>Year=%{x}<br>Total Generation (MWh)=%{y}<extra></extra>\",\"legendgroup\":\"small_hydro\",\"line\":{\"color\":\"#479B55\"},\"marker\":{\"symbol\":\"circle\"},\"mode\":\"lines\",\"name\":\"small_hydro\",\"orientation\":\"v\",\"showlegend\":true,\"stackgroup\":\"1\",\"x\":[2016,2017,2018,2019],\"xaxis\":\"x\",\"y\":[2881090.0,3853164.0,3003127.0,3418532.8813143],\"yaxis\":\"y\",\"type\":\"scatter\"}],                        {\"template\":{\"data\":{\"histogram2dcontour\":[{\"type\":\"histogram2dcontour\",\"colorbar\":{\"outlinewidth\":0,\"ticks\":\"\"},\"colorscale\":[[0.0,\"#0d0887\"],[0.1111111111111111,\"#46039f\"],[0.2222222222222222,\"#7201a8\"],[0.3333333333333333,\"#9c179e\"],[0.4444444444444444,\"#bd3786\"],[0.5555555555555556,\"#d8576b\"],[0.6666666666666666,\"#ed7953\"],[0.7777777777777778,\"#fb9f3a\"],[0.8888888888888888,\"#fdca26\"],[1.0,\"#f0f921\"]]}],\"choropleth\":[{\"type\":\"choropleth\",\"colorbar\":{\"outlinewidth\":0,\"ticks\":\"\"}}],\"histogram2d\":[{\"type\":\"histogram2d\",\"colorbar\":{\"outlinewidth\":0,\"ticks\":\"\"},\"colorscale\":[[0.0,\"#0d0887\"],[0.1111111111111111,\"#46039f\"],[0.2222222222222222,\"#7201a8\"],[0.3333333333333333,\"#9c179e\"],[0.4444444444444444,\"#bd3786\"],[0.5555555555555556,\"#d8576b\"],[0.6666666666666666,\"#ed7953\"],[0.7777777777777778,\"#fb9f3a\"],[0.8888888888888888,\"#fdca26\"],[1.0,\"#f0f921\"]]}],\"heatmap\":[{\"type\":\"heatmap\",\"colorbar\":{\"outlinewidth\":0,\"ticks\":\"\"},\"colorscale\":[[0.0,\"#0d0887\"],[0.1111111111111111,\"#46039f\"],[0.2222222222222222,\"#7201a8\"],[0.3333333333333333,\"#9c179e\"],[0.4444444444444444,\"#bd3786\"],[0.5555555555555556,\"#d8576b\"],[0.6666666666666666,\"#ed7953\"],[0.7777777777777778,\"#fb9f3a\"],[0.8888888888888888,\"#fdca26\"],[1.0,\"#f0f921\"]]}],\"heatmapgl\":[{\"type\":\"heatmapgl\",\"colorbar\":{\"outlinewidth\":0,\"ticks\":\"\"},\"colorscale\":[[0.0,\"#0d0887\"],[0.1111111111111111,\"#46039f\"],[0.2222222222222222,\"#7201a8\"],[0.3333333333333333,\"#9c179e\"],[0.4444444444444444,\"#bd3786\"],[0.5555555555555556,\"#d8576b\"],[0.6666666666666666,\"#ed7953\"],[0.7777777777777778,\"#fb9f3a\"],[0.8888888888888888,\"#fdca26\"],[1.0,\"#f0f921\"]]}],\"contourcarpet\":[{\"type\":\"contourcarpet\",\"colorbar\":{\"outlinewidth\":0,\"ticks\":\"\"}}],\"contour\":[{\"type\":\"contour\",\"colorbar\":{\"outlinewidth\":0,\"ticks\":\"\"},\"colorscale\":[[0.0,\"#0d0887\"],[0.1111111111111111,\"#46039f\"],[0.2222222222222222,\"#7201a8\"],[0.3333333333333333,\"#9c179e\"],[0.4444444444444444,\"#bd3786\"],[0.5555555555555556,\"#d8576b\"],[0.6666666666666666,\"#ed7953\"],[0.7777777777777778,\"#fb9f3a\"],[0.8888888888888888,\"#fdca26\"],[1.0,\"#f0f921\"]]}],\"surface\":[{\"type\":\"surface\",\"colorbar\":{\"outlinewidth\":0,\"ticks\":\"\"},\"colorscale\":[[0.0,\"#0d0887\"],[0.1111111111111111,\"#46039f\"],[0.2222222222222222,\"#7201a8\"],[0.3333333333333333,\"#9c179e\"],[0.4444444444444444,\"#bd3786\"],[0.5555555555555556,\"#d8576b\"],[0.6666666666666666,\"#ed7953\"],[0.7777777777777778,\"#fb9f3a\"],[0.8888888888888888,\"#fdca26\"],[1.0,\"#f0f921\"]]}],\"mesh3d\":[{\"type\":\"mesh3d\",\"colorbar\":{\"outlinewidth\":0,\"ticks\":\"\"}}],\"scatter\":[{\"marker\":{\"line\":{\"color\":\"#283442\"}},\"type\":\"scatter\"}],\"parcoords\":[{\"type\":\"parcoords\",\"line\":{\"colorbar\":{\"outlinewidth\":0,\"ticks\":\"\"}}}],\"scatterpolargl\":[{\"type\":\"scatterpolargl\",\"marker\":{\"colorbar\":{\"outlinewidth\":0,\"ticks\":\"\"}}}],\"bar\":[{\"error_x\":{\"color\":\"#f2f5fa\"},\"error_y\":{\"color\":\"#f2f5fa\"},\"marker\":{\"line\":{\"color\":\"rgb(17,17,17)\",\"width\":0.5},\"pattern\":{\"fillmode\":\"overlay\",\"size\":10,\"solidity\":0.2}},\"type\":\"bar\"}],\"scattergeo\":[{\"type\":\"scattergeo\",\"marker\":{\"colorbar\":{\"outlinewidth\":0,\"ticks\":\"\"}}}],\"scatterpolar\":[{\"type\":\"scatterpolar\",\"marker\":{\"colorbar\":{\"outlinewidth\":0,\"ticks\":\"\"}}}],\"histogram\":[{\"marker\":{\"pattern\":{\"fillmode\":\"overlay\",\"size\":10,\"solidity\":0.2}},\"type\":\"histogram\"}],\"scattergl\":[{\"marker\":{\"line\":{\"color\":\"#283442\"}},\"type\":\"scattergl\"}],\"scatter3d\":[{\"type\":\"scatter3d\",\"line\":{\"colorbar\":{\"outlinewidth\":0,\"ticks\":\"\"}},\"marker\":{\"colorbar\":{\"outlinewidth\":0,\"ticks\":\"\"}}}],\"scattermapbox\":[{\"type\":\"scattermapbox\",\"marker\":{\"colorbar\":{\"outlinewidth\":0,\"ticks\":\"\"}}}],\"scatterternary\":[{\"type\":\"scatterternary\",\"marker\":{\"colorbar\":{\"outlinewidth\":0,\"ticks\":\"\"}}}],\"scattercarpet\":[{\"type\":\"scattercarpet\",\"marker\":{\"colorbar\":{\"outlinewidth\":0,\"ticks\":\"\"}}}],\"carpet\":[{\"aaxis\":{\"endlinecolor\":\"#A2B1C6\",\"gridcolor\":\"#506784\",\"linecolor\":\"#506784\",\"minorgridcolor\":\"#506784\",\"startlinecolor\":\"#A2B1C6\"},\"baxis\":{\"endlinecolor\":\"#A2B1C6\",\"gridcolor\":\"#506784\",\"linecolor\":\"#506784\",\"minorgridcolor\":\"#506784\",\"startlinecolor\":\"#A2B1C6\"},\"type\":\"carpet\"}],\"table\":[{\"cells\":{\"fill\":{\"color\":\"#506784\"},\"line\":{\"color\":\"rgb(17,17,17)\"}},\"header\":{\"fill\":{\"color\":\"#2a3f5f\"},\"line\":{\"color\":\"rgb(17,17,17)\"}},\"type\":\"table\"}],\"barpolar\":[{\"marker\":{\"line\":{\"color\":\"rgb(17,17,17)\",\"width\":0.5},\"pattern\":{\"fillmode\":\"overlay\",\"size\":10,\"solidity\":0.2}},\"type\":\"barpolar\"}],\"pie\":[{\"automargin\":true,\"type\":\"pie\"}]},\"layout\":{\"autotypenumbers\":\"strict\",\"colorway\":[\"#636efa\",\"#EF553B\",\"#00cc96\",\"#ab63fa\",\"#FFA15A\",\"#19d3f3\",\"#FF6692\",\"#B6E880\",\"#FF97FF\",\"#FECB52\"],\"font\":{\"color\":\"#f2f5fa\"},\"hovermode\":\"closest\",\"hoverlabel\":{\"align\":\"left\"},\"paper_bgcolor\":\"rgb(17,17,17)\",\"plot_bgcolor\":\"rgb(17,17,17)\",\"polar\":{\"bgcolor\":\"rgb(17,17,17)\",\"angularaxis\":{\"gridcolor\":\"#506784\",\"linecolor\":\"#506784\",\"ticks\":\"\"},\"radialaxis\":{\"gridcolor\":\"#506784\",\"linecolor\":\"#506784\",\"ticks\":\"\"}},\"ternary\":{\"bgcolor\":\"rgb(17,17,17)\",\"aaxis\":{\"gridcolor\":\"#506784\",\"linecolor\":\"#506784\",\"ticks\":\"\"},\"baxis\":{\"gridcolor\":\"#506784\",\"linecolor\":\"#506784\",\"ticks\":\"\"},\"caxis\":{\"gridcolor\":\"#506784\",\"linecolor\":\"#506784\",\"ticks\":\"\"}},\"coloraxis\":{\"colorbar\":{\"outlinewidth\":0,\"ticks\":\"\"}},\"colorscale\":{\"sequential\":[[0.0,\"#0d0887\"],[0.1111111111111111,\"#46039f\"],[0.2222222222222222,\"#7201a8\"],[0.3333333333333333,\"#9c179e\"],[0.4444444444444444,\"#bd3786\"],[0.5555555555555556,\"#d8576b\"],[0.6666666666666666,\"#ed7953\"],[0.7777777777777778,\"#fb9f3a\"],[0.8888888888888888,\"#fdca26\"],[1.0,\"#f0f921\"]],\"sequentialminus\":[[0.0,\"#0d0887\"],[0.1111111111111111,\"#46039f\"],[0.2222222222222222,\"#7201a8\"],[0.3333333333333333,\"#9c179e\"],[0.4444444444444444,\"#bd3786\"],[0.5555555555555556,\"#d8576b\"],[0.6666666666666666,\"#ed7953\"],[0.7777777777777778,\"#fb9f3a\"],[0.8888888888888888,\"#fdca26\"],[1.0,\"#f0f921\"]],\"diverging\":[[0,\"#8e0152\"],[0.1,\"#c51b7d\"],[0.2,\"#de77ae\"],[0.3,\"#f1b6da\"],[0.4,\"#fde0ef\"],[0.5,\"#f7f7f7\"],[0.6,\"#e6f5d0\"],[0.7,\"#b8e186\"],[0.8,\"#7fbc41\"],[0.9,\"#4d9221\"],[1,\"#276419\"]]},\"xaxis\":{\"gridcolor\":\"#283442\",\"linecolor\":\"#506784\",\"ticks\":\"\",\"title\":{\"standoff\":15},\"zerolinecolor\":\"#283442\",\"automargin\":true,\"zerolinewidth\":2},\"yaxis\":{\"gridcolor\":\"#283442\",\"linecolor\":\"#506784\",\"ticks\":\"\",\"title\":{\"standoff\":15},\"zerolinecolor\":\"#283442\",\"automargin\":true,\"zerolinewidth\":2},\"scene\":{\"xaxis\":{\"backgroundcolor\":\"rgb(17,17,17)\",\"gridcolor\":\"#506784\",\"linecolor\":\"#506784\",\"showbackground\":true,\"ticks\":\"\",\"zerolinecolor\":\"#C8D4E3\",\"gridwidth\":2},\"yaxis\":{\"backgroundcolor\":\"rgb(17,17,17)\",\"gridcolor\":\"#506784\",\"linecolor\":\"#506784\",\"showbackground\":true,\"ticks\":\"\",\"zerolinecolor\":\"#C8D4E3\",\"gridwidth\":2},\"zaxis\":{\"backgroundcolor\":\"rgb(17,17,17)\",\"gridcolor\":\"#506784\",\"linecolor\":\"#506784\",\"showbackground\":true,\"ticks\":\"\",\"zerolinecolor\":\"#C8D4E3\",\"gridwidth\":2}},\"shapedefaults\":{\"line\":{\"color\":\"#f2f5fa\"}},\"annotationdefaults\":{\"arrowcolor\":\"#f2f5fa\",\"arrowhead\":0,\"arrowwidth\":1},\"geo\":{\"bgcolor\":\"rgb(17,17,17)\",\"landcolor\":\"rgb(17,17,17)\",\"subunitcolor\":\"#506784\",\"showland\":true,\"showlakes\":true,\"lakecolor\":\"rgb(17,17,17)\"},\"title\":{\"x\":0.05},\"updatemenudefaults\":{\"bgcolor\":\"#506784\",\"borderwidth\":0},\"sliderdefaults\":{\"bgcolor\":\"#C8D4E3\",\"borderwidth\":1,\"bordercolor\":\"rgb(17,17,17)\",\"tickwidth\":0},\"mapbox\":{\"style\":\"dark\"}}},\"xaxis\":{\"anchor\":\"y\",\"domain\":[0.0,1.0],\"title\":{\"text\":\"Year\"}},\"yaxis\":{\"anchor\":\"x\",\"domain\":[0.0,1.0],\"title\":{\"text\":\"Total Generation (MWh)\"}},\"legend\":{\"title\":{\"text\":\"Generation Type\"},\"tracegroupgap\":0},\"title\":{\"text\":\"Total Annual Generation by Type for CAISO from 2014 - 2022\"},\"paper_bgcolor\":\"rgba(0,0,0,0)\",\"plot_bgcolor\":\"rgba(0,0,0,0)\"},                        {\"responsive\": true}                    ).then(function(){\n                            \nvar gd = document.getElementById('87ed23e2-c876-4e5d-b1a0-e0a6a5bd6351');\nvar x = new MutationObserver(function (mutations, observer) {{\n        var display = window.getComputedStyle(gd).display;\n        if (!display || display === 'none') {{\n            console.log([gd, 'removed!']);\n            Plotly.purge(gd);\n            observer.disconnect();\n        }}\n}});\n\n// Listen for the removal of the full notebook cells\nvar notebookContainer = gd.closest('#notebook-container');\nif (notebookContainer) {{\n    x.observe(notebookContainer, {childList: true});\n}}\n\n// Listen for the clearing of the current output cell\nvar outputEl = gd.closest('.output');\nif (outputEl) {{\n    x.observe(outputEl, {childList: true});\n}}\n\n                        })                };                });            </script>        </div>"
     },
     "metadata": {},
     "output_type": "display_data"
    },
    {
     "data": {
      "application/vnd.plotly.v1+json": {
       "data": [
        {
         "fillpattern": {
          "shape": ""
         },
         "hovertemplate": "Generation Type=coal<br>Year=%{x}<br>Total Generation (MWh)=%{y}<extra></extra>",
         "legendgroup": "coal",
         "line": {
          "color": "#FD3216"
         },
         "marker": {
          "symbol": "circle"
         },
         "mode": "lines",
         "name": "coal",
         "orientation": "v",
         "showlegend": true,
         "stackgroup": "1",
         "x": [
          2015,
          2016,
          2017,
          2018
         ],
         "xaxis": "x",
         "y": [
          4474102.517956597,
          3159382.49010611,
          2334809.417724641,
          1192759.311538214
         ],
         "yaxis": "y",
         "type": "scatter"
        },
        {
         "fillpattern": {
          "shape": ""
         },
         "hovertemplate": "Generation Type=gas<br>Year=%{x}<br>Total Generation (MWh)=%{y}<extra></extra>",
         "legendgroup": "gas",
         "line": {
          "color": "#00FE35"
         },
         "marker": {
          "symbol": "circle"
         },
         "mode": "lines",
         "name": "gas",
         "orientation": "v",
         "showlegend": true,
         "stackgroup": "1",
         "x": [
          2015,
          2016,
          2017,
          2018,
          2019,
          2020,
          2021,
          2022
         ],
         "xaxis": "x",
         "y": [
          5.3085615539984E7,
          5.2045284896067E7,
          4.9215779704293E7,
          5.0582221353281E7,
          4.3648596508104E7,
          4.3478582304317E7,
          4.9639059427744E7,
          4.9258167099653E7
         ],
         "yaxis": "y",
         "type": "scatter"
        },
        {
         "fillpattern": {
          "shape": ""
         },
         "hovertemplate": "Generation Type=hydro<br>Year=%{x}<br>Total Generation (MWh)=%{y}<extra></extra>",
         "legendgroup": "hydro",
         "line": {
          "color": "#6A76FC"
         },
         "marker": {
          "symbol": "circle"
         },
         "mode": "lines",
         "name": "hydro",
         "orientation": "v",
         "showlegend": true,
         "stackgroup": "1",
         "x": [
          2015,
          2016,
          2017,
          2018,
          2019,
          2020,
          2021,
          2022
         ],
         "xaxis": "x",
         "y": [
          7171865.7220014,
          6752805.8207074,
          7729461.7633664,
          7754143.5285687,
          7276333.9758233,
          6099517.4947699,
          6121508.3864973,
          6626402.27804
         ],
         "yaxis": "y",
         "type": "scatter"
        },
        {
         "fillpattern": {
          "shape": ""
         },
         "hovertemplate": "Generation Type=nuclear<br>Year=%{x}<br>Total Generation (MWh)=%{y}<extra></extra>",
         "legendgroup": "nuclear",
         "line": {
          "color": "#FED4C4"
         },
         "marker": {
          "symbol": "circle"
         },
         "mode": "lines",
         "name": "nuclear",
         "orientation": "v",
         "showlegend": true,
         "stackgroup": "1",
         "x": [
          2015,
          2016,
          2017,
          2018,
          2019,
          2020,
          2021,
          2022
         ],
         "xaxis": "x",
         "y": [
          3.1814821761098E7,
          3.2602665079457E7,
          3.1477910325454E7,
          3.1280390177867E7,
          2.717496050141E7,
          2.26102151626289E7,
          2.4933777495691E7,
          2.5008722660666E7
         ],
         "yaxis": "y",
         "type": "scatter"
        },
        {
         "fillpattern": {
          "shape": ""
         },
         "hovertemplate": "Generation Type=oil<br>Year=%{x}<br>Total Generation (MWh)=%{y}<extra></extra>",
         "legendgroup": "oil",
         "line": {
          "color": "#FE00CE"
         },
         "marker": {
          "symbol": "circle"
         },
         "mode": "lines",
         "name": "oil",
         "orientation": "v",
         "showlegend": true,
         "stackgroup": "1",
         "x": [
          2015,
          2018,
          2022
         ],
         "xaxis": "x",
         "y": [
          1378662.870672195,
          1169843.052966339,
          1544108.464112378
         ],
         "yaxis": "y",
         "type": "scatter"
        },
        {
         "fillpattern": {
          "shape": ""
         },
         "hovertemplate": "Generation Type=refuse<br>Year=%{x}<br>Total Generation (MWh)=%{y}<extra></extra>",
         "legendgroup": "refuse",
         "line": {
          "color": "#0DF9FF"
         },
         "marker": {
          "symbol": "circle"
         },
         "mode": "lines",
         "name": "refuse",
         "orientation": "v",
         "showlegend": true,
         "stackgroup": "1",
         "x": [
          2015,
          2016,
          2017,
          2018,
          2019,
          2020,
          2021,
          2022
         ],
         "xaxis": "x",
         "y": [
          3300839.2981791,
          3307516.770275,
          3169746.5524161,
          3036360.886418,
          2760178.4243481,
          2655805.8921309,
          2730445.8258593,
          2569234.3526805
         ],
         "yaxis": "y",
         "type": "scatter"
        },
        {
         "fillpattern": {
          "shape": ""
         },
         "hovertemplate": "Generation Type=wind<br>Year=%{x}<br>Total Generation (MWh)=%{y}<extra></extra>",
         "legendgroup": "wind",
         "line": {
          "color": "#F6F926"
         },
         "marker": {
          "symbol": "circle"
         },
         "mode": "lines",
         "name": "wind",
         "orientation": "v",
         "showlegend": true,
         "stackgroup": "1",
         "x": [
          2015,
          2016,
          2017,
          2018,
          2019,
          2020,
          2021,
          2022
         ],
         "xaxis": "x",
         "y": [
          2073304.703599417,
          2511519.570036962,
          3400106.960469174,
          3477189.18251238,
          3155337.212829762,
          3069917.89199217,
          3314828.80268271,
          3572734.558502444
         ],
         "yaxis": "y",
         "type": "scatter"
        },
        {
         "fillpattern": {
          "shape": ""
         },
         "hovertemplate": "Generation Type=wind2<br>Year=%{x}<br>Total Generation (MWh)=%{y}<extra></extra>",
         "legendgroup": "wind2",
         "line": {
          "color": "#FF9616"
         },
         "marker": {
          "symbol": "circle"
         },
         "mode": "lines",
         "name": "wind2",
         "orientation": "v",
         "showlegend": true,
         "stackgroup": "1",
         "x": [
          2015,
          2016,
          2017,
          2018,
          2019,
          2020,
          2021,
          2022
         ],
         "xaxis": "x",
         "y": [
          2168223.028,
          2512271.922,
          3281183.11,
          3372556.882,
          3532315.692,
          3611190.682,
          3611526.624,
          3879080.814
         ],
         "yaxis": "y",
         "type": "scatter"
        },
        {
         "fillpattern": {
          "shape": ""
         },
         "hovertemplate": "Generation Type=wood<br>Year=%{x}<br>Total Generation (MWh)=%{y}<extra></extra>",
         "legendgroup": "wood",
         "line": {
          "color": "#479B55"
         },
         "marker": {
          "symbol": "circle"
         },
         "mode": "lines",
         "name": "wood",
         "orientation": "v",
         "showlegend": true,
         "stackgroup": "1",
         "x": [
          2015,
          2016,
          2017,
          2018,
          2019,
          2020,
          2021,
          2022
         ],
         "xaxis": "x",
         "y": [
          3794782.8152841,
          3705900.1534554,
          3537066.3661016,
          3213401.1534596,
          2365312.90542975,
          2017753.1881456,
          2216399.7187498,
          1732923.55523486
         ],
         "yaxis": "y",
         "type": "scatter"
        },
        {
         "fillpattern": {
          "shape": ""
         },
         "hovertemplate": "Generation Type=solar2<br>Year=%{x}<br>Total Generation (MWh)=%{y}<extra></extra>",
         "legendgroup": "solar2",
         "line": {
          "color": "#EEA6FB"
         },
         "marker": {
          "symbol": "circle"
         },
         "mode": "lines",
         "name": "solar2",
         "orientation": "v",
         "showlegend": true,
         "stackgroup": "1",
         "x": [
          2018,
          2019,
          2020,
          2021,
          2022
         ],
         "xaxis": "x",
         "y": [
          1231150.057,
          1662407.018,
          2073535.836,
          2650229.366,
          3574279.566
         ],
         "yaxis": "y",
         "type": "scatter"
        }
       ],
       "layout": {
        "template": {
         "data": {
          "histogram2dcontour": [
           {
            "type": "histogram2dcontour",
            "colorbar": {
             "outlinewidth": 0,
             "ticks": ""
            },
            "colorscale": [
             [
              0.0,
              "#0d0887"
             ],
             [
              0.1111111111111111,
              "#46039f"
             ],
             [
              0.2222222222222222,
              "#7201a8"
             ],
             [
              0.3333333333333333,
              "#9c179e"
             ],
             [
              0.4444444444444444,
              "#bd3786"
             ],
             [
              0.5555555555555556,
              "#d8576b"
             ],
             [
              0.6666666666666666,
              "#ed7953"
             ],
             [
              0.7777777777777778,
              "#fb9f3a"
             ],
             [
              0.8888888888888888,
              "#fdca26"
             ],
             [
              1.0,
              "#f0f921"
             ]
            ]
           }
          ],
          "choropleth": [
           {
            "type": "choropleth",
            "colorbar": {
             "outlinewidth": 0,
             "ticks": ""
            }
           }
          ],
          "histogram2d": [
           {
            "type": "histogram2d",
            "colorbar": {
             "outlinewidth": 0,
             "ticks": ""
            },
            "colorscale": [
             [
              0.0,
              "#0d0887"
             ],
             [
              0.1111111111111111,
              "#46039f"
             ],
             [
              0.2222222222222222,
              "#7201a8"
             ],
             [
              0.3333333333333333,
              "#9c179e"
             ],
             [
              0.4444444444444444,
              "#bd3786"
             ],
             [
              0.5555555555555556,
              "#d8576b"
             ],
             [
              0.6666666666666666,
              "#ed7953"
             ],
             [
              0.7777777777777778,
              "#fb9f3a"
             ],
             [
              0.8888888888888888,
              "#fdca26"
             ],
             [
              1.0,
              "#f0f921"
             ]
            ]
           }
          ],
          "heatmap": [
           {
            "type": "heatmap",
            "colorbar": {
             "outlinewidth": 0,
             "ticks": ""
            },
            "colorscale": [
             [
              0.0,
              "#0d0887"
             ],
             [
              0.1111111111111111,
              "#46039f"
             ],
             [
              0.2222222222222222,
              "#7201a8"
             ],
             [
              0.3333333333333333,
              "#9c179e"
             ],
             [
              0.4444444444444444,
              "#bd3786"
             ],
             [
              0.5555555555555556,
              "#d8576b"
             ],
             [
              0.6666666666666666,
              "#ed7953"
             ],
             [
              0.7777777777777778,
              "#fb9f3a"
             ],
             [
              0.8888888888888888,
              "#fdca26"
             ],
             [
              1.0,
              "#f0f921"
             ]
            ]
           }
          ],
          "heatmapgl": [
           {
            "type": "heatmapgl",
            "colorbar": {
             "outlinewidth": 0,
             "ticks": ""
            },
            "colorscale": [
             [
              0.0,
              "#0d0887"
             ],
             [
              0.1111111111111111,
              "#46039f"
             ],
             [
              0.2222222222222222,
              "#7201a8"
             ],
             [
              0.3333333333333333,
              "#9c179e"
             ],
             [
              0.4444444444444444,
              "#bd3786"
             ],
             [
              0.5555555555555556,
              "#d8576b"
             ],
             [
              0.6666666666666666,
              "#ed7953"
             ],
             [
              0.7777777777777778,
              "#fb9f3a"
             ],
             [
              0.8888888888888888,
              "#fdca26"
             ],
             [
              1.0,
              "#f0f921"
             ]
            ]
           }
          ],
          "contourcarpet": [
           {
            "type": "contourcarpet",
            "colorbar": {
             "outlinewidth": 0,
             "ticks": ""
            }
           }
          ],
          "contour": [
           {
            "type": "contour",
            "colorbar": {
             "outlinewidth": 0,
             "ticks": ""
            },
            "colorscale": [
             [
              0.0,
              "#0d0887"
             ],
             [
              0.1111111111111111,
              "#46039f"
             ],
             [
              0.2222222222222222,
              "#7201a8"
             ],
             [
              0.3333333333333333,
              "#9c179e"
             ],
             [
              0.4444444444444444,
              "#bd3786"
             ],
             [
              0.5555555555555556,
              "#d8576b"
             ],
             [
              0.6666666666666666,
              "#ed7953"
             ],
             [
              0.7777777777777778,
              "#fb9f3a"
             ],
             [
              0.8888888888888888,
              "#fdca26"
             ],
             [
              1.0,
              "#f0f921"
             ]
            ]
           }
          ],
          "surface": [
           {
            "type": "surface",
            "colorbar": {
             "outlinewidth": 0,
             "ticks": ""
            },
            "colorscale": [
             [
              0.0,
              "#0d0887"
             ],
             [
              0.1111111111111111,
              "#46039f"
             ],
             [
              0.2222222222222222,
              "#7201a8"
             ],
             [
              0.3333333333333333,
              "#9c179e"
             ],
             [
              0.4444444444444444,
              "#bd3786"
             ],
             [
              0.5555555555555556,
              "#d8576b"
             ],
             [
              0.6666666666666666,
              "#ed7953"
             ],
             [
              0.7777777777777778,
              "#fb9f3a"
             ],
             [
              0.8888888888888888,
              "#fdca26"
             ],
             [
              1.0,
              "#f0f921"
             ]
            ]
           }
          ],
          "mesh3d": [
           {
            "type": "mesh3d",
            "colorbar": {
             "outlinewidth": 0,
             "ticks": ""
            }
           }
          ],
          "scatter": [
           {
            "marker": {
             "line": {
              "color": "#283442"
             }
            },
            "type": "scatter"
           }
          ],
          "parcoords": [
           {
            "type": "parcoords",
            "line": {
             "colorbar": {
              "outlinewidth": 0,
              "ticks": ""
             }
            }
           }
          ],
          "scatterpolargl": [
           {
            "type": "scatterpolargl",
            "marker": {
             "colorbar": {
              "outlinewidth": 0,
              "ticks": ""
             }
            }
           }
          ],
          "bar": [
           {
            "error_x": {
             "color": "#f2f5fa"
            },
            "error_y": {
             "color": "#f2f5fa"
            },
            "marker": {
             "line": {
              "color": "rgb(17,17,17)",
              "width": 0.5
             },
             "pattern": {
              "fillmode": "overlay",
              "size": 10,
              "solidity": 0.2
             }
            },
            "type": "bar"
           }
          ],
          "scattergeo": [
           {
            "type": "scattergeo",
            "marker": {
             "colorbar": {
              "outlinewidth": 0,
              "ticks": ""
             }
            }
           }
          ],
          "scatterpolar": [
           {
            "type": "scatterpolar",
            "marker": {
             "colorbar": {
              "outlinewidth": 0,
              "ticks": ""
             }
            }
           }
          ],
          "histogram": [
           {
            "marker": {
             "pattern": {
              "fillmode": "overlay",
              "size": 10,
              "solidity": 0.2
             }
            },
            "type": "histogram"
           }
          ],
          "scattergl": [
           {
            "marker": {
             "line": {
              "color": "#283442"
             }
            },
            "type": "scattergl"
           }
          ],
          "scatter3d": [
           {
            "type": "scatter3d",
            "line": {
             "colorbar": {
              "outlinewidth": 0,
              "ticks": ""
             }
            },
            "marker": {
             "colorbar": {
              "outlinewidth": 0,
              "ticks": ""
             }
            }
           }
          ],
          "scattermapbox": [
           {
            "type": "scattermapbox",
            "marker": {
             "colorbar": {
              "outlinewidth": 0,
              "ticks": ""
             }
            }
           }
          ],
          "scatterternary": [
           {
            "type": "scatterternary",
            "marker": {
             "colorbar": {
              "outlinewidth": 0,
              "ticks": ""
             }
            }
           }
          ],
          "scattercarpet": [
           {
            "type": "scattercarpet",
            "marker": {
             "colorbar": {
              "outlinewidth": 0,
              "ticks": ""
             }
            }
           }
          ],
          "carpet": [
           {
            "aaxis": {
             "endlinecolor": "#A2B1C6",
             "gridcolor": "#506784",
             "linecolor": "#506784",
             "minorgridcolor": "#506784",
             "startlinecolor": "#A2B1C6"
            },
            "baxis": {
             "endlinecolor": "#A2B1C6",
             "gridcolor": "#506784",
             "linecolor": "#506784",
             "minorgridcolor": "#506784",
             "startlinecolor": "#A2B1C6"
            },
            "type": "carpet"
           }
          ],
          "table": [
           {
            "cells": {
             "fill": {
              "color": "#506784"
             },
             "line": {
              "color": "rgb(17,17,17)"
             }
            },
            "header": {
             "fill": {
              "color": "#2a3f5f"
             },
             "line": {
              "color": "rgb(17,17,17)"
             }
            },
            "type": "table"
           }
          ],
          "barpolar": [
           {
            "marker": {
             "line": {
              "color": "rgb(17,17,17)",
              "width": 0.5
             },
             "pattern": {
              "fillmode": "overlay",
              "size": 10,
              "solidity": 0.2
             }
            },
            "type": "barpolar"
           }
          ],
          "pie": [
           {
            "automargin": true,
            "type": "pie"
           }
          ]
         },
         "layout": {
          "autotypenumbers": "strict",
          "colorway": [
           "#636efa",
           "#EF553B",
           "#00cc96",
           "#ab63fa",
           "#FFA15A",
           "#19d3f3",
           "#FF6692",
           "#B6E880",
           "#FF97FF",
           "#FECB52"
          ],
          "font": {
           "color": "#f2f5fa"
          },
          "hovermode": "closest",
          "hoverlabel": {
           "align": "left"
          },
          "paper_bgcolor": "rgb(17,17,17)",
          "plot_bgcolor": "rgb(17,17,17)",
          "polar": {
           "bgcolor": "rgb(17,17,17)",
           "angularaxis": {
            "gridcolor": "#506784",
            "linecolor": "#506784",
            "ticks": ""
           },
           "radialaxis": {
            "gridcolor": "#506784",
            "linecolor": "#506784",
            "ticks": ""
           }
          },
          "ternary": {
           "bgcolor": "rgb(17,17,17)",
           "aaxis": {
            "gridcolor": "#506784",
            "linecolor": "#506784",
            "ticks": ""
           },
           "baxis": {
            "gridcolor": "#506784",
            "linecolor": "#506784",
            "ticks": ""
           },
           "caxis": {
            "gridcolor": "#506784",
            "linecolor": "#506784",
            "ticks": ""
           }
          },
          "coloraxis": {
           "colorbar": {
            "outlinewidth": 0,
            "ticks": ""
           }
          },
          "colorscale": {
           "sequential": [
            [
             0.0,
             "#0d0887"
            ],
            [
             0.1111111111111111,
             "#46039f"
            ],
            [
             0.2222222222222222,
             "#7201a8"
            ],
            [
             0.3333333333333333,
             "#9c179e"
            ],
            [
             0.4444444444444444,
             "#bd3786"
            ],
            [
             0.5555555555555556,
             "#d8576b"
            ],
            [
             0.6666666666666666,
             "#ed7953"
            ],
            [
             0.7777777777777778,
             "#fb9f3a"
            ],
            [
             0.8888888888888888,
             "#fdca26"
            ],
            [
             1.0,
             "#f0f921"
            ]
           ],
           "sequentialminus": [
            [
             0.0,
             "#0d0887"
            ],
            [
             0.1111111111111111,
             "#46039f"
            ],
            [
             0.2222222222222222,
             "#7201a8"
            ],
            [
             0.3333333333333333,
             "#9c179e"
            ],
            [
             0.4444444444444444,
             "#bd3786"
            ],
            [
             0.5555555555555556,
             "#d8576b"
            ],
            [
             0.6666666666666666,
             "#ed7953"
            ],
            [
             0.7777777777777778,
             "#fb9f3a"
            ],
            [
             0.8888888888888888,
             "#fdca26"
            ],
            [
             1.0,
             "#f0f921"
            ]
           ],
           "diverging": [
            [
             0,
             "#8e0152"
            ],
            [
             0.1,
             "#c51b7d"
            ],
            [
             0.2,
             "#de77ae"
            ],
            [
             0.3,
             "#f1b6da"
            ],
            [
             0.4,
             "#fde0ef"
            ],
            [
             0.5,
             "#f7f7f7"
            ],
            [
             0.6,
             "#e6f5d0"
            ],
            [
             0.7,
             "#b8e186"
            ],
            [
             0.8,
             "#7fbc41"
            ],
            [
             0.9,
             "#4d9221"
            ],
            [
             1,
             "#276419"
            ]
           ]
          },
          "xaxis": {
           "gridcolor": "#283442",
           "linecolor": "#506784",
           "ticks": "",
           "title": {
            "standoff": 15
           },
           "zerolinecolor": "#283442",
           "automargin": true,
           "zerolinewidth": 2
          },
          "yaxis": {
           "gridcolor": "#283442",
           "linecolor": "#506784",
           "ticks": "",
           "title": {
            "standoff": 15
           },
           "zerolinecolor": "#283442",
           "automargin": true,
           "zerolinewidth": 2
          },
          "scene": {
           "xaxis": {
            "backgroundcolor": "rgb(17,17,17)",
            "gridcolor": "#506784",
            "linecolor": "#506784",
            "showbackground": true,
            "ticks": "",
            "zerolinecolor": "#C8D4E3",
            "gridwidth": 2
           },
           "yaxis": {
            "backgroundcolor": "rgb(17,17,17)",
            "gridcolor": "#506784",
            "linecolor": "#506784",
            "showbackground": true,
            "ticks": "",
            "zerolinecolor": "#C8D4E3",
            "gridwidth": 2
           },
           "zaxis": {
            "backgroundcolor": "rgb(17,17,17)",
            "gridcolor": "#506784",
            "linecolor": "#506784",
            "showbackground": true,
            "ticks": "",
            "zerolinecolor": "#C8D4E3",
            "gridwidth": 2
           }
          },
          "shapedefaults": {
           "line": {
            "color": "#f2f5fa"
           }
          },
          "annotationdefaults": {
           "arrowcolor": "#f2f5fa",
           "arrowhead": 0,
           "arrowwidth": 1
          },
          "geo": {
           "bgcolor": "rgb(17,17,17)",
           "landcolor": "rgb(17,17,17)",
           "subunitcolor": "#506784",
           "showland": true,
           "showlakes": true,
           "lakecolor": "rgb(17,17,17)"
          },
          "title": {
           "x": 0.05
          },
          "updatemenudefaults": {
           "bgcolor": "#506784",
           "borderwidth": 0
          },
          "sliderdefaults": {
           "bgcolor": "#C8D4E3",
           "borderwidth": 1,
           "bordercolor": "rgb(17,17,17)",
           "tickwidth": 0
          },
          "mapbox": {
           "style": "dark"
          }
         }
        },
        "xaxis": {
         "anchor": "y",
         "domain": [
          0.0,
          1.0
         ],
         "title": {
          "text": "Year"
         }
        },
        "yaxis": {
         "anchor": "x",
         "domain": [
          0.0,
          1.0
         ],
         "title": {
          "text": "Total Generation (MWh)"
         }
        },
        "legend": {
         "title": {
          "text": "Generation Type"
         },
         "tracegroupgap": 0
        },
        "title": {
         "text": "Total Annual Generation by Type for ISONE from 2014 - 2022"
        },
        "paper_bgcolor": "rgba(0,0,0,0)",
        "plot_bgcolor": "rgba(0,0,0,0)"
       },
       "config": {
        "plotlyServerURL": "https://plot.ly"
       }
      },
      "text/html": "<div>                            <div id=\"67065377-523b-44fa-a656-4b4e18b1bf05\" class=\"plotly-graph-div\" style=\"height:525px; width:100%;\"></div>            <script type=\"text/javascript\">                require([\"plotly\"], function(Plotly) {                    window.PLOTLYENV=window.PLOTLYENV || {};                                    if (document.getElementById(\"67065377-523b-44fa-a656-4b4e18b1bf05\")) {                    Plotly.newPlot(                        \"67065377-523b-44fa-a656-4b4e18b1bf05\",                        [{\"fillpattern\":{\"shape\":\"\"},\"hovertemplate\":\"Generation Type=coal<br>Year=%{x}<br>Total Generation (MWh)=%{y}<extra></extra>\",\"legendgroup\":\"coal\",\"line\":{\"color\":\"#FD3216\"},\"marker\":{\"symbol\":\"circle\"},\"mode\":\"lines\",\"name\":\"coal\",\"orientation\":\"v\",\"showlegend\":true,\"stackgroup\":\"1\",\"x\":[2015,2016,2017,2018],\"xaxis\":\"x\",\"y\":[4474102.517956597,3159382.49010611,2334809.417724641,1192759.311538214],\"yaxis\":\"y\",\"type\":\"scatter\"},{\"fillpattern\":{\"shape\":\"\"},\"hovertemplate\":\"Generation Type=gas<br>Year=%{x}<br>Total Generation (MWh)=%{y}<extra></extra>\",\"legendgroup\":\"gas\",\"line\":{\"color\":\"#00FE35\"},\"marker\":{\"symbol\":\"circle\"},\"mode\":\"lines\",\"name\":\"gas\",\"orientation\":\"v\",\"showlegend\":true,\"stackgroup\":\"1\",\"x\":[2015,2016,2017,2018,2019,2020,2021,2022],\"xaxis\":\"x\",\"y\":[53085615.539984,52045284.896067,49215779.704293,50582221.353281,43648596.508104,43478582.304317,49639059.427744,49258167.099653],\"yaxis\":\"y\",\"type\":\"scatter\"},{\"fillpattern\":{\"shape\":\"\"},\"hovertemplate\":\"Generation Type=hydro<br>Year=%{x}<br>Total Generation (MWh)=%{y}<extra></extra>\",\"legendgroup\":\"hydro\",\"line\":{\"color\":\"#6A76FC\"},\"marker\":{\"symbol\":\"circle\"},\"mode\":\"lines\",\"name\":\"hydro\",\"orientation\":\"v\",\"showlegend\":true,\"stackgroup\":\"1\",\"x\":[2015,2016,2017,2018,2019,2020,2021,2022],\"xaxis\":\"x\",\"y\":[7171865.7220014,6752805.8207074,7729461.7633664,7754143.5285687,7276333.9758233,6099517.4947699,6121508.3864973,6626402.27804],\"yaxis\":\"y\",\"type\":\"scatter\"},{\"fillpattern\":{\"shape\":\"\"},\"hovertemplate\":\"Generation Type=nuclear<br>Year=%{x}<br>Total Generation (MWh)=%{y}<extra></extra>\",\"legendgroup\":\"nuclear\",\"line\":{\"color\":\"#FED4C4\"},\"marker\":{\"symbol\":\"circle\"},\"mode\":\"lines\",\"name\":\"nuclear\",\"orientation\":\"v\",\"showlegend\":true,\"stackgroup\":\"1\",\"x\":[2015,2016,2017,2018,2019,2020,2021,2022],\"xaxis\":\"x\",\"y\":[31814821.761098,32602665.079457,31477910.325454,31280390.177867,27174960.50141,22610215.1626289,24933777.495691,25008722.660666],\"yaxis\":\"y\",\"type\":\"scatter\"},{\"fillpattern\":{\"shape\":\"\"},\"hovertemplate\":\"Generation Type=oil<br>Year=%{x}<br>Total Generation (MWh)=%{y}<extra></extra>\",\"legendgroup\":\"oil\",\"line\":{\"color\":\"#FE00CE\"},\"marker\":{\"symbol\":\"circle\"},\"mode\":\"lines\",\"name\":\"oil\",\"orientation\":\"v\",\"showlegend\":true,\"stackgroup\":\"1\",\"x\":[2015,2018,2022],\"xaxis\":\"x\",\"y\":[1378662.870672195,1169843.052966339,1544108.464112378],\"yaxis\":\"y\",\"type\":\"scatter\"},{\"fillpattern\":{\"shape\":\"\"},\"hovertemplate\":\"Generation Type=refuse<br>Year=%{x}<br>Total Generation (MWh)=%{y}<extra></extra>\",\"legendgroup\":\"refuse\",\"line\":{\"color\":\"#0DF9FF\"},\"marker\":{\"symbol\":\"circle\"},\"mode\":\"lines\",\"name\":\"refuse\",\"orientation\":\"v\",\"showlegend\":true,\"stackgroup\":\"1\",\"x\":[2015,2016,2017,2018,2019,2020,2021,2022],\"xaxis\":\"x\",\"y\":[3300839.2981791,3307516.770275,3169746.5524161,3036360.886418,2760178.4243481,2655805.8921309,2730445.8258593,2569234.3526805],\"yaxis\":\"y\",\"type\":\"scatter\"},{\"fillpattern\":{\"shape\":\"\"},\"hovertemplate\":\"Generation Type=wind<br>Year=%{x}<br>Total Generation (MWh)=%{y}<extra></extra>\",\"legendgroup\":\"wind\",\"line\":{\"color\":\"#F6F926\"},\"marker\":{\"symbol\":\"circle\"},\"mode\":\"lines\",\"name\":\"wind\",\"orientation\":\"v\",\"showlegend\":true,\"stackgroup\":\"1\",\"x\":[2015,2016,2017,2018,2019,2020,2021,2022],\"xaxis\":\"x\",\"y\":[2073304.703599417,2511519.570036962,3400106.960469174,3477189.18251238,3155337.212829762,3069917.89199217,3314828.80268271,3572734.558502444],\"yaxis\":\"y\",\"type\":\"scatter\"},{\"fillpattern\":{\"shape\":\"\"},\"hovertemplate\":\"Generation Type=wind2<br>Year=%{x}<br>Total Generation (MWh)=%{y}<extra></extra>\",\"legendgroup\":\"wind2\",\"line\":{\"color\":\"#FF9616\"},\"marker\":{\"symbol\":\"circle\"},\"mode\":\"lines\",\"name\":\"wind2\",\"orientation\":\"v\",\"showlegend\":true,\"stackgroup\":\"1\",\"x\":[2015,2016,2017,2018,2019,2020,2021,2022],\"xaxis\":\"x\",\"y\":[2168223.028,2512271.922,3281183.11,3372556.882,3532315.692,3611190.682,3611526.624,3879080.814],\"yaxis\":\"y\",\"type\":\"scatter\"},{\"fillpattern\":{\"shape\":\"\"},\"hovertemplate\":\"Generation Type=wood<br>Year=%{x}<br>Total Generation (MWh)=%{y}<extra></extra>\",\"legendgroup\":\"wood\",\"line\":{\"color\":\"#479B55\"},\"marker\":{\"symbol\":\"circle\"},\"mode\":\"lines\",\"name\":\"wood\",\"orientation\":\"v\",\"showlegend\":true,\"stackgroup\":\"1\",\"x\":[2015,2016,2017,2018,2019,2020,2021,2022],\"xaxis\":\"x\",\"y\":[3794782.8152841,3705900.1534554,3537066.3661016,3213401.1534596,2365312.90542975,2017753.1881456,2216399.7187498,1732923.55523486],\"yaxis\":\"y\",\"type\":\"scatter\"},{\"fillpattern\":{\"shape\":\"\"},\"hovertemplate\":\"Generation Type=solar2<br>Year=%{x}<br>Total Generation (MWh)=%{y}<extra></extra>\",\"legendgroup\":\"solar2\",\"line\":{\"color\":\"#EEA6FB\"},\"marker\":{\"symbol\":\"circle\"},\"mode\":\"lines\",\"name\":\"solar2\",\"orientation\":\"v\",\"showlegend\":true,\"stackgroup\":\"1\",\"x\":[2018,2019,2020,2021,2022],\"xaxis\":\"x\",\"y\":[1231150.057,1662407.018,2073535.836,2650229.366,3574279.566],\"yaxis\":\"y\",\"type\":\"scatter\"}],                        {\"template\":{\"data\":{\"histogram2dcontour\":[{\"type\":\"histogram2dcontour\",\"colorbar\":{\"outlinewidth\":0,\"ticks\":\"\"},\"colorscale\":[[0.0,\"#0d0887\"],[0.1111111111111111,\"#46039f\"],[0.2222222222222222,\"#7201a8\"],[0.3333333333333333,\"#9c179e\"],[0.4444444444444444,\"#bd3786\"],[0.5555555555555556,\"#d8576b\"],[0.6666666666666666,\"#ed7953\"],[0.7777777777777778,\"#fb9f3a\"],[0.8888888888888888,\"#fdca26\"],[1.0,\"#f0f921\"]]}],\"choropleth\":[{\"type\":\"choropleth\",\"colorbar\":{\"outlinewidth\":0,\"ticks\":\"\"}}],\"histogram2d\":[{\"type\":\"histogram2d\",\"colorbar\":{\"outlinewidth\":0,\"ticks\":\"\"},\"colorscale\":[[0.0,\"#0d0887\"],[0.1111111111111111,\"#46039f\"],[0.2222222222222222,\"#7201a8\"],[0.3333333333333333,\"#9c179e\"],[0.4444444444444444,\"#bd3786\"],[0.5555555555555556,\"#d8576b\"],[0.6666666666666666,\"#ed7953\"],[0.7777777777777778,\"#fb9f3a\"],[0.8888888888888888,\"#fdca26\"],[1.0,\"#f0f921\"]]}],\"heatmap\":[{\"type\":\"heatmap\",\"colorbar\":{\"outlinewidth\":0,\"ticks\":\"\"},\"colorscale\":[[0.0,\"#0d0887\"],[0.1111111111111111,\"#46039f\"],[0.2222222222222222,\"#7201a8\"],[0.3333333333333333,\"#9c179e\"],[0.4444444444444444,\"#bd3786\"],[0.5555555555555556,\"#d8576b\"],[0.6666666666666666,\"#ed7953\"],[0.7777777777777778,\"#fb9f3a\"],[0.8888888888888888,\"#fdca26\"],[1.0,\"#f0f921\"]]}],\"heatmapgl\":[{\"type\":\"heatmapgl\",\"colorbar\":{\"outlinewidth\":0,\"ticks\":\"\"},\"colorscale\":[[0.0,\"#0d0887\"],[0.1111111111111111,\"#46039f\"],[0.2222222222222222,\"#7201a8\"],[0.3333333333333333,\"#9c179e\"],[0.4444444444444444,\"#bd3786\"],[0.5555555555555556,\"#d8576b\"],[0.6666666666666666,\"#ed7953\"],[0.7777777777777778,\"#fb9f3a\"],[0.8888888888888888,\"#fdca26\"],[1.0,\"#f0f921\"]]}],\"contourcarpet\":[{\"type\":\"contourcarpet\",\"colorbar\":{\"outlinewidth\":0,\"ticks\":\"\"}}],\"contour\":[{\"type\":\"contour\",\"colorbar\":{\"outlinewidth\":0,\"ticks\":\"\"},\"colorscale\":[[0.0,\"#0d0887\"],[0.1111111111111111,\"#46039f\"],[0.2222222222222222,\"#7201a8\"],[0.3333333333333333,\"#9c179e\"],[0.4444444444444444,\"#bd3786\"],[0.5555555555555556,\"#d8576b\"],[0.6666666666666666,\"#ed7953\"],[0.7777777777777778,\"#fb9f3a\"],[0.8888888888888888,\"#fdca26\"],[1.0,\"#f0f921\"]]}],\"surface\":[{\"type\":\"surface\",\"colorbar\":{\"outlinewidth\":0,\"ticks\":\"\"},\"colorscale\":[[0.0,\"#0d0887\"],[0.1111111111111111,\"#46039f\"],[0.2222222222222222,\"#7201a8\"],[0.3333333333333333,\"#9c179e\"],[0.4444444444444444,\"#bd3786\"],[0.5555555555555556,\"#d8576b\"],[0.6666666666666666,\"#ed7953\"],[0.7777777777777778,\"#fb9f3a\"],[0.8888888888888888,\"#fdca26\"],[1.0,\"#f0f921\"]]}],\"mesh3d\":[{\"type\":\"mesh3d\",\"colorbar\":{\"outlinewidth\":0,\"ticks\":\"\"}}],\"scatter\":[{\"marker\":{\"line\":{\"color\":\"#283442\"}},\"type\":\"scatter\"}],\"parcoords\":[{\"type\":\"parcoords\",\"line\":{\"colorbar\":{\"outlinewidth\":0,\"ticks\":\"\"}}}],\"scatterpolargl\":[{\"type\":\"scatterpolargl\",\"marker\":{\"colorbar\":{\"outlinewidth\":0,\"ticks\":\"\"}}}],\"bar\":[{\"error_x\":{\"color\":\"#f2f5fa\"},\"error_y\":{\"color\":\"#f2f5fa\"},\"marker\":{\"line\":{\"color\":\"rgb(17,17,17)\",\"width\":0.5},\"pattern\":{\"fillmode\":\"overlay\",\"size\":10,\"solidity\":0.2}},\"type\":\"bar\"}],\"scattergeo\":[{\"type\":\"scattergeo\",\"marker\":{\"colorbar\":{\"outlinewidth\":0,\"ticks\":\"\"}}}],\"scatterpolar\":[{\"type\":\"scatterpolar\",\"marker\":{\"colorbar\":{\"outlinewidth\":0,\"ticks\":\"\"}}}],\"histogram\":[{\"marker\":{\"pattern\":{\"fillmode\":\"overlay\",\"size\":10,\"solidity\":0.2}},\"type\":\"histogram\"}],\"scattergl\":[{\"marker\":{\"line\":{\"color\":\"#283442\"}},\"type\":\"scattergl\"}],\"scatter3d\":[{\"type\":\"scatter3d\",\"line\":{\"colorbar\":{\"outlinewidth\":0,\"ticks\":\"\"}},\"marker\":{\"colorbar\":{\"outlinewidth\":0,\"ticks\":\"\"}}}],\"scattermapbox\":[{\"type\":\"scattermapbox\",\"marker\":{\"colorbar\":{\"outlinewidth\":0,\"ticks\":\"\"}}}],\"scatterternary\":[{\"type\":\"scatterternary\",\"marker\":{\"colorbar\":{\"outlinewidth\":0,\"ticks\":\"\"}}}],\"scattercarpet\":[{\"type\":\"scattercarpet\",\"marker\":{\"colorbar\":{\"outlinewidth\":0,\"ticks\":\"\"}}}],\"carpet\":[{\"aaxis\":{\"endlinecolor\":\"#A2B1C6\",\"gridcolor\":\"#506784\",\"linecolor\":\"#506784\",\"minorgridcolor\":\"#506784\",\"startlinecolor\":\"#A2B1C6\"},\"baxis\":{\"endlinecolor\":\"#A2B1C6\",\"gridcolor\":\"#506784\",\"linecolor\":\"#506784\",\"minorgridcolor\":\"#506784\",\"startlinecolor\":\"#A2B1C6\"},\"type\":\"carpet\"}],\"table\":[{\"cells\":{\"fill\":{\"color\":\"#506784\"},\"line\":{\"color\":\"rgb(17,17,17)\"}},\"header\":{\"fill\":{\"color\":\"#2a3f5f\"},\"line\":{\"color\":\"rgb(17,17,17)\"}},\"type\":\"table\"}],\"barpolar\":[{\"marker\":{\"line\":{\"color\":\"rgb(17,17,17)\",\"width\":0.5},\"pattern\":{\"fillmode\":\"overlay\",\"size\":10,\"solidity\":0.2}},\"type\":\"barpolar\"}],\"pie\":[{\"automargin\":true,\"type\":\"pie\"}]},\"layout\":{\"autotypenumbers\":\"strict\",\"colorway\":[\"#636efa\",\"#EF553B\",\"#00cc96\",\"#ab63fa\",\"#FFA15A\",\"#19d3f3\",\"#FF6692\",\"#B6E880\",\"#FF97FF\",\"#FECB52\"],\"font\":{\"color\":\"#f2f5fa\"},\"hovermode\":\"closest\",\"hoverlabel\":{\"align\":\"left\"},\"paper_bgcolor\":\"rgb(17,17,17)\",\"plot_bgcolor\":\"rgb(17,17,17)\",\"polar\":{\"bgcolor\":\"rgb(17,17,17)\",\"angularaxis\":{\"gridcolor\":\"#506784\",\"linecolor\":\"#506784\",\"ticks\":\"\"},\"radialaxis\":{\"gridcolor\":\"#506784\",\"linecolor\":\"#506784\",\"ticks\":\"\"}},\"ternary\":{\"bgcolor\":\"rgb(17,17,17)\",\"aaxis\":{\"gridcolor\":\"#506784\",\"linecolor\":\"#506784\",\"ticks\":\"\"},\"baxis\":{\"gridcolor\":\"#506784\",\"linecolor\":\"#506784\",\"ticks\":\"\"},\"caxis\":{\"gridcolor\":\"#506784\",\"linecolor\":\"#506784\",\"ticks\":\"\"}},\"coloraxis\":{\"colorbar\":{\"outlinewidth\":0,\"ticks\":\"\"}},\"colorscale\":{\"sequential\":[[0.0,\"#0d0887\"],[0.1111111111111111,\"#46039f\"],[0.2222222222222222,\"#7201a8\"],[0.3333333333333333,\"#9c179e\"],[0.4444444444444444,\"#bd3786\"],[0.5555555555555556,\"#d8576b\"],[0.6666666666666666,\"#ed7953\"],[0.7777777777777778,\"#fb9f3a\"],[0.8888888888888888,\"#fdca26\"],[1.0,\"#f0f921\"]],\"sequentialminus\":[[0.0,\"#0d0887\"],[0.1111111111111111,\"#46039f\"],[0.2222222222222222,\"#7201a8\"],[0.3333333333333333,\"#9c179e\"],[0.4444444444444444,\"#bd3786\"],[0.5555555555555556,\"#d8576b\"],[0.6666666666666666,\"#ed7953\"],[0.7777777777777778,\"#fb9f3a\"],[0.8888888888888888,\"#fdca26\"],[1.0,\"#f0f921\"]],\"diverging\":[[0,\"#8e0152\"],[0.1,\"#c51b7d\"],[0.2,\"#de77ae\"],[0.3,\"#f1b6da\"],[0.4,\"#fde0ef\"],[0.5,\"#f7f7f7\"],[0.6,\"#e6f5d0\"],[0.7,\"#b8e186\"],[0.8,\"#7fbc41\"],[0.9,\"#4d9221\"],[1,\"#276419\"]]},\"xaxis\":{\"gridcolor\":\"#283442\",\"linecolor\":\"#506784\",\"ticks\":\"\",\"title\":{\"standoff\":15},\"zerolinecolor\":\"#283442\",\"automargin\":true,\"zerolinewidth\":2},\"yaxis\":{\"gridcolor\":\"#283442\",\"linecolor\":\"#506784\",\"ticks\":\"\",\"title\":{\"standoff\":15},\"zerolinecolor\":\"#283442\",\"automargin\":true,\"zerolinewidth\":2},\"scene\":{\"xaxis\":{\"backgroundcolor\":\"rgb(17,17,17)\",\"gridcolor\":\"#506784\",\"linecolor\":\"#506784\",\"showbackground\":true,\"ticks\":\"\",\"zerolinecolor\":\"#C8D4E3\",\"gridwidth\":2},\"yaxis\":{\"backgroundcolor\":\"rgb(17,17,17)\",\"gridcolor\":\"#506784\",\"linecolor\":\"#506784\",\"showbackground\":true,\"ticks\":\"\",\"zerolinecolor\":\"#C8D4E3\",\"gridwidth\":2},\"zaxis\":{\"backgroundcolor\":\"rgb(17,17,17)\",\"gridcolor\":\"#506784\",\"linecolor\":\"#506784\",\"showbackground\":true,\"ticks\":\"\",\"zerolinecolor\":\"#C8D4E3\",\"gridwidth\":2}},\"shapedefaults\":{\"line\":{\"color\":\"#f2f5fa\"}},\"annotationdefaults\":{\"arrowcolor\":\"#f2f5fa\",\"arrowhead\":0,\"arrowwidth\":1},\"geo\":{\"bgcolor\":\"rgb(17,17,17)\",\"landcolor\":\"rgb(17,17,17)\",\"subunitcolor\":\"#506784\",\"showland\":true,\"showlakes\":true,\"lakecolor\":\"rgb(17,17,17)\"},\"title\":{\"x\":0.05},\"updatemenudefaults\":{\"bgcolor\":\"#506784\",\"borderwidth\":0},\"sliderdefaults\":{\"bgcolor\":\"#C8D4E3\",\"borderwidth\":1,\"bordercolor\":\"rgb(17,17,17)\",\"tickwidth\":0},\"mapbox\":{\"style\":\"dark\"}}},\"xaxis\":{\"anchor\":\"y\",\"domain\":[0.0,1.0],\"title\":{\"text\":\"Year\"}},\"yaxis\":{\"anchor\":\"x\",\"domain\":[0.0,1.0],\"title\":{\"text\":\"Total Generation (MWh)\"}},\"legend\":{\"title\":{\"text\":\"Generation Type\"},\"tracegroupgap\":0},\"title\":{\"text\":\"Total Annual Generation by Type for ISONE from 2014 - 2022\"},\"paper_bgcolor\":\"rgba(0,0,0,0)\",\"plot_bgcolor\":\"rgba(0,0,0,0)\"},                        {\"responsive\": true}                    ).then(function(){\n                            \nvar gd = document.getElementById('67065377-523b-44fa-a656-4b4e18b1bf05');\nvar x = new MutationObserver(function (mutations, observer) {{\n        var display = window.getComputedStyle(gd).display;\n        if (!display || display === 'none') {{\n            console.log([gd, 'removed!']);\n            Plotly.purge(gd);\n            observer.disconnect();\n        }}\n}});\n\n// Listen for the removal of the full notebook cells\nvar notebookContainer = gd.closest('#notebook-container');\nif (notebookContainer) {{\n    x.observe(notebookContainer, {childList: true});\n}}\n\n// Listen for the clearing of the current output cell\nvar outputEl = gd.closest('.output');\nif (outputEl) {{\n    x.observe(outputEl, {childList: true});\n}}\n\n                        })                };                });            </script>        </div>"
     },
     "metadata": {},
     "output_type": "display_data"
    },
    {
     "data": {
      "application/vnd.plotly.v1+json": {
       "data": [
        {
         "fillpattern": {
          "shape": ""
         },
         "hovertemplate": "Generation Type=coal<br>Year=%{x}<br>Total Generation (MWh)=%{y}<extra></extra>",
         "legendgroup": "coal",
         "line": {
          "color": "#FD3216"
         },
         "marker": {
          "symbol": "circle"
         },
         "mode": "lines",
         "name": "coal",
         "orientation": "v",
         "showlegend": true,
         "stackgroup": "1",
         "x": [
          2016,
          2017,
          2018,
          2019,
          2020,
          2021,
          2022
         ],
         "xaxis": "x",
         "y": [
          2.672085733E8,
          2.505405576E8,
          2.390406554E8,
          1.9650193855E8,
          1.558158245E8,
          1.8230625105E8,
          1.668831946E8
         ],
         "yaxis": "y",
         "type": "scatter"
        },
        {
         "fillpattern": {
          "shape": ""
         },
         "hovertemplate": "Generation Type=gas<br>Year=%{x}<br>Total Generation (MWh)=%{y}<extra></extra>",
         "legendgroup": "gas",
         "line": {
          "color": "#00FE35"
         },
         "marker": {
          "symbol": "circle"
         },
         "mode": "lines",
         "name": "gas",
         "orientation": "v",
         "showlegend": true,
         "stackgroup": "1",
         "x": [
          2016,
          2017,
          2018,
          2019,
          2020,
          2021,
          2022
         ],
         "xaxis": "x",
         "y": [
          1.846777552E8,
          2.099229036E8,
          2.549509435E8,
          2.98510692E8,
          3.1749078005E8,
          3.095152205E8,
          3.3115730995E8
         ],
         "yaxis": "y",
         "type": "scatter"
        },
        {
         "fillpattern": {
          "shape": ""
         },
         "hovertemplate": "Generation Type=hydro<br>Year=%{x}<br>Total Generation (MWh)=%{y}<extra></extra>",
         "legendgroup": "hydro",
         "line": {
          "color": "#6A76FC"
         },
         "marker": {
          "symbol": "circle"
         },
         "mode": "lines",
         "name": "hydro",
         "orientation": "v",
         "showlegend": true,
         "stackgroup": "1",
         "x": [
          2016,
          2017,
          2018,
          2019,
          2020,
          2021,
          2022
         ],
         "xaxis": "x",
         "y": [
          1.18911975E7,
          1.42421215E7,
          1.92200411E7,
          1.64990903E7,
          1.61718304E7,
          1.654194115E7,
          1.594909075E7
         ],
         "yaxis": "y",
         "type": "scatter"
        },
        {
         "fillpattern": {
          "shape": ""
         },
         "hovertemplate": "Generation Type=multiple_fuels<br>Year=%{x}<br>Total Generation (MWh)=%{y}<extra></extra>",
         "legendgroup": "multiple_fuels",
         "line": {
          "color": "#FED4C4"
         },
         "marker": {
          "symbol": "circle"
         },
         "mode": "lines",
         "name": "multiple_fuels",
         "orientation": "v",
         "showlegend": true,
         "stackgroup": "1",
         "x": [
          2016
         ],
         "xaxis": "x",
         "y": [
          1.17879249E7
         ],
         "yaxis": "y",
         "type": "scatter"
        },
        {
         "fillpattern": {
          "shape": ""
         },
         "hovertemplate": "Generation Type=nuclear<br>Year=%{x}<br>Total Generation (MWh)=%{y}<extra></extra>",
         "legendgroup": "nuclear",
         "line": {
          "color": "#FE00CE"
         },
         "marker": {
          "symbol": "circle"
         },
         "mode": "lines",
         "name": "nuclear",
         "orientation": "v",
         "showlegend": true,
         "stackgroup": "1",
         "x": [
          2016,
          2017,
          2018,
          2019,
          2020,
          2021,
          2022
         ],
         "xaxis": "x",
         "y": [
          2.78949022E8,
          2.841322E8,
          2.864752592E8,
          2.7839430055E8,
          2.760666541E8,
          2.7058163175E8,
          2.709078239E8
         ],
         "yaxis": "y",
         "type": "scatter"
        },
        {
         "fillpattern": {
          "shape": ""
         },
         "hovertemplate": "Generation Type=other<br>Year=%{x}<br>Total Generation (MWh)=%{y}<extra></extra>",
         "legendgroup": "other",
         "line": {
          "color": "#0DF9FF"
         },
         "marker": {
          "symbol": "circle"
         },
         "mode": "lines",
         "name": "other",
         "orientation": "v",
         "showlegend": true,
         "stackgroup": "1",
         "x": [
          2016
         ],
         "xaxis": "x",
         "y": [
          2.06595264E7
         ],
         "yaxis": "y",
         "type": "scatter"
        },
        {
         "fillpattern": {
          "shape": ""
         },
         "hovertemplate": "Generation Type=wind<br>Year=%{x}<br>Total Generation (MWh)=%{y}<extra></extra>",
         "legendgroup": "wind",
         "line": {
          "color": "#F6F926"
         },
         "marker": {
          "symbol": "circle"
         },
         "mode": "lines",
         "name": "wind",
         "orientation": "v",
         "showlegend": true,
         "stackgroup": "1",
         "x": [
          2016,
          2017,
          2018,
          2019,
          2020,
          2021,
          2022
         ],
         "xaxis": "x",
         "y": [
          1.67419291E7,
          2.00702328E7,
          2.15088633E7,
          2.392014215E7,
          2.5920288E7,
          2.765573965E7,
          3.209598625E7
         ],
         "yaxis": "y",
         "type": "scatter"
        }
       ],
       "layout": {
        "template": {
         "data": {
          "histogram2dcontour": [
           {
            "type": "histogram2dcontour",
            "colorbar": {
             "outlinewidth": 0,
             "ticks": ""
            },
            "colorscale": [
             [
              0.0,
              "#0d0887"
             ],
             [
              0.1111111111111111,
              "#46039f"
             ],
             [
              0.2222222222222222,
              "#7201a8"
             ],
             [
              0.3333333333333333,
              "#9c179e"
             ],
             [
              0.4444444444444444,
              "#bd3786"
             ],
             [
              0.5555555555555556,
              "#d8576b"
             ],
             [
              0.6666666666666666,
              "#ed7953"
             ],
             [
              0.7777777777777778,
              "#fb9f3a"
             ],
             [
              0.8888888888888888,
              "#fdca26"
             ],
             [
              1.0,
              "#f0f921"
             ]
            ]
           }
          ],
          "choropleth": [
           {
            "type": "choropleth",
            "colorbar": {
             "outlinewidth": 0,
             "ticks": ""
            }
           }
          ],
          "histogram2d": [
           {
            "type": "histogram2d",
            "colorbar": {
             "outlinewidth": 0,
             "ticks": ""
            },
            "colorscale": [
             [
              0.0,
              "#0d0887"
             ],
             [
              0.1111111111111111,
              "#46039f"
             ],
             [
              0.2222222222222222,
              "#7201a8"
             ],
             [
              0.3333333333333333,
              "#9c179e"
             ],
             [
              0.4444444444444444,
              "#bd3786"
             ],
             [
              0.5555555555555556,
              "#d8576b"
             ],
             [
              0.6666666666666666,
              "#ed7953"
             ],
             [
              0.7777777777777778,
              "#fb9f3a"
             ],
             [
              0.8888888888888888,
              "#fdca26"
             ],
             [
              1.0,
              "#f0f921"
             ]
            ]
           }
          ],
          "heatmap": [
           {
            "type": "heatmap",
            "colorbar": {
             "outlinewidth": 0,
             "ticks": ""
            },
            "colorscale": [
             [
              0.0,
              "#0d0887"
             ],
             [
              0.1111111111111111,
              "#46039f"
             ],
             [
              0.2222222222222222,
              "#7201a8"
             ],
             [
              0.3333333333333333,
              "#9c179e"
             ],
             [
              0.4444444444444444,
              "#bd3786"
             ],
             [
              0.5555555555555556,
              "#d8576b"
             ],
             [
              0.6666666666666666,
              "#ed7953"
             ],
             [
              0.7777777777777778,
              "#fb9f3a"
             ],
             [
              0.8888888888888888,
              "#fdca26"
             ],
             [
              1.0,
              "#f0f921"
             ]
            ]
           }
          ],
          "heatmapgl": [
           {
            "type": "heatmapgl",
            "colorbar": {
             "outlinewidth": 0,
             "ticks": ""
            },
            "colorscale": [
             [
              0.0,
              "#0d0887"
             ],
             [
              0.1111111111111111,
              "#46039f"
             ],
             [
              0.2222222222222222,
              "#7201a8"
             ],
             [
              0.3333333333333333,
              "#9c179e"
             ],
             [
              0.4444444444444444,
              "#bd3786"
             ],
             [
              0.5555555555555556,
              "#d8576b"
             ],
             [
              0.6666666666666666,
              "#ed7953"
             ],
             [
              0.7777777777777778,
              "#fb9f3a"
             ],
             [
              0.8888888888888888,
              "#fdca26"
             ],
             [
              1.0,
              "#f0f921"
             ]
            ]
           }
          ],
          "contourcarpet": [
           {
            "type": "contourcarpet",
            "colorbar": {
             "outlinewidth": 0,
             "ticks": ""
            }
           }
          ],
          "contour": [
           {
            "type": "contour",
            "colorbar": {
             "outlinewidth": 0,
             "ticks": ""
            },
            "colorscale": [
             [
              0.0,
              "#0d0887"
             ],
             [
              0.1111111111111111,
              "#46039f"
             ],
             [
              0.2222222222222222,
              "#7201a8"
             ],
             [
              0.3333333333333333,
              "#9c179e"
             ],
             [
              0.4444444444444444,
              "#bd3786"
             ],
             [
              0.5555555555555556,
              "#d8576b"
             ],
             [
              0.6666666666666666,
              "#ed7953"
             ],
             [
              0.7777777777777778,
              "#fb9f3a"
             ],
             [
              0.8888888888888888,
              "#fdca26"
             ],
             [
              1.0,
              "#f0f921"
             ]
            ]
           }
          ],
          "surface": [
           {
            "type": "surface",
            "colorbar": {
             "outlinewidth": 0,
             "ticks": ""
            },
            "colorscale": [
             [
              0.0,
              "#0d0887"
             ],
             [
              0.1111111111111111,
              "#46039f"
             ],
             [
              0.2222222222222222,
              "#7201a8"
             ],
             [
              0.3333333333333333,
              "#9c179e"
             ],
             [
              0.4444444444444444,
              "#bd3786"
             ],
             [
              0.5555555555555556,
              "#d8576b"
             ],
             [
              0.6666666666666666,
              "#ed7953"
             ],
             [
              0.7777777777777778,
              "#fb9f3a"
             ],
             [
              0.8888888888888888,
              "#fdca26"
             ],
             [
              1.0,
              "#f0f921"
             ]
            ]
           }
          ],
          "mesh3d": [
           {
            "type": "mesh3d",
            "colorbar": {
             "outlinewidth": 0,
             "ticks": ""
            }
           }
          ],
          "scatter": [
           {
            "marker": {
             "line": {
              "color": "#283442"
             }
            },
            "type": "scatter"
           }
          ],
          "parcoords": [
           {
            "type": "parcoords",
            "line": {
             "colorbar": {
              "outlinewidth": 0,
              "ticks": ""
             }
            }
           }
          ],
          "scatterpolargl": [
           {
            "type": "scatterpolargl",
            "marker": {
             "colorbar": {
              "outlinewidth": 0,
              "ticks": ""
             }
            }
           }
          ],
          "bar": [
           {
            "error_x": {
             "color": "#f2f5fa"
            },
            "error_y": {
             "color": "#f2f5fa"
            },
            "marker": {
             "line": {
              "color": "rgb(17,17,17)",
              "width": 0.5
             },
             "pattern": {
              "fillmode": "overlay",
              "size": 10,
              "solidity": 0.2
             }
            },
            "type": "bar"
           }
          ],
          "scattergeo": [
           {
            "type": "scattergeo",
            "marker": {
             "colorbar": {
              "outlinewidth": 0,
              "ticks": ""
             }
            }
           }
          ],
          "scatterpolar": [
           {
            "type": "scatterpolar",
            "marker": {
             "colorbar": {
              "outlinewidth": 0,
              "ticks": ""
             }
            }
           }
          ],
          "histogram": [
           {
            "marker": {
             "pattern": {
              "fillmode": "overlay",
              "size": 10,
              "solidity": 0.2
             }
            },
            "type": "histogram"
           }
          ],
          "scattergl": [
           {
            "marker": {
             "line": {
              "color": "#283442"
             }
            },
            "type": "scattergl"
           }
          ],
          "scatter3d": [
           {
            "type": "scatter3d",
            "line": {
             "colorbar": {
              "outlinewidth": 0,
              "ticks": ""
             }
            },
            "marker": {
             "colorbar": {
              "outlinewidth": 0,
              "ticks": ""
             }
            }
           }
          ],
          "scattermapbox": [
           {
            "type": "scattermapbox",
            "marker": {
             "colorbar": {
              "outlinewidth": 0,
              "ticks": ""
             }
            }
           }
          ],
          "scatterternary": [
           {
            "type": "scatterternary",
            "marker": {
             "colorbar": {
              "outlinewidth": 0,
              "ticks": ""
             }
            }
           }
          ],
          "scattercarpet": [
           {
            "type": "scattercarpet",
            "marker": {
             "colorbar": {
              "outlinewidth": 0,
              "ticks": ""
             }
            }
           }
          ],
          "carpet": [
           {
            "aaxis": {
             "endlinecolor": "#A2B1C6",
             "gridcolor": "#506784",
             "linecolor": "#506784",
             "minorgridcolor": "#506784",
             "startlinecolor": "#A2B1C6"
            },
            "baxis": {
             "endlinecolor": "#A2B1C6",
             "gridcolor": "#506784",
             "linecolor": "#506784",
             "minorgridcolor": "#506784",
             "startlinecolor": "#A2B1C6"
            },
            "type": "carpet"
           }
          ],
          "table": [
           {
            "cells": {
             "fill": {
              "color": "#506784"
             },
             "line": {
              "color": "rgb(17,17,17)"
             }
            },
            "header": {
             "fill": {
              "color": "#2a3f5f"
             },
             "line": {
              "color": "rgb(17,17,17)"
             }
            },
            "type": "table"
           }
          ],
          "barpolar": [
           {
            "marker": {
             "line": {
              "color": "rgb(17,17,17)",
              "width": 0.5
             },
             "pattern": {
              "fillmode": "overlay",
              "size": 10,
              "solidity": 0.2
             }
            },
            "type": "barpolar"
           }
          ],
          "pie": [
           {
            "automargin": true,
            "type": "pie"
           }
          ]
         },
         "layout": {
          "autotypenumbers": "strict",
          "colorway": [
           "#636efa",
           "#EF553B",
           "#00cc96",
           "#ab63fa",
           "#FFA15A",
           "#19d3f3",
           "#FF6692",
           "#B6E880",
           "#FF97FF",
           "#FECB52"
          ],
          "font": {
           "color": "#f2f5fa"
          },
          "hovermode": "closest",
          "hoverlabel": {
           "align": "left"
          },
          "paper_bgcolor": "rgb(17,17,17)",
          "plot_bgcolor": "rgb(17,17,17)",
          "polar": {
           "bgcolor": "rgb(17,17,17)",
           "angularaxis": {
            "gridcolor": "#506784",
            "linecolor": "#506784",
            "ticks": ""
           },
           "radialaxis": {
            "gridcolor": "#506784",
            "linecolor": "#506784",
            "ticks": ""
           }
          },
          "ternary": {
           "bgcolor": "rgb(17,17,17)",
           "aaxis": {
            "gridcolor": "#506784",
            "linecolor": "#506784",
            "ticks": ""
           },
           "baxis": {
            "gridcolor": "#506784",
            "linecolor": "#506784",
            "ticks": ""
           },
           "caxis": {
            "gridcolor": "#506784",
            "linecolor": "#506784",
            "ticks": ""
           }
          },
          "coloraxis": {
           "colorbar": {
            "outlinewidth": 0,
            "ticks": ""
           }
          },
          "colorscale": {
           "sequential": [
            [
             0.0,
             "#0d0887"
            ],
            [
             0.1111111111111111,
             "#46039f"
            ],
            [
             0.2222222222222222,
             "#7201a8"
            ],
            [
             0.3333333333333333,
             "#9c179e"
            ],
            [
             0.4444444444444444,
             "#bd3786"
            ],
            [
             0.5555555555555556,
             "#d8576b"
            ],
            [
             0.6666666666666666,
             "#ed7953"
            ],
            [
             0.7777777777777778,
             "#fb9f3a"
            ],
            [
             0.8888888888888888,
             "#fdca26"
            ],
            [
             1.0,
             "#f0f921"
            ]
           ],
           "sequentialminus": [
            [
             0.0,
             "#0d0887"
            ],
            [
             0.1111111111111111,
             "#46039f"
            ],
            [
             0.2222222222222222,
             "#7201a8"
            ],
            [
             0.3333333333333333,
             "#9c179e"
            ],
            [
             0.4444444444444444,
             "#bd3786"
            ],
            [
             0.5555555555555556,
             "#d8576b"
            ],
            [
             0.6666666666666666,
             "#ed7953"
            ],
            [
             0.7777777777777778,
             "#fb9f3a"
            ],
            [
             0.8888888888888888,
             "#fdca26"
            ],
            [
             1.0,
             "#f0f921"
            ]
           ],
           "diverging": [
            [
             0,
             "#8e0152"
            ],
            [
             0.1,
             "#c51b7d"
            ],
            [
             0.2,
             "#de77ae"
            ],
            [
             0.3,
             "#f1b6da"
            ],
            [
             0.4,
             "#fde0ef"
            ],
            [
             0.5,
             "#f7f7f7"
            ],
            [
             0.6,
             "#e6f5d0"
            ],
            [
             0.7,
             "#b8e186"
            ],
            [
             0.8,
             "#7fbc41"
            ],
            [
             0.9,
             "#4d9221"
            ],
            [
             1,
             "#276419"
            ]
           ]
          },
          "xaxis": {
           "gridcolor": "#283442",
           "linecolor": "#506784",
           "ticks": "",
           "title": {
            "standoff": 15
           },
           "zerolinecolor": "#283442",
           "automargin": true,
           "zerolinewidth": 2
          },
          "yaxis": {
           "gridcolor": "#283442",
           "linecolor": "#506784",
           "ticks": "",
           "title": {
            "standoff": 15
           },
           "zerolinecolor": "#283442",
           "automargin": true,
           "zerolinewidth": 2
          },
          "scene": {
           "xaxis": {
            "backgroundcolor": "rgb(17,17,17)",
            "gridcolor": "#506784",
            "linecolor": "#506784",
            "showbackground": true,
            "ticks": "",
            "zerolinecolor": "#C8D4E3",
            "gridwidth": 2
           },
           "yaxis": {
            "backgroundcolor": "rgb(17,17,17)",
            "gridcolor": "#506784",
            "linecolor": "#506784",
            "showbackground": true,
            "ticks": "",
            "zerolinecolor": "#C8D4E3",
            "gridwidth": 2
           },
           "zaxis": {
            "backgroundcolor": "rgb(17,17,17)",
            "gridcolor": "#506784",
            "linecolor": "#506784",
            "showbackground": true,
            "ticks": "",
            "zerolinecolor": "#C8D4E3",
            "gridwidth": 2
           }
          },
          "shapedefaults": {
           "line": {
            "color": "#f2f5fa"
           }
          },
          "annotationdefaults": {
           "arrowcolor": "#f2f5fa",
           "arrowhead": 0,
           "arrowwidth": 1
          },
          "geo": {
           "bgcolor": "rgb(17,17,17)",
           "landcolor": "rgb(17,17,17)",
           "subunitcolor": "#506784",
           "showland": true,
           "showlakes": true,
           "lakecolor": "rgb(17,17,17)"
          },
          "title": {
           "x": 0.05
          },
          "updatemenudefaults": {
           "bgcolor": "#506784",
           "borderwidth": 0
          },
          "sliderdefaults": {
           "bgcolor": "#C8D4E3",
           "borderwidth": 1,
           "bordercolor": "rgb(17,17,17)",
           "tickwidth": 0
          },
          "mapbox": {
           "style": "dark"
          }
         }
        },
        "xaxis": {
         "anchor": "y",
         "domain": [
          0.0,
          1.0
         ],
         "title": {
          "text": "Year"
         }
        },
        "yaxis": {
         "anchor": "x",
         "domain": [
          0.0,
          1.0
         ],
         "title": {
          "text": "Total Generation (MWh)"
         }
        },
        "legend": {
         "title": {
          "text": "Generation Type"
         },
         "tracegroupgap": 0
        },
        "title": {
         "text": "Total Annual Generation by Type for PJM from 2014 - 2022"
        },
        "paper_bgcolor": "rgba(0,0,0,0)",
        "plot_bgcolor": "rgba(0,0,0,0)"
       },
       "config": {
        "plotlyServerURL": "https://plot.ly"
       }
      },
      "text/html": "<div>                            <div id=\"b83e0672-8e57-4bc1-8e92-be8cbb9108fa\" class=\"plotly-graph-div\" style=\"height:525px; width:100%;\"></div>            <script type=\"text/javascript\">                require([\"plotly\"], function(Plotly) {                    window.PLOTLYENV=window.PLOTLYENV || {};                                    if (document.getElementById(\"b83e0672-8e57-4bc1-8e92-be8cbb9108fa\")) {                    Plotly.newPlot(                        \"b83e0672-8e57-4bc1-8e92-be8cbb9108fa\",                        [{\"fillpattern\":{\"shape\":\"\"},\"hovertemplate\":\"Generation Type=coal<br>Year=%{x}<br>Total Generation (MWh)=%{y}<extra></extra>\",\"legendgroup\":\"coal\",\"line\":{\"color\":\"#FD3216\"},\"marker\":{\"symbol\":\"circle\"},\"mode\":\"lines\",\"name\":\"coal\",\"orientation\":\"v\",\"showlegend\":true,\"stackgroup\":\"1\",\"x\":[2016,2017,2018,2019,2020,2021,2022],\"xaxis\":\"x\",\"y\":[267208573.3,250540557.6,239040655.4,196501938.55,155815824.5,182306251.05,166883194.6],\"yaxis\":\"y\",\"type\":\"scatter\"},{\"fillpattern\":{\"shape\":\"\"},\"hovertemplate\":\"Generation Type=gas<br>Year=%{x}<br>Total Generation (MWh)=%{y}<extra></extra>\",\"legendgroup\":\"gas\",\"line\":{\"color\":\"#00FE35\"},\"marker\":{\"symbol\":\"circle\"},\"mode\":\"lines\",\"name\":\"gas\",\"orientation\":\"v\",\"showlegend\":true,\"stackgroup\":\"1\",\"x\":[2016,2017,2018,2019,2020,2021,2022],\"xaxis\":\"x\",\"y\":[184677755.2,209922903.6,254950943.5,298510692.0,317490780.05,309515220.5,331157309.95],\"yaxis\":\"y\",\"type\":\"scatter\"},{\"fillpattern\":{\"shape\":\"\"},\"hovertemplate\":\"Generation Type=hydro<br>Year=%{x}<br>Total Generation (MWh)=%{y}<extra></extra>\",\"legendgroup\":\"hydro\",\"line\":{\"color\":\"#6A76FC\"},\"marker\":{\"symbol\":\"circle\"},\"mode\":\"lines\",\"name\":\"hydro\",\"orientation\":\"v\",\"showlegend\":true,\"stackgroup\":\"1\",\"x\":[2016,2017,2018,2019,2020,2021,2022],\"xaxis\":\"x\",\"y\":[11891197.5,14242121.5,19220041.1,16499090.3,16171830.4,16541941.15,15949090.75],\"yaxis\":\"y\",\"type\":\"scatter\"},{\"fillpattern\":{\"shape\":\"\"},\"hovertemplate\":\"Generation Type=multiple_fuels<br>Year=%{x}<br>Total Generation (MWh)=%{y}<extra></extra>\",\"legendgroup\":\"multiple_fuels\",\"line\":{\"color\":\"#FED4C4\"},\"marker\":{\"symbol\":\"circle\"},\"mode\":\"lines\",\"name\":\"multiple_fuels\",\"orientation\":\"v\",\"showlegend\":true,\"stackgroup\":\"1\",\"x\":[2016],\"xaxis\":\"x\",\"y\":[11787924.9],\"yaxis\":\"y\",\"type\":\"scatter\"},{\"fillpattern\":{\"shape\":\"\"},\"hovertemplate\":\"Generation Type=nuclear<br>Year=%{x}<br>Total Generation (MWh)=%{y}<extra></extra>\",\"legendgroup\":\"nuclear\",\"line\":{\"color\":\"#FE00CE\"},\"marker\":{\"symbol\":\"circle\"},\"mode\":\"lines\",\"name\":\"nuclear\",\"orientation\":\"v\",\"showlegend\":true,\"stackgroup\":\"1\",\"x\":[2016,2017,2018,2019,2020,2021,2022],\"xaxis\":\"x\",\"y\":[278949022.0,284132200.0,286475259.2,278394300.55,276066654.1,270581631.75,270907823.9],\"yaxis\":\"y\",\"type\":\"scatter\"},{\"fillpattern\":{\"shape\":\"\"},\"hovertemplate\":\"Generation Type=other<br>Year=%{x}<br>Total Generation (MWh)=%{y}<extra></extra>\",\"legendgroup\":\"other\",\"line\":{\"color\":\"#0DF9FF\"},\"marker\":{\"symbol\":\"circle\"},\"mode\":\"lines\",\"name\":\"other\",\"orientation\":\"v\",\"showlegend\":true,\"stackgroup\":\"1\",\"x\":[2016],\"xaxis\":\"x\",\"y\":[20659526.4],\"yaxis\":\"y\",\"type\":\"scatter\"},{\"fillpattern\":{\"shape\":\"\"},\"hovertemplate\":\"Generation Type=wind<br>Year=%{x}<br>Total Generation (MWh)=%{y}<extra></extra>\",\"legendgroup\":\"wind\",\"line\":{\"color\":\"#F6F926\"},\"marker\":{\"symbol\":\"circle\"},\"mode\":\"lines\",\"name\":\"wind\",\"orientation\":\"v\",\"showlegend\":true,\"stackgroup\":\"1\",\"x\":[2016,2017,2018,2019,2020,2021,2022],\"xaxis\":\"x\",\"y\":[16741929.1,20070232.8,21508863.3,23920142.15,25920288.0,27655739.65,32095986.25],\"yaxis\":\"y\",\"type\":\"scatter\"}],                        {\"template\":{\"data\":{\"histogram2dcontour\":[{\"type\":\"histogram2dcontour\",\"colorbar\":{\"outlinewidth\":0,\"ticks\":\"\"},\"colorscale\":[[0.0,\"#0d0887\"],[0.1111111111111111,\"#46039f\"],[0.2222222222222222,\"#7201a8\"],[0.3333333333333333,\"#9c179e\"],[0.4444444444444444,\"#bd3786\"],[0.5555555555555556,\"#d8576b\"],[0.6666666666666666,\"#ed7953\"],[0.7777777777777778,\"#fb9f3a\"],[0.8888888888888888,\"#fdca26\"],[1.0,\"#f0f921\"]]}],\"choropleth\":[{\"type\":\"choropleth\",\"colorbar\":{\"outlinewidth\":0,\"ticks\":\"\"}}],\"histogram2d\":[{\"type\":\"histogram2d\",\"colorbar\":{\"outlinewidth\":0,\"ticks\":\"\"},\"colorscale\":[[0.0,\"#0d0887\"],[0.1111111111111111,\"#46039f\"],[0.2222222222222222,\"#7201a8\"],[0.3333333333333333,\"#9c179e\"],[0.4444444444444444,\"#bd3786\"],[0.5555555555555556,\"#d8576b\"],[0.6666666666666666,\"#ed7953\"],[0.7777777777777778,\"#fb9f3a\"],[0.8888888888888888,\"#fdca26\"],[1.0,\"#f0f921\"]]}],\"heatmap\":[{\"type\":\"heatmap\",\"colorbar\":{\"outlinewidth\":0,\"ticks\":\"\"},\"colorscale\":[[0.0,\"#0d0887\"],[0.1111111111111111,\"#46039f\"],[0.2222222222222222,\"#7201a8\"],[0.3333333333333333,\"#9c179e\"],[0.4444444444444444,\"#bd3786\"],[0.5555555555555556,\"#d8576b\"],[0.6666666666666666,\"#ed7953\"],[0.7777777777777778,\"#fb9f3a\"],[0.8888888888888888,\"#fdca26\"],[1.0,\"#f0f921\"]]}],\"heatmapgl\":[{\"type\":\"heatmapgl\",\"colorbar\":{\"outlinewidth\":0,\"ticks\":\"\"},\"colorscale\":[[0.0,\"#0d0887\"],[0.1111111111111111,\"#46039f\"],[0.2222222222222222,\"#7201a8\"],[0.3333333333333333,\"#9c179e\"],[0.4444444444444444,\"#bd3786\"],[0.5555555555555556,\"#d8576b\"],[0.6666666666666666,\"#ed7953\"],[0.7777777777777778,\"#fb9f3a\"],[0.8888888888888888,\"#fdca26\"],[1.0,\"#f0f921\"]]}],\"contourcarpet\":[{\"type\":\"contourcarpet\",\"colorbar\":{\"outlinewidth\":0,\"ticks\":\"\"}}],\"contour\":[{\"type\":\"contour\",\"colorbar\":{\"outlinewidth\":0,\"ticks\":\"\"},\"colorscale\":[[0.0,\"#0d0887\"],[0.1111111111111111,\"#46039f\"],[0.2222222222222222,\"#7201a8\"],[0.3333333333333333,\"#9c179e\"],[0.4444444444444444,\"#bd3786\"],[0.5555555555555556,\"#d8576b\"],[0.6666666666666666,\"#ed7953\"],[0.7777777777777778,\"#fb9f3a\"],[0.8888888888888888,\"#fdca26\"],[1.0,\"#f0f921\"]]}],\"surface\":[{\"type\":\"surface\",\"colorbar\":{\"outlinewidth\":0,\"ticks\":\"\"},\"colorscale\":[[0.0,\"#0d0887\"],[0.1111111111111111,\"#46039f\"],[0.2222222222222222,\"#7201a8\"],[0.3333333333333333,\"#9c179e\"],[0.4444444444444444,\"#bd3786\"],[0.5555555555555556,\"#d8576b\"],[0.6666666666666666,\"#ed7953\"],[0.7777777777777778,\"#fb9f3a\"],[0.8888888888888888,\"#fdca26\"],[1.0,\"#f0f921\"]]}],\"mesh3d\":[{\"type\":\"mesh3d\",\"colorbar\":{\"outlinewidth\":0,\"ticks\":\"\"}}],\"scatter\":[{\"marker\":{\"line\":{\"color\":\"#283442\"}},\"type\":\"scatter\"}],\"parcoords\":[{\"type\":\"parcoords\",\"line\":{\"colorbar\":{\"outlinewidth\":0,\"ticks\":\"\"}}}],\"scatterpolargl\":[{\"type\":\"scatterpolargl\",\"marker\":{\"colorbar\":{\"outlinewidth\":0,\"ticks\":\"\"}}}],\"bar\":[{\"error_x\":{\"color\":\"#f2f5fa\"},\"error_y\":{\"color\":\"#f2f5fa\"},\"marker\":{\"line\":{\"color\":\"rgb(17,17,17)\",\"width\":0.5},\"pattern\":{\"fillmode\":\"overlay\",\"size\":10,\"solidity\":0.2}},\"type\":\"bar\"}],\"scattergeo\":[{\"type\":\"scattergeo\",\"marker\":{\"colorbar\":{\"outlinewidth\":0,\"ticks\":\"\"}}}],\"scatterpolar\":[{\"type\":\"scatterpolar\",\"marker\":{\"colorbar\":{\"outlinewidth\":0,\"ticks\":\"\"}}}],\"histogram\":[{\"marker\":{\"pattern\":{\"fillmode\":\"overlay\",\"size\":10,\"solidity\":0.2}},\"type\":\"histogram\"}],\"scattergl\":[{\"marker\":{\"line\":{\"color\":\"#283442\"}},\"type\":\"scattergl\"}],\"scatter3d\":[{\"type\":\"scatter3d\",\"line\":{\"colorbar\":{\"outlinewidth\":0,\"ticks\":\"\"}},\"marker\":{\"colorbar\":{\"outlinewidth\":0,\"ticks\":\"\"}}}],\"scattermapbox\":[{\"type\":\"scattermapbox\",\"marker\":{\"colorbar\":{\"outlinewidth\":0,\"ticks\":\"\"}}}],\"scatterternary\":[{\"type\":\"scatterternary\",\"marker\":{\"colorbar\":{\"outlinewidth\":0,\"ticks\":\"\"}}}],\"scattercarpet\":[{\"type\":\"scattercarpet\",\"marker\":{\"colorbar\":{\"outlinewidth\":0,\"ticks\":\"\"}}}],\"carpet\":[{\"aaxis\":{\"endlinecolor\":\"#A2B1C6\",\"gridcolor\":\"#506784\",\"linecolor\":\"#506784\",\"minorgridcolor\":\"#506784\",\"startlinecolor\":\"#A2B1C6\"},\"baxis\":{\"endlinecolor\":\"#A2B1C6\",\"gridcolor\":\"#506784\",\"linecolor\":\"#506784\",\"minorgridcolor\":\"#506784\",\"startlinecolor\":\"#A2B1C6\"},\"type\":\"carpet\"}],\"table\":[{\"cells\":{\"fill\":{\"color\":\"#506784\"},\"line\":{\"color\":\"rgb(17,17,17)\"}},\"header\":{\"fill\":{\"color\":\"#2a3f5f\"},\"line\":{\"color\":\"rgb(17,17,17)\"}},\"type\":\"table\"}],\"barpolar\":[{\"marker\":{\"line\":{\"color\":\"rgb(17,17,17)\",\"width\":0.5},\"pattern\":{\"fillmode\":\"overlay\",\"size\":10,\"solidity\":0.2}},\"type\":\"barpolar\"}],\"pie\":[{\"automargin\":true,\"type\":\"pie\"}]},\"layout\":{\"autotypenumbers\":\"strict\",\"colorway\":[\"#636efa\",\"#EF553B\",\"#00cc96\",\"#ab63fa\",\"#FFA15A\",\"#19d3f3\",\"#FF6692\",\"#B6E880\",\"#FF97FF\",\"#FECB52\"],\"font\":{\"color\":\"#f2f5fa\"},\"hovermode\":\"closest\",\"hoverlabel\":{\"align\":\"left\"},\"paper_bgcolor\":\"rgb(17,17,17)\",\"plot_bgcolor\":\"rgb(17,17,17)\",\"polar\":{\"bgcolor\":\"rgb(17,17,17)\",\"angularaxis\":{\"gridcolor\":\"#506784\",\"linecolor\":\"#506784\",\"ticks\":\"\"},\"radialaxis\":{\"gridcolor\":\"#506784\",\"linecolor\":\"#506784\",\"ticks\":\"\"}},\"ternary\":{\"bgcolor\":\"rgb(17,17,17)\",\"aaxis\":{\"gridcolor\":\"#506784\",\"linecolor\":\"#506784\",\"ticks\":\"\"},\"baxis\":{\"gridcolor\":\"#506784\",\"linecolor\":\"#506784\",\"ticks\":\"\"},\"caxis\":{\"gridcolor\":\"#506784\",\"linecolor\":\"#506784\",\"ticks\":\"\"}},\"coloraxis\":{\"colorbar\":{\"outlinewidth\":0,\"ticks\":\"\"}},\"colorscale\":{\"sequential\":[[0.0,\"#0d0887\"],[0.1111111111111111,\"#46039f\"],[0.2222222222222222,\"#7201a8\"],[0.3333333333333333,\"#9c179e\"],[0.4444444444444444,\"#bd3786\"],[0.5555555555555556,\"#d8576b\"],[0.6666666666666666,\"#ed7953\"],[0.7777777777777778,\"#fb9f3a\"],[0.8888888888888888,\"#fdca26\"],[1.0,\"#f0f921\"]],\"sequentialminus\":[[0.0,\"#0d0887\"],[0.1111111111111111,\"#46039f\"],[0.2222222222222222,\"#7201a8\"],[0.3333333333333333,\"#9c179e\"],[0.4444444444444444,\"#bd3786\"],[0.5555555555555556,\"#d8576b\"],[0.6666666666666666,\"#ed7953\"],[0.7777777777777778,\"#fb9f3a\"],[0.8888888888888888,\"#fdca26\"],[1.0,\"#f0f921\"]],\"diverging\":[[0,\"#8e0152\"],[0.1,\"#c51b7d\"],[0.2,\"#de77ae\"],[0.3,\"#f1b6da\"],[0.4,\"#fde0ef\"],[0.5,\"#f7f7f7\"],[0.6,\"#e6f5d0\"],[0.7,\"#b8e186\"],[0.8,\"#7fbc41\"],[0.9,\"#4d9221\"],[1,\"#276419\"]]},\"xaxis\":{\"gridcolor\":\"#283442\",\"linecolor\":\"#506784\",\"ticks\":\"\",\"title\":{\"standoff\":15},\"zerolinecolor\":\"#283442\",\"automargin\":true,\"zerolinewidth\":2},\"yaxis\":{\"gridcolor\":\"#283442\",\"linecolor\":\"#506784\",\"ticks\":\"\",\"title\":{\"standoff\":15},\"zerolinecolor\":\"#283442\",\"automargin\":true,\"zerolinewidth\":2},\"scene\":{\"xaxis\":{\"backgroundcolor\":\"rgb(17,17,17)\",\"gridcolor\":\"#506784\",\"linecolor\":\"#506784\",\"showbackground\":true,\"ticks\":\"\",\"zerolinecolor\":\"#C8D4E3\",\"gridwidth\":2},\"yaxis\":{\"backgroundcolor\":\"rgb(17,17,17)\",\"gridcolor\":\"#506784\",\"linecolor\":\"#506784\",\"showbackground\":true,\"ticks\":\"\",\"zerolinecolor\":\"#C8D4E3\",\"gridwidth\":2},\"zaxis\":{\"backgroundcolor\":\"rgb(17,17,17)\",\"gridcolor\":\"#506784\",\"linecolor\":\"#506784\",\"showbackground\":true,\"ticks\":\"\",\"zerolinecolor\":\"#C8D4E3\",\"gridwidth\":2}},\"shapedefaults\":{\"line\":{\"color\":\"#f2f5fa\"}},\"annotationdefaults\":{\"arrowcolor\":\"#f2f5fa\",\"arrowhead\":0,\"arrowwidth\":1},\"geo\":{\"bgcolor\":\"rgb(17,17,17)\",\"landcolor\":\"rgb(17,17,17)\",\"subunitcolor\":\"#506784\",\"showland\":true,\"showlakes\":true,\"lakecolor\":\"rgb(17,17,17)\"},\"title\":{\"x\":0.05},\"updatemenudefaults\":{\"bgcolor\":\"#506784\",\"borderwidth\":0},\"sliderdefaults\":{\"bgcolor\":\"#C8D4E3\",\"borderwidth\":1,\"bordercolor\":\"rgb(17,17,17)\",\"tickwidth\":0},\"mapbox\":{\"style\":\"dark\"}}},\"xaxis\":{\"anchor\":\"y\",\"domain\":[0.0,1.0],\"title\":{\"text\":\"Year\"}},\"yaxis\":{\"anchor\":\"x\",\"domain\":[0.0,1.0],\"title\":{\"text\":\"Total Generation (MWh)\"}},\"legend\":{\"title\":{\"text\":\"Generation Type\"},\"tracegroupgap\":0},\"title\":{\"text\":\"Total Annual Generation by Type for PJM from 2014 - 2022\"},\"paper_bgcolor\":\"rgba(0,0,0,0)\",\"plot_bgcolor\":\"rgba(0,0,0,0)\"},                        {\"responsive\": true}                    ).then(function(){\n                            \nvar gd = document.getElementById('b83e0672-8e57-4bc1-8e92-be8cbb9108fa');\nvar x = new MutationObserver(function (mutations, observer) {{\n        var display = window.getComputedStyle(gd).display;\n        if (!display || display === 'none') {{\n            console.log([gd, 'removed!']);\n            Plotly.purge(gd);\n            observer.disconnect();\n        }}\n}});\n\n// Listen for the removal of the full notebook cells\nvar notebookContainer = gd.closest('#notebook-container');\nif (notebookContainer) {{\n    x.observe(notebookContainer, {childList: true});\n}}\n\n// Listen for the clearing of the current output cell\nvar outputEl = gd.closest('.output');\nif (outputEl) {{\n    x.observe(outputEl, {childList: true});\n}}\n\n                        })                };                });            </script>        </div>"
     },
     "metadata": {},
     "output_type": "display_data"
    },
    {
     "data": {
      "application/vnd.plotly.v1+json": {
       "data": [
        {
         "fillpattern": {
          "shape": ""
         },
         "hovertemplate": "Generation Type=coal<br>Year=%{x}<br>Total Generation (MWh)=%{y}<extra></extra>",
         "legendgroup": "coal",
         "line": {
          "color": "#FD3216"
         },
         "marker": {
          "symbol": "circle"
         },
         "mode": "lines",
         "name": "coal",
         "orientation": "v",
         "showlegend": true,
         "stackgroup": "1",
         "x": [
          2014,
          2015,
          2016,
          2017,
          2018,
          2019,
          2020,
          2021,
          2022
         ],
         "xaxis": "x",
         "y": [
          3.0620758005569E7,
          2.44143897556812E7,
          2.52767770463829E7,
          2.878536992291E7,
          2.33123488037238E7,
          1.9459355E7,
          1.7125861975E7,
          1.8704418175E7,
          1.7874102075E7
         ],
         "yaxis": "y",
         "type": "scatter"
        },
        {
         "fillpattern": {
          "shape": ""
         },
         "hovertemplate": "Generation Type=gas<br>Year=%{x}<br>Total Generation (MWh)=%{y}<extra></extra>",
         "legendgroup": "gas",
         "line": {
          "color": "#00FE35"
         },
         "marker": {
          "symbol": "circle"
         },
         "mode": "lines",
         "name": "gas",
         "orientation": "v",
         "showlegend": true,
         "stackgroup": "1",
         "x": [
          2014,
          2015,
          2016,
          2017,
          2018,
          2019,
          2020,
          2021,
          2022
         ],
         "xaxis": "x",
         "y": [
          4531448.71827505,
          5720918.3591203,
          5441873.9981391,
          4148376.1217153,
          5871654.6615813,
          6844318.675,
          5607945.15,
          6526384.2,
          7406430.8
         ],
         "yaxis": "y",
         "type": "scatter"
        },
        {
         "fillpattern": {
          "shape": ""
         },
         "hovertemplate": "Generation Type=gascc<br>Year=%{x}<br>Total Generation (MWh)=%{y}<extra></extra>",
         "legendgroup": "gascc",
         "line": {
          "color": "#6A76FC"
         },
         "marker": {
          "symbol": "circle"
         },
         "mode": "lines",
         "name": "gascc",
         "orientation": "v",
         "showlegend": true,
         "stackgroup": "1",
         "x": [
          2014,
          2015,
          2016,
          2017,
          2018,
          2019,
          2020,
          2021,
          2022
         ],
         "xaxis": "x",
         "y": [
          3.04090885846615E7,
          3.6252635272576E7,
          3.29308593468049E7,
          3.05625509987666E7,
          3.59297365345802E7,
          3.8589045075E7,
          3.7837341625E7,
          3.4577318025E7,
          3.8337879775E7
         ],
         "yaxis": "y",
         "type": "scatter"
        },
        {
         "fillpattern": {
          "shape": ""
         },
         "hovertemplate": "Generation Type=nuclear<br>Year=%{x}<br>Total Generation (MWh)=%{y}<extra></extra>",
         "legendgroup": "nuclear",
         "line": {
          "color": "#FED4C4"
         },
         "marker": {
          "symbol": "circle"
         },
         "mode": "lines",
         "name": "nuclear",
         "orientation": "v",
         "showlegend": true,
         "stackgroup": "1",
         "x": [
          2014,
          2015,
          2016,
          2017,
          2018,
          2019,
          2020,
          2021,
          2022
         ],
         "xaxis": "x",
         "y": [
          9821801.4057732,
          9846080.3617655,
          1.05226829466932E7,
          9626044.3601078,
          1.02812302410878E7,
          1.0325205175E7,
          1.0362546175E7,
          1.00668286E7,
          1.0413461825E7
         ],
         "yaxis": "y",
         "type": "scatter"
        },
        {
         "fillpattern": {
          "shape": ""
         },
         "hovertemplate": "Generation Type=wind<br>Year=%{x}<br>Total Generation (MWh)=%{y}<extra></extra>",
         "legendgroup": "wind",
         "line": {
          "color": "#FE00CE"
         },
         "marker": {
          "symbol": "circle"
         },
         "mode": "lines",
         "name": "wind",
         "orientation": "v",
         "showlegend": true,
         "stackgroup": "1",
         "x": [
          2014,
          2015,
          2016,
          2017,
          2018,
          2019,
          2020,
          2021,
          2022
         ],
         "xaxis": "x",
         "y": [
          9035470.6110315,
          1.019568124450175E7,
          1.328624855736655E7,
          1.55507801319651E7,
          1.744900477487665E7,
          1.9169056075E7,
          2.17655056E7,
          2.384660595E7,
          2.6811391575E7
         ],
         "yaxis": "y",
         "type": "scatter"
        },
        {
         "fillpattern": {
          "shape": ""
         },
         "hovertemplate": "Generation Type=solar<br>Year=%{x}<br>Total Generation (MWh)=%{y}<extra></extra>",
         "legendgroup": "solar",
         "line": {
          "color": "#0DF9FF"
         },
         "marker": {
          "symbol": "circle"
         },
         "mode": "lines",
         "name": "solar",
         "orientation": "v",
         "showlegend": true,
         "stackgroup": "1",
         "x": [
          2019,
          2020,
          2021,
          2022
         ],
         "xaxis": "x",
         "y": [
          1099460.55,
          2187247.95,
          3927911.3,
          6047962.95
         ],
         "yaxis": "y",
         "type": "scatter"
        }
       ],
       "layout": {
        "template": {
         "data": {
          "histogram2dcontour": [
           {
            "type": "histogram2dcontour",
            "colorbar": {
             "outlinewidth": 0,
             "ticks": ""
            },
            "colorscale": [
             [
              0.0,
              "#0d0887"
             ],
             [
              0.1111111111111111,
              "#46039f"
             ],
             [
              0.2222222222222222,
              "#7201a8"
             ],
             [
              0.3333333333333333,
              "#9c179e"
             ],
             [
              0.4444444444444444,
              "#bd3786"
             ],
             [
              0.5555555555555556,
              "#d8576b"
             ],
             [
              0.6666666666666666,
              "#ed7953"
             ],
             [
              0.7777777777777778,
              "#fb9f3a"
             ],
             [
              0.8888888888888888,
              "#fdca26"
             ],
             [
              1.0,
              "#f0f921"
             ]
            ]
           }
          ],
          "choropleth": [
           {
            "type": "choropleth",
            "colorbar": {
             "outlinewidth": 0,
             "ticks": ""
            }
           }
          ],
          "histogram2d": [
           {
            "type": "histogram2d",
            "colorbar": {
             "outlinewidth": 0,
             "ticks": ""
            },
            "colorscale": [
             [
              0.0,
              "#0d0887"
             ],
             [
              0.1111111111111111,
              "#46039f"
             ],
             [
              0.2222222222222222,
              "#7201a8"
             ],
             [
              0.3333333333333333,
              "#9c179e"
             ],
             [
              0.4444444444444444,
              "#bd3786"
             ],
             [
              0.5555555555555556,
              "#d8576b"
             ],
             [
              0.6666666666666666,
              "#ed7953"
             ],
             [
              0.7777777777777778,
              "#fb9f3a"
             ],
             [
              0.8888888888888888,
              "#fdca26"
             ],
             [
              1.0,
              "#f0f921"
             ]
            ]
           }
          ],
          "heatmap": [
           {
            "type": "heatmap",
            "colorbar": {
             "outlinewidth": 0,
             "ticks": ""
            },
            "colorscale": [
             [
              0.0,
              "#0d0887"
             ],
             [
              0.1111111111111111,
              "#46039f"
             ],
             [
              0.2222222222222222,
              "#7201a8"
             ],
             [
              0.3333333333333333,
              "#9c179e"
             ],
             [
              0.4444444444444444,
              "#bd3786"
             ],
             [
              0.5555555555555556,
              "#d8576b"
             ],
             [
              0.6666666666666666,
              "#ed7953"
             ],
             [
              0.7777777777777778,
              "#fb9f3a"
             ],
             [
              0.8888888888888888,
              "#fdca26"
             ],
             [
              1.0,
              "#f0f921"
             ]
            ]
           }
          ],
          "heatmapgl": [
           {
            "type": "heatmapgl",
            "colorbar": {
             "outlinewidth": 0,
             "ticks": ""
            },
            "colorscale": [
             [
              0.0,
              "#0d0887"
             ],
             [
              0.1111111111111111,
              "#46039f"
             ],
             [
              0.2222222222222222,
              "#7201a8"
             ],
             [
              0.3333333333333333,
              "#9c179e"
             ],
             [
              0.4444444444444444,
              "#bd3786"
             ],
             [
              0.5555555555555556,
              "#d8576b"
             ],
             [
              0.6666666666666666,
              "#ed7953"
             ],
             [
              0.7777777777777778,
              "#fb9f3a"
             ],
             [
              0.8888888888888888,
              "#fdca26"
             ],
             [
              1.0,
              "#f0f921"
             ]
            ]
           }
          ],
          "contourcarpet": [
           {
            "type": "contourcarpet",
            "colorbar": {
             "outlinewidth": 0,
             "ticks": ""
            }
           }
          ],
          "contour": [
           {
            "type": "contour",
            "colorbar": {
             "outlinewidth": 0,
             "ticks": ""
            },
            "colorscale": [
             [
              0.0,
              "#0d0887"
             ],
             [
              0.1111111111111111,
              "#46039f"
             ],
             [
              0.2222222222222222,
              "#7201a8"
             ],
             [
              0.3333333333333333,
              "#9c179e"
             ],
             [
              0.4444444444444444,
              "#bd3786"
             ],
             [
              0.5555555555555556,
              "#d8576b"
             ],
             [
              0.6666666666666666,
              "#ed7953"
             ],
             [
              0.7777777777777778,
              "#fb9f3a"
             ],
             [
              0.8888888888888888,
              "#fdca26"
             ],
             [
              1.0,
              "#f0f921"
             ]
            ]
           }
          ],
          "surface": [
           {
            "type": "surface",
            "colorbar": {
             "outlinewidth": 0,
             "ticks": ""
            },
            "colorscale": [
             [
              0.0,
              "#0d0887"
             ],
             [
              0.1111111111111111,
              "#46039f"
             ],
             [
              0.2222222222222222,
              "#7201a8"
             ],
             [
              0.3333333333333333,
              "#9c179e"
             ],
             [
              0.4444444444444444,
              "#bd3786"
             ],
             [
              0.5555555555555556,
              "#d8576b"
             ],
             [
              0.6666666666666666,
              "#ed7953"
             ],
             [
              0.7777777777777778,
              "#fb9f3a"
             ],
             [
              0.8888888888888888,
              "#fdca26"
             ],
             [
              1.0,
              "#f0f921"
             ]
            ]
           }
          ],
          "mesh3d": [
           {
            "type": "mesh3d",
            "colorbar": {
             "outlinewidth": 0,
             "ticks": ""
            }
           }
          ],
          "scatter": [
           {
            "marker": {
             "line": {
              "color": "#283442"
             }
            },
            "type": "scatter"
           }
          ],
          "parcoords": [
           {
            "type": "parcoords",
            "line": {
             "colorbar": {
              "outlinewidth": 0,
              "ticks": ""
             }
            }
           }
          ],
          "scatterpolargl": [
           {
            "type": "scatterpolargl",
            "marker": {
             "colorbar": {
              "outlinewidth": 0,
              "ticks": ""
             }
            }
           }
          ],
          "bar": [
           {
            "error_x": {
             "color": "#f2f5fa"
            },
            "error_y": {
             "color": "#f2f5fa"
            },
            "marker": {
             "line": {
              "color": "rgb(17,17,17)",
              "width": 0.5
             },
             "pattern": {
              "fillmode": "overlay",
              "size": 10,
              "solidity": 0.2
             }
            },
            "type": "bar"
           }
          ],
          "scattergeo": [
           {
            "type": "scattergeo",
            "marker": {
             "colorbar": {
              "outlinewidth": 0,
              "ticks": ""
             }
            }
           }
          ],
          "scatterpolar": [
           {
            "type": "scatterpolar",
            "marker": {
             "colorbar": {
              "outlinewidth": 0,
              "ticks": ""
             }
            }
           }
          ],
          "histogram": [
           {
            "marker": {
             "pattern": {
              "fillmode": "overlay",
              "size": 10,
              "solidity": 0.2
             }
            },
            "type": "histogram"
           }
          ],
          "scattergl": [
           {
            "marker": {
             "line": {
              "color": "#283442"
             }
            },
            "type": "scattergl"
           }
          ],
          "scatter3d": [
           {
            "type": "scatter3d",
            "line": {
             "colorbar": {
              "outlinewidth": 0,
              "ticks": ""
             }
            },
            "marker": {
             "colorbar": {
              "outlinewidth": 0,
              "ticks": ""
             }
            }
           }
          ],
          "scattermapbox": [
           {
            "type": "scattermapbox",
            "marker": {
             "colorbar": {
              "outlinewidth": 0,
              "ticks": ""
             }
            }
           }
          ],
          "scatterternary": [
           {
            "type": "scatterternary",
            "marker": {
             "colorbar": {
              "outlinewidth": 0,
              "ticks": ""
             }
            }
           }
          ],
          "scattercarpet": [
           {
            "type": "scattercarpet",
            "marker": {
             "colorbar": {
              "outlinewidth": 0,
              "ticks": ""
             }
            }
           }
          ],
          "carpet": [
           {
            "aaxis": {
             "endlinecolor": "#A2B1C6",
             "gridcolor": "#506784",
             "linecolor": "#506784",
             "minorgridcolor": "#506784",
             "startlinecolor": "#A2B1C6"
            },
            "baxis": {
             "endlinecolor": "#A2B1C6",
             "gridcolor": "#506784",
             "linecolor": "#506784",
             "minorgridcolor": "#506784",
             "startlinecolor": "#A2B1C6"
            },
            "type": "carpet"
           }
          ],
          "table": [
           {
            "cells": {
             "fill": {
              "color": "#506784"
             },
             "line": {
              "color": "rgb(17,17,17)"
             }
            },
            "header": {
             "fill": {
              "color": "#2a3f5f"
             },
             "line": {
              "color": "rgb(17,17,17)"
             }
            },
            "type": "table"
           }
          ],
          "barpolar": [
           {
            "marker": {
             "line": {
              "color": "rgb(17,17,17)",
              "width": 0.5
             },
             "pattern": {
              "fillmode": "overlay",
              "size": 10,
              "solidity": 0.2
             }
            },
            "type": "barpolar"
           }
          ],
          "pie": [
           {
            "automargin": true,
            "type": "pie"
           }
          ]
         },
         "layout": {
          "autotypenumbers": "strict",
          "colorway": [
           "#636efa",
           "#EF553B",
           "#00cc96",
           "#ab63fa",
           "#FFA15A",
           "#19d3f3",
           "#FF6692",
           "#B6E880",
           "#FF97FF",
           "#FECB52"
          ],
          "font": {
           "color": "#f2f5fa"
          },
          "hovermode": "closest",
          "hoverlabel": {
           "align": "left"
          },
          "paper_bgcolor": "rgb(17,17,17)",
          "plot_bgcolor": "rgb(17,17,17)",
          "polar": {
           "bgcolor": "rgb(17,17,17)",
           "angularaxis": {
            "gridcolor": "#506784",
            "linecolor": "#506784",
            "ticks": ""
           },
           "radialaxis": {
            "gridcolor": "#506784",
            "linecolor": "#506784",
            "ticks": ""
           }
          },
          "ternary": {
           "bgcolor": "rgb(17,17,17)",
           "aaxis": {
            "gridcolor": "#506784",
            "linecolor": "#506784",
            "ticks": ""
           },
           "baxis": {
            "gridcolor": "#506784",
            "linecolor": "#506784",
            "ticks": ""
           },
           "caxis": {
            "gridcolor": "#506784",
            "linecolor": "#506784",
            "ticks": ""
           }
          },
          "coloraxis": {
           "colorbar": {
            "outlinewidth": 0,
            "ticks": ""
           }
          },
          "colorscale": {
           "sequential": [
            [
             0.0,
             "#0d0887"
            ],
            [
             0.1111111111111111,
             "#46039f"
            ],
            [
             0.2222222222222222,
             "#7201a8"
            ],
            [
             0.3333333333333333,
             "#9c179e"
            ],
            [
             0.4444444444444444,
             "#bd3786"
            ],
            [
             0.5555555555555556,
             "#d8576b"
            ],
            [
             0.6666666666666666,
             "#ed7953"
            ],
            [
             0.7777777777777778,
             "#fb9f3a"
            ],
            [
             0.8888888888888888,
             "#fdca26"
            ],
            [
             1.0,
             "#f0f921"
            ]
           ],
           "sequentialminus": [
            [
             0.0,
             "#0d0887"
            ],
            [
             0.1111111111111111,
             "#46039f"
            ],
            [
             0.2222222222222222,
             "#7201a8"
            ],
            [
             0.3333333333333333,
             "#9c179e"
            ],
            [
             0.4444444444444444,
             "#bd3786"
            ],
            [
             0.5555555555555556,
             "#d8576b"
            ],
            [
             0.6666666666666666,
             "#ed7953"
            ],
            [
             0.7777777777777778,
             "#fb9f3a"
            ],
            [
             0.8888888888888888,
             "#fdca26"
            ],
            [
             1.0,
             "#f0f921"
            ]
           ],
           "diverging": [
            [
             0,
             "#8e0152"
            ],
            [
             0.1,
             "#c51b7d"
            ],
            [
             0.2,
             "#de77ae"
            ],
            [
             0.3,
             "#f1b6da"
            ],
            [
             0.4,
             "#fde0ef"
            ],
            [
             0.5,
             "#f7f7f7"
            ],
            [
             0.6,
             "#e6f5d0"
            ],
            [
             0.7,
             "#b8e186"
            ],
            [
             0.8,
             "#7fbc41"
            ],
            [
             0.9,
             "#4d9221"
            ],
            [
             1,
             "#276419"
            ]
           ]
          },
          "xaxis": {
           "gridcolor": "#283442",
           "linecolor": "#506784",
           "ticks": "",
           "title": {
            "standoff": 15
           },
           "zerolinecolor": "#283442",
           "automargin": true,
           "zerolinewidth": 2
          },
          "yaxis": {
           "gridcolor": "#283442",
           "linecolor": "#506784",
           "ticks": "",
           "title": {
            "standoff": 15
           },
           "zerolinecolor": "#283442",
           "automargin": true,
           "zerolinewidth": 2
          },
          "scene": {
           "xaxis": {
            "backgroundcolor": "rgb(17,17,17)",
            "gridcolor": "#506784",
            "linecolor": "#506784",
            "showbackground": true,
            "ticks": "",
            "zerolinecolor": "#C8D4E3",
            "gridwidth": 2
           },
           "yaxis": {
            "backgroundcolor": "rgb(17,17,17)",
            "gridcolor": "#506784",
            "linecolor": "#506784",
            "showbackground": true,
            "ticks": "",
            "zerolinecolor": "#C8D4E3",
            "gridwidth": 2
           },
           "zaxis": {
            "backgroundcolor": "rgb(17,17,17)",
            "gridcolor": "#506784",
            "linecolor": "#506784",
            "showbackground": true,
            "ticks": "",
            "zerolinecolor": "#C8D4E3",
            "gridwidth": 2
           }
          },
          "shapedefaults": {
           "line": {
            "color": "#f2f5fa"
           }
          },
          "annotationdefaults": {
           "arrowcolor": "#f2f5fa",
           "arrowhead": 0,
           "arrowwidth": 1
          },
          "geo": {
           "bgcolor": "rgb(17,17,17)",
           "landcolor": "rgb(17,17,17)",
           "subunitcolor": "#506784",
           "showland": true,
           "showlakes": true,
           "lakecolor": "rgb(17,17,17)"
          },
          "title": {
           "x": 0.05
          },
          "updatemenudefaults": {
           "bgcolor": "#506784",
           "borderwidth": 0
          },
          "sliderdefaults": {
           "bgcolor": "#C8D4E3",
           "borderwidth": 1,
           "bordercolor": "rgb(17,17,17)",
           "tickwidth": 0
          },
          "mapbox": {
           "style": "dark"
          }
         }
        },
        "xaxis": {
         "anchor": "y",
         "domain": [
          0.0,
          1.0
         ],
         "title": {
          "text": "Year"
         }
        },
        "yaxis": {
         "anchor": "x",
         "domain": [
          0.0,
          1.0
         ],
         "title": {
          "text": "Total Generation (MWh)"
         }
        },
        "legend": {
         "title": {
          "text": "Generation Type"
         },
         "tracegroupgap": 0
        },
        "title": {
         "text": "Total Annual Generation by Type for ERCOT from 2014 - 2022"
        },
        "paper_bgcolor": "rgba(0,0,0,0)",
        "plot_bgcolor": "rgba(0,0,0,0)"
       },
       "config": {
        "plotlyServerURL": "https://plot.ly"
       }
      },
      "text/html": "<div>                            <div id=\"eb8d14a2-2b38-4156-bdd2-def16bedf3c5\" class=\"plotly-graph-div\" style=\"height:525px; width:100%;\"></div>            <script type=\"text/javascript\">                require([\"plotly\"], function(Plotly) {                    window.PLOTLYENV=window.PLOTLYENV || {};                                    if (document.getElementById(\"eb8d14a2-2b38-4156-bdd2-def16bedf3c5\")) {                    Plotly.newPlot(                        \"eb8d14a2-2b38-4156-bdd2-def16bedf3c5\",                        [{\"fillpattern\":{\"shape\":\"\"},\"hovertemplate\":\"Generation Type=coal<br>Year=%{x}<br>Total Generation (MWh)=%{y}<extra></extra>\",\"legendgroup\":\"coal\",\"line\":{\"color\":\"#FD3216\"},\"marker\":{\"symbol\":\"circle\"},\"mode\":\"lines\",\"name\":\"coal\",\"orientation\":\"v\",\"showlegend\":true,\"stackgroup\":\"1\",\"x\":[2014,2015,2016,2017,2018,2019,2020,2021,2022],\"xaxis\":\"x\",\"y\":[30620758.005569,24414389.7556812,25276777.0463829,28785369.92291,23312348.8037238,19459355.0,17125861.975,18704418.175,17874102.075],\"yaxis\":\"y\",\"type\":\"scatter\"},{\"fillpattern\":{\"shape\":\"\"},\"hovertemplate\":\"Generation Type=gas<br>Year=%{x}<br>Total Generation (MWh)=%{y}<extra></extra>\",\"legendgroup\":\"gas\",\"line\":{\"color\":\"#00FE35\"},\"marker\":{\"symbol\":\"circle\"},\"mode\":\"lines\",\"name\":\"gas\",\"orientation\":\"v\",\"showlegend\":true,\"stackgroup\":\"1\",\"x\":[2014,2015,2016,2017,2018,2019,2020,2021,2022],\"xaxis\":\"x\",\"y\":[4531448.71827505,5720918.3591203,5441873.9981391,4148376.1217153,5871654.6615813,6844318.675,5607945.15,6526384.2,7406430.8],\"yaxis\":\"y\",\"type\":\"scatter\"},{\"fillpattern\":{\"shape\":\"\"},\"hovertemplate\":\"Generation Type=gascc<br>Year=%{x}<br>Total Generation (MWh)=%{y}<extra></extra>\",\"legendgroup\":\"gascc\",\"line\":{\"color\":\"#6A76FC\"},\"marker\":{\"symbol\":\"circle\"},\"mode\":\"lines\",\"name\":\"gascc\",\"orientation\":\"v\",\"showlegend\":true,\"stackgroup\":\"1\",\"x\":[2014,2015,2016,2017,2018,2019,2020,2021,2022],\"xaxis\":\"x\",\"y\":[30409088.5846615,36252635.272576,32930859.3468049,30562550.9987666,35929736.5345802,38589045.075,37837341.625,34577318.025,38337879.775],\"yaxis\":\"y\",\"type\":\"scatter\"},{\"fillpattern\":{\"shape\":\"\"},\"hovertemplate\":\"Generation Type=nuclear<br>Year=%{x}<br>Total Generation (MWh)=%{y}<extra></extra>\",\"legendgroup\":\"nuclear\",\"line\":{\"color\":\"#FED4C4\"},\"marker\":{\"symbol\":\"circle\"},\"mode\":\"lines\",\"name\":\"nuclear\",\"orientation\":\"v\",\"showlegend\":true,\"stackgroup\":\"1\",\"x\":[2014,2015,2016,2017,2018,2019,2020,2021,2022],\"xaxis\":\"x\",\"y\":[9821801.4057732,9846080.3617655,10522682.9466932,9626044.3601078,10281230.2410878,10325205.175,10362546.175,10066828.6,10413461.825],\"yaxis\":\"y\",\"type\":\"scatter\"},{\"fillpattern\":{\"shape\":\"\"},\"hovertemplate\":\"Generation Type=wind<br>Year=%{x}<br>Total Generation (MWh)=%{y}<extra></extra>\",\"legendgroup\":\"wind\",\"line\":{\"color\":\"#FE00CE\"},\"marker\":{\"symbol\":\"circle\"},\"mode\":\"lines\",\"name\":\"wind\",\"orientation\":\"v\",\"showlegend\":true,\"stackgroup\":\"1\",\"x\":[2014,2015,2016,2017,2018,2019,2020,2021,2022],\"xaxis\":\"x\",\"y\":[9035470.6110315,10195681.24450175,13286248.55736655,15550780.1319651,17449004.77487665,19169056.075,21765505.6,23846605.95,26811391.575],\"yaxis\":\"y\",\"type\":\"scatter\"},{\"fillpattern\":{\"shape\":\"\"},\"hovertemplate\":\"Generation Type=solar<br>Year=%{x}<br>Total Generation (MWh)=%{y}<extra></extra>\",\"legendgroup\":\"solar\",\"line\":{\"color\":\"#0DF9FF\"},\"marker\":{\"symbol\":\"circle\"},\"mode\":\"lines\",\"name\":\"solar\",\"orientation\":\"v\",\"showlegend\":true,\"stackgroup\":\"1\",\"x\":[2019,2020,2021,2022],\"xaxis\":\"x\",\"y\":[1099460.55,2187247.95,3927911.3,6047962.95],\"yaxis\":\"y\",\"type\":\"scatter\"}],                        {\"template\":{\"data\":{\"histogram2dcontour\":[{\"type\":\"histogram2dcontour\",\"colorbar\":{\"outlinewidth\":0,\"ticks\":\"\"},\"colorscale\":[[0.0,\"#0d0887\"],[0.1111111111111111,\"#46039f\"],[0.2222222222222222,\"#7201a8\"],[0.3333333333333333,\"#9c179e\"],[0.4444444444444444,\"#bd3786\"],[0.5555555555555556,\"#d8576b\"],[0.6666666666666666,\"#ed7953\"],[0.7777777777777778,\"#fb9f3a\"],[0.8888888888888888,\"#fdca26\"],[1.0,\"#f0f921\"]]}],\"choropleth\":[{\"type\":\"choropleth\",\"colorbar\":{\"outlinewidth\":0,\"ticks\":\"\"}}],\"histogram2d\":[{\"type\":\"histogram2d\",\"colorbar\":{\"outlinewidth\":0,\"ticks\":\"\"},\"colorscale\":[[0.0,\"#0d0887\"],[0.1111111111111111,\"#46039f\"],[0.2222222222222222,\"#7201a8\"],[0.3333333333333333,\"#9c179e\"],[0.4444444444444444,\"#bd3786\"],[0.5555555555555556,\"#d8576b\"],[0.6666666666666666,\"#ed7953\"],[0.7777777777777778,\"#fb9f3a\"],[0.8888888888888888,\"#fdca26\"],[1.0,\"#f0f921\"]]}],\"heatmap\":[{\"type\":\"heatmap\",\"colorbar\":{\"outlinewidth\":0,\"ticks\":\"\"},\"colorscale\":[[0.0,\"#0d0887\"],[0.1111111111111111,\"#46039f\"],[0.2222222222222222,\"#7201a8\"],[0.3333333333333333,\"#9c179e\"],[0.4444444444444444,\"#bd3786\"],[0.5555555555555556,\"#d8576b\"],[0.6666666666666666,\"#ed7953\"],[0.7777777777777778,\"#fb9f3a\"],[0.8888888888888888,\"#fdca26\"],[1.0,\"#f0f921\"]]}],\"heatmapgl\":[{\"type\":\"heatmapgl\",\"colorbar\":{\"outlinewidth\":0,\"ticks\":\"\"},\"colorscale\":[[0.0,\"#0d0887\"],[0.1111111111111111,\"#46039f\"],[0.2222222222222222,\"#7201a8\"],[0.3333333333333333,\"#9c179e\"],[0.4444444444444444,\"#bd3786\"],[0.5555555555555556,\"#d8576b\"],[0.6666666666666666,\"#ed7953\"],[0.7777777777777778,\"#fb9f3a\"],[0.8888888888888888,\"#fdca26\"],[1.0,\"#f0f921\"]]}],\"contourcarpet\":[{\"type\":\"contourcarpet\",\"colorbar\":{\"outlinewidth\":0,\"ticks\":\"\"}}],\"contour\":[{\"type\":\"contour\",\"colorbar\":{\"outlinewidth\":0,\"ticks\":\"\"},\"colorscale\":[[0.0,\"#0d0887\"],[0.1111111111111111,\"#46039f\"],[0.2222222222222222,\"#7201a8\"],[0.3333333333333333,\"#9c179e\"],[0.4444444444444444,\"#bd3786\"],[0.5555555555555556,\"#d8576b\"],[0.6666666666666666,\"#ed7953\"],[0.7777777777777778,\"#fb9f3a\"],[0.8888888888888888,\"#fdca26\"],[1.0,\"#f0f921\"]]}],\"surface\":[{\"type\":\"surface\",\"colorbar\":{\"outlinewidth\":0,\"ticks\":\"\"},\"colorscale\":[[0.0,\"#0d0887\"],[0.1111111111111111,\"#46039f\"],[0.2222222222222222,\"#7201a8\"],[0.3333333333333333,\"#9c179e\"],[0.4444444444444444,\"#bd3786\"],[0.5555555555555556,\"#d8576b\"],[0.6666666666666666,\"#ed7953\"],[0.7777777777777778,\"#fb9f3a\"],[0.8888888888888888,\"#fdca26\"],[1.0,\"#f0f921\"]]}],\"mesh3d\":[{\"type\":\"mesh3d\",\"colorbar\":{\"outlinewidth\":0,\"ticks\":\"\"}}],\"scatter\":[{\"marker\":{\"line\":{\"color\":\"#283442\"}},\"type\":\"scatter\"}],\"parcoords\":[{\"type\":\"parcoords\",\"line\":{\"colorbar\":{\"outlinewidth\":0,\"ticks\":\"\"}}}],\"scatterpolargl\":[{\"type\":\"scatterpolargl\",\"marker\":{\"colorbar\":{\"outlinewidth\":0,\"ticks\":\"\"}}}],\"bar\":[{\"error_x\":{\"color\":\"#f2f5fa\"},\"error_y\":{\"color\":\"#f2f5fa\"},\"marker\":{\"line\":{\"color\":\"rgb(17,17,17)\",\"width\":0.5},\"pattern\":{\"fillmode\":\"overlay\",\"size\":10,\"solidity\":0.2}},\"type\":\"bar\"}],\"scattergeo\":[{\"type\":\"scattergeo\",\"marker\":{\"colorbar\":{\"outlinewidth\":0,\"ticks\":\"\"}}}],\"scatterpolar\":[{\"type\":\"scatterpolar\",\"marker\":{\"colorbar\":{\"outlinewidth\":0,\"ticks\":\"\"}}}],\"histogram\":[{\"marker\":{\"pattern\":{\"fillmode\":\"overlay\",\"size\":10,\"solidity\":0.2}},\"type\":\"histogram\"}],\"scattergl\":[{\"marker\":{\"line\":{\"color\":\"#283442\"}},\"type\":\"scattergl\"}],\"scatter3d\":[{\"type\":\"scatter3d\",\"line\":{\"colorbar\":{\"outlinewidth\":0,\"ticks\":\"\"}},\"marker\":{\"colorbar\":{\"outlinewidth\":0,\"ticks\":\"\"}}}],\"scattermapbox\":[{\"type\":\"scattermapbox\",\"marker\":{\"colorbar\":{\"outlinewidth\":0,\"ticks\":\"\"}}}],\"scatterternary\":[{\"type\":\"scatterternary\",\"marker\":{\"colorbar\":{\"outlinewidth\":0,\"ticks\":\"\"}}}],\"scattercarpet\":[{\"type\":\"scattercarpet\",\"marker\":{\"colorbar\":{\"outlinewidth\":0,\"ticks\":\"\"}}}],\"carpet\":[{\"aaxis\":{\"endlinecolor\":\"#A2B1C6\",\"gridcolor\":\"#506784\",\"linecolor\":\"#506784\",\"minorgridcolor\":\"#506784\",\"startlinecolor\":\"#A2B1C6\"},\"baxis\":{\"endlinecolor\":\"#A2B1C6\",\"gridcolor\":\"#506784\",\"linecolor\":\"#506784\",\"minorgridcolor\":\"#506784\",\"startlinecolor\":\"#A2B1C6\"},\"type\":\"carpet\"}],\"table\":[{\"cells\":{\"fill\":{\"color\":\"#506784\"},\"line\":{\"color\":\"rgb(17,17,17)\"}},\"header\":{\"fill\":{\"color\":\"#2a3f5f\"},\"line\":{\"color\":\"rgb(17,17,17)\"}},\"type\":\"table\"}],\"barpolar\":[{\"marker\":{\"line\":{\"color\":\"rgb(17,17,17)\",\"width\":0.5},\"pattern\":{\"fillmode\":\"overlay\",\"size\":10,\"solidity\":0.2}},\"type\":\"barpolar\"}],\"pie\":[{\"automargin\":true,\"type\":\"pie\"}]},\"layout\":{\"autotypenumbers\":\"strict\",\"colorway\":[\"#636efa\",\"#EF553B\",\"#00cc96\",\"#ab63fa\",\"#FFA15A\",\"#19d3f3\",\"#FF6692\",\"#B6E880\",\"#FF97FF\",\"#FECB52\"],\"font\":{\"color\":\"#f2f5fa\"},\"hovermode\":\"closest\",\"hoverlabel\":{\"align\":\"left\"},\"paper_bgcolor\":\"rgb(17,17,17)\",\"plot_bgcolor\":\"rgb(17,17,17)\",\"polar\":{\"bgcolor\":\"rgb(17,17,17)\",\"angularaxis\":{\"gridcolor\":\"#506784\",\"linecolor\":\"#506784\",\"ticks\":\"\"},\"radialaxis\":{\"gridcolor\":\"#506784\",\"linecolor\":\"#506784\",\"ticks\":\"\"}},\"ternary\":{\"bgcolor\":\"rgb(17,17,17)\",\"aaxis\":{\"gridcolor\":\"#506784\",\"linecolor\":\"#506784\",\"ticks\":\"\"},\"baxis\":{\"gridcolor\":\"#506784\",\"linecolor\":\"#506784\",\"ticks\":\"\"},\"caxis\":{\"gridcolor\":\"#506784\",\"linecolor\":\"#506784\",\"ticks\":\"\"}},\"coloraxis\":{\"colorbar\":{\"outlinewidth\":0,\"ticks\":\"\"}},\"colorscale\":{\"sequential\":[[0.0,\"#0d0887\"],[0.1111111111111111,\"#46039f\"],[0.2222222222222222,\"#7201a8\"],[0.3333333333333333,\"#9c179e\"],[0.4444444444444444,\"#bd3786\"],[0.5555555555555556,\"#d8576b\"],[0.6666666666666666,\"#ed7953\"],[0.7777777777777778,\"#fb9f3a\"],[0.8888888888888888,\"#fdca26\"],[1.0,\"#f0f921\"]],\"sequentialminus\":[[0.0,\"#0d0887\"],[0.1111111111111111,\"#46039f\"],[0.2222222222222222,\"#7201a8\"],[0.3333333333333333,\"#9c179e\"],[0.4444444444444444,\"#bd3786\"],[0.5555555555555556,\"#d8576b\"],[0.6666666666666666,\"#ed7953\"],[0.7777777777777778,\"#fb9f3a\"],[0.8888888888888888,\"#fdca26\"],[1.0,\"#f0f921\"]],\"diverging\":[[0,\"#8e0152\"],[0.1,\"#c51b7d\"],[0.2,\"#de77ae\"],[0.3,\"#f1b6da\"],[0.4,\"#fde0ef\"],[0.5,\"#f7f7f7\"],[0.6,\"#e6f5d0\"],[0.7,\"#b8e186\"],[0.8,\"#7fbc41\"],[0.9,\"#4d9221\"],[1,\"#276419\"]]},\"xaxis\":{\"gridcolor\":\"#283442\",\"linecolor\":\"#506784\",\"ticks\":\"\",\"title\":{\"standoff\":15},\"zerolinecolor\":\"#283442\",\"automargin\":true,\"zerolinewidth\":2},\"yaxis\":{\"gridcolor\":\"#283442\",\"linecolor\":\"#506784\",\"ticks\":\"\",\"title\":{\"standoff\":15},\"zerolinecolor\":\"#283442\",\"automargin\":true,\"zerolinewidth\":2},\"scene\":{\"xaxis\":{\"backgroundcolor\":\"rgb(17,17,17)\",\"gridcolor\":\"#506784\",\"linecolor\":\"#506784\",\"showbackground\":true,\"ticks\":\"\",\"zerolinecolor\":\"#C8D4E3\",\"gridwidth\":2},\"yaxis\":{\"backgroundcolor\":\"rgb(17,17,17)\",\"gridcolor\":\"#506784\",\"linecolor\":\"#506784\",\"showbackground\":true,\"ticks\":\"\",\"zerolinecolor\":\"#C8D4E3\",\"gridwidth\":2},\"zaxis\":{\"backgroundcolor\":\"rgb(17,17,17)\",\"gridcolor\":\"#506784\",\"linecolor\":\"#506784\",\"showbackground\":true,\"ticks\":\"\",\"zerolinecolor\":\"#C8D4E3\",\"gridwidth\":2}},\"shapedefaults\":{\"line\":{\"color\":\"#f2f5fa\"}},\"annotationdefaults\":{\"arrowcolor\":\"#f2f5fa\",\"arrowhead\":0,\"arrowwidth\":1},\"geo\":{\"bgcolor\":\"rgb(17,17,17)\",\"landcolor\":\"rgb(17,17,17)\",\"subunitcolor\":\"#506784\",\"showland\":true,\"showlakes\":true,\"lakecolor\":\"rgb(17,17,17)\"},\"title\":{\"x\":0.05},\"updatemenudefaults\":{\"bgcolor\":\"#506784\",\"borderwidth\":0},\"sliderdefaults\":{\"bgcolor\":\"#C8D4E3\",\"borderwidth\":1,\"bordercolor\":\"rgb(17,17,17)\",\"tickwidth\":0},\"mapbox\":{\"style\":\"dark\"}}},\"xaxis\":{\"anchor\":\"y\",\"domain\":[0.0,1.0],\"title\":{\"text\":\"Year\"}},\"yaxis\":{\"anchor\":\"x\",\"domain\":[0.0,1.0],\"title\":{\"text\":\"Total Generation (MWh)\"}},\"legend\":{\"title\":{\"text\":\"Generation Type\"},\"tracegroupgap\":0},\"title\":{\"text\":\"Total Annual Generation by Type for ERCOT from 2014 - 2022\"},\"paper_bgcolor\":\"rgba(0,0,0,0)\",\"plot_bgcolor\":\"rgba(0,0,0,0)\"},                        {\"responsive\": true}                    ).then(function(){\n                            \nvar gd = document.getElementById('eb8d14a2-2b38-4156-bdd2-def16bedf3c5');\nvar x = new MutationObserver(function (mutations, observer) {{\n        var display = window.getComputedStyle(gd).display;\n        if (!display || display === 'none') {{\n            console.log([gd, 'removed!']);\n            Plotly.purge(gd);\n            observer.disconnect();\n        }}\n}});\n\n// Listen for the removal of the full notebook cells\nvar notebookContainer = gd.closest('#notebook-container');\nif (notebookContainer) {{\n    x.observe(notebookContainer, {childList: true});\n}}\n\n// Listen for the clearing of the current output cell\nvar outputEl = gd.closest('.output');\nif (outputEl) {{\n    x.observe(outputEl, {childList: true});\n}}\n\n                        })                };                });            </script>        </div>"
     },
     "metadata": {},
     "output_type": "display_data"
    }
   ],
   "source": [
    "for ISO in [\"CAISO\", \"ISONE\", \"PJM\", \"ERCOT\"]:\n",
    "    plot_gen(ISO_dict, ISO, \"/Users/evanlipton/Desktop/Thesis/generation_figures\")"
   ],
   "metadata": {
    "collapsed": false
   }
  },
  {
   "cell_type": "code",
   "execution_count": 38,
   "outputs": [
    {
     "name": "stdout",
     "output_type": "stream",
     "text": [
      "     year   gen_type           MWh\n",
      "91   2021  batteries -8.454450e+04\n",
      "65   2019  batteries -2.707436e+04\n",
      "78   2020  batteries -1.981125e+04\n",
      "0    2014  batteries  0.000000e+00\n",
      "42   2017       coal  0.000000e+00\n",
      "..    ...        ...           ...\n",
      "5    2014      hydro  1.195543e+07\n",
      "25   2015       wind  1.223793e+07\n",
      "18   2015      hydro  1.236245e+07\n",
      "12   2014       wind  1.288483e+07\n",
      "109  2022      hydro  1.312597e+07\n",
      "\n",
      "[70 rows x 3 columns]\n"
     ]
    }
   ],
   "source": [
    "print(results.sort_values(by=\"MWh\").head(70))"
   ],
   "metadata": {
    "collapsed": false
   }
  },
  {
   "cell_type": "code",
   "execution_count": 162,
   "outputs": [],
   "source": [
    "ISO = ISO_dict[\"CAISO\"]"
   ],
   "metadata": {
    "collapsed": false
   }
  },
  {
   "cell_type": "code",
   "execution_count": 165,
   "outputs": [
    {
     "data": {
      "text/plain": "hour  year\n0     2014    22961.956164\n      2015    23209.701370\n      2016    23160.368852\n      2017    23352.558904\n      2018    23522.876712\n                  ...     \n23    2018    25044.736986\n      2019    25443.731507\n      2020    25350.363388\n      2021    25699.424658\n      2022    26324.071233\nName: load_rt, Length: 217, dtype: float64"
     },
     "execution_count": 165,
     "metadata": {},
     "output_type": "execute_result"
    }
   ],
   "source": [
    "ISO.groupby([\"hour\", \"year\"])[\"\"].mean()"
   ],
   "metadata": {
    "collapsed": false
   }
  },
  {
   "cell_type": "code",
   "execution_count": 166,
   "outputs": [
    {
     "data": {
      "text/plain": "                   time_tomerge  ancillary_da_nr  ancillary_da_rd  \\\n0     2014-01-01 00:00:00+00:00          40.0984           625.40   \n1     2014-01-01 01:00:00+00:00          47.2970           681.45   \n2     2014-01-01 02:00:00+00:00          44.8790           769.95   \n3     2014-01-01 03:00:00+00:00          43.5180           769.95   \n4     2014-01-01 04:00:00+00:00          42.9170           769.95   \n...                         ...              ...              ...   \n78884 2022-12-31 20:00:00+00:00         101.5209          5700.00   \n78885 2022-12-31 21:00:00+00:00          90.5520          6612.00   \n78886 2022-12-31 22:00:00+00:00          87.7104          8850.00   \n78887 2022-12-31 23:00:00+00:00          84.4800          5670.00   \n78888 2023-01-01 00:00:00+00:00          80.8572          7650.00   \n\n       ancillary_da_rmd  ancillary_da_rmu  ancillary_da_ru  ancillary_da_sr  \\\n0                3.9089         1180.9560         37.89900         59.89400   \n1                0.0000          698.1880         33.18600         61.78100   \n2                0.0000            0.0000        552.90000         64.04900   \n3                0.0000            6.7191        550.05000         62.68800   \n4                0.0000           18.8091        743.05000         62.08700   \n...                 ...               ...              ...              ...   \n78884            0.0000            0.0000       2483.99900       2533.73540   \n78885            0.0000            0.0000       1892.67000       1916.61000   \n78886            0.0000            0.0000       4625.81000       3186.47000   \n78887            0.0000            0.0000       1040.81446        845.73324   \n78888            0.0000            0.0000        496.20358        399.81786   \n\n       ancillary_rt_nr  ancillary_rt_rd  ancillary_rt_rmd  ...  congestion_rt  \\\n0             3.747040         0.000000               0.0  ...            0.0   \n1             4.713687         0.000000               0.0  ...            0.0   \n2             4.749625         0.000000               0.0  ...            0.0   \n3             4.941813         0.000000               0.0  ...            0.0   \n4             0.000000         0.000000               0.0  ...            0.0   \n...                ...              ...               ...  ...            ...   \n78884         0.000000       106.494525               0.0  ...            0.0   \n78885         0.000000       214.631892               0.0  ...            0.0   \n78886         0.000000         0.000000               0.0  ...            0.0   \n78887         0.000000       162.101250               0.0  ...            0.0   \n78888         0.000000       159.755625               0.0  ...            0.0   \n\n        energy_rt  losses_rt  gen_coal  gen_natural_gas gen_batteries  \\\n0        0.000000   0.000000  0.000000     12461.000000      0.000000   \n1        0.000000   0.000000  0.000000     12163.000000      0.000000   \n2        0.000000   0.000000  0.000000     11347.000000      0.000000   \n3        0.000000   0.000000  0.000000     11089.000000      0.000000   \n4        0.000000   0.000000  0.000000     11118.000000      0.000000   \n...           ...        ...       ...              ...           ...   \n78884   93.035366  -3.333124  3.250000      6293.083333   -404.416667   \n78885  106.991223  -3.714072  3.500000      7216.833333   -169.750000   \n78886  106.177040  -3.627994  3.833333      7848.750000      2.500000   \n78887  115.759343  -3.939707  4.083333      8740.833333    256.750000   \n78888  114.937634  -3.823673  3.416667      9271.916667    726.333333   \n\n       gen_other  year  month  gen_solar_total  \n0            0.0  2014      1         0.000000  \n1            0.0  2014      1         0.000000  \n2            0.0  2014      1         0.000000  \n3            0.0  2014      1         0.000000  \n4            0.0  2014      1         0.000000  \n...          ...   ...    ...              ...  \n78884        0.0  2022     12      4607.916667  \n78885        0.0  2022     12      3530.500000  \n78886        0.0  2022     12      2455.750000  \n78887        0.0  2022     12      1174.250000  \n78888        0.0  2023      1       130.083333  \n\n[78889 rows x 43 columns]",
      "text/html": "<div>\n<style scoped>\n    .dataframe tbody tr th:only-of-type {\n        vertical-align: middle;\n    }\n\n    .dataframe tbody tr th {\n        vertical-align: top;\n    }\n\n    .dataframe thead th {\n        text-align: right;\n    }\n</style>\n<table border=\"1\" class=\"dataframe\">\n  <thead>\n    <tr style=\"text-align: right;\">\n      <th></th>\n      <th>time_tomerge</th>\n      <th>ancillary_da_nr</th>\n      <th>ancillary_da_rd</th>\n      <th>ancillary_da_rmd</th>\n      <th>ancillary_da_rmu</th>\n      <th>ancillary_da_ru</th>\n      <th>ancillary_da_sr</th>\n      <th>ancillary_rt_nr</th>\n      <th>ancillary_rt_rd</th>\n      <th>ancillary_rt_rmd</th>\n      <th>...</th>\n      <th>congestion_rt</th>\n      <th>energy_rt</th>\n      <th>losses_rt</th>\n      <th>gen_coal</th>\n      <th>gen_natural_gas</th>\n      <th>gen_batteries</th>\n      <th>gen_other</th>\n      <th>year</th>\n      <th>month</th>\n      <th>gen_solar_total</th>\n    </tr>\n  </thead>\n  <tbody>\n    <tr>\n      <th>0</th>\n      <td>2014-01-01 00:00:00+00:00</td>\n      <td>40.0984</td>\n      <td>625.40</td>\n      <td>3.9089</td>\n      <td>1180.9560</td>\n      <td>37.89900</td>\n      <td>59.89400</td>\n      <td>3.747040</td>\n      <td>0.000000</td>\n      <td>0.0</td>\n      <td>...</td>\n      <td>0.0</td>\n      <td>0.000000</td>\n      <td>0.000000</td>\n      <td>0.000000</td>\n      <td>12461.000000</td>\n      <td>0.000000</td>\n      <td>0.0</td>\n      <td>2014</td>\n      <td>1</td>\n      <td>0.000000</td>\n    </tr>\n    <tr>\n      <th>1</th>\n      <td>2014-01-01 01:00:00+00:00</td>\n      <td>47.2970</td>\n      <td>681.45</td>\n      <td>0.0000</td>\n      <td>698.1880</td>\n      <td>33.18600</td>\n      <td>61.78100</td>\n      <td>4.713687</td>\n      <td>0.000000</td>\n      <td>0.0</td>\n      <td>...</td>\n      <td>0.0</td>\n      <td>0.000000</td>\n      <td>0.000000</td>\n      <td>0.000000</td>\n      <td>12163.000000</td>\n      <td>0.000000</td>\n      <td>0.0</td>\n      <td>2014</td>\n      <td>1</td>\n      <td>0.000000</td>\n    </tr>\n    <tr>\n      <th>2</th>\n      <td>2014-01-01 02:00:00+00:00</td>\n      <td>44.8790</td>\n      <td>769.95</td>\n      <td>0.0000</td>\n      <td>0.0000</td>\n      <td>552.90000</td>\n      <td>64.04900</td>\n      <td>4.749625</td>\n      <td>0.000000</td>\n      <td>0.0</td>\n      <td>...</td>\n      <td>0.0</td>\n      <td>0.000000</td>\n      <td>0.000000</td>\n      <td>0.000000</td>\n      <td>11347.000000</td>\n      <td>0.000000</td>\n      <td>0.0</td>\n      <td>2014</td>\n      <td>1</td>\n      <td>0.000000</td>\n    </tr>\n    <tr>\n      <th>3</th>\n      <td>2014-01-01 03:00:00+00:00</td>\n      <td>43.5180</td>\n      <td>769.95</td>\n      <td>0.0000</td>\n      <td>6.7191</td>\n      <td>550.05000</td>\n      <td>62.68800</td>\n      <td>4.941813</td>\n      <td>0.000000</td>\n      <td>0.0</td>\n      <td>...</td>\n      <td>0.0</td>\n      <td>0.000000</td>\n      <td>0.000000</td>\n      <td>0.000000</td>\n      <td>11089.000000</td>\n      <td>0.000000</td>\n      <td>0.0</td>\n      <td>2014</td>\n      <td>1</td>\n      <td>0.000000</td>\n    </tr>\n    <tr>\n      <th>4</th>\n      <td>2014-01-01 04:00:00+00:00</td>\n      <td>42.9170</td>\n      <td>769.95</td>\n      <td>0.0000</td>\n      <td>18.8091</td>\n      <td>743.05000</td>\n      <td>62.08700</td>\n      <td>0.000000</td>\n      <td>0.000000</td>\n      <td>0.0</td>\n      <td>...</td>\n      <td>0.0</td>\n      <td>0.000000</td>\n      <td>0.000000</td>\n      <td>0.000000</td>\n      <td>11118.000000</td>\n      <td>0.000000</td>\n      <td>0.0</td>\n      <td>2014</td>\n      <td>1</td>\n      <td>0.000000</td>\n    </tr>\n    <tr>\n      <th>...</th>\n      <td>...</td>\n      <td>...</td>\n      <td>...</td>\n      <td>...</td>\n      <td>...</td>\n      <td>...</td>\n      <td>...</td>\n      <td>...</td>\n      <td>...</td>\n      <td>...</td>\n      <td>...</td>\n      <td>...</td>\n      <td>...</td>\n      <td>...</td>\n      <td>...</td>\n      <td>...</td>\n      <td>...</td>\n      <td>...</td>\n      <td>...</td>\n      <td>...</td>\n      <td>...</td>\n    </tr>\n    <tr>\n      <th>78884</th>\n      <td>2022-12-31 20:00:00+00:00</td>\n      <td>101.5209</td>\n      <td>5700.00</td>\n      <td>0.0000</td>\n      <td>0.0000</td>\n      <td>2483.99900</td>\n      <td>2533.73540</td>\n      <td>0.000000</td>\n      <td>106.494525</td>\n      <td>0.0</td>\n      <td>...</td>\n      <td>0.0</td>\n      <td>93.035366</td>\n      <td>-3.333124</td>\n      <td>3.250000</td>\n      <td>6293.083333</td>\n      <td>-404.416667</td>\n      <td>0.0</td>\n      <td>2022</td>\n      <td>12</td>\n      <td>4607.916667</td>\n    </tr>\n    <tr>\n      <th>78885</th>\n      <td>2022-12-31 21:00:00+00:00</td>\n      <td>90.5520</td>\n      <td>6612.00</td>\n      <td>0.0000</td>\n      <td>0.0000</td>\n      <td>1892.67000</td>\n      <td>1916.61000</td>\n      <td>0.000000</td>\n      <td>214.631892</td>\n      <td>0.0</td>\n      <td>...</td>\n      <td>0.0</td>\n      <td>106.991223</td>\n      <td>-3.714072</td>\n      <td>3.500000</td>\n      <td>7216.833333</td>\n      <td>-169.750000</td>\n      <td>0.0</td>\n      <td>2022</td>\n      <td>12</td>\n      <td>3530.500000</td>\n    </tr>\n    <tr>\n      <th>78886</th>\n      <td>2022-12-31 22:00:00+00:00</td>\n      <td>87.7104</td>\n      <td>8850.00</td>\n      <td>0.0000</td>\n      <td>0.0000</td>\n      <td>4625.81000</td>\n      <td>3186.47000</td>\n      <td>0.000000</td>\n      <td>0.000000</td>\n      <td>0.0</td>\n      <td>...</td>\n      <td>0.0</td>\n      <td>106.177040</td>\n      <td>-3.627994</td>\n      <td>3.833333</td>\n      <td>7848.750000</td>\n      <td>2.500000</td>\n      <td>0.0</td>\n      <td>2022</td>\n      <td>12</td>\n      <td>2455.750000</td>\n    </tr>\n    <tr>\n      <th>78887</th>\n      <td>2022-12-31 23:00:00+00:00</td>\n      <td>84.4800</td>\n      <td>5670.00</td>\n      <td>0.0000</td>\n      <td>0.0000</td>\n      <td>1040.81446</td>\n      <td>845.73324</td>\n      <td>0.000000</td>\n      <td>162.101250</td>\n      <td>0.0</td>\n      <td>...</td>\n      <td>0.0</td>\n      <td>115.759343</td>\n      <td>-3.939707</td>\n      <td>4.083333</td>\n      <td>8740.833333</td>\n      <td>256.750000</td>\n      <td>0.0</td>\n      <td>2022</td>\n      <td>12</td>\n      <td>1174.250000</td>\n    </tr>\n    <tr>\n      <th>78888</th>\n      <td>2023-01-01 00:00:00+00:00</td>\n      <td>80.8572</td>\n      <td>7650.00</td>\n      <td>0.0000</td>\n      <td>0.0000</td>\n      <td>496.20358</td>\n      <td>399.81786</td>\n      <td>0.000000</td>\n      <td>159.755625</td>\n      <td>0.0</td>\n      <td>...</td>\n      <td>0.0</td>\n      <td>114.937634</td>\n      <td>-3.823673</td>\n      <td>3.416667</td>\n      <td>9271.916667</td>\n      <td>726.333333</td>\n      <td>0.0</td>\n      <td>2023</td>\n      <td>1</td>\n      <td>130.083333</td>\n    </tr>\n  </tbody>\n</table>\n<p>78889 rows × 43 columns</p>\n</div>"
     },
     "execution_count": 166,
     "metadata": {},
     "output_type": "execute_result"
    }
   ],
   "source": [
    "ISO_dict[\"CAISO\"]"
   ],
   "metadata": {
    "collapsed": false
   }
  },
  {
   "cell_type": "code",
   "execution_count": null,
   "outputs": [],
   "source": [],
   "metadata": {
    "collapsed": false
   }
  }
 ],
 "metadata": {
  "kernelspec": {
   "display_name": "Python 3",
   "language": "python",
   "name": "python3"
  },
  "language_info": {
   "codemirror_mode": {
    "name": "ipython",
    "version": 2
   },
   "file_extension": ".py",
   "mimetype": "text/x-python",
   "name": "python",
   "nbconvert_exporter": "python",
   "pygments_lexer": "ipython2",
   "version": "2.7.6"
  }
 },
 "nbformat": 4,
 "nbformat_minor": 0
}
