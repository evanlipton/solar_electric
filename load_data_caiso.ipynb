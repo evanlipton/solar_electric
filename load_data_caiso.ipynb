{
 "cells": [
  {
   "cell_type": "code",
   "execution_count": 23,
   "outputs": [],
   "source": [
    "import numpy as np\n",
    "import pandas as pd\n",
    "import os\n",
    "import re\n",
    "from tqdm import tqdm\n",
    "import requests\n",
    "from io import StringIO\n",
    "from os import listdir\n",
    "from os.path import isfile, join\n",
    "import datetime as dt\n",
    "from datetime import datetime, timedelta"
   ],
   "metadata": {
    "collapsed": false
   }
  },
  {
   "cell_type": "code",
   "execution_count": 24,
   "outputs": [],
   "source": [
    "def listdir_nohidden(path):\n",
    "    for f in os.listdir(path):\n",
    "        if not f.startswith('.'):\n",
    "            yield f"
   ],
   "metadata": {
    "collapsed": false
   }
  },
  {
   "cell_type": "code",
   "execution_count": 25,
   "outputs": [],
   "source": [
    "#change this to the file path of the data\n",
    "FILE_PATH = \"/Users/evanlipton/Dropbox (YSE)/Solar_ElectricData/Data\""
   ],
   "metadata": {
    "collapsed": false
   }
  },
  {
   "cell_type": "code",
   "execution_count": 26,
   "outputs": [],
   "source": [
    "#was originally for multiple ISOs in same notebook but broke out each iso to its own notebook given how different they ended up being\n",
    "\n",
    "ISOS= [\"CAISO\"]\n",
    "ISO = \"CAISO\""
   ],
   "metadata": {
    "collapsed": false
   }
  },
  {
   "cell_type": "code",
   "execution_count": 27,
   "outputs": [
    {
     "name": "stderr",
     "output_type": "stream",
     "text": [
      "13it [00:01,  8.02it/s]\n"
     ]
    }
   ],
   "source": [
    "ISO_files = {}\n",
    "ISO_data = {}\n",
    "ISO_final = {}\n",
    "\n",
    "#load in\n",
    "for ISO in ISOS:\n",
    "    ISO_files[ISO] = listdir_nohidden(f\"{FILE_PATH}/{ISO}/old\")\n",
    "    ISO_data[ISO] = {}\n",
    "    for file in tqdm(ISO_files[ISO]):\n",
    "        compiled = re.compile(re.escape(f\"{ISO}_\"), re.IGNORECASE)\n",
    "\n",
    "        ISO_data[ISO][compiled.sub(\"\", file).replace(\".csv\",\"\")] = pd.read_csv(f\"{FILE_PATH}/{ISO}/old/{file}\")"
   ],
   "metadata": {
    "collapsed": false
   }
  },
  {
   "cell_type": "code",
   "execution_count": 28,
   "outputs": [
    {
     "name": "stdout",
     "output_type": "stream",
     "text": [
      "CAISO\n"
     ]
    }
   ],
   "source": [
    "#add merge datetime\n",
    "titles = {}\n",
    "for key in ISO_data:\n",
    "    print(key)\n",
    "    titles[key]= []\n",
    "    for k in ISO_data[key]:\n",
    "        try:\n",
    "            ISO_data[key][k][\"time_tomerge\"] = pd.to_datetime(ISO_data[key][k].iloc[:,0], utc=True)\n",
    "        except:\n",
    "            #remove if there are extra rows\n",
    "            ISO_data[key][k] = ISO_data[key][k][ISO_data[key][k].index % 24 != 0]\n",
    "            ISO_data[key][k][\"time_tomerge\"] = pd.to_datetime(ISO_data[key][k].iloc[:,0], utc=True)"
   ],
   "metadata": {
    "collapsed": false
   }
  },
  {
   "cell_type": "code",
   "execution_count": 29,
   "outputs": [],
   "source": [
    "ISO_final = {}\n",
    "def clean_old(ISO: str, df: str):\n",
    "\n",
    "    #convert all columns to lower\n",
    "    ISO_data[ISO][df].columns = ISO_data[ISO][df].columns.str.lower()\n",
    "\n",
    "    #remove all the extra date columns\n",
    "    no_date = [col for col in ISO_data[ISO][df].columns if \"date\" not in col]\n",
    "    ISO_data[ISO][df] = ISO_data[ISO][df][no_date]\n",
    "\n",
    "    #try to remove extra columns if they are there\n",
    "    try:\n",
    "        ISO_data[ISO][df] = ISO_data[ISO][df].drop(\"unnamed: 0\")\n",
    "        ISO_data[ISO][df] = ISO_data[ISO][df].drop(\"hour\")\n",
    "    except:\n",
    "        pass\n",
    "\n",
    "    #sort values by the datetime and set as the index\n",
    "    ISO_data[ISO][df] = ISO_data[ISO][df].sort_values(by=\"time_tomerge\")\n",
    "    ISO_data[ISO][df] = ISO_data[ISO][df].set_index(\"time_tomerge\")\n",
    "\n",
    "    #save to the dict\n",
    "    ISO_final[ISO] = ISO_data[ISO][df]\n",
    "\n",
    "    #remove the iso from the column name\n",
    "    for column in ISO_final[ISO].columns:\n",
    "        if str(ISO).lower() in column:\n",
    "            ISO_final[ISO] = ISO_final[ISO].rename(columns={column: column.replace(f\"{str(ISO).lower()}_\",\"\")})\n",
    "    print(ISO_final[ISO])"
   ],
   "metadata": {
    "collapsed": false
   }
  },
  {
   "cell_type": "code",
   "execution_count": 30,
   "outputs": [
    {
     "name": "stdout",
     "output_type": "stream",
     "text": [
      "                           ancillary_da_nr  ancillary_da_rd  ancillary_da_rmd  \\\n",
      "time_tomerge                                                                    \n",
      "2014-01-01 00:00:00+00:00          40.0984         625.4000           3.90890   \n",
      "2014-01-01 01:00:00+00:00          47.2970         681.4500           0.00000   \n",
      "2014-01-01 02:00:00+00:00          44.8790         769.9500           0.00000   \n",
      "2014-01-01 03:00:00+00:00          43.5180         769.9500           0.00000   \n",
      "2014-01-01 04:00:00+00:00          42.9170         769.9500           0.00000   \n",
      "...                                    ...              ...               ...   \n",
      "2018-12-31 19:00:00+00:00          49.9224        3520.0000           0.00000   \n",
      "2018-12-31 20:00:00+00:00          46.9029        4396.0000           0.00000   \n",
      "2018-12-31 21:00:00+00:00          40.9629        4530.1095          12.21950   \n",
      "2018-12-31 22:00:00+00:00          39.6770         828.7500          20.87470   \n",
      "2018-12-31 23:00:00+00:00          32.1937        1414.7840           6.08572   \n",
      "\n",
      "                           ancillary_da_rmu  ancillary_da_ru  ancillary_da_sr  \\\n",
      "time_tomerge                                                                    \n",
      "2014-01-01 00:00:00+00:00         1180.9560           37.899           59.894   \n",
      "2014-01-01 01:00:00+00:00          698.1880           33.186           61.781   \n",
      "2014-01-01 02:00:00+00:00            0.0000          552.900           64.049   \n",
      "2014-01-01 03:00:00+00:00            6.7191          550.050           62.688   \n",
      "2014-01-01 04:00:00+00:00           18.8091          743.050           62.087   \n",
      "...                                     ...              ...              ...   \n",
      "2018-12-31 19:00:00+00:00            0.0000         4503.000         8167.950   \n",
      "2018-12-31 20:00:00+00:00            0.0000         4372.326         7926.390   \n",
      "2018-12-31 21:00:00+00:00            0.0000         4389.000         4631.400   \n",
      "2018-12-31 22:00:00+00:00            0.0000         3528.000         3798.900   \n",
      "2018-12-31 23:00:00+00:00            0.0000         2814.000         2765.760   \n",
      "\n",
      "                           ancillary_rt_nr  ancillary_rt_rd  ancillary_rt_rmd  \\\n",
      "time_tomerge                                                                    \n",
      "2014-01-01 00:00:00+00:00         3.747040         0.000000               0.0   \n",
      "2014-01-01 01:00:00+00:00         4.713687         0.000000               0.0   \n",
      "2014-01-01 02:00:00+00:00         4.749625         0.000000               0.0   \n",
      "2014-01-01 03:00:00+00:00         4.941813         0.000000               0.0   \n",
      "2014-01-01 04:00:00+00:00         0.000000         0.000000               0.0   \n",
      "...                                    ...              ...               ...   \n",
      "2018-12-31 19:00:00+00:00         0.000000         0.000000               0.0   \n",
      "2018-12-31 20:00:00+00:00         0.000000         2.223850               0.0   \n",
      "2018-12-31 21:00:00+00:00         0.000000         0.238650               0.0   \n",
      "2018-12-31 22:00:00+00:00         0.000000         0.187050               0.0   \n",
      "2018-12-31 23:00:00+00:00         0.000000         0.270575               0.0   \n",
      "\n",
      "                           ancillary_rt_rmu  ...  gen_thermal  gen_imports  \\\n",
      "time_tomerge                                 ...                             \n",
      "2014-01-01 00:00:00+00:00          2.894500  ...      12461.0       5459.0   \n",
      "2014-01-01 01:00:00+00:00        573.680972  ...      12163.0       5119.0   \n",
      "2014-01-01 02:00:00+00:00          0.000000  ...      11347.0       5306.0   \n",
      "2014-01-01 03:00:00+00:00          1.679780  ...      11089.0       5220.0   \n",
      "2014-01-01 04:00:00+00:00          4.702280  ...      11118.0       5143.0   \n",
      "...                                     ...  ...          ...          ...   \n",
      "2018-12-31 19:00:00+00:00          0.000000  ...       8037.0       9130.0   \n",
      "2018-12-31 20:00:00+00:00          2.002900  ...       7233.0       8748.0   \n",
      "2018-12-31 21:00:00+00:00          0.000000  ...       6500.0       8401.0   \n",
      "2018-12-31 22:00:00+00:00          0.000000  ...       7011.0       7417.0   \n",
      "2018-12-31 23:00:00+00:00          0.000000  ...       7038.0       6532.0   \n",
      "\n",
      "                           gen_hydro  load_2da  load_7da  load_rt   load_da  \\\n",
      "time_tomerge                                                                  \n",
      "2014-01-01 00:00:00+00:00      376.0  21109.69  21387.15    22130  21502.51   \n",
      "2014-01-01 01:00:00+00:00      203.0  20173.43  20415.68    21339  20629.96   \n",
      "2014-01-01 02:00:00+00:00      211.0  19564.91  19759.16    20676  19882.78   \n",
      "2014-01-01 03:00:00+00:00      216.0  19328.92  19513.91    20298  19467.10   \n",
      "2014-01-01 04:00:00+00:00      257.0  19418.19  19608.81    20264  19285.28   \n",
      "...                              ...       ...       ...      ...       ...   \n",
      "2018-12-31 19:00:00+00:00     3082.0  26407.47  26268.77    26814  27377.03   \n",
      "2018-12-31 20:00:00+00:00     2953.0  25401.55  25231.21    25905  26290.40   \n",
      "2018-12-31 21:00:00+00:00     2724.0  24439.56  24278.92    24935  25216.02   \n",
      "2018-12-31 22:00:00+00:00     2515.0  23530.67  23377.10    23804  24222.71   \n",
      "2018-12-31 23:00:00+00:00     2488.0  22802.83  22669.59    22769  23436.17   \n",
      "\n",
      "                           load_rt.1  load_rtpd  losses_da  \n",
      "time_tomerge                                                \n",
      "2014-01-01 00:00:00+00:00    21416.0        NaN  -1.335830  \n",
      "2014-01-01 01:00:00+00:00    20411.0        NaN  -1.252017  \n",
      "2014-01-01 02:00:00+00:00    19549.0        NaN  -1.111353  \n",
      "2014-01-01 03:00:00+00:00    19006.0        NaN  -1.095483  \n",
      "2014-01-01 04:00:00+00:00    18796.0        NaN  -1.041583  \n",
      "...                              ...        ...        ...  \n",
      "2018-12-31 19:00:00+00:00    26599.0    26857.0  -2.072440  \n",
      "2018-12-31 20:00:00+00:00    25428.0    25782.0  -1.634240  \n",
      "2018-12-31 21:00:00+00:00    24600.0    24920.0  -1.424330  \n",
      "2018-12-31 22:00:00+00:00    23681.0    24024.0  -1.490723  \n",
      "2018-12-31 23:00:00+00:00    22716.0    22944.0  -1.385843  \n",
      "\n",
      "[43824 rows x 36 columns]\n"
     ]
    }
   ],
   "source": [
    "clean_old(ISO, \"all_data\")"
   ],
   "metadata": {
    "collapsed": false
   }
  },
  {
   "cell_type": "code",
   "execution_count": 31,
   "outputs": [
    {
     "data": {
      "text/plain": "Index(['ancillary_da_nr', 'ancillary_da_rd', 'ancillary_da_rmd',\n       'ancillary_da_rmu', 'ancillary_da_ru', 'ancillary_da_sr',\n       'ancillary_rt_nr', 'ancillary_rt_rd', 'ancillary_rt_rmd',\n       'ancillary_rt_rmu', 'ancillary_rt_ru', 'ancillary_rt_sr',\n       'congestion_da', 'energy_da', 'unnamed: 0', 'gas_price', 'hour',\n       'gen_geothermal', 'gen_biomass', 'gen_biogas', 'gen_small_hydro',\n       'gen_wind', 'gen_solar_pv', 'gen_solar_thermal', 'gen_renewables',\n       'gen_nuclear', 'gen_thermal', 'gen_imports', 'gen_hydro', 'load_2da',\n       'load_7da', 'load_rt', 'load_da', 'load_rt.1', 'load_rtpd',\n       'losses_da'],\n      dtype='object')"
     },
     "execution_count": 31,
     "metadata": {},
     "output_type": "execute_result"
    }
   ],
   "source": [
    "ISO_final[\"CAISO\"].columns"
   ],
   "metadata": {
    "collapsed": false
   }
  },
  {
   "cell_type": "code",
   "execution_count": 32,
   "outputs": [
    {
     "name": "stdout",
     "output_type": "stream",
     "text": [
      "CAISO\n"
     ]
    },
    {
     "name": "stderr",
     "output_type": "stream",
     "text": [
      " 44%|████▍     | 4/9 [01:51<01:38, 19.79s/it]/usr/local/lib/python3.8/site-packages/IPython/core/interactiveshell.py:3442: DtypeWarning: Columns (1,2,3,5,6,7,8,9,10,11,12,18,19,20,21,26) have mixed types.Specify dtype option on import or set low_memory=False.\n",
      "  exec(code_obj, self.user_global_ns, self.user_ns)\n",
      "100%|██████████| 9/9 [03:12<00:00, 21.37s/it]\n"
     ]
    }
   ],
   "source": [
    "#load in the new data that was combined (files by variable)\n",
    "ISO_done = [\"CAISO\"]\n",
    "FILE_PATH = \"/Users/evanlipton/Dropbox (YSE)/Solar_ElectricData/Data\"\n",
    "new_data = {}\n",
    "for ISO in ISO_done:\n",
    "    sub_folder = f\"{FILE_PATH}/{ISO}/new/combined\"\n",
    "    files = [f for f in listdir(sub_folder) if isfile(join(sub_folder, f)) and f[0]!=\".\"]\n",
    "    new_data[ISO] = {}\n",
    "    print(ISO)\n",
    "    for file in tqdm(files):\n",
    "        new_data[ISO][file.replace(\".csv\", \"\")] = pd.read_csv(f\"{sub_folder}/{file}\")"
   ],
   "metadata": {
    "collapsed": false
   }
  },
  {
   "cell_type": "code",
   "execution_count": 70,
   "outputs": [],
   "source": [
    "def create_date(entry: tuple):\n",
    "    return pd.to_datetime(pd.to_datetime(entry[0]) + timedelta(hours = int(entry[1])))\n",
    "\n",
    "def add_caiso_ancillary(sample_data: pd.DataFrame, ANC_TYPE: str, ANC_REGION: str, RESULT_TYPE: str, add_label: str = \"\"):\n",
    "\n",
    "    #subsets a specific ancillary service type\n",
    "    subset = sample_data[(sample_data[\"ANC_TYPE\"] == ANC_TYPE[13:].upper()) & (sample_data[\"ANC_REGION\"] == ANC_REGION) & (sample_data[\"RESULT_TYPE\"] == RESULT_TYPE)]\n",
    "    print(subset)\n",
    "\n",
    "    #removes daylight saving hour 25\n",
    "    subset = subset[subset[\"OPR_HR\"]<25]\n",
    "\n",
    "    #groups by the hour and day and get takes the mean\n",
    "    subset = pd.DataFrame(subset.groupby(['OPR_DT', \"OPR_HR\"])[\"MW\"].mean())\n",
    "\n",
    "    #creates a new column to get the date\n",
    "    subset[\"DATE_HR\"] = subset.index.to_numpy()\n",
    "\n",
    "    #creates a date fromthat\n",
    "    subset[\"time_tomerge\"] = subset[\"DATE_HR\"].apply(create_date)\n",
    "\n",
    "    #clean up\n",
    "    subset = subset.drop(columns = [\"DATE_HR\"])\n",
    "    subset = subset.rename(columns={\"MW\": f\"{ANC_TYPE}{add_label}\"})\n",
    "    subset = subset.drop_duplicates()\n",
    "\n",
    "    #check length\n",
    "    print(len(np.unique(subset[\"time_tomerge\"])))\n",
    "    print(len(subset[\"time_tomerge\"]))\n",
    "\n",
    "    return subset"
   ],
   "metadata": {
    "collapsed": false
   }
  },
  {
   "cell_type": "code",
   "execution_count": 71,
   "outputs": [
    {
     "data": {
      "text/plain": "       Unnamed: 0      INTERVALSTARTTIME_GMT        INTERVALENDTIME_GMT  \\\n58            951  2019-01-01T08:00:00-00:00  2019-01-01T09:00:00-00:00   \n156           961  2019-01-01T09:00:00-00:00  2019-01-01T10:00:00-00:00   \n225           957  2019-01-01T10:00:00-00:00  2019-01-01T11:00:00-00:00   \n385           973  2019-01-01T11:00:00-00:00  2019-01-01T12:00:00-00:00   \n450           967  2019-01-01T12:00:00-00:00  2019-01-01T13:00:00-00:00   \n...           ...                        ...                        ...   \n9947         8437  2019-01-05T07:00:00-00:00  2019-01-05T08:00:00-00:00   \n10023       10925  2019-01-05T08:00:00-00:00  2019-01-05T09:00:00-00:00   \n10090       10860  2019-01-05T09:00:00-00:00  2019-01-05T10:00:00-00:00   \n10203       10858  2019-01-05T10:00:00-00:00  2019-01-05T11:00:00-00:00   \n10309       10852  2019-01-05T11:00:00-00:00  2019-01-05T12:00:00-00:00   \n\n           OPR_DT  OPR_HR  OPR_INTERVAL ANC_TYPE    ANC_REGION  \\\n58     2019-01-01       1             0       RD  AS_CAISO_EXP   \n156    2019-01-01       2             0       RD  AS_CAISO_EXP   \n225    2019-01-01       3             0       RD  AS_CAISO_EXP   \n385    2019-01-01       4             0       RD  AS_CAISO_EXP   \n450    2019-01-01       5             0       RD  AS_CAISO_EXP   \n...           ...     ...           ...      ...           ...   \n9947   2019-01-04      24             0       RD  AS_CAISO_EXP   \n10023  2019-01-05       1             0       RD  AS_CAISO_EXP   \n10090  2019-01-05       2             0       RD  AS_CAISO_EXP   \n10203  2019-01-05       3             0       RD  AS_CAISO_EXP   \n10309  2019-01-05       4             0       RD  AS_CAISO_EXP   \n\n                   GRP MARKET_RUN_ID RESULT_TYPE  UOM  POS   XML_DATA_ITEM  \\\n58     Regional Detail           DAM     AS_COST    2    4  RD_TOT_CST_PRC   \n156    Regional Detail           DAM     AS_COST    2    4  RD_TOT_CST_PRC   \n225    Regional Detail           DAM     AS_COST    2    4  RD_TOT_CST_PRC   \n385    Regional Detail           DAM     AS_COST    2    4  RD_TOT_CST_PRC   \n450    Regional Detail           DAM     AS_COST    2    4  RD_TOT_CST_PRC   \n...                ...           ...         ...  ...  ...             ...   \n9947   Regional Detail           DAM     AS_COST    2    4  RD_TOT_CST_PRC   \n10023  Regional Detail           DAM     AS_COST    2    4  RD_TOT_CST_PRC   \n10090  Regional Detail           DAM     AS_COST    2    4  RD_TOT_CST_PRC   \n10203  Regional Detail           DAM     AS_COST    2    4  RD_TOT_CST_PRC   \n10309  Regional Detail           DAM     AS_COST    2    4  RD_TOT_CST_PRC   \n\n             MW  GROUP               time_tomerge  \n58     4587.144      7  2019-01-01 08:00:00+00:00  \n156    1500.000      7  2019-01-01 09:00:00+00:00  \n225    1500.000      7  2019-01-01 10:00:00+00:00  \n385    1500.000      7  2019-01-01 11:00:00+00:00  \n450    1500.000      7  2019-01-01 12:00:00+00:00  \n...         ...    ...                        ...  \n9947   3740.607     79  2019-01-05 07:00:00+00:00  \n10023  2100.000    103  2019-01-05 08:00:00+00:00  \n10090  2103.000    103  2019-01-05 09:00:00+00:00  \n10203  2100.000    103  2019-01-05 10:00:00+00:00  \n10309  2100.000    103  2019-01-05 11:00:00+00:00  \n\n[100 rows x 17 columns]",
      "text/html": "<div>\n<style scoped>\n    .dataframe tbody tr th:only-of-type {\n        vertical-align: middle;\n    }\n\n    .dataframe tbody tr th {\n        vertical-align: top;\n    }\n\n    .dataframe thead th {\n        text-align: right;\n    }\n</style>\n<table border=\"1\" class=\"dataframe\">\n  <thead>\n    <tr style=\"text-align: right;\">\n      <th></th>\n      <th>Unnamed: 0</th>\n      <th>INTERVALSTARTTIME_GMT</th>\n      <th>INTERVALENDTIME_GMT</th>\n      <th>OPR_DT</th>\n      <th>OPR_HR</th>\n      <th>OPR_INTERVAL</th>\n      <th>ANC_TYPE</th>\n      <th>ANC_REGION</th>\n      <th>GRP</th>\n      <th>MARKET_RUN_ID</th>\n      <th>RESULT_TYPE</th>\n      <th>UOM</th>\n      <th>POS</th>\n      <th>XML_DATA_ITEM</th>\n      <th>MW</th>\n      <th>GROUP</th>\n      <th>time_tomerge</th>\n    </tr>\n  </thead>\n  <tbody>\n    <tr>\n      <th>58</th>\n      <td>951</td>\n      <td>2019-01-01T08:00:00-00:00</td>\n      <td>2019-01-01T09:00:00-00:00</td>\n      <td>2019-01-01</td>\n      <td>1</td>\n      <td>0</td>\n      <td>RD</td>\n      <td>AS_CAISO_EXP</td>\n      <td>Regional Detail</td>\n      <td>DAM</td>\n      <td>AS_COST</td>\n      <td>2</td>\n      <td>4</td>\n      <td>RD_TOT_CST_PRC</td>\n      <td>4587.144</td>\n      <td>7</td>\n      <td>2019-01-01 08:00:00+00:00</td>\n    </tr>\n    <tr>\n      <th>156</th>\n      <td>961</td>\n      <td>2019-01-01T09:00:00-00:00</td>\n      <td>2019-01-01T10:00:00-00:00</td>\n      <td>2019-01-01</td>\n      <td>2</td>\n      <td>0</td>\n      <td>RD</td>\n      <td>AS_CAISO_EXP</td>\n      <td>Regional Detail</td>\n      <td>DAM</td>\n      <td>AS_COST</td>\n      <td>2</td>\n      <td>4</td>\n      <td>RD_TOT_CST_PRC</td>\n      <td>1500.000</td>\n      <td>7</td>\n      <td>2019-01-01 09:00:00+00:00</td>\n    </tr>\n    <tr>\n      <th>225</th>\n      <td>957</td>\n      <td>2019-01-01T10:00:00-00:00</td>\n      <td>2019-01-01T11:00:00-00:00</td>\n      <td>2019-01-01</td>\n      <td>3</td>\n      <td>0</td>\n      <td>RD</td>\n      <td>AS_CAISO_EXP</td>\n      <td>Regional Detail</td>\n      <td>DAM</td>\n      <td>AS_COST</td>\n      <td>2</td>\n      <td>4</td>\n      <td>RD_TOT_CST_PRC</td>\n      <td>1500.000</td>\n      <td>7</td>\n      <td>2019-01-01 10:00:00+00:00</td>\n    </tr>\n    <tr>\n      <th>385</th>\n      <td>973</td>\n      <td>2019-01-01T11:00:00-00:00</td>\n      <td>2019-01-01T12:00:00-00:00</td>\n      <td>2019-01-01</td>\n      <td>4</td>\n      <td>0</td>\n      <td>RD</td>\n      <td>AS_CAISO_EXP</td>\n      <td>Regional Detail</td>\n      <td>DAM</td>\n      <td>AS_COST</td>\n      <td>2</td>\n      <td>4</td>\n      <td>RD_TOT_CST_PRC</td>\n      <td>1500.000</td>\n      <td>7</td>\n      <td>2019-01-01 11:00:00+00:00</td>\n    </tr>\n    <tr>\n      <th>450</th>\n      <td>967</td>\n      <td>2019-01-01T12:00:00-00:00</td>\n      <td>2019-01-01T13:00:00-00:00</td>\n      <td>2019-01-01</td>\n      <td>5</td>\n      <td>0</td>\n      <td>RD</td>\n      <td>AS_CAISO_EXP</td>\n      <td>Regional Detail</td>\n      <td>DAM</td>\n      <td>AS_COST</td>\n      <td>2</td>\n      <td>4</td>\n      <td>RD_TOT_CST_PRC</td>\n      <td>1500.000</td>\n      <td>7</td>\n      <td>2019-01-01 12:00:00+00:00</td>\n    </tr>\n    <tr>\n      <th>...</th>\n      <td>...</td>\n      <td>...</td>\n      <td>...</td>\n      <td>...</td>\n      <td>...</td>\n      <td>...</td>\n      <td>...</td>\n      <td>...</td>\n      <td>...</td>\n      <td>...</td>\n      <td>...</td>\n      <td>...</td>\n      <td>...</td>\n      <td>...</td>\n      <td>...</td>\n      <td>...</td>\n      <td>...</td>\n    </tr>\n    <tr>\n      <th>9947</th>\n      <td>8437</td>\n      <td>2019-01-05T07:00:00-00:00</td>\n      <td>2019-01-05T08:00:00-00:00</td>\n      <td>2019-01-04</td>\n      <td>24</td>\n      <td>0</td>\n      <td>RD</td>\n      <td>AS_CAISO_EXP</td>\n      <td>Regional Detail</td>\n      <td>DAM</td>\n      <td>AS_COST</td>\n      <td>2</td>\n      <td>4</td>\n      <td>RD_TOT_CST_PRC</td>\n      <td>3740.607</td>\n      <td>79</td>\n      <td>2019-01-05 07:00:00+00:00</td>\n    </tr>\n    <tr>\n      <th>10023</th>\n      <td>10925</td>\n      <td>2019-01-05T08:00:00-00:00</td>\n      <td>2019-01-05T09:00:00-00:00</td>\n      <td>2019-01-05</td>\n      <td>1</td>\n      <td>0</td>\n      <td>RD</td>\n      <td>AS_CAISO_EXP</td>\n      <td>Regional Detail</td>\n      <td>DAM</td>\n      <td>AS_COST</td>\n      <td>2</td>\n      <td>4</td>\n      <td>RD_TOT_CST_PRC</td>\n      <td>2100.000</td>\n      <td>103</td>\n      <td>2019-01-05 08:00:00+00:00</td>\n    </tr>\n    <tr>\n      <th>10090</th>\n      <td>10860</td>\n      <td>2019-01-05T09:00:00-00:00</td>\n      <td>2019-01-05T10:00:00-00:00</td>\n      <td>2019-01-05</td>\n      <td>2</td>\n      <td>0</td>\n      <td>RD</td>\n      <td>AS_CAISO_EXP</td>\n      <td>Regional Detail</td>\n      <td>DAM</td>\n      <td>AS_COST</td>\n      <td>2</td>\n      <td>4</td>\n      <td>RD_TOT_CST_PRC</td>\n      <td>2103.000</td>\n      <td>103</td>\n      <td>2019-01-05 09:00:00+00:00</td>\n    </tr>\n    <tr>\n      <th>10203</th>\n      <td>10858</td>\n      <td>2019-01-05T10:00:00-00:00</td>\n      <td>2019-01-05T11:00:00-00:00</td>\n      <td>2019-01-05</td>\n      <td>3</td>\n      <td>0</td>\n      <td>RD</td>\n      <td>AS_CAISO_EXP</td>\n      <td>Regional Detail</td>\n      <td>DAM</td>\n      <td>AS_COST</td>\n      <td>2</td>\n      <td>4</td>\n      <td>RD_TOT_CST_PRC</td>\n      <td>2100.000</td>\n      <td>103</td>\n      <td>2019-01-05 10:00:00+00:00</td>\n    </tr>\n    <tr>\n      <th>10309</th>\n      <td>10852</td>\n      <td>2019-01-05T11:00:00-00:00</td>\n      <td>2019-01-05T12:00:00-00:00</td>\n      <td>2019-01-05</td>\n      <td>4</td>\n      <td>0</td>\n      <td>RD</td>\n      <td>AS_CAISO_EXP</td>\n      <td>Regional Detail</td>\n      <td>DAM</td>\n      <td>AS_COST</td>\n      <td>2</td>\n      <td>4</td>\n      <td>RD_TOT_CST_PRC</td>\n      <td>2100.000</td>\n      <td>103</td>\n      <td>2019-01-05 11:00:00+00:00</td>\n    </tr>\n  </tbody>\n</table>\n<p>100 rows × 17 columns</p>\n</div>"
     },
     "execution_count": 71,
     "metadata": {},
     "output_type": "execute_result"
    }
   ],
   "source": [
    "add_caiso_ancillary(new_data[\"CAISO\"][\"ancillary_res_da\"], \"anc\", \"AS_CAISO_EXP\", \"AS_BUY_MW\", \"_mw\")"
   ],
   "metadata": {
    "collapsed": false
   }
  },
  {
   "cell_type": "code",
   "execution_count": 34,
   "outputs": [
    {
     "name": "stdout",
     "output_type": "stream",
     "text": [
      "['ancillary_da_nr', 'ancillary_da_rd', 'ancillary_da_rmd', 'ancillary_da_rmu', 'ancillary_da_ru', 'ancillary_da_sr', 'ancillary_rt_nr', 'ancillary_rt_rd', 'ancillary_rt_rmd', 'ancillary_rt_rmu', 'ancillary_rt_ru', 'ancillary_rt_sr']\n"
     ]
    }
   ],
   "source": [
    "#get the ancillary services in the old dataset\n",
    "ancillaries = [col for col in ISO_final[\"CAISO\"].columns if \"ancillary\" in col]\n",
    "print(ancillaries)"
   ],
   "metadata": {
    "collapsed": false
   }
  },
  {
   "cell_type": "code",
   "execution_count": 38,
   "outputs": [
    {
     "name": "stderr",
     "output_type": "stream",
     "text": [
      "  8%|▊         | 1/12 [00:11<02:11, 11.92s/it]"
     ]
    },
    {
     "name": "stdout",
     "output_type": "stream",
     "text": [
      "35060\n",
      "35060\n"
     ]
    },
    {
     "name": "stderr",
     "output_type": "stream",
     "text": [
      " 17%|█▋        | 2/12 [00:16<01:17,  7.78s/it]"
     ]
    },
    {
     "name": "stdout",
     "output_type": "stream",
     "text": [
      "35060\n",
      "35060\n"
     ]
    },
    {
     "name": "stderr",
     "output_type": "stream",
     "text": [
      " 25%|██▌       | 3/12 [00:20<00:54,  6.01s/it]"
     ]
    },
    {
     "name": "stdout",
     "output_type": "stream",
     "text": [
      "35060\n",
      "35060\n"
     ]
    },
    {
     "name": "stderr",
     "output_type": "stream",
     "text": [
      " 33%|███▎      | 4/12 [00:24<00:41,  5.14s/it]"
     ]
    },
    {
     "name": "stdout",
     "output_type": "stream",
     "text": [
      "35060\n",
      "35060\n"
     ]
    },
    {
     "name": "stderr",
     "output_type": "stream",
     "text": [
      " 42%|████▏     | 5/12 [00:28<00:32,  4.62s/it]"
     ]
    },
    {
     "name": "stdout",
     "output_type": "stream",
     "text": [
      "35060\n",
      "35060\n"
     ]
    },
    {
     "name": "stderr",
     "output_type": "stream",
     "text": [
      " 50%|█████     | 6/12 [00:32<00:26,  4.35s/it]"
     ]
    },
    {
     "name": "stdout",
     "output_type": "stream",
     "text": [
      "35060\n",
      "35060\n"
     ]
    },
    {
     "name": "stderr",
     "output_type": "stream",
     "text": [
      " 58%|█████▊    | 7/12 [00:48<00:41,  8.25s/it]"
     ]
    },
    {
     "name": "stdout",
     "output_type": "stream",
     "text": [
      "34316\n",
      "34316\n"
     ]
    },
    {
     "name": "stderr",
     "output_type": "stream",
     "text": [
      " 67%|██████▋   | 8/12 [00:56<00:32,  8.09s/it]"
     ]
    },
    {
     "name": "stdout",
     "output_type": "stream",
     "text": [
      "34316\n",
      "34316\n"
     ]
    },
    {
     "name": "stderr",
     "output_type": "stream",
     "text": [
      " 75%|███████▌  | 9/12 [01:03<00:24,  8.04s/it]"
     ]
    },
    {
     "name": "stdout",
     "output_type": "stream",
     "text": [
      "34316\n",
      "34316\n"
     ]
    },
    {
     "name": "stderr",
     "output_type": "stream",
     "text": [
      " 83%|████████▎ | 10/12 [01:11<00:15,  7.76s/it]"
     ]
    },
    {
     "name": "stdout",
     "output_type": "stream",
     "text": [
      "34316\n",
      "34316\n"
     ]
    },
    {
     "name": "stderr",
     "output_type": "stream",
     "text": [
      " 92%|█████████▏| 11/12 [01:16<00:07,  7.09s/it]"
     ]
    },
    {
     "name": "stdout",
     "output_type": "stream",
     "text": [
      "34316\n",
      "34316\n"
     ]
    },
    {
     "name": "stderr",
     "output_type": "stream",
     "text": [
      "100%|██████████| 12/12 [01:22<00:00,  6.88s/it]"
     ]
    },
    {
     "name": "stdout",
     "output_type": "stream",
     "text": [
      "34316\n",
      "34316\n"
     ]
    },
    {
     "name": "stderr",
     "output_type": "stream",
     "text": [
      "\n"
     ]
    }
   ],
   "source": [
    "#Calls the function to create the ancillaries\n",
    "new_data[\"CAISO\"][\"total\"] = pd.DataFrame({\"time_tomerge\": pd.date_range(start=\"1/1/2019\", end=\"1/1/2023\", freq=\"H\")})\n",
    "for anc in tqdm(ancillaries):\n",
    "    if anc[10:12] == \"da\":\n",
    "        new_data[\"CAISO\"][\"total\"] = new_data[\"CAISO\"][\"total\"].merge(add_caiso_ancillary(new_data[\"CAISO\"][\"ancillary_res_da\"], anc, \"AS_CAISO_EXP\", \"AS_COST\"), on = \"time_tomerge\", how = \"left\")\n",
    "    else:\n",
    "        new_data[\"CAISO\"][\"total\"] = new_data[\"CAISO\"][\"total\"].merge(add_caiso_ancillary(new_data[\"CAISO\"][\"ancillary_res_rt\"], anc, \"AS_CAISO_EXP\", \"AS_COST\"), on = \"time_tomerge\", how = \"left\")\n",
    "#print(sample)"
   ],
   "metadata": {
    "collapsed": false
   }
  },
  {
   "cell_type": "code",
   "execution_count": 39,
   "outputs": [
    {
     "name": "stderr",
     "output_type": "stream",
     "text": [
      "  8%|▊         | 1/12 [00:04<00:52,  4.78s/it]"
     ]
    },
    {
     "name": "stdout",
     "output_type": "stream",
     "text": [
      "35060\n",
      "35060\n"
     ]
    },
    {
     "name": "stderr",
     "output_type": "stream",
     "text": [
      " 17%|█▋        | 2/12 [00:08<00:41,  4.11s/it]"
     ]
    },
    {
     "name": "stdout",
     "output_type": "stream",
     "text": [
      "35060\n",
      "35060\n"
     ]
    },
    {
     "name": "stderr",
     "output_type": "stream",
     "text": [
      " 25%|██▌       | 3/12 [00:12<00:35,  3.93s/it]"
     ]
    },
    {
     "name": "stdout",
     "output_type": "stream",
     "text": [
      "35060\n",
      "35060\n"
     ]
    },
    {
     "name": "stderr",
     "output_type": "stream",
     "text": [
      " 33%|███▎      | 4/12 [00:15<00:30,  3.78s/it]"
     ]
    },
    {
     "name": "stdout",
     "output_type": "stream",
     "text": [
      "35060\n",
      "35060\n"
     ]
    },
    {
     "name": "stderr",
     "output_type": "stream",
     "text": [
      " 42%|████▏     | 5/12 [00:19<00:27,  3.97s/it]"
     ]
    },
    {
     "name": "stdout",
     "output_type": "stream",
     "text": [
      "35060\n",
      "35060\n"
     ]
    },
    {
     "name": "stderr",
     "output_type": "stream",
     "text": [
      " 50%|█████     | 6/12 [00:23<00:23,  3.91s/it]"
     ]
    },
    {
     "name": "stdout",
     "output_type": "stream",
     "text": [
      "35060\n",
      "35060\n"
     ]
    },
    {
     "name": "stderr",
     "output_type": "stream",
     "text": [
      " 58%|█████▊    | 7/12 [00:32<00:27,  5.41s/it]"
     ]
    },
    {
     "name": "stdout",
     "output_type": "stream",
     "text": [
      "34316\n",
      "34316\n"
     ]
    },
    {
     "name": "stderr",
     "output_type": "stream",
     "text": [
      " 67%|██████▋   | 8/12 [00:37<00:21,  5.41s/it]"
     ]
    },
    {
     "name": "stdout",
     "output_type": "stream",
     "text": [
      "34316\n",
      "34316\n"
     ]
    },
    {
     "name": "stderr",
     "output_type": "stream",
     "text": [
      " 75%|███████▌  | 9/12 [00:43<00:16,  5.41s/it]"
     ]
    },
    {
     "name": "stdout",
     "output_type": "stream",
     "text": [
      "34316\n",
      "34316\n"
     ]
    },
    {
     "name": "stderr",
     "output_type": "stream",
     "text": [
      " 83%|████████▎ | 10/12 [00:48<00:10,  5.33s/it]"
     ]
    },
    {
     "name": "stdout",
     "output_type": "stream",
     "text": [
      "34316\n",
      "34316\n"
     ]
    },
    {
     "name": "stderr",
     "output_type": "stream",
     "text": [
      " 92%|█████████▏| 11/12 [00:55<00:05,  5.91s/it]"
     ]
    },
    {
     "name": "stdout",
     "output_type": "stream",
     "text": [
      "34316\n",
      "34316\n"
     ]
    },
    {
     "name": "stderr",
     "output_type": "stream",
     "text": [
      "100%|██████████| 12/12 [01:00<00:00,  5.07s/it]"
     ]
    },
    {
     "name": "stdout",
     "output_type": "stream",
     "text": [
      "34316\n",
      "34316\n"
     ]
    },
    {
     "name": "stderr",
     "output_type": "stream",
     "text": [
      "\n"
     ]
    }
   ],
   "source": [
    "#new_data[\"CAISO\"][\"total\"] = pd.DataFrame({\"time_tomerge\": pd.date_range(start=\"1/1/2019\", end=\"1/1/2023\", freq=\"H\")})\n",
    "for anc in tqdm(ancillaries):\n",
    "    if anc[10:12] == \"da\":\n",
    "        new_data[\"CAISO\"][\"total\"] = new_data[\"CAISO\"][\"total\"].merge(add_caiso_ancillary(new_data[\"CAISO\"][\"ancillary_res_da\"], anc, \"AS_CAISO_EXP\", \"AS_BUY_MW\", \"_mw\"), on = \"time_tomerge\", how = \"left\")\n",
    "    else:\n",
    "        new_data[\"CAISO\"][\"total\"] = new_data[\"CAISO\"][\"total\"].merge(add_caiso_ancillary(new_data[\"CAISO\"][\"ancillary_res_rt\"], anc, \"AS_CAISO_EXP\", \"AS_BUY_MW\", \"_mw\"), on = \"time_tomerge\", how = \"left\")"
   ],
   "metadata": {
    "collapsed": false
   }
  },
  {
   "cell_type": "code",
   "execution_count": 40,
   "outputs": [
    {
     "name": "stdout",
     "output_type": "stream",
     "text": [
      "             time_tomerge  ancillary_da_nr  ancillary_da_rd  ancillary_da_rmd  \\\n",
      "0     2019-01-01 00:00:00              NaN              NaN               NaN   \n",
      "1     2019-01-01 01:00:00          73.6890         4587.144               0.0   \n",
      "2     2019-01-01 02:00:00          70.5892         1500.000               0.0   \n",
      "3     2019-01-01 03:00:00          71.0776         1500.000               0.0   \n",
      "4     2019-01-01 04:00:00          73.1093         1500.000               0.0   \n",
      "...                   ...              ...              ...               ...   \n",
      "35060 2022-12-31 20:00:00         101.5209         5700.000               0.0   \n",
      "35061 2022-12-31 21:00:00          90.5520         6612.000               0.0   \n",
      "35062 2022-12-31 22:00:00          87.7104         8850.000               0.0   \n",
      "35063 2022-12-31 23:00:00          84.4800         5670.000               0.0   \n",
      "35064 2023-01-01 00:00:00          80.8572         7650.000               0.0   \n",
      "\n",
      "       ancillary_da_rmu  ancillary_da_ru  ancillary_da_sr  ancillary_rt_nr  \\\n",
      "0                   NaN              NaN              NaN              NaN   \n",
      "1                   0.0       2451.00000        669.90000              0.0   \n",
      "2                   0.0       1797.00000        641.72000              0.0   \n",
      "3                   0.0       1512.00000        161.54000              0.0   \n",
      "4                   0.0       1512.00000        166.15750              0.0   \n",
      "...                 ...              ...              ...              ...   \n",
      "35060               0.0       2483.99900       2533.73540              0.0   \n",
      "35061               0.0       1892.67000       1916.61000              0.0   \n",
      "35062               0.0       4625.81000       3186.47000              0.0   \n",
      "35063               0.0       1040.81446        845.73324              0.0   \n",
      "35064               0.0        496.20358        399.81786              0.0   \n",
      "\n",
      "       ancillary_rt_rd  ancillary_rt_rmd  ...  ancillary_da_rmd_mw  \\\n",
      "0                  NaN               NaN  ...                  NaN   \n",
      "1             0.734587               0.0  ...               301.02   \n",
      "2             0.202735               0.0  ...               300.00   \n",
      "3             0.451492               0.0  ...               300.00   \n",
      "4             0.437500               0.0  ...               355.73   \n",
      "...                ...               ...  ...                  ...   \n",
      "35060       106.494525               0.0  ...               744.57   \n",
      "35061       214.631892               0.0  ...              1826.66   \n",
      "35062         0.000000               0.0  ...              2388.42   \n",
      "35063       162.101250               0.0  ...              1000.78   \n",
      "35064       159.755625               0.0  ...              6465.48   \n",
      "\n",
      "       ancillary_da_rmu_mw  ancillary_da_ru_mw  ancillary_da_sr_mw  \\\n",
      "0                      NaN                 NaN                 NaN   \n",
      "1                  7823.15              300.00              669.90   \n",
      "2                  7275.34              300.00              641.72   \n",
      "3                  4027.48              300.00              646.16   \n",
      "4                  1085.80              300.00              664.63   \n",
      "...                    ...                 ...                 ...   \n",
      "35060               606.59              572.35              583.81   \n",
      "35061               679.91              630.89              638.87   \n",
      "35062              1214.27              660.83              455.21   \n",
      "35063               701.46              555.03              451.00   \n",
      "35064               728.27              584.67              471.10   \n",
      "\n",
      "       ancillary_rt_nr_mw  ancillary_rt_rd_mw  ancillary_rt_rmd_mw  \\\n",
      "0                     NaN                 NaN                  NaN   \n",
      "1                     0.0              0.3825             300.1300   \n",
      "2                     0.0              0.4075             300.0000   \n",
      "3                     0.0              0.3600             300.0000   \n",
      "4                     0.0              0.3500             310.2375   \n",
      "...                   ...                 ...                  ...   \n",
      "35060                 0.0             38.6550             579.0100   \n",
      "35061                 0.0             77.3100            1785.3200   \n",
      "35062                 0.0             81.6000             739.1500   \n",
      "35063                 0.0             72.0450             634.1400   \n",
      "35064                 0.0             71.0025            2616.1900   \n",
      "\n",
      "       ancillary_rt_rmu_mw  ancillary_rt_ru_mw  ancillary_rt_sr_mw  \n",
      "0                      NaN                 NaN                 NaN  \n",
      "1                5235.9000              0.3525             21.0650  \n",
      "2                2788.1600              0.4400              0.0000  \n",
      "3                2822.8600              0.3525             47.3900  \n",
      "4                 757.5000              0.3300             47.4100  \n",
      "...                    ...                 ...                 ...  \n",
      "35060             740.0350              4.0600              3.7500  \n",
      "35061             641.2800              8.1225             15.6250  \n",
      "35062             849.9500              8.1250             18.2200  \n",
      "35063             842.6300             15.7875            102.6125  \n",
      "35064             783.6475              1.3025             62.7050  \n",
      "\n",
      "[35065 rows x 25 columns]\n"
     ]
    }
   ],
   "source": [
    "print(new_data[\"CAISO\"][\"total\"])"
   ],
   "metadata": {
    "collapsed": false
   }
  },
  {
   "cell_type": "code",
   "execution_count": 41,
   "outputs": [
    {
     "data": {
      "text/plain": "Index(['ancillary_da_nr', 'ancillary_da_rd', 'ancillary_da_rmd',\n       'ancillary_da_rmu', 'ancillary_da_ru', 'ancillary_da_sr',\n       'ancillary_rt_nr', 'ancillary_rt_rd', 'ancillary_rt_rmd',\n       'ancillary_rt_rmu', 'ancillary_rt_ru', 'ancillary_rt_sr',\n       'congestion_da', 'energy_da', 'unnamed: 0', 'gas_price', 'hour',\n       'gen_geothermal', 'gen_biomass', 'gen_biogas', 'gen_small_hydro',\n       'gen_wind', 'gen_solar_pv', 'gen_solar_thermal', 'gen_renewables',\n       'gen_nuclear', 'gen_thermal', 'gen_imports', 'gen_hydro', 'load_2da',\n       'load_7da', 'load_rt', 'load_da', 'load_rt.1', 'load_rtpd',\n       'losses_da'],\n      dtype='object')"
     },
     "execution_count": 41,
     "metadata": {},
     "output_type": "execute_result"
    }
   ],
   "source": [
    "ISO_final[\"CAISO\"].columns"
   ],
   "metadata": {
    "collapsed": false
   }
  },
  {
   "cell_type": "code",
   "execution_count": 42,
   "outputs": [],
   "source": [
    "def add_caiso_energy(sample_data: pd.DataFrame, LMP_TYPE: str, col_name: str):\n",
    "\n",
    "    #get the lmp type and removes the daylight saving hour\n",
    "    subset = sample_data[(sample_data[\"LMP_TYPE\"] == LMP_TYPE)]\n",
    "    subset = subset[subset[\"OPR_HR\"]<25]\n",
    "\n",
    "    #takes the mean for the hour and day of each the lmp type\n",
    "    try:\n",
    "        subset = pd.DataFrame(subset.groupby(['OPR_DT', \"OPR_HR\"])[\"MW\"].mean())\n",
    "    except:\n",
    "        subset = pd.DataFrame(subset.groupby(['OPR_DT', \"OPR_HR\"])[\"VALUE\"].mean())\n",
    "\n",
    "    #creates a date\n",
    "    subset[\"DATE_HR\"] = subset.index.to_numpy()\n",
    "    subset[\"time_tomerge\"] = subset[\"DATE_HR\"].apply(create_date)\n",
    "    #subset[\"time_tomerge\"] = subset[\"time_tomerge\"].map(lambda x: x.tz_convert('US/Pacific'))\n",
    "\n",
    "    #clean up\n",
    "    subset = subset.drop(columns = [\"DATE_HR\"])\n",
    "    subset = subset.reset_index(drop=True)\n",
    "\n",
    "\n",
    "    subset = subset.rename(columns={\"MW\": col_name})\n",
    "    subset = subset.rename(columns={\"VALUE\": col_name})\n",
    "    print(len(subset))\n",
    "    return subset"
   ],
   "metadata": {
    "collapsed": false
   }
  },
  {
   "cell_type": "code",
   "execution_count": 43,
   "outputs": [
    {
     "name": "stdout",
     "output_type": "stream",
     "text": [
      "27957\n",
      "27957\n",
      "27957\n",
      "             time_tomerge  ancillary_da_nr  ancillary_da_rd  ancillary_da_rmd  \\\n",
      "0     2019-01-01 00:00:00              NaN              NaN               NaN   \n",
      "1     2019-01-01 01:00:00          73.6890         4587.144               0.0   \n",
      "2     2019-01-01 02:00:00          70.5892         1500.000               0.0   \n",
      "3     2019-01-01 03:00:00          71.0776         1500.000               0.0   \n",
      "4     2019-01-01 04:00:00          73.1093         1500.000               0.0   \n",
      "...                   ...              ...              ...               ...   \n",
      "35060 2022-12-31 20:00:00         101.5209         5700.000               0.0   \n",
      "35061 2022-12-31 21:00:00          90.5520         6612.000               0.0   \n",
      "35062 2022-12-31 22:00:00          87.7104         8850.000               0.0   \n",
      "35063 2022-12-31 23:00:00          84.4800         5670.000               0.0   \n",
      "35064 2023-01-01 00:00:00          80.8572         7650.000               0.0   \n",
      "\n",
      "       ancillary_da_rmu  ancillary_da_ru  ancillary_da_sr  ancillary_rt_nr  \\\n",
      "0                   NaN              NaN              NaN              NaN   \n",
      "1                   0.0       2451.00000        669.90000              0.0   \n",
      "2                   0.0       1797.00000        641.72000              0.0   \n",
      "3                   0.0       1512.00000        161.54000              0.0   \n",
      "4                   0.0       1512.00000        166.15750              0.0   \n",
      "...                 ...              ...              ...              ...   \n",
      "35060               0.0       2483.99900       2533.73540              0.0   \n",
      "35061               0.0       1892.67000       1916.61000              0.0   \n",
      "35062               0.0       4625.81000       3186.47000              0.0   \n",
      "35063               0.0       1040.81446        845.73324              0.0   \n",
      "35064               0.0        496.20358        399.81786              0.0   \n",
      "\n",
      "       ancillary_rt_rd  ancillary_rt_rmd  ...  ancillary_da_sr_mw  \\\n",
      "0                  NaN               NaN  ...                 NaN   \n",
      "1             0.734587               0.0  ...              669.90   \n",
      "2             0.202735               0.0  ...              641.72   \n",
      "3             0.451492               0.0  ...              646.16   \n",
      "4             0.437500               0.0  ...              664.63   \n",
      "...                ...               ...  ...                 ...   \n",
      "35060       106.494525               0.0  ...              583.81   \n",
      "35061       214.631892               0.0  ...              638.87   \n",
      "35062         0.000000               0.0  ...              455.21   \n",
      "35063       162.101250               0.0  ...              451.00   \n",
      "35064       159.755625               0.0  ...              471.10   \n",
      "\n",
      "       ancillary_rt_nr_mw  ancillary_rt_rd_mw  ancillary_rt_rmd_mw  \\\n",
      "0                     NaN                 NaN                  NaN   \n",
      "1                     0.0              0.3825             300.1300   \n",
      "2                     0.0              0.4075             300.0000   \n",
      "3                     0.0              0.3600             300.0000   \n",
      "4                     0.0              0.3500             310.2375   \n",
      "...                   ...                 ...                  ...   \n",
      "35060                 0.0             38.6550             579.0100   \n",
      "35061                 0.0             77.3100            1785.3200   \n",
      "35062                 0.0             81.6000             739.1500   \n",
      "35063                 0.0             72.0450             634.1400   \n",
      "35064                 0.0             71.0025            2616.1900   \n",
      "\n",
      "       ancillary_rt_rmu_mw  ancillary_rt_ru_mw  ancillary_rt_sr_mw  \\\n",
      "0                      NaN                 NaN                 NaN   \n",
      "1                5235.9000              0.3525             21.0650   \n",
      "2                2788.1600              0.4400              0.0000   \n",
      "3                2822.8600              0.3525             47.3900   \n",
      "4                 757.5000              0.3300             47.4100   \n",
      "...                    ...                 ...                 ...   \n",
      "35060             740.0350              4.0600              3.7500   \n",
      "35061             641.2800              8.1225             15.6250   \n",
      "35062             849.9500              8.1250             18.2200   \n",
      "35063             842.6300             15.7875            102.6125   \n",
      "35064             783.6475              1.3025             62.7050   \n",
      "\n",
      "       congestion_da  energy_da  losses_da  \n",
      "0                NaN        NaN        NaN  \n",
      "1                NaN        NaN        NaN  \n",
      "2                NaN        NaN        NaN  \n",
      "3                NaN        NaN        NaN  \n",
      "4                NaN        NaN        NaN  \n",
      "...              ...        ...        ...  \n",
      "35060      -0.030910  140.78702  -3.402353  \n",
      "35061      -0.004903  135.76392  -3.267383  \n",
      "35062       0.000000  128.26624  -3.031357  \n",
      "35063       0.000000  121.29756  -3.141607  \n",
      "35064       0.000000  119.84582  -3.247820  \n",
      "\n",
      "[35065 rows x 28 columns]\n"
     ]
    }
   ],
   "source": [
    "new_data[\"CAISO\"][\"total\"] = new_data[\"CAISO\"][\"total\"].merge(add_caiso_energy(new_data[\"CAISO\"][\"energy_da\"], \"MCC\", \"congestion_da\"), on = \"time_tomerge\", how=\"left\")\n",
    "new_data[\"CAISO\"][\"total\"] = new_data[\"CAISO\"][\"total\"].merge(add_caiso_energy(new_data[\"CAISO\"][\"energy_da\"], \"MCE\", \"energy_da\"), on = \"time_tomerge\", how=\"left\")\n",
    "new_data[\"CAISO\"][\"total\"] = new_data[\"CAISO\"][\"total\"].merge(add_caiso_energy(new_data[\"CAISO\"][\"energy_da\"], \"MCL\", \"losses_da\"), on = \"time_tomerge\",how=\"left\")\n",
    "\n",
    "print(new_data[\"CAISO\"][\"total\"])"
   ],
   "metadata": {
    "collapsed": false
   }
  },
  {
   "cell_type": "code",
   "execution_count": 44,
   "outputs": [
    {
     "name": "stdout",
     "output_type": "stream",
     "text": [
      "['TH_NP15_GEN-APND' 'TH_SP15_GEN-APND' 'TH_ZP26_GEN-APND']\n"
     ]
    }
   ],
   "source": [
    "print(np.unique(new_data[\"CAISO\"][\"energy_da\"][\"NODE\"]))"
   ],
   "metadata": {
    "collapsed": false
   }
  },
  {
   "cell_type": "code",
   "execution_count": 45,
   "outputs": [],
   "source": [
    "def add_caiso_gas(sample_data: pd.DataFrame, col_name: str):\n",
    "    subset = sample_data\n",
    "    subset = subset[subset[\"OPR_HR\"]<25]\n",
    "\n",
    "    subset = pd.DataFrame(subset.groupby(['OPR_DT', \"OPR_HR\"])[\"PRC\"].mean())\n",
    "    subset[\"DATE_HR\"] = subset.index.to_numpy()\n",
    "    subset[\"time_tomerge\"] = subset[\"DATE_HR\"].apply(create_date)\n",
    "    subset = subset.drop(columns = [\"DATE_HR\"])\n",
    "    subset = subset.reset_index(drop=True)\n",
    "    subset = subset.rename(columns={\"PRC\": col_name})\n",
    "    print(len(subset))\n",
    "    return subset"
   ],
   "metadata": {
    "collapsed": false
   }
  },
  {
   "cell_type": "code",
   "execution_count": 46,
   "outputs": [
    {
     "name": "stdout",
     "output_type": "stream",
     "text": [
      "35036\n"
     ]
    },
    {
     "data": {
      "text/plain": "             time_tomerge  ancillary_da_nr  ancillary_da_rd  ancillary_da_rmd  \\\n0     2019-01-01 00:00:00              NaN              NaN               NaN   \n1     2019-01-01 01:00:00          73.6890         4587.144               0.0   \n2     2019-01-01 02:00:00          70.5892         1500.000               0.0   \n3     2019-01-01 03:00:00          71.0776         1500.000               0.0   \n4     2019-01-01 04:00:00          73.1093         1500.000               0.0   \n...                   ...              ...              ...               ...   \n35060 2022-12-31 20:00:00         101.5209         5700.000               0.0   \n35061 2022-12-31 21:00:00          90.5520         6612.000               0.0   \n35062 2022-12-31 22:00:00          87.7104         8850.000               0.0   \n35063 2022-12-31 23:00:00          84.4800         5670.000               0.0   \n35064 2023-01-01 00:00:00          80.8572         7650.000               0.0   \n\n       ancillary_da_rmu  ancillary_da_ru  ancillary_da_sr  ancillary_rt_nr  \\\n0                   NaN              NaN              NaN              NaN   \n1                   0.0       2451.00000        669.90000              0.0   \n2                   0.0       1797.00000        641.72000              0.0   \n3                   0.0       1512.00000        161.54000              0.0   \n4                   0.0       1512.00000        166.15750              0.0   \n...                 ...              ...              ...              ...   \n35060               0.0       2483.99900       2533.73540              0.0   \n35061               0.0       1892.67000       1916.61000              0.0   \n35062               0.0       4625.81000       3186.47000              0.0   \n35063               0.0       1040.81446        845.73324              0.0   \n35064               0.0        496.20358        399.81786              0.0   \n\n       ancillary_rt_rd  ancillary_rt_rmd  ...  ancillary_rt_nr_mw  \\\n0                  NaN               NaN  ...                 NaN   \n1             0.734587               0.0  ...                 0.0   \n2             0.202735               0.0  ...                 0.0   \n3             0.451492               0.0  ...                 0.0   \n4             0.437500               0.0  ...                 0.0   \n...                ...               ...  ...                 ...   \n35060       106.494525               0.0  ...                 0.0   \n35061       214.631892               0.0  ...                 0.0   \n35062         0.000000               0.0  ...                 0.0   \n35063       162.101250               0.0  ...                 0.0   \n35064       159.755625               0.0  ...                 0.0   \n\n       ancillary_rt_rd_mw  ancillary_rt_rmd_mw  ancillary_rt_rmu_mw  \\\n0                     NaN                  NaN                  NaN   \n1                  0.3825             300.1300            5235.9000   \n2                  0.4075             300.0000            2788.1600   \n3                  0.3600             300.0000            2822.8600   \n4                  0.3500             310.2375             757.5000   \n...                   ...                  ...                  ...   \n35060             38.6550             579.0100             740.0350   \n35061             77.3100            1785.3200             641.2800   \n35062             81.6000             739.1500             849.9500   \n35063             72.0450             634.1400             842.6300   \n35064             71.0025            2616.1900             783.6475   \n\n       ancillary_rt_ru_mw  ancillary_rt_sr_mw  congestion_da  energy_da  \\\n0                     NaN                 NaN            NaN        NaN   \n1                  0.3525             21.0650            NaN        NaN   \n2                  0.4400              0.0000            NaN        NaN   \n3                  0.3525             47.3900            NaN        NaN   \n4                  0.3300             47.4100            NaN        NaN   \n...                   ...                 ...            ...        ...   \n35060              4.0600              3.7500      -0.030910  140.78702   \n35061              8.1225             15.6250      -0.004903  135.76392   \n35062              8.1250             18.2200       0.000000  128.26624   \n35063             15.7875            102.6125       0.000000  121.29756   \n35064              1.3025             62.7050       0.000000  119.84582   \n\n       losses_da  gas_price  \n0            NaN        NaN  \n1            NaN   5.098778  \n2            NaN   5.098778  \n3            NaN   5.098778  \n4            NaN   5.098778  \n...          ...        ...  \n35060  -3.402353  16.604248  \n35061  -3.267383  16.604248  \n35062  -3.031357  16.604248  \n35063  -3.141607  16.604248  \n35064  -3.247820  16.604248  \n\n[35065 rows x 29 columns]",
      "text/html": "<div>\n<style scoped>\n    .dataframe tbody tr th:only-of-type {\n        vertical-align: middle;\n    }\n\n    .dataframe tbody tr th {\n        vertical-align: top;\n    }\n\n    .dataframe thead th {\n        text-align: right;\n    }\n</style>\n<table border=\"1\" class=\"dataframe\">\n  <thead>\n    <tr style=\"text-align: right;\">\n      <th></th>\n      <th>time_tomerge</th>\n      <th>ancillary_da_nr</th>\n      <th>ancillary_da_rd</th>\n      <th>ancillary_da_rmd</th>\n      <th>ancillary_da_rmu</th>\n      <th>ancillary_da_ru</th>\n      <th>ancillary_da_sr</th>\n      <th>ancillary_rt_nr</th>\n      <th>ancillary_rt_rd</th>\n      <th>ancillary_rt_rmd</th>\n      <th>...</th>\n      <th>ancillary_rt_nr_mw</th>\n      <th>ancillary_rt_rd_mw</th>\n      <th>ancillary_rt_rmd_mw</th>\n      <th>ancillary_rt_rmu_mw</th>\n      <th>ancillary_rt_ru_mw</th>\n      <th>ancillary_rt_sr_mw</th>\n      <th>congestion_da</th>\n      <th>energy_da</th>\n      <th>losses_da</th>\n      <th>gas_price</th>\n    </tr>\n  </thead>\n  <tbody>\n    <tr>\n      <th>0</th>\n      <td>2019-01-01 00:00:00</td>\n      <td>NaN</td>\n      <td>NaN</td>\n      <td>NaN</td>\n      <td>NaN</td>\n      <td>NaN</td>\n      <td>NaN</td>\n      <td>NaN</td>\n      <td>NaN</td>\n      <td>NaN</td>\n      <td>...</td>\n      <td>NaN</td>\n      <td>NaN</td>\n      <td>NaN</td>\n      <td>NaN</td>\n      <td>NaN</td>\n      <td>NaN</td>\n      <td>NaN</td>\n      <td>NaN</td>\n      <td>NaN</td>\n      <td>NaN</td>\n    </tr>\n    <tr>\n      <th>1</th>\n      <td>2019-01-01 01:00:00</td>\n      <td>73.6890</td>\n      <td>4587.144</td>\n      <td>0.0</td>\n      <td>0.0</td>\n      <td>2451.00000</td>\n      <td>669.90000</td>\n      <td>0.0</td>\n      <td>0.734587</td>\n      <td>0.0</td>\n      <td>...</td>\n      <td>0.0</td>\n      <td>0.3825</td>\n      <td>300.1300</td>\n      <td>5235.9000</td>\n      <td>0.3525</td>\n      <td>21.0650</td>\n      <td>NaN</td>\n      <td>NaN</td>\n      <td>NaN</td>\n      <td>5.098778</td>\n    </tr>\n    <tr>\n      <th>2</th>\n      <td>2019-01-01 02:00:00</td>\n      <td>70.5892</td>\n      <td>1500.000</td>\n      <td>0.0</td>\n      <td>0.0</td>\n      <td>1797.00000</td>\n      <td>641.72000</td>\n      <td>0.0</td>\n      <td>0.202735</td>\n      <td>0.0</td>\n      <td>...</td>\n      <td>0.0</td>\n      <td>0.4075</td>\n      <td>300.0000</td>\n      <td>2788.1600</td>\n      <td>0.4400</td>\n      <td>0.0000</td>\n      <td>NaN</td>\n      <td>NaN</td>\n      <td>NaN</td>\n      <td>5.098778</td>\n    </tr>\n    <tr>\n      <th>3</th>\n      <td>2019-01-01 03:00:00</td>\n      <td>71.0776</td>\n      <td>1500.000</td>\n      <td>0.0</td>\n      <td>0.0</td>\n      <td>1512.00000</td>\n      <td>161.54000</td>\n      <td>0.0</td>\n      <td>0.451492</td>\n      <td>0.0</td>\n      <td>...</td>\n      <td>0.0</td>\n      <td>0.3600</td>\n      <td>300.0000</td>\n      <td>2822.8600</td>\n      <td>0.3525</td>\n      <td>47.3900</td>\n      <td>NaN</td>\n      <td>NaN</td>\n      <td>NaN</td>\n      <td>5.098778</td>\n    </tr>\n    <tr>\n      <th>4</th>\n      <td>2019-01-01 04:00:00</td>\n      <td>73.1093</td>\n      <td>1500.000</td>\n      <td>0.0</td>\n      <td>0.0</td>\n      <td>1512.00000</td>\n      <td>166.15750</td>\n      <td>0.0</td>\n      <td>0.437500</td>\n      <td>0.0</td>\n      <td>...</td>\n      <td>0.0</td>\n      <td>0.3500</td>\n      <td>310.2375</td>\n      <td>757.5000</td>\n      <td>0.3300</td>\n      <td>47.4100</td>\n      <td>NaN</td>\n      <td>NaN</td>\n      <td>NaN</td>\n      <td>5.098778</td>\n    </tr>\n    <tr>\n      <th>...</th>\n      <td>...</td>\n      <td>...</td>\n      <td>...</td>\n      <td>...</td>\n      <td>...</td>\n      <td>...</td>\n      <td>...</td>\n      <td>...</td>\n      <td>...</td>\n      <td>...</td>\n      <td>...</td>\n      <td>...</td>\n      <td>...</td>\n      <td>...</td>\n      <td>...</td>\n      <td>...</td>\n      <td>...</td>\n      <td>...</td>\n      <td>...</td>\n      <td>...</td>\n      <td>...</td>\n    </tr>\n    <tr>\n      <th>35060</th>\n      <td>2022-12-31 20:00:00</td>\n      <td>101.5209</td>\n      <td>5700.000</td>\n      <td>0.0</td>\n      <td>0.0</td>\n      <td>2483.99900</td>\n      <td>2533.73540</td>\n      <td>0.0</td>\n      <td>106.494525</td>\n      <td>0.0</td>\n      <td>...</td>\n      <td>0.0</td>\n      <td>38.6550</td>\n      <td>579.0100</td>\n      <td>740.0350</td>\n      <td>4.0600</td>\n      <td>3.7500</td>\n      <td>-0.030910</td>\n      <td>140.78702</td>\n      <td>-3.402353</td>\n      <td>16.604248</td>\n    </tr>\n    <tr>\n      <th>35061</th>\n      <td>2022-12-31 21:00:00</td>\n      <td>90.5520</td>\n      <td>6612.000</td>\n      <td>0.0</td>\n      <td>0.0</td>\n      <td>1892.67000</td>\n      <td>1916.61000</td>\n      <td>0.0</td>\n      <td>214.631892</td>\n      <td>0.0</td>\n      <td>...</td>\n      <td>0.0</td>\n      <td>77.3100</td>\n      <td>1785.3200</td>\n      <td>641.2800</td>\n      <td>8.1225</td>\n      <td>15.6250</td>\n      <td>-0.004903</td>\n      <td>135.76392</td>\n      <td>-3.267383</td>\n      <td>16.604248</td>\n    </tr>\n    <tr>\n      <th>35062</th>\n      <td>2022-12-31 22:00:00</td>\n      <td>87.7104</td>\n      <td>8850.000</td>\n      <td>0.0</td>\n      <td>0.0</td>\n      <td>4625.81000</td>\n      <td>3186.47000</td>\n      <td>0.0</td>\n      <td>0.000000</td>\n      <td>0.0</td>\n      <td>...</td>\n      <td>0.0</td>\n      <td>81.6000</td>\n      <td>739.1500</td>\n      <td>849.9500</td>\n      <td>8.1250</td>\n      <td>18.2200</td>\n      <td>0.000000</td>\n      <td>128.26624</td>\n      <td>-3.031357</td>\n      <td>16.604248</td>\n    </tr>\n    <tr>\n      <th>35063</th>\n      <td>2022-12-31 23:00:00</td>\n      <td>84.4800</td>\n      <td>5670.000</td>\n      <td>0.0</td>\n      <td>0.0</td>\n      <td>1040.81446</td>\n      <td>845.73324</td>\n      <td>0.0</td>\n      <td>162.101250</td>\n      <td>0.0</td>\n      <td>...</td>\n      <td>0.0</td>\n      <td>72.0450</td>\n      <td>634.1400</td>\n      <td>842.6300</td>\n      <td>15.7875</td>\n      <td>102.6125</td>\n      <td>0.000000</td>\n      <td>121.29756</td>\n      <td>-3.141607</td>\n      <td>16.604248</td>\n    </tr>\n    <tr>\n      <th>35064</th>\n      <td>2023-01-01 00:00:00</td>\n      <td>80.8572</td>\n      <td>7650.000</td>\n      <td>0.0</td>\n      <td>0.0</td>\n      <td>496.20358</td>\n      <td>399.81786</td>\n      <td>0.0</td>\n      <td>159.755625</td>\n      <td>0.0</td>\n      <td>...</td>\n      <td>0.0</td>\n      <td>71.0025</td>\n      <td>2616.1900</td>\n      <td>783.6475</td>\n      <td>1.3025</td>\n      <td>62.7050</td>\n      <td>0.000000</td>\n      <td>119.84582</td>\n      <td>-3.247820</td>\n      <td>16.604248</td>\n    </tr>\n  </tbody>\n</table>\n<p>35065 rows × 29 columns</p>\n</div>"
     },
     "execution_count": 46,
     "metadata": {},
     "output_type": "execute_result"
    }
   ],
   "source": [
    "new_data[\"CAISO\"][\"total\"] = new_data[\"CAISO\"][\"total\"].merge(add_caiso_gas(new_data[\"CAISO\"][\"gas_price\"], \"gas_price\"), on = \"time_tomerge\", how=\"left\")\n",
    "new_data[\"CAISO\"][\"total\"]"
   ],
   "metadata": {
    "collapsed": false
   }
  },
  {
   "cell_type": "code",
   "execution_count": 48,
   "outputs": [
    {
     "name": "stdout",
     "output_type": "stream",
     "text": [
      "             INTERVALSTARTTIME_GMT        INTERVALENDTIME_GMT      OPR_DT  \\\n",
      "3378199  2022-01-01T07:55:00-00:00  2022-01-01T08:00:00-00:00  2021-12-31   \n",
      "3378200  2022-01-01T07:55:00-00:00  2022-01-01T08:00:00-00:00  2021-12-31   \n",
      "3378201  2022-01-01T07:55:00-00:00  2022-01-01T08:00:00-00:00  2021-12-31   \n",
      "3378202  2022-01-01T07:55:00-00:00  2022-01-01T08:00:00-00:00  2021-12-31   \n",
      "3378203  2022-01-01T07:55:00-00:00  2022-01-01T08:00:00-00:00  2021-12-31   \n",
      "\n",
      "         OPR_HR       NODE_ID_XML           NODE_ID              NODE  \\\n",
      "3378199    24.0  TH_SP15_GEN-APND  TH_SP15_GEN-APND  TH_SP15_GEN-APND   \n",
      "3378200    24.0  TH_NP15_GEN-APND  TH_NP15_GEN-APND  TH_NP15_GEN-APND   \n",
      "3378201    24.0  TH_NP15_GEN-APND  TH_NP15_GEN-APND  TH_NP15_GEN-APND   \n",
      "3378202    24.0  TH_NP15_GEN-APND  TH_NP15_GEN-APND  TH_NP15_GEN-APND   \n",
      "3378203    24.0  TH_SP15_GEN-APND  TH_SP15_GEN-APND  TH_SP15_GEN-APND   \n",
      "\n",
      "        MARKET_RUN_ID LMP_TYPE XML_DATA_ITEM     PNODE_RESMRID     GRP_TYPE  \\\n",
      "3378199           RTM      MCL  LMP_LOSS_PRC  TH_SP15_GEN-APND  ALL_APNODES   \n",
      "3378200           RTM      MCL  LMP_LOSS_PRC  TH_NP15_GEN-APND  ALL_APNODES   \n",
      "3378201           RTM     MGHG   LMP_GHG_PRC  TH_NP15_GEN-APND  ALL_APNODES   \n",
      "3378202           RTM      MCE   LMP_ENE_PRC  TH_NP15_GEN-APND  ALL_APNODES   \n",
      "3378203           RTM     MGHG   LMP_GHG_PRC  TH_SP15_GEN-APND  ALL_APNODES   \n",
      "\n",
      "         POS    VALUE  OPR_INTERVAL  GROUP               time_tomerge  \n",
      "3378199  0.0   0.0000          12.0  459.0  2022-01-01 07:55:00+00:00  \n",
      "3378200  0.0   0.0000          12.0  454.0  2022-01-01 07:55:00+00:00  \n",
      "3378201  0.0   0.0000          12.0  453.0  2022-01-01 07:55:00+00:00  \n",
      "3378202  0.0  58.0776          12.0  452.0  2022-01-01 07:55:00+00:00  \n",
      "3378203  0.0   0.0000          12.0  458.0  2022-01-01 07:55:00+00:00  \n",
      "                              Time           Market          Location  \\\n",
      "3378204  2022-01-01 00:00:00-08:00  REAL_TIME_5_MIN  TH_NP15_GEN-APND   \n",
      "3378205  2022-01-01 00:00:00-08:00  REAL_TIME_5_MIN  TH_SP15_GEN-APND   \n",
      "3378206  2022-01-01 00:00:00-08:00  REAL_TIME_5_MIN  TH_ZP26_GEN-APND   \n",
      "3378207  2022-01-01 00:05:00-08:00  REAL_TIME_5_MIN  TH_NP15_GEN-APND   \n",
      "3378208  2022-01-01 00:05:00-08:00  REAL_TIME_5_MIN  TH_SP15_GEN-APND   \n",
      "\n",
      "        Location Type       LMP    Energy  Congestion     Loss  \\\n",
      "3378204   Trading Hub  62.23528  61.16490         0.0  1.07039   \n",
      "3378205   Trading Hub  60.18014  61.16490         0.0 -0.98475   \n",
      "3378206   Trading Hub  60.14956  61.16490         0.0 -1.01534   \n",
      "3378207   Trading Hub  64.37218  63.26504         0.0  1.10714   \n",
      "3378208   Trading Hub  62.24648  63.26504         0.0 -1.01857   \n",
      "\n",
      "                     time_tomerge  \n",
      "3378204 2022-01-01 08:00:00+00:00  \n",
      "3378205 2022-01-01 08:00:00+00:00  \n",
      "3378206 2022-01-01 08:00:00+00:00  \n",
      "3378207 2022-01-01 08:05:00+00:00  \n",
      "3378208 2022-01-01 08:05:00+00:00  \n"
     ]
    }
   ],
   "source": [
    "#got the 2022 energy rt data from a different source so formatting is different\n",
    "new_data[\"CAISO\"][\"energy_rt1\"] = new_data[\"CAISO\"][\"energy_rt\"][['INTERVALSTARTTIME_GMT', 'INTERVALENDTIME_GMT', 'OPR_DT',\n",
    "       'OPR_HR', 'NODE_ID_XML', 'NODE_ID', 'NODE', 'MARKET_RUN_ID', 'LMP_TYPE',\n",
    "       'XML_DATA_ITEM', 'PNODE_RESMRID', 'GRP_TYPE', 'POS', 'VALUE',\n",
    "       'OPR_INTERVAL', 'GROUP', 'time_tomerge']][new_data[\"CAISO\"][\"energy_rt\"][\"INTERVALSTARTTIME_GMT\"].notna()]\n",
    "new_data[\"CAISO\"][\"energy_rt2\"] = new_data[\"CAISO\"][\"energy_rt\"][['Time', 'Market', 'Location',\n",
    "       'Location Type', 'LMP', 'Energy', 'Congestion', 'Loss', 'time_tomerge']][new_data[\"CAISO\"][\"energy_rt\"][\"INTERVALSTARTTIME_GMT\"].isna()]\n",
    "new_data[\"CAISO\"][\"energy_rt2\"][\"time_tomerge\"] = pd.to_datetime(new_data[\"CAISO\"][\"energy_rt2\"][\"Time\"],utc =True)\n",
    "print(new_data[\"CAISO\"][\"energy_rt1\"].tail())\n",
    "print(new_data[\"CAISO\"][\"energy_rt2\"].head())"
   ],
   "metadata": {
    "collapsed": false
   }
  },
  {
   "cell_type": "code",
   "execution_count": 49,
   "outputs": [
    {
     "name": "stdout",
     "output_type": "stream",
     "text": [
      "4      25.13716\n",
      "5      25.13716\n",
      "11     25.13716\n",
      "16     29.68177\n",
      "20     29.68177\n",
      "21     29.68177\n",
      "30     30.95285\n",
      "33     30.95285\n",
      "34     30.95285\n",
      "48     30.20531\n",
      "52     30.20531\n",
      "58     30.20531\n",
      "61     34.22214\n",
      "67     34.22214\n",
      "72     34.22214\n",
      "77     35.16375\n",
      "79     35.16375\n",
      "88     35.16375\n",
      "92     33.14584\n",
      "96     33.14584\n",
      "103    33.14584\n",
      "105    35.13061\n",
      "115    35.13061\n",
      "118    35.13061\n",
      "122    35.13061\n",
      "125    35.13061\n",
      "127    35.13061\n",
      "135    34.18862\n",
      "136    34.18862\n",
      "149    34.18862\n",
      "150    31.87946\n",
      "151    31.87946\n",
      "160    31.87946\n",
      "167    31.32310\n",
      "173    31.32310\n",
      "178    31.32310\n",
      "Name: VALUE, dtype: float64\n"
     ]
    }
   ],
   "source": [
    "print((new_data[\"CAISO\"][\"energy_rt1\"][\"VALUE\"][new_data[\"CAISO\"][\"energy_rt1\"][\"LMP_TYPE\"]==\"MCE\"].head(36)))"
   ],
   "metadata": {
    "collapsed": false
   }
  },
  {
   "cell_type": "code",
   "execution_count": 50,
   "outputs": [
    {
     "name": "stdout",
     "output_type": "stream",
     "text": [
      "18766\n",
      "18766\n",
      "18766\n",
      "             time_tomerge  ancillary_da_nr  ancillary_da_rd  ancillary_da_rmd  \\\n",
      "0     2019-01-01 00:00:00              NaN              NaN               NaN   \n",
      "1     2019-01-01 01:00:00          73.6890         4587.144               0.0   \n",
      "2     2019-01-01 02:00:00          70.5892         1500.000               0.0   \n",
      "3     2019-01-01 03:00:00          71.0776         1500.000               0.0   \n",
      "4     2019-01-01 04:00:00          73.1093         1500.000               0.0   \n",
      "...                   ...              ...              ...               ...   \n",
      "35060 2022-12-31 20:00:00         101.5209         5700.000               0.0   \n",
      "35061 2022-12-31 21:00:00          90.5520         6612.000               0.0   \n",
      "35062 2022-12-31 22:00:00          87.7104         8850.000               0.0   \n",
      "35063 2022-12-31 23:00:00          84.4800         5670.000               0.0   \n",
      "35064 2023-01-01 00:00:00          80.8572         7650.000               0.0   \n",
      "\n",
      "       ancillary_da_rmu  ancillary_da_ru  ancillary_da_sr  ancillary_rt_nr  \\\n",
      "0                   NaN              NaN              NaN              NaN   \n",
      "1                   0.0       2451.00000        669.90000              0.0   \n",
      "2                   0.0       1797.00000        641.72000              0.0   \n",
      "3                   0.0       1512.00000        161.54000              0.0   \n",
      "4                   0.0       1512.00000        166.15750              0.0   \n",
      "...                 ...              ...              ...              ...   \n",
      "35060               0.0       2483.99900       2533.73540              0.0   \n",
      "35061               0.0       1892.67000       1916.61000              0.0   \n",
      "35062               0.0       4625.81000       3186.47000              0.0   \n",
      "35063               0.0       1040.81446        845.73324              0.0   \n",
      "35064               0.0        496.20358        399.81786              0.0   \n",
      "\n",
      "       ancillary_rt_rd  ancillary_rt_rmd  ...  ancillary_rt_rmu_mw  \\\n",
      "0                  NaN               NaN  ...                  NaN   \n",
      "1             0.734587               0.0  ...            5235.9000   \n",
      "2             0.202735               0.0  ...            2788.1600   \n",
      "3             0.451492               0.0  ...            2822.8600   \n",
      "4             0.437500               0.0  ...             757.5000   \n",
      "...                ...               ...  ...                  ...   \n",
      "35060       106.494525               0.0  ...             740.0350   \n",
      "35061       214.631892               0.0  ...             641.2800   \n",
      "35062         0.000000               0.0  ...             849.9500   \n",
      "35063       162.101250               0.0  ...             842.6300   \n",
      "35064       159.755625               0.0  ...             783.6475   \n",
      "\n",
      "       ancillary_rt_ru_mw  ancillary_rt_sr_mw  congestion_da  energy_da  \\\n",
      "0                     NaN                 NaN            NaN        NaN   \n",
      "1                  0.3525             21.0650            NaN        NaN   \n",
      "2                  0.4400              0.0000            NaN        NaN   \n",
      "3                  0.3525             47.3900            NaN        NaN   \n",
      "4                  0.3300             47.4100            NaN        NaN   \n",
      "...                   ...                 ...            ...        ...   \n",
      "35060              4.0600              3.7500      -0.030910  140.78702   \n",
      "35061              8.1225             15.6250      -0.004903  135.76392   \n",
      "35062              8.1250             18.2200       0.000000  128.26624   \n",
      "35063             15.7875            102.6125       0.000000  121.29756   \n",
      "35064              1.3025             62.7050       0.000000  119.84582   \n",
      "\n",
      "       losses_da  gas_price  congestion_rt  energy_rt  losses_rt  \n",
      "0            NaN        NaN            NaN        NaN        NaN  \n",
      "1            NaN   5.098778            NaN        NaN        NaN  \n",
      "2            NaN   5.098778            NaN        NaN        NaN  \n",
      "3            NaN   5.098778            NaN        NaN        NaN  \n",
      "4            NaN   5.098778            NaN        NaN        NaN  \n",
      "...          ...        ...            ...        ...        ...  \n",
      "35060  -3.402353  16.604248            NaN        NaN        NaN  \n",
      "35061  -3.267383  16.604248            NaN        NaN        NaN  \n",
      "35062  -3.031357  16.604248            NaN        NaN        NaN  \n",
      "35063  -3.141607  16.604248            NaN        NaN        NaN  \n",
      "35064  -3.247820  16.604248            NaN        NaN        NaN  \n",
      "\n",
      "[35065 rows x 32 columns]\n"
     ]
    }
   ],
   "source": [
    "new_data[\"CAISO\"][\"total\"] = new_data[\"CAISO\"][\"total\"].merge(add_caiso_energy(new_data[\"CAISO\"][\"energy_rt1\"], \"MCC\", \"congestion_rt\"), on = \"time_tomerge\",how=\"left\")\n",
    "new_data[\"CAISO\"][\"total\"] = new_data[\"CAISO\"][\"total\"].merge(add_caiso_energy(new_data[\"CAISO\"][\"energy_rt1\"], \"MCE\", \"energy_rt\"), on = \"time_tomerge\",how=\"left\")\n",
    "new_data[\"CAISO\"][\"total\"] = new_data[\"CAISO\"][\"total\"].merge(add_caiso_energy(new_data[\"CAISO\"][\"energy_rt1\"], \"MCL\", \"losses_rt\"), on = \"time_tomerge\", how=\"left\")\n",
    "print(new_data[\"CAISO\"][\"total\"])"
   ],
   "metadata": {
    "collapsed": false
   }
  },
  {
   "cell_type": "code",
   "execution_count": 51,
   "outputs": [],
   "source": [
    "new_data[\"CAISO\"][\"total\"][\"time_tomerge\"] = pd.to_datetime(new_data[\"CAISO\"][\"total\"][\"time_tomerge\"], utc=True)\n",
    "new_data[\"CAISO\"][\"total\"] = new_data[\"CAISO\"][\"total\"].set_index(\"time_tomerge\")"
   ],
   "metadata": {
    "collapsed": false
   }
  },
  {
   "cell_type": "code",
   "execution_count": 52,
   "outputs": [
    {
     "name": "stdout",
     "output_type": "stream",
     "text": [
      "                           ancillary_da_nr  ancillary_da_rd  ancillary_da_rmd  \\\n",
      "time_tomerge                                                                    \n",
      "2019-01-01 00:00:00+00:00              NaN              NaN               NaN   \n",
      "2019-01-01 01:00:00+00:00          73.6890         4587.144               0.0   \n",
      "2019-01-01 02:00:00+00:00          70.5892         1500.000               0.0   \n",
      "2019-01-01 03:00:00+00:00          71.0776         1500.000               0.0   \n",
      "2019-01-01 04:00:00+00:00          73.1093         1500.000               0.0   \n",
      "...                                    ...              ...               ...   \n",
      "2022-12-31 20:00:00+00:00         101.5209         5700.000               0.0   \n",
      "2022-12-31 21:00:00+00:00          90.5520         6612.000               0.0   \n",
      "2022-12-31 22:00:00+00:00          87.7104         8850.000               0.0   \n",
      "2022-12-31 23:00:00+00:00          84.4800         5670.000               0.0   \n",
      "2023-01-01 00:00:00+00:00          80.8572         7650.000               0.0   \n",
      "\n",
      "                           ancillary_da_rmu  ancillary_da_ru  ancillary_da_sr  \\\n",
      "time_tomerge                                                                    \n",
      "2019-01-01 00:00:00+00:00               NaN              NaN              NaN   \n",
      "2019-01-01 01:00:00+00:00               0.0       2451.00000        669.90000   \n",
      "2019-01-01 02:00:00+00:00               0.0       1797.00000        641.72000   \n",
      "2019-01-01 03:00:00+00:00               0.0       1512.00000        161.54000   \n",
      "2019-01-01 04:00:00+00:00               0.0       1512.00000        166.15750   \n",
      "...                                     ...              ...              ...   \n",
      "2022-12-31 20:00:00+00:00               0.0       2483.99900       2533.73540   \n",
      "2022-12-31 21:00:00+00:00               0.0       1892.67000       1916.61000   \n",
      "2022-12-31 22:00:00+00:00               0.0       4625.81000       3186.47000   \n",
      "2022-12-31 23:00:00+00:00               0.0       1040.81446        845.73324   \n",
      "2023-01-01 00:00:00+00:00               0.0        496.20358        399.81786   \n",
      "\n",
      "                           ancillary_rt_nr  ancillary_rt_rd  ancillary_rt_rmd  \\\n",
      "time_tomerge                                                                    \n",
      "2019-01-01 00:00:00+00:00              NaN              NaN               NaN   \n",
      "2019-01-01 01:00:00+00:00              0.0         0.734587               0.0   \n",
      "2019-01-01 02:00:00+00:00              0.0         0.202735               0.0   \n",
      "2019-01-01 03:00:00+00:00              0.0         0.451492               0.0   \n",
      "2019-01-01 04:00:00+00:00              0.0         0.437500               0.0   \n",
      "...                                    ...              ...               ...   \n",
      "2022-12-31 20:00:00+00:00              0.0       106.494525               0.0   \n",
      "2022-12-31 21:00:00+00:00              0.0       214.631892               0.0   \n",
      "2022-12-31 22:00:00+00:00              0.0         0.000000               0.0   \n",
      "2022-12-31 23:00:00+00:00              0.0       162.101250               0.0   \n",
      "2023-01-01 00:00:00+00:00              0.0       159.755625               0.0   \n",
      "\n",
      "                           ancillary_rt_rmu  ...  ancillary_rt_rmu_mw  \\\n",
      "time_tomerge                                 ...                        \n",
      "2019-01-01 00:00:00+00:00               NaN  ...                  NaN   \n",
      "2019-01-01 01:00:00+00:00               0.0  ...            5235.9000   \n",
      "2019-01-01 02:00:00+00:00               0.0  ...            2788.1600   \n",
      "2019-01-01 03:00:00+00:00               0.0  ...            2822.8600   \n",
      "2019-01-01 04:00:00+00:00               0.0  ...             757.5000   \n",
      "...                                     ...  ...                  ...   \n",
      "2022-12-31 20:00:00+00:00               0.0  ...             740.0350   \n",
      "2022-12-31 21:00:00+00:00               0.0  ...             641.2800   \n",
      "2022-12-31 22:00:00+00:00               0.0  ...             849.9500   \n",
      "2022-12-31 23:00:00+00:00               0.0  ...             842.6300   \n",
      "2023-01-01 00:00:00+00:00               0.0  ...             783.6475   \n",
      "\n",
      "                           ancillary_rt_ru_mw  ancillary_rt_sr_mw  \\\n",
      "time_tomerge                                                        \n",
      "2019-01-01 00:00:00+00:00                 NaN                 NaN   \n",
      "2019-01-01 01:00:00+00:00              0.3525             21.0650   \n",
      "2019-01-01 02:00:00+00:00              0.4400              0.0000   \n",
      "2019-01-01 03:00:00+00:00              0.3525             47.3900   \n",
      "2019-01-01 04:00:00+00:00              0.3300             47.4100   \n",
      "...                                       ...                 ...   \n",
      "2022-12-31 20:00:00+00:00              4.0600              3.7500   \n",
      "2022-12-31 21:00:00+00:00              8.1225             15.6250   \n",
      "2022-12-31 22:00:00+00:00              8.1250             18.2200   \n",
      "2022-12-31 23:00:00+00:00             15.7875            102.6125   \n",
      "2023-01-01 00:00:00+00:00              1.3025             62.7050   \n",
      "\n",
      "                           congestion_da  energy_da  losses_da  gas_price  \\\n",
      "time_tomerge                                                                \n",
      "2019-01-01 00:00:00+00:00            NaN        NaN        NaN        NaN   \n",
      "2019-01-01 01:00:00+00:00            NaN        NaN        NaN   5.098778   \n",
      "2019-01-01 02:00:00+00:00            NaN        NaN        NaN   5.098778   \n",
      "2019-01-01 03:00:00+00:00            NaN        NaN        NaN   5.098778   \n",
      "2019-01-01 04:00:00+00:00            NaN        NaN        NaN   5.098778   \n",
      "...                                  ...        ...        ...        ...   \n",
      "2022-12-31 20:00:00+00:00      -0.030910  140.78702  -3.402353  16.604248   \n",
      "2022-12-31 21:00:00+00:00      -0.004903  135.76392  -3.267383  16.604248   \n",
      "2022-12-31 22:00:00+00:00       0.000000  128.26624  -3.031357  16.604248   \n",
      "2022-12-31 23:00:00+00:00       0.000000  121.29756  -3.141607  16.604248   \n",
      "2023-01-01 00:00:00+00:00       0.000000  119.84582  -3.247820  16.604248   \n",
      "\n",
      "                           congestion_rt   energy_rt  losses_rt  \n",
      "time_tomerge                                                     \n",
      "2019-01-01 00:00:00+00:00            NaN         NaN        NaN  \n",
      "2019-01-01 01:00:00+00:00            NaN         NaN        NaN  \n",
      "2019-01-01 02:00:00+00:00            NaN         NaN        NaN  \n",
      "2019-01-01 03:00:00+00:00            NaN         NaN        NaN  \n",
      "2019-01-01 04:00:00+00:00            NaN         NaN        NaN  \n",
      "...                                  ...         ...        ...  \n",
      "2022-12-31 20:00:00+00:00            0.0   93.035366  -3.333124  \n",
      "2022-12-31 21:00:00+00:00            0.0  106.991222  -3.714073  \n",
      "2022-12-31 22:00:00+00:00            0.0  106.177040  -3.627994  \n",
      "2022-12-31 23:00:00+00:00            0.0  115.759343  -3.939707  \n",
      "2023-01-01 00:00:00+00:00            0.0  114.937634  -3.823673  \n",
      "\n",
      "[35065 rows x 31 columns]\n"
     ]
    },
    {
     "name": "stderr",
     "output_type": "stream",
     "text": [
      "/var/folders/cz/nv3pr_214md_31815rhfvdkh0000gn/T/ipykernel_48675/2296779494.py:3: FutureWarning: Indexing with multiple keys (implicitly converted to a tuple of keys) will be deprecated, use a list instead.\n",
      "  subset = pd.DataFrame(subset.groupby([\"time_tomerge\"])[\"Energy\", \"Congestion\", \"Loss\"].mean())\n"
     ]
    }
   ],
   "source": [
    "subset = new_data[\"CAISO\"][\"energy_rt2\"]\n",
    "subset[\"time_tomerge\"] = pd.to_datetime(subset[\"time_tomerge\"], utc = True).dt.floor(\"H\")\n",
    "subset = pd.DataFrame(subset.groupby([\"time_tomerge\"])[\"Energy\", \"Congestion\", \"Loss\"].mean())\n",
    "subset = subset.drop_duplicates().rename(columns={'Energy':'energy_rt','Congestion':'congestion_rt', \"Loss\": \"losses_rt\"})\n",
    "#print(subset)\n",
    "new_data[\"CAISO\"][\"total\"].update(subset)\n",
    "print(new_data[\"CAISO\"][\"total\"])"
   ],
   "metadata": {
    "collapsed": false
   }
  },
  {
   "cell_type": "code",
   "execution_count": 53,
   "outputs": [
    {
     "name": "stdout",
     "output_type": "stream",
     "text": [
      "Index(['Unnamed: 0', 'INTERVALSTARTTIME_GMT', 'INTERVALENDTIME_GMT',\n",
      "       'LOAD_TYPE', 'OPR_DT', 'OPR_HR', 'OPR_INTERVAL', 'MARKET_RUN_ID',\n",
      "       'TAC_AREA_NAME', 'LABEL', 'XML_DATA_ITEM', 'POS', 'MW',\n",
      "       'EXECUTION_TYPE', 'GROUP', 'time_tomerge'],\n",
      "      dtype='object')\n"
     ]
    }
   ],
   "source": [
    "load_types = ((new_data[\"CAISO\"][\"load\"].columns))\n",
    "#print(np.sum(new_data[\"CAISO\"][\"load\"][\"TAC_AREA_NAME\"]==))\n",
    "print(load_types)"
   ],
   "metadata": {
    "collapsed": false
   }
  },
  {
   "cell_type": "code",
   "execution_count": 54,
   "outputs": [],
   "source": [
    "def add_caiso_load(sample_data: pd.DataFrame, LOAD_TYPE: str, col_name: str):\n",
    "    subset = sample_data[(sample_data[\"EXECUTION_TYPE\"] == LOAD_TYPE)]\n",
    "    subset = subset[subset[\"OPR_HR\"]<25]\n",
    "\n",
    "    subset = pd.DataFrame(subset.groupby(['OPR_DT', \"OPR_HR\"])[\"MW\"].mean())\n",
    "    subset[\"DATE_HR\"] = subset.index.to_numpy()\n",
    "    subset[\"time_tomerge\"] = subset[\"DATE_HR\"].apply(create_date)\n",
    "    subset[\"time_tomerge\"] = pd.to_datetime(subset[\"time_tomerge\"], utc = True)\n",
    "\n",
    "    #subset[\"time_tomerge\"] = subset[\"time_tomerge\"].map(lambda x: x.tz_convert('US/Pacific'))\n",
    "\n",
    "    subset = subset.drop(columns = [\"DATE_HR\"])\n",
    "    subset = subset.reset_index(drop=True)\n",
    "\n",
    "\n",
    "    subset = subset.rename(columns={\"MW\": col_name})\n",
    "    print(len(subset))\n",
    "    return subset"
   ],
   "metadata": {
    "collapsed": false
   }
  },
  {
   "cell_type": "code",
   "execution_count": 55,
   "outputs": [
    {
     "name": "stdout",
     "output_type": "stream",
     "text": [
      "35012\n",
      "35012\n",
      "35012\n",
      "35012\n",
      "34990\n",
      "35006\n",
      "                   time_tomerge  ancillary_da_nr  ancillary_da_rd  \\\n",
      "0     2019-01-01 00:00:00+00:00              NaN              NaN   \n",
      "1     2019-01-01 01:00:00+00:00          73.6890         4587.144   \n",
      "2     2019-01-01 02:00:00+00:00          70.5892         1500.000   \n",
      "3     2019-01-01 03:00:00+00:00          71.0776         1500.000   \n",
      "4     2019-01-01 04:00:00+00:00          73.1093         1500.000   \n",
      "...                         ...              ...              ...   \n",
      "35060 2022-12-31 20:00:00+00:00         101.5209         5700.000   \n",
      "35061 2022-12-31 21:00:00+00:00          90.5520         6612.000   \n",
      "35062 2022-12-31 22:00:00+00:00          87.7104         8850.000   \n",
      "35063 2022-12-31 23:00:00+00:00          84.4800         5670.000   \n",
      "35064 2023-01-01 00:00:00+00:00          80.8572         7650.000   \n",
      "\n",
      "       ancillary_da_rmd  ancillary_da_rmu  ancillary_da_ru  ancillary_da_sr  \\\n",
      "0                   NaN               NaN              NaN              NaN   \n",
      "1                   0.0               0.0       2451.00000        669.90000   \n",
      "2                   0.0               0.0       1797.00000        641.72000   \n",
      "3                   0.0               0.0       1512.00000        161.54000   \n",
      "4                   0.0               0.0       1512.00000        166.15750   \n",
      "...                 ...               ...              ...              ...   \n",
      "35060               0.0               0.0       2483.99900       2533.73540   \n",
      "35061               0.0               0.0       1892.67000       1916.61000   \n",
      "35062               0.0               0.0       4625.81000       3186.47000   \n",
      "35063               0.0               0.0       1040.81446        845.73324   \n",
      "35064               0.0               0.0        496.20358        399.81786   \n",
      "\n",
      "       ancillary_rt_nr  ancillary_rt_rd  ancillary_rt_rmd  ...  gas_price  \\\n",
      "0                  NaN              NaN               NaN  ...        NaN   \n",
      "1                  0.0         0.734587               0.0  ...   5.098778   \n",
      "2                  0.0         0.202735               0.0  ...   5.098778   \n",
      "3                  0.0         0.451492               0.0  ...   5.098778   \n",
      "4                  0.0         0.437500               0.0  ...   5.098778   \n",
      "...                ...              ...               ...  ...        ...   \n",
      "35060              0.0       106.494525               0.0  ...  16.604248   \n",
      "35061              0.0       214.631892               0.0  ...  16.604248   \n",
      "35062              0.0         0.000000               0.0  ...  16.604248   \n",
      "35063              0.0       162.101250               0.0  ...  16.604248   \n",
      "35064              0.0       159.755625               0.0  ...  16.604248   \n",
      "\n",
      "       congestion_rt   energy_rt  losses_rt  load_2da  load_7da  load_rt  \\\n",
      "0                NaN         NaN        NaN       NaN       NaN      NaN   \n",
      "1                NaN         NaN        NaN  22153.74  21950.86  21934.0   \n",
      "2                NaN         NaN        NaN  21321.80  21142.38  21188.0   \n",
      "3                NaN         NaN        NaN  20689.06  20515.26  20613.0   \n",
      "4                NaN         NaN        NaN  20258.47  20090.61  20298.0   \n",
      "...              ...         ...        ...       ...       ...      ...   \n",
      "35060            0.0   93.035366  -3.333124  26494.50  25695.93  25066.0   \n",
      "35061            0.0  106.991222  -3.714073  25490.13  24711.38  24336.0   \n",
      "35062            0.0  106.177040  -3.627994  24637.07  23987.04  23705.0   \n",
      "35063            0.0  115.759343  -3.939707  23679.61  23197.93  22903.0   \n",
      "35064            0.0  114.937634  -3.823673  22809.92  22459.39  21888.0   \n",
      "\n",
      "        load_da   load_rtpd     load_rt.1  \n",
      "0           NaN         NaN           NaN  \n",
      "1      22362.14  21162.2500  20955.833333  \n",
      "2      21443.99  20211.0000  20119.166667  \n",
      "3      20802.71  19632.0000  19574.000000  \n",
      "4      20415.67  19275.5000  19278.250000  \n",
      "...         ...         ...           ...  \n",
      "35060  25297.51  24715.8525  24670.171667  \n",
      "35061  24463.21  23774.9975  23877.649167  \n",
      "35062  23822.35  23117.2375  23120.968333  \n",
      "35063  23038.79  22164.4425  22149.750833  \n",
      "35064  22090.15  21225.8575  21096.541667  \n",
      "\n",
      "[35065 rows x 38 columns]\n"
     ]
    }
   ],
   "source": [
    "new_data[\"CAISO\"][\"total\"] = new_data[\"CAISO\"][\"total\"].merge(add_caiso_load(new_data[\"CAISO\"][\"load\"][new_data[\"CAISO\"][\"load\"][\"TAC_AREA_NAME\"] == \"CA ISO-TAC\"], \"2DA\", \"load_2da\"), on = \"time_tomerge\", how=\"left\")\n",
    "new_data[\"CAISO\"][\"total\"] = new_data[\"CAISO\"][\"total\"].merge(add_caiso_load(new_data[\"CAISO\"][\"load\"][new_data[\"CAISO\"][\"load\"][\"TAC_AREA_NAME\"] == \"CA ISO-TAC\"], \"7DA\", \"load_7da\"), on = \"time_tomerge\", how=\"left\")\n",
    "new_data[\"CAISO\"][\"total\"] = new_data[\"CAISO\"][\"total\"].merge(add_caiso_load(new_data[\"CAISO\"][\"load\"][new_data[\"CAISO\"][\"load\"][\"TAC_AREA_NAME\"] == \"CA ISO-TAC\"], \"ACTUAL\", \"load_rt\"), on = \"time_tomerge\",how=\"left\")\n",
    "new_data[\"CAISO\"][\"total\"] = new_data[\"CAISO\"][\"total\"].merge(add_caiso_load(new_data[\"CAISO\"][\"load\"][new_data[\"CAISO\"][\"load\"][\"TAC_AREA_NAME\"] == \"CA ISO-TAC\"], \"DAM\", \"load_da\"), on = \"time_tomerge\",how=\"left\")\n",
    "new_data[\"CAISO\"][\"total\"] = new_data[\"CAISO\"][\"total\"].merge(add_caiso_load(new_data[\"CAISO\"][\"load\"][new_data[\"CAISO\"][\"load\"][\"TAC_AREA_NAME\"] == \"CA ISO-TAC\"], \"RTPD\", \"load_rtpd\"), on = \"time_tomerge\",how=\"left\")\n",
    "new_data[\"CAISO\"][\"total\"] = new_data[\"CAISO\"][\"total\"].merge(add_caiso_load(new_data[\"CAISO\"][\"load\"][new_data[\"CAISO\"][\"load\"][\"TAC_AREA_NAME\"] == \"CA ISO-TAC\"], \"RTD\", \"load_rt.1\"), on = \"time_tomerge\",how=\"left\")\n",
    "\n",
    "print(new_data[\"CAISO\"][\"total\"])"
   ],
   "metadata": {
    "collapsed": false
   }
  },
  {
   "cell_type": "code",
   "execution_count": 56,
   "outputs": [
    {
     "data": {
      "text/plain": "        Unnamed: 0  Unnamed: 0.1                       Time  Solar    Wind  \\\n0                0             0  2022-01-01 00:00:00-08:00  -32.0  3829.0   \n1                0             0  2021-01-01 00:00:00-08:00  -41.0  1424.0   \n2                0             0  2020-01-01 00:00:00-08:00  -33.0   808.0   \n3                0             0  2019-01-01 00:00:00-08:00    0.0  2810.0   \n4                1             1  2021-01-01 00:05:00-08:00  -41.0  1449.0   \n...            ...           ...                        ...    ...     ...   \n419817      105380        105380  2020-12-31 23:35:00-08:00  -41.0  1356.0   \n419818      105381        105381  2020-12-31 23:40:00-08:00  -41.0  1374.0   \n419819      105382        105382  2020-12-31 23:45:00-08:00  -41.0  1378.0   \n419820      105383        105383  2020-12-31 23:50:00-08:00  -41.0  1387.0   \n419821      105384        105384  2020-12-31 23:55:00-08:00  -41.0  1403.0   \n\n        Geothermal  Biomass  Biogas  Small Hydro  Coal  Nuclear  Natural Gas  \\\n0            882.0    281.0   205.0        146.0  20.0   2264.0       7280.0   \n1            958.0    309.0   199.0        144.0  13.0   1144.0       8069.0   \n2            651.0    305.0   223.0        222.0  11.0   2274.0       7871.0   \n3            993.0    380.0   225.0        200.0  11.0   2273.0       7326.0   \n4            959.0    309.0   201.0        143.0  13.0   1145.0       8084.0   \n...            ...      ...     ...          ...   ...      ...          ...   \n419817       954.0    308.0   200.0        144.0  12.0   1144.0       8078.0   \n419818       953.0    308.0   199.0        143.0  12.0   1144.0       8047.0   \n419819       954.0    309.0   200.0        143.0  13.0   1144.0       8067.0   \n419820       957.0    308.0   199.0        143.0  12.0   1145.0       8037.0   \n419821       957.0    309.0   199.0        143.0  12.0   1145.0       8050.0   \n\n        Large Hydro  Batteries  Imports  Other              time_tomerge  \n0            1200.0     -116.0   8200.0    0.0 2022-01-01 08:00:00+00:00  \n1             690.0      -46.0   9541.0    0.0 2021-01-01 08:00:00+00:00  \n2            1561.0        0.0   8653.0    0.0 2020-01-01 08:00:00+00:00  \n3            1924.0        6.0   6254.0    0.0 2019-01-01 08:00:00+00:00  \n4             698.0      -20.0   9388.0    0.0 2021-01-01 08:05:00+00:00  \n...             ...        ...      ...    ...                       ...  \n419817        701.0      -19.0   9830.0    0.0 2021-01-01 07:35:00+00:00  \n419818        704.0      -31.0   9829.0    0.0 2021-01-01 07:40:00+00:00  \n419819        696.0      -33.0   9786.0    0.0 2021-01-01 07:45:00+00:00  \n419820        688.0      -47.0   9752.0    0.0 2021-01-01 07:50:00+00:00  \n419821        693.0      -69.0   9709.0    0.0 2021-01-01 07:55:00+00:00  \n\n[419822 rows x 17 columns]",
      "text/html": "<div>\n<style scoped>\n    .dataframe tbody tr th:only-of-type {\n        vertical-align: middle;\n    }\n\n    .dataframe tbody tr th {\n        vertical-align: top;\n    }\n\n    .dataframe thead th {\n        text-align: right;\n    }\n</style>\n<table border=\"1\" class=\"dataframe\">\n  <thead>\n    <tr style=\"text-align: right;\">\n      <th></th>\n      <th>Unnamed: 0</th>\n      <th>Unnamed: 0.1</th>\n      <th>Time</th>\n      <th>Solar</th>\n      <th>Wind</th>\n      <th>Geothermal</th>\n      <th>Biomass</th>\n      <th>Biogas</th>\n      <th>Small Hydro</th>\n      <th>Coal</th>\n      <th>Nuclear</th>\n      <th>Natural Gas</th>\n      <th>Large Hydro</th>\n      <th>Batteries</th>\n      <th>Imports</th>\n      <th>Other</th>\n      <th>time_tomerge</th>\n    </tr>\n  </thead>\n  <tbody>\n    <tr>\n      <th>0</th>\n      <td>0</td>\n      <td>0</td>\n      <td>2022-01-01 00:00:00-08:00</td>\n      <td>-32.0</td>\n      <td>3829.0</td>\n      <td>882.0</td>\n      <td>281.0</td>\n      <td>205.0</td>\n      <td>146.0</td>\n      <td>20.0</td>\n      <td>2264.0</td>\n      <td>7280.0</td>\n      <td>1200.0</td>\n      <td>-116.0</td>\n      <td>8200.0</td>\n      <td>0.0</td>\n      <td>2022-01-01 08:00:00+00:00</td>\n    </tr>\n    <tr>\n      <th>1</th>\n      <td>0</td>\n      <td>0</td>\n      <td>2021-01-01 00:00:00-08:00</td>\n      <td>-41.0</td>\n      <td>1424.0</td>\n      <td>958.0</td>\n      <td>309.0</td>\n      <td>199.0</td>\n      <td>144.0</td>\n      <td>13.0</td>\n      <td>1144.0</td>\n      <td>8069.0</td>\n      <td>690.0</td>\n      <td>-46.0</td>\n      <td>9541.0</td>\n      <td>0.0</td>\n      <td>2021-01-01 08:00:00+00:00</td>\n    </tr>\n    <tr>\n      <th>2</th>\n      <td>0</td>\n      <td>0</td>\n      <td>2020-01-01 00:00:00-08:00</td>\n      <td>-33.0</td>\n      <td>808.0</td>\n      <td>651.0</td>\n      <td>305.0</td>\n      <td>223.0</td>\n      <td>222.0</td>\n      <td>11.0</td>\n      <td>2274.0</td>\n      <td>7871.0</td>\n      <td>1561.0</td>\n      <td>0.0</td>\n      <td>8653.0</td>\n      <td>0.0</td>\n      <td>2020-01-01 08:00:00+00:00</td>\n    </tr>\n    <tr>\n      <th>3</th>\n      <td>0</td>\n      <td>0</td>\n      <td>2019-01-01 00:00:00-08:00</td>\n      <td>0.0</td>\n      <td>2810.0</td>\n      <td>993.0</td>\n      <td>380.0</td>\n      <td>225.0</td>\n      <td>200.0</td>\n      <td>11.0</td>\n      <td>2273.0</td>\n      <td>7326.0</td>\n      <td>1924.0</td>\n      <td>6.0</td>\n      <td>6254.0</td>\n      <td>0.0</td>\n      <td>2019-01-01 08:00:00+00:00</td>\n    </tr>\n    <tr>\n      <th>4</th>\n      <td>1</td>\n      <td>1</td>\n      <td>2021-01-01 00:05:00-08:00</td>\n      <td>-41.0</td>\n      <td>1449.0</td>\n      <td>959.0</td>\n      <td>309.0</td>\n      <td>201.0</td>\n      <td>143.0</td>\n      <td>13.0</td>\n      <td>1145.0</td>\n      <td>8084.0</td>\n      <td>698.0</td>\n      <td>-20.0</td>\n      <td>9388.0</td>\n      <td>0.0</td>\n      <td>2021-01-01 08:05:00+00:00</td>\n    </tr>\n    <tr>\n      <th>...</th>\n      <td>...</td>\n      <td>...</td>\n      <td>...</td>\n      <td>...</td>\n      <td>...</td>\n      <td>...</td>\n      <td>...</td>\n      <td>...</td>\n      <td>...</td>\n      <td>...</td>\n      <td>...</td>\n      <td>...</td>\n      <td>...</td>\n      <td>...</td>\n      <td>...</td>\n      <td>...</td>\n      <td>...</td>\n    </tr>\n    <tr>\n      <th>419817</th>\n      <td>105380</td>\n      <td>105380</td>\n      <td>2020-12-31 23:35:00-08:00</td>\n      <td>-41.0</td>\n      <td>1356.0</td>\n      <td>954.0</td>\n      <td>308.0</td>\n      <td>200.0</td>\n      <td>144.0</td>\n      <td>12.0</td>\n      <td>1144.0</td>\n      <td>8078.0</td>\n      <td>701.0</td>\n      <td>-19.0</td>\n      <td>9830.0</td>\n      <td>0.0</td>\n      <td>2021-01-01 07:35:00+00:00</td>\n    </tr>\n    <tr>\n      <th>419818</th>\n      <td>105381</td>\n      <td>105381</td>\n      <td>2020-12-31 23:40:00-08:00</td>\n      <td>-41.0</td>\n      <td>1374.0</td>\n      <td>953.0</td>\n      <td>308.0</td>\n      <td>199.0</td>\n      <td>143.0</td>\n      <td>12.0</td>\n      <td>1144.0</td>\n      <td>8047.0</td>\n      <td>704.0</td>\n      <td>-31.0</td>\n      <td>9829.0</td>\n      <td>0.0</td>\n      <td>2021-01-01 07:40:00+00:00</td>\n    </tr>\n    <tr>\n      <th>419819</th>\n      <td>105382</td>\n      <td>105382</td>\n      <td>2020-12-31 23:45:00-08:00</td>\n      <td>-41.0</td>\n      <td>1378.0</td>\n      <td>954.0</td>\n      <td>309.0</td>\n      <td>200.0</td>\n      <td>143.0</td>\n      <td>13.0</td>\n      <td>1144.0</td>\n      <td>8067.0</td>\n      <td>696.0</td>\n      <td>-33.0</td>\n      <td>9786.0</td>\n      <td>0.0</td>\n      <td>2021-01-01 07:45:00+00:00</td>\n    </tr>\n    <tr>\n      <th>419820</th>\n      <td>105383</td>\n      <td>105383</td>\n      <td>2020-12-31 23:50:00-08:00</td>\n      <td>-41.0</td>\n      <td>1387.0</td>\n      <td>957.0</td>\n      <td>308.0</td>\n      <td>199.0</td>\n      <td>143.0</td>\n      <td>12.0</td>\n      <td>1145.0</td>\n      <td>8037.0</td>\n      <td>688.0</td>\n      <td>-47.0</td>\n      <td>9752.0</td>\n      <td>0.0</td>\n      <td>2021-01-01 07:50:00+00:00</td>\n    </tr>\n    <tr>\n      <th>419821</th>\n      <td>105384</td>\n      <td>105384</td>\n      <td>2020-12-31 23:55:00-08:00</td>\n      <td>-41.0</td>\n      <td>1403.0</td>\n      <td>957.0</td>\n      <td>309.0</td>\n      <td>199.0</td>\n      <td>143.0</td>\n      <td>12.0</td>\n      <td>1145.0</td>\n      <td>8050.0</td>\n      <td>693.0</td>\n      <td>-69.0</td>\n      <td>9709.0</td>\n      <td>0.0</td>\n      <td>2021-01-01 07:55:00+00:00</td>\n    </tr>\n  </tbody>\n</table>\n<p>419822 rows × 17 columns</p>\n</div>"
     },
     "execution_count": 56,
     "metadata": {},
     "output_type": "execute_result"
    }
   ],
   "source": [
    "#new_data[\"CAISO\"][\"generation\"] = new_data[\"CAISO\"][\"generation\"].drop(columns=[\"Unnamed: 0\", \"Unnamed: 0.1\"])\n",
    "new_data[\"CAISO\"][\"generation\"][\"time_tomerge\"] = pd.to_datetime(new_data[\"CAISO\"][\"generation\"][\"Time\"], utc=True)\n",
    "#new_data[\"CAISO\"][\"generation\"][\"time_tomerge\"] = new_data[\"CAISO\"][\"generation\"][\"time_tomerge\"] + timedelta(hours=7)\n",
    "new_data[\"CAISO\"][\"generation\"]"
   ],
   "metadata": {
    "collapsed": false
   }
  },
  {
   "cell_type": "code",
   "execution_count": 57,
   "outputs": [
    {
     "name": "stdout",
     "output_type": "stream",
     "text": [
      "                           gen_geothermal  gen_biomass  gen_biogas  \\\n",
      "time_tomerge                                                         \n",
      "2014-01-01 00:00:00+00:00           849.0        379.0       175.0   \n",
      "2014-01-01 01:00:00+00:00           849.0        377.0       176.0   \n",
      "2014-01-01 02:00:00+00:00           849.0        375.0       176.0   \n",
      "2014-01-01 03:00:00+00:00           849.0        372.0       176.0   \n",
      "2014-01-01 04:00:00+00:00           849.0        377.0       176.0   \n",
      "...                                   ...          ...         ...   \n",
      "2018-12-31 19:00:00+00:00           993.0        389.0       228.0   \n",
      "2018-12-31 20:00:00+00:00           991.0        383.0       228.0   \n",
      "2018-12-31 21:00:00+00:00           992.0        383.0       227.0   \n",
      "2018-12-31 22:00:00+00:00           993.0        382.0       226.0   \n",
      "2018-12-31 23:00:00+00:00           993.0        379.0       226.0   \n",
      "\n",
      "                           gen_small_hydro  gen_wind  gen_solar_pv  \\\n",
      "time_tomerge                                                         \n",
      "2014-01-01 00:00:00+00:00            112.0      41.0           0.0   \n",
      "2014-01-01 01:00:00+00:00            109.0      46.0           0.0   \n",
      "2014-01-01 02:00:00+00:00             74.0      45.0           0.0   \n",
      "2014-01-01 03:00:00+00:00             74.0      35.0           0.0   \n",
      "2014-01-01 04:00:00+00:00             75.0      25.0           0.0   \n",
      "...                                    ...       ...           ...   \n",
      "2018-12-31 19:00:00+00:00            383.0    2321.0           0.0   \n",
      "2018-12-31 20:00:00+00:00            326.0    2795.0           0.0   \n",
      "2018-12-31 21:00:00+00:00            292.0    3171.0           0.0   \n",
      "2018-12-31 22:00:00+00:00            219.0    2796.0           0.0   \n",
      "2018-12-31 23:00:00+00:00            193.0    2667.0           0.0   \n",
      "\n",
      "                           gen_solar_thermal  gen_renewables  gen_nuclear  \\\n",
      "time_tomerge                                                                \n",
      "2014-01-01 00:00:00+00:00                0.0          1556.0       2235.0   \n",
      "2014-01-01 01:00:00+00:00                0.0          1557.0       2234.0   \n",
      "2014-01-01 02:00:00+00:00                0.0          1519.0       2235.0   \n",
      "2014-01-01 03:00:00+00:00                0.0          1507.0       2234.0   \n",
      "2014-01-01 04:00:00+00:00                0.0          1502.0       2235.0   \n",
      "...                                      ...             ...          ...   \n",
      "2018-12-31 19:00:00+00:00                0.0          4314.0       2273.0   \n",
      "2018-12-31 20:00:00+00:00                0.0          4723.0       2273.0   \n",
      "2018-12-31 21:00:00+00:00                0.0          5065.0       2273.0   \n",
      "2018-12-31 22:00:00+00:00                0.0          4616.0       2272.0   \n",
      "2018-12-31 23:00:00+00:00                0.0          4458.0       2272.0   \n",
      "\n",
      "                           gen_thermal  gen_imports  gen_hydro  \n",
      "time_tomerge                                                    \n",
      "2014-01-01 00:00:00+00:00      12461.0       5459.0      376.0  \n",
      "2014-01-01 01:00:00+00:00      12163.0       5119.0      203.0  \n",
      "2014-01-01 02:00:00+00:00      11347.0       5306.0      211.0  \n",
      "2014-01-01 03:00:00+00:00      11089.0       5220.0      216.0  \n",
      "2014-01-01 04:00:00+00:00      11118.0       5143.0      257.0  \n",
      "...                                ...          ...        ...  \n",
      "2018-12-31 19:00:00+00:00       8037.0       9130.0     3082.0  \n",
      "2018-12-31 20:00:00+00:00       7233.0       8748.0     2953.0  \n",
      "2018-12-31 21:00:00+00:00       6500.0       8401.0     2724.0  \n",
      "2018-12-31 22:00:00+00:00       7011.0       7417.0     2515.0  \n",
      "2018-12-31 23:00:00+00:00       7038.0       6532.0     2488.0  \n",
      "\n",
      "[43824 rows x 12 columns]\n"
     ]
    }
   ],
   "source": [
    "print(ISO_final[\"CAISO\"][[col for col in ISO_final[\"CAISO\"] if \"gen\" in col]])"
   ],
   "metadata": {
    "collapsed": false
   }
  },
  {
   "cell_type": "code",
   "execution_count": 58,
   "outputs": [
    {
     "name": "stdout",
     "output_type": "stream",
     "text": [
      "       Unnamed: 0  Unnamed: 0.1  gen_solar     gen_wind  gen_geothermal  \\\n",
      "0             5.5           5.5   0.000000  2812.083333      992.583333   \n",
      "1            17.5          17.5   0.000000  2499.500000      991.833333   \n",
      "2            29.5          29.5   0.000000  2387.083333      992.083333   \n",
      "3            41.5          41.5   0.000000  2369.333333      993.250000   \n",
      "4            53.5          53.5   0.000000  2323.083333      991.583333   \n",
      "...           ...           ...        ...          ...             ...   \n",
      "34983    105037.5      105037.5 -27.916667  3714.500000      901.333333   \n",
      "34984    105049.5      105049.5 -28.500000  4078.750000      900.333333   \n",
      "34985    105061.5      105061.5 -36.166667  3580.666667      900.916667   \n",
      "34986    105073.5      105073.5 -37.166667  3161.166667      900.416667   \n",
      "34987    105085.5      105085.5 -37.166667  2914.750000      902.250000   \n",
      "\n",
      "       gen_biomass  gen_biogas  gen_small_hydro   gen_coal  gen_nuclear  \\\n",
      "0       378.500000  220.750000       200.000000  11.000000  2272.833333   \n",
      "1       378.500000  207.333333       199.750000  10.666667  2273.750000   \n",
      "2       377.333333  206.166667       201.166667  11.166667  2274.500000   \n",
      "3       374.750000  205.666667       198.666667  11.000000  2274.333333   \n",
      "4       377.333333  205.833333       200.500000  10.750000  2273.916667   \n",
      "...            ...         ...              ...        ...          ...   \n",
      "34983   240.750000  214.583333       218.333333   2.916667  2246.750000   \n",
      "34984   253.083333  214.333333       213.500000   2.750000  2246.416667   \n",
      "34985   286.166667  214.916667       207.500000   3.083333  2245.833333   \n",
      "34986   287.416667  211.833333       201.583333   2.916667  2243.916667   \n",
      "34987   286.833333  211.250000       200.333333   3.166667  2244.416667   \n",
      "\n",
      "       gen_natural_gas    gen_hydro  gen_batteries  gen_imports  gen_other  \\\n",
      "0          6938.416667  1872.750000      39.833333  6305.916667        0.0   \n",
      "1          6757.833333  1946.250000       4.166667  6021.583333        0.0   \n",
      "2          6712.083333  1616.583333     -14.833333  5915.083333        0.0   \n",
      "3          6571.833333  1435.166667      -6.583333  5909.000000        0.0   \n",
      "4          6685.916667  1407.416667      -0.416667  5863.083333        0.0   \n",
      "...                ...          ...            ...          ...        ...   \n",
      "34983      8995.083333  2092.750000    1081.916667  6746.583333        0.0   \n",
      "34984      8614.250000  2064.250000     777.333333  6373.166667        0.0   \n",
      "34985      8828.583333  1765.333333     259.416667  6838.333333        0.0   \n",
      "34986      9275.583333  1287.500000     450.583333  6477.500000        0.0   \n",
      "34987      8533.166667  1308.250000     384.750000  6527.916667        0.0   \n",
      "\n",
      "                   time_tomerge  \n",
      "0     2019-01-01 08:00:00+00:00  \n",
      "1     2019-01-01 09:00:00+00:00  \n",
      "2     2019-01-01 10:00:00+00:00  \n",
      "3     2019-01-01 11:00:00+00:00  \n",
      "4     2019-01-01 12:00:00+00:00  \n",
      "...                         ...  \n",
      "34983 2023-01-01 03:00:00+00:00  \n",
      "34984 2023-01-01 04:00:00+00:00  \n",
      "34985 2023-01-01 05:00:00+00:00  \n",
      "34986 2023-01-01 06:00:00+00:00  \n",
      "34987 2023-01-01 07:00:00+00:00  \n",
      "\n",
      "[34988 rows x 16 columns]\n",
      "34988\n",
      "                           ancillary_da_nr  ancillary_da_rd  ancillary_da_rmd  \\\n",
      "time_tomerge                                                                    \n",
      "2019-01-01 00:00:00+00:00              NaN              NaN               NaN   \n",
      "2019-01-01 01:00:00+00:00          73.6890         4587.144               0.0   \n",
      "2019-01-01 02:00:00+00:00          70.5892         1500.000               0.0   \n",
      "2019-01-01 03:00:00+00:00          71.0776         1500.000               0.0   \n",
      "2019-01-01 04:00:00+00:00          73.1093         1500.000               0.0   \n",
      "...                                    ...              ...               ...   \n",
      "2022-12-31 20:00:00+00:00         101.5209         5700.000               0.0   \n",
      "2022-12-31 21:00:00+00:00          90.5520         6612.000               0.0   \n",
      "2022-12-31 22:00:00+00:00          87.7104         8850.000               0.0   \n",
      "2022-12-31 23:00:00+00:00          84.4800         5670.000               0.0   \n",
      "2023-01-01 00:00:00+00:00          80.8572         7650.000               0.0   \n",
      "\n",
      "                           ancillary_da_rmu  ancillary_da_ru  ancillary_da_sr  \\\n",
      "time_tomerge                                                                    \n",
      "2019-01-01 00:00:00+00:00               NaN              NaN              NaN   \n",
      "2019-01-01 01:00:00+00:00               0.0       2451.00000        669.90000   \n",
      "2019-01-01 02:00:00+00:00               0.0       1797.00000        641.72000   \n",
      "2019-01-01 03:00:00+00:00               0.0       1512.00000        161.54000   \n",
      "2019-01-01 04:00:00+00:00               0.0       1512.00000        166.15750   \n",
      "...                                     ...              ...              ...   \n",
      "2022-12-31 20:00:00+00:00               0.0       2483.99900       2533.73540   \n",
      "2022-12-31 21:00:00+00:00               0.0       1892.67000       1916.61000   \n",
      "2022-12-31 22:00:00+00:00               0.0       4625.81000       3186.47000   \n",
      "2022-12-31 23:00:00+00:00               0.0       1040.81446        845.73324   \n",
      "2023-01-01 00:00:00+00:00               0.0        496.20358        399.81786   \n",
      "\n",
      "                           ancillary_rt_nr  ancillary_rt_rd  ancillary_rt_rmd  \\\n",
      "time_tomerge                                                                    \n",
      "2019-01-01 00:00:00+00:00              NaN              NaN               NaN   \n",
      "2019-01-01 01:00:00+00:00              0.0         0.734587               0.0   \n",
      "2019-01-01 02:00:00+00:00              0.0         0.202735               0.0   \n",
      "2019-01-01 03:00:00+00:00              0.0         0.451492               0.0   \n",
      "2019-01-01 04:00:00+00:00              0.0         0.437500               0.0   \n",
      "...                                    ...              ...               ...   \n",
      "2022-12-31 20:00:00+00:00              0.0       106.494525               0.0   \n",
      "2022-12-31 21:00:00+00:00              0.0       214.631892               0.0   \n",
      "2022-12-31 22:00:00+00:00              0.0         0.000000               0.0   \n",
      "2022-12-31 23:00:00+00:00              0.0       162.101250               0.0   \n",
      "2023-01-01 00:00:00+00:00              0.0       159.755625               0.0   \n",
      "\n",
      "                           ancillary_rt_rmu  ...  gen_biomass  gen_biogas  \\\n",
      "time_tomerge                                 ...                            \n",
      "2019-01-01 00:00:00+00:00               NaN  ...          NaN         NaN   \n",
      "2019-01-01 01:00:00+00:00               0.0  ...          NaN         NaN   \n",
      "2019-01-01 02:00:00+00:00               0.0  ...          NaN         NaN   \n",
      "2019-01-01 03:00:00+00:00               0.0  ...          NaN         NaN   \n",
      "2019-01-01 04:00:00+00:00               0.0  ...          NaN         NaN   \n",
      "...                                     ...  ...          ...         ...   \n",
      "2022-12-31 20:00:00+00:00               0.0  ...   302.416667  188.500000   \n",
      "2022-12-31 21:00:00+00:00               0.0  ...   299.250000  188.750000   \n",
      "2022-12-31 22:00:00+00:00               0.0  ...   299.666667  189.000000   \n",
      "2022-12-31 23:00:00+00:00               0.0  ...   299.583333  197.833333   \n",
      "2023-01-01 00:00:00+00:00               0.0  ...   299.916667  199.416667   \n",
      "\n",
      "                           gen_small_hydro  gen_coal  gen_nuclear  \\\n",
      "time_tomerge                                                        \n",
      "2019-01-01 00:00:00+00:00              NaN       NaN          NaN   \n",
      "2019-01-01 01:00:00+00:00              NaN       NaN          NaN   \n",
      "2019-01-01 02:00:00+00:00              NaN       NaN          NaN   \n",
      "2019-01-01 03:00:00+00:00              NaN       NaN          NaN   \n",
      "2019-01-01 04:00:00+00:00              NaN       NaN          NaN   \n",
      "...                                    ...       ...          ...   \n",
      "2022-12-31 20:00:00+00:00       221.000000  3.250000  2245.083333   \n",
      "2022-12-31 21:00:00+00:00       203.416667  3.500000  2245.083333   \n",
      "2022-12-31 22:00:00+00:00       218.833333  3.833333  2243.916667   \n",
      "2022-12-31 23:00:00+00:00       222.000000  4.083333  2245.083333   \n",
      "2023-01-01 00:00:00+00:00       224.916667  3.416667  2246.500000   \n",
      "\n",
      "                           gen_natural_gas    gen_hydro  gen_batteries  \\\n",
      "time_tomerge                                                             \n",
      "2019-01-01 00:00:00+00:00              NaN          NaN            NaN   \n",
      "2019-01-01 01:00:00+00:00              NaN          NaN            NaN   \n",
      "2019-01-01 02:00:00+00:00              NaN          NaN            NaN   \n",
      "2019-01-01 03:00:00+00:00              NaN          NaN            NaN   \n",
      "2019-01-01 04:00:00+00:00              NaN          NaN            NaN   \n",
      "...                                    ...          ...            ...   \n",
      "2022-12-31 20:00:00+00:00      6293.083333  1713.250000    -404.416667   \n",
      "2022-12-31 21:00:00+00:00      7216.833333  1700.416667    -169.750000   \n",
      "2022-12-31 22:00:00+00:00      7848.750000  1607.333333       2.500000   \n",
      "2022-12-31 23:00:00+00:00      8740.833333  1925.500000     256.750000   \n",
      "2023-01-01 00:00:00+00:00      9271.916667  2207.000000     726.333333   \n",
      "\n",
      "                           gen_imports  gen_other  \n",
      "time_tomerge                                       \n",
      "2019-01-01 00:00:00+00:00          NaN        NaN  \n",
      "2019-01-01 01:00:00+00:00          NaN        NaN  \n",
      "2019-01-01 02:00:00+00:00          NaN        NaN  \n",
      "2019-01-01 03:00:00+00:00          NaN        NaN  \n",
      "2019-01-01 04:00:00+00:00          NaN        NaN  \n",
      "...                                ...        ...  \n",
      "2022-12-31 20:00:00+00:00  5761.666667        0.0  \n",
      "2022-12-31 21:00:00+00:00  5397.833333        0.0  \n",
      "2022-12-31 22:00:00+00:00  5426.833333        0.0  \n",
      "2022-12-31 23:00:00+00:00  5391.750000        0.0  \n",
      "2023-01-01 00:00:00+00:00  5854.833333        0.0  \n",
      "\n",
      "[35065 rows x 52 columns]\n",
      "35065\n"
     ]
    }
   ],
   "source": [
    "new_data[\"CAISO\"][\"generation\"] = new_data[\"CAISO\"][\"generation\"].sort_values(by=\"time_tomerge\")\n",
    "#print(new_data[\"CAISO\"][\"generation\"])\n",
    "\n",
    "subset = new_data[\"CAISO\"][\"generation\"]\n",
    "subset[\"time_tomerge\"] = pd.to_datetime(subset[\"time_tomerge\"], utc=True).dt.floor(\"H\")\n",
    "subset = pd.DataFrame(subset.groupby([\"time_tomerge\"])[subset.columns[:-1]].mean())\n",
    "subset[\"time_tomerge\"] =subset.index\n",
    "subset = subset.reset_index(drop=True)\n",
    "subset = subset.rename(columns={\"Solar\": \"gen_solar\", \"Wind\": \"gen_wind\", \"Geothermal\": \"gen_geothermal\", \"Biomass\": \"gen_biomass\", \"Biogas\": \"gen_biogas\", \"Small Hydro\": \"gen_small_hydro\", \"Coal\": \"gen_coal\", \"Nuclear\": \"gen_nuclear\", \"Natural Gas\": \"gen_natural_gas\", \"Large Hydro\": \"gen_hydro\", \"Batteries\": \"gen_batteries\", \"Imports\": \"gen_imports\", \"Other\": \"gen_other\"})\n",
    "print(subset)\n",
    "print(len(subset))\n",
    "new_data[\"CAISO\"][\"total\"] = new_data[\"CAISO\"][\"total\"].merge(subset, on = \"time_tomerge\",how=\"left\")\n",
    "print(new_data[\"CAISO\"][\"total\"].set_index(\"time_tomerge\"))\n",
    "print(len(new_data[\"CAISO\"][\"total\"]))"
   ],
   "metadata": {
    "collapsed": false
   }
  },
  {
   "cell_type": "code",
   "execution_count": 59,
   "outputs": [
    {
     "name": "stdout",
     "output_type": "stream",
     "text": [
      "                           ancillary_da_nr  ancillary_da_rd  ancillary_da_rmd  \\\n",
      "time_tomerge                                                                    \n",
      "2019-01-01 00:00:00+00:00              NaN              NaN               NaN   \n",
      "2019-01-01 01:00:00+00:00          73.6890         4587.144               0.0   \n",
      "2019-01-01 02:00:00+00:00          70.5892         1500.000               0.0   \n",
      "2019-01-01 03:00:00+00:00          71.0776         1500.000               0.0   \n",
      "2019-01-01 04:00:00+00:00          73.1093         1500.000               0.0   \n",
      "...                                    ...              ...               ...   \n",
      "2022-12-31 20:00:00+00:00         101.5209         5700.000               0.0   \n",
      "2022-12-31 21:00:00+00:00          90.5520         6612.000               0.0   \n",
      "2022-12-31 22:00:00+00:00          87.7104         8850.000               0.0   \n",
      "2022-12-31 23:00:00+00:00          84.4800         5670.000               0.0   \n",
      "2023-01-01 00:00:00+00:00          80.8572         7650.000               0.0   \n",
      "\n",
      "                           ancillary_da_rmu  ancillary_da_ru  ancillary_da_sr  \\\n",
      "time_tomerge                                                                    \n",
      "2019-01-01 00:00:00+00:00               NaN              NaN              NaN   \n",
      "2019-01-01 01:00:00+00:00               0.0       2451.00000        669.90000   \n",
      "2019-01-01 02:00:00+00:00               0.0       1797.00000        641.72000   \n",
      "2019-01-01 03:00:00+00:00               0.0       1512.00000        161.54000   \n",
      "2019-01-01 04:00:00+00:00               0.0       1512.00000        166.15750   \n",
      "...                                     ...              ...              ...   \n",
      "2022-12-31 20:00:00+00:00               0.0       2483.99900       2533.73540   \n",
      "2022-12-31 21:00:00+00:00               0.0       1892.67000       1916.61000   \n",
      "2022-12-31 22:00:00+00:00               0.0       4625.81000       3186.47000   \n",
      "2022-12-31 23:00:00+00:00               0.0       1040.81446        845.73324   \n",
      "2023-01-01 00:00:00+00:00               0.0        496.20358        399.81786   \n",
      "\n",
      "                           ancillary_rt_nr  ancillary_rt_rd  ancillary_rt_rmd  \\\n",
      "time_tomerge                                                                    \n",
      "2019-01-01 00:00:00+00:00              NaN              NaN               NaN   \n",
      "2019-01-01 01:00:00+00:00              0.0         0.734587               0.0   \n",
      "2019-01-01 02:00:00+00:00              0.0         0.202735               0.0   \n",
      "2019-01-01 03:00:00+00:00              0.0         0.451492               0.0   \n",
      "2019-01-01 04:00:00+00:00              0.0         0.437500               0.0   \n",
      "...                                    ...              ...               ...   \n",
      "2022-12-31 20:00:00+00:00              0.0       106.494525               0.0   \n",
      "2022-12-31 21:00:00+00:00              0.0       214.631892               0.0   \n",
      "2022-12-31 22:00:00+00:00              0.0         0.000000               0.0   \n",
      "2022-12-31 23:00:00+00:00              0.0       162.101250               0.0   \n",
      "2023-01-01 00:00:00+00:00              0.0       159.755625               0.0   \n",
      "\n",
      "                           ancillary_rt_rmu  ...  gen_biomass  gen_biogas  \\\n",
      "time_tomerge                                 ...                            \n",
      "2019-01-01 00:00:00+00:00               NaN  ...          NaN         NaN   \n",
      "2019-01-01 01:00:00+00:00               0.0  ...          NaN         NaN   \n",
      "2019-01-01 02:00:00+00:00               0.0  ...          NaN         NaN   \n",
      "2019-01-01 03:00:00+00:00               0.0  ...          NaN         NaN   \n",
      "2019-01-01 04:00:00+00:00               0.0  ...          NaN         NaN   \n",
      "...                                     ...  ...          ...         ...   \n",
      "2022-12-31 20:00:00+00:00               0.0  ...   302.416667  188.500000   \n",
      "2022-12-31 21:00:00+00:00               0.0  ...   299.250000  188.750000   \n",
      "2022-12-31 22:00:00+00:00               0.0  ...   299.666667  189.000000   \n",
      "2022-12-31 23:00:00+00:00               0.0  ...   299.583333  197.833333   \n",
      "2023-01-01 00:00:00+00:00               0.0  ...   299.916667  199.416667   \n",
      "\n",
      "                           gen_small_hydro  gen_coal  gen_nuclear  \\\n",
      "time_tomerge                                                        \n",
      "2019-01-01 00:00:00+00:00              NaN       NaN          NaN   \n",
      "2019-01-01 01:00:00+00:00              NaN       NaN          NaN   \n",
      "2019-01-01 02:00:00+00:00              NaN       NaN          NaN   \n",
      "2019-01-01 03:00:00+00:00              NaN       NaN          NaN   \n",
      "2019-01-01 04:00:00+00:00              NaN       NaN          NaN   \n",
      "...                                    ...       ...          ...   \n",
      "2022-12-31 20:00:00+00:00       221.000000  3.250000  2245.083333   \n",
      "2022-12-31 21:00:00+00:00       203.416667  3.500000  2245.083333   \n",
      "2022-12-31 22:00:00+00:00       218.833333  3.833333  2243.916667   \n",
      "2022-12-31 23:00:00+00:00       222.000000  4.083333  2245.083333   \n",
      "2023-01-01 00:00:00+00:00       224.916667  3.416667  2246.500000   \n",
      "\n",
      "                           gen_natural_gas    gen_hydro  gen_batteries  \\\n",
      "time_tomerge                                                             \n",
      "2019-01-01 00:00:00+00:00              NaN          NaN            NaN   \n",
      "2019-01-01 01:00:00+00:00              NaN          NaN            NaN   \n",
      "2019-01-01 02:00:00+00:00              NaN          NaN            NaN   \n",
      "2019-01-01 03:00:00+00:00              NaN          NaN            NaN   \n",
      "2019-01-01 04:00:00+00:00              NaN          NaN            NaN   \n",
      "...                                    ...          ...            ...   \n",
      "2022-12-31 20:00:00+00:00      6293.083333  1713.250000    -404.416667   \n",
      "2022-12-31 21:00:00+00:00      7216.833333  1700.416667    -169.750000   \n",
      "2022-12-31 22:00:00+00:00      7848.750000  1607.333333       2.500000   \n",
      "2022-12-31 23:00:00+00:00      8740.833333  1925.500000     256.750000   \n",
      "2023-01-01 00:00:00+00:00      9271.916667  2207.000000     726.333333   \n",
      "\n",
      "                           gen_imports  gen_other  \n",
      "time_tomerge                                       \n",
      "2019-01-01 00:00:00+00:00          NaN        NaN  \n",
      "2019-01-01 01:00:00+00:00          NaN        NaN  \n",
      "2019-01-01 02:00:00+00:00          NaN        NaN  \n",
      "2019-01-01 03:00:00+00:00          NaN        NaN  \n",
      "2019-01-01 04:00:00+00:00          NaN        NaN  \n",
      "...                                ...        ...  \n",
      "2022-12-31 20:00:00+00:00  5761.666667        0.0  \n",
      "2022-12-31 21:00:00+00:00  5397.833333        0.0  \n",
      "2022-12-31 22:00:00+00:00  5426.833333        0.0  \n",
      "2022-12-31 23:00:00+00:00  5391.750000        0.0  \n",
      "2023-01-01 00:00:00+00:00  5854.833333        0.0  \n",
      "\n",
      "[35065 rows x 52 columns]\n",
      "                           ancillary_da_nr  ancillary_da_rd  ancillary_da_rmd  \\\n",
      "time_tomerge                                                                    \n",
      "2014-01-01 00:00:00+00:00          40.0984         625.4000           3.90890   \n",
      "2014-01-01 01:00:00+00:00          47.2970         681.4500           0.00000   \n",
      "2014-01-01 02:00:00+00:00          44.8790         769.9500           0.00000   \n",
      "2014-01-01 03:00:00+00:00          43.5180         769.9500           0.00000   \n",
      "2014-01-01 04:00:00+00:00          42.9170         769.9500           0.00000   \n",
      "...                                    ...              ...               ...   \n",
      "2018-12-31 19:00:00+00:00          49.9224        3520.0000           0.00000   \n",
      "2018-12-31 20:00:00+00:00          46.9029        4396.0000           0.00000   \n",
      "2018-12-31 21:00:00+00:00          40.9629        4530.1095          12.21950   \n",
      "2018-12-31 22:00:00+00:00          39.6770         828.7500          20.87470   \n",
      "2018-12-31 23:00:00+00:00          32.1937        1414.7840           6.08572   \n",
      "\n",
      "                           ancillary_da_rmu  ancillary_da_ru  ancillary_da_sr  \\\n",
      "time_tomerge                                                                    \n",
      "2014-01-01 00:00:00+00:00         1180.9560           37.899           59.894   \n",
      "2014-01-01 01:00:00+00:00          698.1880           33.186           61.781   \n",
      "2014-01-01 02:00:00+00:00            0.0000          552.900           64.049   \n",
      "2014-01-01 03:00:00+00:00            6.7191          550.050           62.688   \n",
      "2014-01-01 04:00:00+00:00           18.8091          743.050           62.087   \n",
      "...                                     ...              ...              ...   \n",
      "2018-12-31 19:00:00+00:00            0.0000         4503.000         8167.950   \n",
      "2018-12-31 20:00:00+00:00            0.0000         4372.326         7926.390   \n",
      "2018-12-31 21:00:00+00:00            0.0000         4389.000         4631.400   \n",
      "2018-12-31 22:00:00+00:00            0.0000         3528.000         3798.900   \n",
      "2018-12-31 23:00:00+00:00            0.0000         2814.000         2765.760   \n",
      "\n",
      "                           ancillary_rt_nr  ancillary_rt_rd  ancillary_rt_rmd  \\\n",
      "time_tomerge                                                                    \n",
      "2014-01-01 00:00:00+00:00         3.747040         0.000000               0.0   \n",
      "2014-01-01 01:00:00+00:00         4.713687         0.000000               0.0   \n",
      "2014-01-01 02:00:00+00:00         4.749625         0.000000               0.0   \n",
      "2014-01-01 03:00:00+00:00         4.941813         0.000000               0.0   \n",
      "2014-01-01 04:00:00+00:00         0.000000         0.000000               0.0   \n",
      "...                                    ...              ...               ...   \n",
      "2018-12-31 19:00:00+00:00         0.000000         0.000000               0.0   \n",
      "2018-12-31 20:00:00+00:00         0.000000         2.223850               0.0   \n",
      "2018-12-31 21:00:00+00:00         0.000000         0.238650               0.0   \n",
      "2018-12-31 22:00:00+00:00         0.000000         0.187050               0.0   \n",
      "2018-12-31 23:00:00+00:00         0.000000         0.270575               0.0   \n",
      "\n",
      "                           ancillary_rt_rmu  ...  gen_thermal  gen_imports  \\\n",
      "time_tomerge                                 ...                             \n",
      "2014-01-01 00:00:00+00:00          2.894500  ...      12461.0       5459.0   \n",
      "2014-01-01 01:00:00+00:00        573.680972  ...      12163.0       5119.0   \n",
      "2014-01-01 02:00:00+00:00          0.000000  ...      11347.0       5306.0   \n",
      "2014-01-01 03:00:00+00:00          1.679780  ...      11089.0       5220.0   \n",
      "2014-01-01 04:00:00+00:00          4.702280  ...      11118.0       5143.0   \n",
      "...                                     ...  ...          ...          ...   \n",
      "2018-12-31 19:00:00+00:00          0.000000  ...       8037.0       9130.0   \n",
      "2018-12-31 20:00:00+00:00          2.002900  ...       7233.0       8748.0   \n",
      "2018-12-31 21:00:00+00:00          0.000000  ...       6500.0       8401.0   \n",
      "2018-12-31 22:00:00+00:00          0.000000  ...       7011.0       7417.0   \n",
      "2018-12-31 23:00:00+00:00          0.000000  ...       7038.0       6532.0   \n",
      "\n",
      "                           gen_hydro  load_2da  load_7da  load_rt   load_da  \\\n",
      "time_tomerge                                                                  \n",
      "2014-01-01 00:00:00+00:00      376.0  21109.69  21387.15    22130  21502.51   \n",
      "2014-01-01 01:00:00+00:00      203.0  20173.43  20415.68    21339  20629.96   \n",
      "2014-01-01 02:00:00+00:00      211.0  19564.91  19759.16    20676  19882.78   \n",
      "2014-01-01 03:00:00+00:00      216.0  19328.92  19513.91    20298  19467.10   \n",
      "2014-01-01 04:00:00+00:00      257.0  19418.19  19608.81    20264  19285.28   \n",
      "...                              ...       ...       ...      ...       ...   \n",
      "2018-12-31 19:00:00+00:00     3082.0  26407.47  26268.77    26814  27377.03   \n",
      "2018-12-31 20:00:00+00:00     2953.0  25401.55  25231.21    25905  26290.40   \n",
      "2018-12-31 21:00:00+00:00     2724.0  24439.56  24278.92    24935  25216.02   \n",
      "2018-12-31 22:00:00+00:00     2515.0  23530.67  23377.10    23804  24222.71   \n",
      "2018-12-31 23:00:00+00:00     2488.0  22802.83  22669.59    22769  23436.17   \n",
      "\n",
      "                           load_rt.1  load_rtpd  losses_da  \n",
      "time_tomerge                                                \n",
      "2014-01-01 00:00:00+00:00    21416.0        NaN  -1.335830  \n",
      "2014-01-01 01:00:00+00:00    20411.0        NaN  -1.252017  \n",
      "2014-01-01 02:00:00+00:00    19549.0        NaN  -1.111353  \n",
      "2014-01-01 03:00:00+00:00    19006.0        NaN  -1.095483  \n",
      "2014-01-01 04:00:00+00:00    18796.0        NaN  -1.041583  \n",
      "...                              ...        ...        ...  \n",
      "2018-12-31 19:00:00+00:00    26599.0    26857.0  -2.072440  \n",
      "2018-12-31 20:00:00+00:00    25428.0    25782.0  -1.634240  \n",
      "2018-12-31 21:00:00+00:00    24600.0    24920.0  -1.424330  \n",
      "2018-12-31 22:00:00+00:00    23681.0    24024.0  -1.490723  \n",
      "2018-12-31 23:00:00+00:00    22716.0    22944.0  -1.385843  \n",
      "\n",
      "[43824 rows x 36 columns]\n"
     ]
    }
   ],
   "source": [
    "new_data[\"CAISO\"][\"total\"] = new_data[\"CAISO\"][\"total\"].set_index(\"time_tomerge\")\n",
    "print(new_data[\"CAISO\"][\"total\"])\n",
    "print(ISO_final[\"CAISO\"])"
   ],
   "metadata": {
    "collapsed": false
   }
  },
  {
   "cell_type": "code",
   "execution_count": 61,
   "outputs": [],
   "source": [
    "final = pd.concat([ISO_final[\"CAISO\"], new_data[\"CAISO\"][\"total\"]])\n",
    "final.to_csv(\"/Users/evanlipton/Dropbox (YSE)/Solar_ElectricData/ISOs/CAISO.csv\")"
   ],
   "metadata": {
    "collapsed": false
   }
  },
  {
   "cell_type": "code",
   "execution_count": 63,
   "outputs": [
    {
     "data": {
      "text/plain": "Index(['ancillary_da_nr', 'ancillary_da_rd', 'ancillary_da_rmd',\n       'ancillary_da_rmu', 'ancillary_da_ru', 'ancillary_da_sr',\n       'ancillary_rt_nr', 'ancillary_rt_rd', 'ancillary_rt_rmd',\n       'ancillary_rt_rmu', 'ancillary_rt_ru', 'ancillary_rt_sr',\n       'congestion_da', 'energy_da', 'unnamed: 0', 'gas_price', 'hour',\n       'gen_geothermal', 'gen_biomass', 'gen_biogas', 'gen_small_hydro',\n       'gen_wind', 'gen_solar_pv', 'gen_solar_thermal', 'gen_renewables',\n       'gen_nuclear', 'gen_thermal', 'gen_imports', 'gen_hydro', 'load_2da',\n       'load_7da', 'load_rt', 'load_da', 'load_rt.1', 'load_rtpd', 'losses_da',\n       'ancillary_da_nr_mw', 'ancillary_da_rd_mw', 'ancillary_da_rmd_mw',\n       'ancillary_da_rmu_mw', 'ancillary_da_ru_mw', 'ancillary_da_sr_mw',\n       'ancillary_rt_nr_mw', 'ancillary_rt_rd_mw', 'ancillary_rt_rmd_mw',\n       'ancillary_rt_rmu_mw', 'ancillary_rt_ru_mw', 'ancillary_rt_sr_mw',\n       'congestion_rt', 'energy_rt', 'losses_rt', 'Unnamed: 0', 'Unnamed: 0.1',\n       'gen_solar', 'gen_coal', 'gen_natural_gas', 'gen_batteries',\n       'gen_other'],\n      dtype='object')"
     },
     "execution_count": 63,
     "metadata": {},
     "output_type": "execute_result"
    }
   ],
   "source": [
    "final.columns"
   ],
   "metadata": {
    "collapsed": false
   }
  },
  {
   "cell_type": "code",
   "execution_count": 622,
   "outputs": [],
   "source": [
    "new_data[\"CAISO\"][\"total\"].to_csv(\"/Users/evanlipton/Dropbox (YSE)/Solar_ElectricData/Data/CAISO/all_data.csv\")"
   ],
   "metadata": {
    "collapsed": false
   }
  }
 ],
 "metadata": {
  "kernelspec": {
   "display_name": "Python 3",
   "language": "python",
   "name": "python3"
  },
  "language_info": {
   "codemirror_mode": {
    "name": "ipython",
    "version": 2
   },
   "file_extension": ".py",
   "mimetype": "text/x-python",
   "name": "python",
   "nbconvert_exporter": "python",
   "pygments_lexer": "ipython2",
   "version": "2.7.6"
  }
 },
 "nbformat": 4,
 "nbformat_minor": 0
}
