{
 "cells": [
  {
   "cell_type": "code",
   "execution_count": 1,
   "outputs": [],
   "source": [
    "import numpy as np\n",
    "import pandas as pd\n",
    "import os\n",
    "import re\n",
    "from tqdm import tqdm\n",
    "import requests\n",
    "from io import StringIO\n",
    "from os import listdir\n",
    "from os.path import isfile, join\n",
    "import datetime as dt\n",
    "from datetime import datetime, timedelta\n",
    "\n",
    "import gridstatus"
   ],
   "metadata": {
    "collapsed": false
   }
  },
  {
   "cell_type": "code",
   "execution_count": 2,
   "outputs": [],
   "source": [
    "def listdir_nohidden(path):\n",
    "    for f in os.listdir(path):\n",
    "        if not f.startswith('.'):\n",
    "            yield f\n",
    "\n"
   ],
   "metadata": {
    "collapsed": false
   }
  },
  {
   "cell_type": "code",
   "execution_count": 3,
   "outputs": [],
   "source": [
    "FILE_PATH = \"/Users/evanlipton/Dropbox (YSE)/Solar_ElectricData/Data\""
   ],
   "metadata": {
    "collapsed": false
   }
  },
  {
   "cell_type": "code",
   "execution_count": 5,
   "outputs": [],
   "source": [
    "ISOS = [\"MISO\"]"
   ],
   "metadata": {
    "collapsed": false
   }
  },
  {
   "cell_type": "code",
   "execution_count": 6,
   "outputs": [
    {
     "name": "stderr",
     "output_type": "stream",
     "text": [
      "16it [00:00, 20.11it/s]\n"
     ]
    }
   ],
   "source": [
    "ISO_files = {}\n",
    "ISO_data = {}\n",
    "ISO_final = {}\n",
    "\n",
    "#load in\n",
    "for ISO in ISOS:\n",
    "    ISO_files[ISO] = listdir_nohidden(f\"{FILE_PATH}/{ISO}/old\")\n",
    "    ISO_data[ISO] = {}\n",
    "    for file in tqdm(ISO_files[ISO]):\n",
    "        compiled = re.compile(re.escape(f\"{ISO}_\"), re.IGNORECASE)\n",
    "\n",
    "        ISO_data[ISO][compiled.sub(\"\", file).replace(\".csv\",\"\")] = pd.read_csv(f\"{FILE_PATH}/{ISO}/old/{file}\")"
   ],
   "metadata": {
    "collapsed": false
   }
  },
  {
   "cell_type": "code",
   "execution_count": 7,
   "outputs": [
    {
     "name": "stdout",
     "output_type": "stream",
     "text": [
      "MISO\n",
      "<class 'pandas.core.series.Series'>\n",
      "<class 'pandas.core.series.Series'>\n",
      "<class 'pandas.core.series.Series'>\n"
     ]
    }
   ],
   "source": [
    "#add merge datetime\n",
    "titles = {}\n",
    "for key in ISO_data:\n",
    "    print(key)\n",
    "    titles[key]= []\n",
    "    for k in ISO_data[key]:\n",
    "        try:\n",
    "            ISO_data[key][k][\"time_tomerge\"] = pd.to_datetime(ISO_data[key][k].iloc[:,0], utc=True)\n",
    "        except:\n",
    "            ISO_data[key][k] = ISO_data[key][k][ISO_data[key][k].index % 24 != 0]\n",
    "            ISO_data[key][k][\"time_tomerge\"] = pd.to_datetime(ISO_data[key][k].iloc[:,0], utc=True)\n",
    "            print(type(ISO_data[key][k][\"time_tomerge\"]))"
   ],
   "metadata": {
    "collapsed": false
   }
  },
  {
   "cell_type": "code",
   "execution_count": 9,
   "outputs": [],
   "source": [
    "ISO_final = {}\n",
    "def clean_final(ISO: str, df: str):\n",
    "    ISO_data[ISO][df].columns = ISO_data[ISO][df].columns.str.lower()\n",
    "    no_date = [col for col in ISO_data[ISO][df].columns if \"date\" not in col]\n",
    "    ISO_data[ISO][df] = ISO_data[ISO][df][no_date]\n",
    "    try:\n",
    "        ISO_data[ISO][df] = ISO_data[ISO][df].drop(\"unnamed: 0\")\n",
    "        ISO_data[ISO][df] = ISO_data[ISO][df].drop(\"hour\")\n",
    "    except:\n",
    "        pass\n",
    "    ISO_data[ISO][df] = ISO_data[ISO][df].sort_values(by=\"time_tomerge\")\n",
    "    ISO_data[ISO][df] = ISO_data[ISO][df].set_index(\"time_tomerge\")\n",
    "    ISO_final[ISO] = ISO_data[ISO][df]\n",
    "    for column in ISO_final[ISO].columns:\n",
    "        if str(ISO).lower() in column:\n",
    "            ISO_final[ISO] = ISO_final[ISO].rename(columns={column: column.replace(f\"{str(ISO).lower()}_\",\"\")})\n",
    "    print(ISO_final[ISO])"
   ],
   "metadata": {
    "collapsed": false
   }
  },
  {
   "cell_type": "code",
   "execution_count": 11,
   "outputs": [
    {
     "name": "stdout",
     "output_type": "stream",
     "text": [
      "                           congestion_da  congestion_rt  energy_da  energy_rt  \\\n",
      "time_tomerge                                                                    \n",
      "2014-01-01 06:00:00+00:00      -0.824286      -1.292857      30.10      27.68   \n",
      "2014-01-01 07:00:00+00:00      -0.365714      -1.008571      28.72      26.11   \n",
      "2014-01-01 08:00:00+00:00      -0.701429      -0.837143      28.50      24.97   \n",
      "2014-01-01 09:00:00+00:00      -0.754286       0.330000      28.35      24.15   \n",
      "2014-01-01 10:00:00+00:00      -0.361429       0.477143      28.48      23.67   \n",
      "...                                  ...            ...        ...        ...   \n",
      "2019-01-01 01:00:00+00:00       1.427500       3.543750      25.76      19.70   \n",
      "2019-01-01 02:00:00+00:00       1.225000       3.352500      24.07      19.11   \n",
      "2019-01-01 03:00:00+00:00       1.396250       2.673750      22.51      18.89   \n",
      "2019-01-01 04:00:00+00:00       1.218750      -3.087500      21.88      21.81   \n",
      "2019-01-01 05:00:00+00:00       1.611250      -0.152500      20.26      18.19   \n",
      "\n",
      "                           exchange_rt  gas_price  gen_da_coal  gen_da_gas  \\\n",
      "time_tomerge                                                                 \n",
      "2014-01-01 06:00:00+00:00         2631    4.51100      50817.7      8573.7   \n",
      "2014-01-01 07:00:00+00:00         2290    4.51100      48729.7      8064.0   \n",
      "2014-01-01 08:00:00+00:00         2398    4.51100      47168.2      8001.2   \n",
      "2014-01-01 09:00:00+00:00         2268    4.51100      46703.2      7925.6   \n",
      "2014-01-01 10:00:00+00:00         2557    4.51100      46497.8      7969.3   \n",
      "...                                ...        ...          ...         ...   \n",
      "2019-01-01 01:00:00+00:00         5604    2.97725      37628.9     12349.7   \n",
      "2019-01-01 02:00:00+00:00         5455    2.97725      36696.2     11546.7   \n",
      "2019-01-01 03:00:00+00:00         5043    2.97725      35374.7     10552.0   \n",
      "2019-01-01 04:00:00+00:00         5042    2.97725      32299.7      9907.7   \n",
      "2019-01-01 05:00:00+00:00         4254    2.97725      30392.4      8773.4   \n",
      "\n",
      "                           gen_da_hydro  gen_da_nuclear  ...  gen_rt_coal  \\\n",
      "time_tomerge                                             ...                \n",
      "2014-01-01 06:00:00+00:00         444.0         11589.7  ...      47208.1   \n",
      "2014-01-01 07:00:00+00:00         463.7         11590.7  ...      45614.0   \n",
      "2014-01-01 08:00:00+00:00         461.7         11590.7  ...      44471.2   \n",
      "2014-01-01 09:00:00+00:00         461.7         11591.7  ...      43614.5   \n",
      "2014-01-01 10:00:00+00:00         461.7         11591.7  ...      43167.2   \n",
      "...                                 ...             ...  ...          ...   \n",
      "2019-01-01 01:00:00+00:00        1000.2         12226.3  ...      30050.6   \n",
      "2019-01-01 02:00:00+00:00         769.4         12244.3  ...      28953.7   \n",
      "2019-01-01 03:00:00+00:00         795.5         12245.3  ...      27801.2   \n",
      "2019-01-01 04:00:00+00:00         790.1         12248.3  ...      26167.7   \n",
      "2019-01-01 05:00:00+00:00         754.1         12242.3  ...      26060.4   \n",
      "\n",
      "                           gen_rt_gas  gen_rt_hydro  gen_rt_nuclear  \\\n",
      "time_tomerge                                                          \n",
      "2014-01-01 06:00:00+00:00      7950.4         493.8         11608.3   \n",
      "2014-01-01 07:00:00+00:00      7553.1         493.2         11607.9   \n",
      "2014-01-01 08:00:00+00:00      7440.9         493.4         11608.9   \n",
      "2014-01-01 09:00:00+00:00      7356.7         492.6         11615.3   \n",
      "2014-01-01 10:00:00+00:00      7404.9         492.8         11617.2   \n",
      "...                               ...           ...             ...   \n",
      "2019-01-01 01:00:00+00:00     11139.3        1247.0         11986.7   \n",
      "2019-01-01 02:00:00+00:00     10729.4        1173.2         11995.2   \n",
      "2019-01-01 03:00:00+00:00     10303.9        1104.8         12000.6   \n",
      "2019-01-01 04:00:00+00:00     10029.8        1068.5         12006.4   \n",
      "2019-01-01 05:00:00+00:00      9523.3        1061.7         12005.5   \n",
      "\n",
      "                           gen_rt_other  gen_rt_wind  load_da   load_rt  \\\n",
      "time_tomerge                                                              \n",
      "2014-01-01 06:00:00+00:00        1438.3       3866.6    76068  75033.67   \n",
      "2014-01-01 07:00:00+00:00        1408.1       3829.9    74156  72893.76   \n",
      "2014-01-01 08:00:00+00:00        1395.7       3848.4    72572  71484.47   \n",
      "2014-01-01 09:00:00+00:00        1430.6       3775.4    71857  70472.20   \n",
      "2014-01-01 10:00:00+00:00        1414.6       3657.8    72477  70214.03   \n",
      "...                                 ...          ...      ...       ...   \n",
      "2019-01-01 01:00:00+00:00        1015.1      14254.4    80292       NaN   \n",
      "2019-01-01 02:00:00+00:00        1038.5      13914.8    78327       NaN   \n",
      "2019-01-01 03:00:00+00:00        1020.6      13946.2    76195       NaN   \n",
      "2019-01-01 04:00:00+00:00        1012.3      13857.6    73562       NaN   \n",
      "2019-01-01 05:00:00+00:00        1000.2      12994.1    70434       NaN   \n",
      "\n",
      "                           losses_da  losses_rt  \n",
      "time_tomerge                                     \n",
      "2014-01-01 06:00:00+00:00  -0.408571  -0.240000  \n",
      "2014-01-01 07:00:00+00:00  -0.381429  -0.190000  \n",
      "2014-01-01 08:00:00+00:00  -0.384286  -0.155714  \n",
      "2014-01-01 09:00:00+00:00  -0.375714  -0.151429  \n",
      "2014-01-01 10:00:00+00:00  -0.394286  -0.178571  \n",
      "...                              ...        ...  \n",
      "2019-01-01 01:00:00+00:00   0.391250   0.262500  \n",
      "2019-01-01 02:00:00+00:00   0.340000   0.203750  \n",
      "2019-01-01 03:00:00+00:00   0.200000   0.168750  \n",
      "2019-01-01 04:00:00+00:00   0.255000   0.126250  \n",
      "2019-01-01 05:00:00+00:00   0.232500   0.076250  \n",
      "\n",
      "[43824 rows x 22 columns]\n"
     ]
    }
   ],
   "source": [
    "for iso in ISOS:\n",
    "    clean_final(iso, \"final\")"
   ],
   "metadata": {
    "collapsed": false
   }
  },
  {
   "cell_type": "code",
   "execution_count": 58,
   "outputs": [
    {
     "data": {
      "text/plain": "Index(['Unnamed: 0', 'Market Hour Ending', 'Coal', 'Gas', 'Nuclear', 'Hydro',\n       'Wind', 'Other', 'Total MW', 'Unnamed: 8', 'Coal.1', 'Gas.1',\n       'Nuclear.1', 'Hydro.1', 'Wind.1', 'Other.1', 'Total MW.1',\n       'Unnamed: 16', 'Coal.2', 'Gas.2', 'Nuclear.2', 'Hydro.2', 'Other.2',\n       'Total MW.2', 'Unnamed: 23', 'Sum:', 'HE', 'Coal.3', 'Gas.3',\n       'Nuclear.3', 'Hydro.3', 'Wind.2', 'Other.3', 'MISO', 'Solar',\n       'Unnamed: 9', 'Solar.1', 'Unnamed: 18', 'Solar.2', 'Unnamed: 26',\n       'Solar.3', 'Storage', 'Unnamed: 10', 'Storage.1', 'Unnamed: 20',\n       'Unnamed: 28', 'Storage.2', 'Unnamed: 1', 'Unnamed: 4', 'Unnamed: 19',\n       'Unnamed: 27'],\n      dtype='object')"
     },
     "execution_count": 58,
     "metadata": {},
     "output_type": "execute_result"
    }
   ],
   "source": [
    "FILE_PATH = \"/Users/evanlipton/Dropbox (YSE)/Solar_ElectricData/Data/MISO/new\"\n",
    "generation_rt = pd.read_csv(f\"{FILE_PATH}/combined/generation_rt.csv\", thousands = \",\")\n",
    "generation_rt.columns"
   ],
   "metadata": {
    "collapsed": false
   }
  },
  {
   "cell_type": "code",
   "execution_count": 72,
   "outputs": [
    {
     "name": "stdout",
     "output_type": "stream",
     "text": [
      "582940711.6000001\n"
     ]
    }
   ],
   "source": [
    "MISO_gen = generation_rt[[\"Market Hour Ending\", \"MISO\"]]\n",
    "MISO_gen = MISO_gen[MISO_gen['Market Hour Ending'] == MISO_gen[\"Market Hour Ending\"][24]]\n",
    "MISO_gen = MISO_gen.dropna()\n",
    "print(np.sum(MISO_gen[\"MISO\"][:350]))"
   ],
   "metadata": {
    "collapsed": false
   }
  },
  {
   "cell_type": "code",
   "execution_count": 51,
   "outputs": [],
   "source": [
    "MISO = pd.read_csv(\"/Users/evanlipton/Dropbox (YSE)/Solar_ElectricData/ISOs/MISO.csv\", thousands = \",\")"
   ],
   "metadata": {
    "collapsed": false
   }
  },
  {
   "cell_type": "code",
   "execution_count": 136,
   "outputs": [
    {
     "data": {
      "text/plain": "78888"
     },
     "execution_count": 136,
     "metadata": {},
     "output_type": "execute_result"
    }
   ],
   "source": [
    "len(MISO)"
   ],
   "metadata": {
    "collapsed": false
   }
  },
  {
   "cell_type": "code",
   "execution_count": 74,
   "outputs": [
    {
     "name": "stdout",
     "output_type": "stream",
     "text": [
      "677378680.16\n",
      "667757752.63\n",
      "665012374.83\n",
      "655069361.42\n",
      "681903495.0\n",
      "667860553.7\n",
      "639828861.4\n",
      "660172343.0999999\n",
      "670156753.6999999\n"
     ]
    }
   ],
   "source": [
    "year = {}\n",
    "MISO[\"time_tomerge\"] = pd.to_datetime(MISO[\"time_tomerge\"])\n",
    "for year in np.unique(MISO[\"time_tomerge\"].apply(lambda x: x.year)):\n",
    "    print(np.sum(np.sum(MISO[[col for col in MISO.columns if \"load_rt\" in col]][MISO[\"time_tomerge\"].apply(lambda x: x.year) == year])))"
   ],
   "metadata": {
    "collapsed": false
   }
  },
  {
   "cell_type": "code",
   "execution_count": 53,
   "outputs": [
    {
     "name": "stdout",
     "output_type": "stream",
     "text": [
      "       gen_rt_coal  gen_rt_gas  gen_rt_hydro  gen_rt_nuclear  gen_rt_other  \\\n",
      "0          47208.1      7950.4         493.8         11608.3        1438.3   \n",
      "1          45614.0      7553.1         493.2         11607.9        1408.1   \n",
      "2          44471.2      7440.9         493.4         11608.9        1395.7   \n",
      "3          43614.5      7356.7         492.6         11615.3        1430.6   \n",
      "4          43167.2      7404.9         492.8         11617.2        1414.6   \n",
      "...            ...         ...           ...             ...           ...   \n",
      "78883      16782.1      7986.8         573.2          4671.9         366.7   \n",
      "78884      16191.7      7603.4         523.1          4669.3         365.1   \n",
      "78885      15677.8      7466.0         517.6          4669.2         366.1   \n",
      "78886      15230.5      6967.3         508.0          4671.2         366.8   \n",
      "78887      14508.7      6461.3         496.3          4673.0         364.3   \n",
      "\n",
      "       gen_rt_wind  \n",
      "0           3866.6  \n",
      "1           3829.9  \n",
      "2           3848.4  \n",
      "3           3775.4  \n",
      "4           3657.8  \n",
      "...            ...  \n",
      "78883        695.5  \n",
      "78884        508.5  \n",
      "78885        449.1  \n",
      "78886        408.7  \n",
      "78887        347.7  \n",
      "\n",
      "[78888 rows x 6 columns]\n"
     ]
    }
   ],
   "source": [
    "miso2014 = MISO[[col for col in MISO.columns if \"gen_rt\" in col]]\n",
    "\n",
    "\n",
    "print((miso2014.astype(float)))"
   ],
   "metadata": {
    "collapsed": false
   }
  },
  {
   "cell_type": "code",
   "execution_count": 54,
   "outputs": [
    {
     "data": {
      "text/plain": "Index(['Unnamed: 0', 'time_tomerge', 'congestion_da', 'congestion_rt',\n       'energy_da', 'energy_rt', 'exchange_rt', 'gas_price', 'gen_da_coal',\n       'gen_da_gas', 'gen_da_hydro', 'gen_da_nuclear', 'gen_da_other',\n       'gen_da_wind', 'gen_rt_coal', 'gen_rt_gas', 'gen_rt_hydro',\n       'gen_rt_nuclear', 'gen_rt_other', 'gen_rt_wind', 'load_da', 'load_rt',\n       'losses_da', 'losses_rt'],\n      dtype='object')"
     },
     "execution_count": 54,
     "metadata": {},
     "output_type": "execute_result"
    }
   ],
   "source": [
    "MISO.columns"
   ],
   "metadata": {
    "collapsed": false
   }
  },
  {
   "cell_type": "code",
   "execution_count": 84,
   "outputs": [],
   "source": [
    "test = pd.read_csv(\"/Users/evanlipton/Dropbox (YSE)/Solar_ElectricData/Data/MISO/new/generation_rt/generation_rt_2021_01_02.csv\")"
   ],
   "metadata": {
    "collapsed": false
   }
  },
  {
   "cell_type": "code",
   "execution_count": 85,
   "outputs": [
    {
     "name": "stdout",
     "output_type": "stream",
     "text": [
      "   Real-Time State Estimator Generation Fuel Mix Report Unnamed: 1 Unnamed: 2  \\\n",
      "0                           Publish Date:  2021-01-02          NaN        NaN   \n",
      "1                            Market Date:  2021-01-01          NaN        NaN   \n",
      "2                                                 NaN      Central        NaN   \n",
      "3                                  Market Hour Ending         Coal        Gas   \n",
      "4                                                   1     17,300.8    6,193.6   \n",
      "5                                                   2     17,266.3    6,268.8   \n",
      "6                                                   3     17,728.7    6,210.1   \n",
      "7                                                   4     17,363.2    6,036.6   \n",
      "8                                                   5     17,429.0    5,756.5   \n",
      "9                                                   6     17,660.1    6,041.0   \n",
      "10                                                  7     18,729.6    6,034.9   \n",
      "11                                                  8     19,674.6    6,115.7   \n",
      "12                                                  9     19,928.1    6,179.8   \n",
      "13                                                 10     20,112.0    6,314.6   \n",
      "14                                                 11     20,834.6    6,540.8   \n",
      "15                                                 12     21,668.7    6,589.2   \n",
      "16                                                 13     22,028.6    6,526.4   \n",
      "17                                                 14     21,807.5    6,524.6   \n",
      "18                                                 15     21,616.8    6,541.2   \n",
      "19                                                 16     21,325.8    6,405.4   \n",
      "20                                                 17     20,999.8    6,310.7   \n",
      "21                                                 18     21,339.1    6,572.9   \n",
      "22                                                 19     22,022.7    6,606.0   \n",
      "23                                                 20     22,049.0    6,485.4   \n",
      "24                                                 21     21,676.4    6,416.8   \n",
      "25                                                 22     21,229.5    6,322.5   \n",
      "26                                                 23     20,140.0    5,928.5   \n",
      "27                                                 24     19,039.7    5,838.4   \n",
      "28                                              Total    480,970.6  150,760.4   \n",
      "29  MISO MAKES NO REPRESENTATIONS OR WARRANTIES OF...          NaN        NaN   \n",
      "30                                                NaN          NaN        NaN   \n",
      "\n",
      "   Unnamed: 3 Unnamed: 4 Unnamed: 5 Unnamed: 6 Unnamed: 7  Unnamed: 8  \\\n",
      "0         NaN        NaN        NaN        NaN        NaN         NaN   \n",
      "1         NaN        NaN        NaN        NaN        NaN         NaN   \n",
      "2         NaN        NaN        NaN        NaN        NaN         NaN   \n",
      "3     Nuclear      Hydro       Wind      Other   Total MW         NaN   \n",
      "4     4,260.5      316.9    1,112.0      140.5   29,324.3         NaN   \n",
      "5     4,261.0      306.2    1,092.8      139.5   29,334.6         NaN   \n",
      "6     4,264.4      303.9    1,249.3      137.7   29,894.1         NaN   \n",
      "7     4,265.3      307.4    1,327.7      141.0   29,441.2         NaN   \n",
      "8     4,267.1      311.8    1,386.9      142.6   29,293.9         NaN   \n",
      "9     4,264.0      318.2    1,706.5      143.6   30,133.4         NaN   \n",
      "10    4,263.8      321.9    1,993.5      144.2   31,487.9         NaN   \n",
      "11    4,260.2      344.2    1,813.5      144.6   32,352.8         NaN   \n",
      "12    4,260.2      352.7    1,862.8      145.3   32,728.9         NaN   \n",
      "13    4,259.8      359.5    2,075.0      151.1   33,272.0         NaN   \n",
      "14    4,258.1      377.7    2,041.5      162.2   34,214.9         NaN   \n",
      "15    4,257.6      377.4    1,738.5      173.1   34,804.5         NaN   \n",
      "16    4,259.7      369.4    1,601.2      172.9   34,958.2         NaN   \n",
      "17    4,260.9      351.8    1,647.1      174.9   34,766.8         NaN   \n",
      "18    4,256.7      351.7    1,433.7      166.8   34,366.9         NaN   \n",
      "19    4,261.2      347.3    1,543.2      155.7   34,038.6         NaN   \n",
      "20    4,262.5      331.4    1,901.5      147.0   33,952.9         NaN   \n",
      "21    4,261.6      438.9    2,059.0      141.8   34,813.3         NaN   \n",
      "22    4,263.2    1,113.8    1,688.8      144.0   35,838.5         NaN   \n",
      "23    4,260.9      534.5    1,408.1      143.6   34,881.5         NaN   \n",
      "24    4,260.8      334.3    1,674.4      149.8   34,512.5         NaN   \n",
      "25    4,258.0      326.8    1,675.9      159.0   33,971.7         NaN   \n",
      "26    4,261.7      323.9    1,637.5      160.3   32,451.9         NaN   \n",
      "27    4,261.3      309.4    1,372.2      160.2   30,981.2         NaN   \n",
      "28  102,270.5    9,131.0   39,042.6    3,641.4  785,816.5         NaN   \n",
      "29        NaN        NaN        NaN        NaN        NaN         NaN   \n",
      "30        NaN        NaN        NaN        NaN        NaN         NaN   \n",
      "\n",
      "   Unnamed: 9  ... Unnamed: 23  Unnamed: 24 Unnamed: 25 Unnamed: 26  \\\n",
      "0         NaN  ...         NaN          NaN         NaN         NaN   \n",
      "1         NaN  ...         NaN          NaN         NaN         NaN   \n",
      "2       North  ...         NaN        Total         NaN         NaN   \n",
      "3        Coal  ...         NaN         Sum:          HE        Coal   \n",
      "4     6,515.1  ...         NaN     63,939.7           1    25,366.7   \n",
      "5     5,925.8  ...         NaN     62,553.1           2    24,662.0   \n",
      "6     6,011.6  ...         NaN     61,388.7           3    25,364.9   \n",
      "7     5,957.7  ...         NaN     59,712.3           4    24,811.1   \n",
      "8     6,071.2  ...         NaN     58,946.7           5    25,041.3   \n",
      "9     6,102.3  ...         NaN     59,643.2           6    25,262.9   \n",
      "10    6,431.5  ...         NaN     61,111.6           7    26,868.7   \n",
      "11    6,720.1  ...         NaN     61,810.4           8    28,056.2   \n",
      "12    6,675.4  ...         NaN     62,977.7           9    28,424.3   \n",
      "13    6,735.5  ...         NaN     64,064.8          10    28,701.7   \n",
      "14    6,977.8  ...         NaN     65,568.5          11    29,830.1   \n",
      "15    7,264.2  ...         NaN     66,392.4          12    31,125.1   \n",
      "16    7,367.0  ...         NaN     66,687.3          13    31,644.2   \n",
      "17    7,085.9  ...         NaN     66,033.2          14    31,195.3   \n",
      "18    6,852.8  ...         NaN     65,211.8          15    30,743.9   \n",
      "19    6,737.7  ...         NaN     64,770.5          16    30,281.8   \n",
      "20    6,670.1  ...         NaN     65,071.8          17    29,788.3   \n",
      "21    6,865.0  ...         NaN     67,385.5          18    30,433.1   \n",
      "22    7,180.8  ...         NaN     69,935.7          19    31,526.4   \n",
      "23    7,211.4  ...         NaN     69,726.8          20    31,801.1   \n",
      "24    6,858.6  ...         NaN     68,727.5          21    30,964.3   \n",
      "25    6,467.0  ...         NaN     67,601.7          22    30,085.9   \n",
      "26    6,169.6  ...         NaN     65,415.4          23    28,490.8   \n",
      "27    5,885.0  ...         NaN     63,438.5          24    26,897.1   \n",
      "28  158,739.1  ...         NaN  1,548,114.8        Sum:   687,367.2   \n",
      "29        NaN  ...         NaN          NaN         NaN         NaN   \n",
      "30        NaN  ...         NaN          NaN         NaN         NaN   \n",
      "\n",
      "   Unnamed: 27 Unnamed: 28  Unnamed: 29 Unnamed: 30 Unnamed: 31  Unnamed: 32  \n",
      "0          NaN         NaN          NaN         NaN         NaN          NaN  \n",
      "1          NaN         NaN          NaN         NaN         NaN          NaN  \n",
      "2          NaN         NaN          NaN         NaN         NaN          NaN  \n",
      "3          Gas     Nuclear        Hydro        Wind       Other         MISO  \n",
      "4     15,999.1    11,534.4        713.7     9,486.4       839.4     63,939.7  \n",
      "5     16,063.1    11,543.6        663.9     8,780.0       840.5     62,553.1  \n",
      "6     16,057.1    11,554.8        661.0     6,911.8       839.1     61,388.7  \n",
      "7     15,869.5    11,559.5        664.1     5,966.8       841.3     59,712.3  \n",
      "8     15,755.4    11,564.7        667.6     5,073.6       844.1     58,946.7  \n",
      "9     16,662.0    11,563.1        672.4     4,638.7       844.1     59,643.2  \n",
      "10    17,069.6    11,565.1        676.8     4,081.6       849.8     61,111.6  \n",
      "11    17,277.6    11,558.3        707.2     3,354.8       856.3     61,810.4  \n",
      "12    18,107.5    11,558.8        729.5     3,283.8       873.8     62,977.7  \n",
      "13    18,393.4    11,559.0        796.7     3,703.4       910.6     64,064.8  \n",
      "14    18,629.6    11,555.8        837.2     3,700.2     1,015.6     65,568.5  \n",
      "15    18,678.1    11,554.9        835.0     3,108.5     1,090.8     66,392.4  \n",
      "16    18,613.4    11,559.5        768.0     2,970.7     1,131.5     66,687.3  \n",
      "17    18,450.1    11,558.6        738.3     2,987.5     1,103.4     66,033.2  \n",
      "18    18,340.4    11,555.8        736.2     2,765.3     1,070.2     65,211.8  \n",
      "19    18,046.6    11,561.8        728.6     3,105.7     1,046.0     64,770.5  \n",
      "20    18,058.2    11,561.8        768.7     3,919.9       974.9     65,071.8  \n",
      "21    18,769.5    11,559.3        932.9     4,778.5       912.2     67,385.5  \n",
      "22    19,062.9    11,559.4      1,584.1     5,252.3       950.6     69,935.7  \n",
      "23    18,773.4    11,559.8        916.5     5,716.1       959.9     69,726.8  \n",
      "24    18,489.6    11,561.5        697.7     6,082.4       932.0     68,727.5  \n",
      "25    18,319.7    11,559.2        731.2     5,959.5       946.2     67,601.7  \n",
      "26    17,567.7    11,566.3        718.7     6,155.1       916.8     65,415.4  \n",
      "27    17,260.4    11,566.3        680.1     6,147.2       887.4     63,438.5  \n",
      "28   424,313.9   277,401.3     18,626.1   117,929.8    22,476.5  1,548,114.8  \n",
      "29         NaN         NaN          NaN         NaN         NaN          NaN  \n",
      "30         NaN         NaN          NaN         NaN         NaN          NaN  \n",
      "\n",
      "[31 rows x 33 columns]\n"
     ]
    }
   ],
   "source": [
    "print(test)"
   ],
   "metadata": {
    "collapsed": false
   }
  },
  {
   "cell_type": "code",
   "execution_count": 96,
   "outputs": [],
   "source": [
    "test1 = test[test.eq(\"Total\").any(1)].reset_index()"
   ],
   "metadata": {
    "collapsed": false
   }
  },
  {
   "cell_type": "code",
   "execution_count": 97,
   "outputs": [],
   "source": [
    "test2 = test1.iloc[0,:]"
   ],
   "metadata": {
    "collapsed": false
   }
  },
  {
   "cell_type": "code",
   "execution_count": 118,
   "outputs": [
    {
     "data": {
      "text/plain": "'Unnamed: 24'"
     },
     "execution_count": 118,
     "metadata": {},
     "output_type": "execute_result"
    }
   ],
   "source": [
    "test2.index[test2 == \"Total\"][0]"
   ],
   "metadata": {
    "collapsed": false
   }
  },
  {
   "cell_type": "code",
   "execution_count": 126,
   "outputs": [
    {
     "name": "stderr",
     "output_type": "stream",
     "text": [
      "438it [00:03, 111.15it/s]\n"
     ]
    },
    {
     "ename": "KeyError",
     "evalue": "'HE'",
     "output_type": "error",
     "traceback": [
      "\u001B[0;31m---------------------------------------------------------------------------\u001B[0m",
      "\u001B[0;31mTypeError\u001B[0m                                 Traceback (most recent call last)",
      "File \u001B[0;32m/usr/local/lib/python3.8/site-packages/pandas/_libs/index.pyx:108\u001B[0m, in \u001B[0;36mpandas._libs.index.IndexEngine.get_loc\u001B[0;34m()\u001B[0m\n",
      "File \u001B[0;32mpandas/_libs/hashtable_class_helper.pxi:1533\u001B[0m, in \u001B[0;36mpandas._libs.hashtable.Float64HashTable.get_item\u001B[0;34m()\u001B[0m\n",
      "\u001B[0;31mTypeError\u001B[0m: must be real number, not str",
      "\nDuring handling of the above exception, another exception occurred:\n",
      "\u001B[0;31mKeyError\u001B[0m                                  Traceback (most recent call last)",
      "File \u001B[0;32m/usr/local/lib/python3.8/site-packages/pandas/core/indexes/base.py:3361\u001B[0m, in \u001B[0;36mIndex.get_loc\u001B[0;34m(self, key, method, tolerance)\u001B[0m\n\u001B[1;32m   3360\u001B[0m \u001B[38;5;28;01mtry\u001B[39;00m:\n\u001B[0;32m-> 3361\u001B[0m     \u001B[38;5;28;01mreturn\u001B[39;00m \u001B[38;5;28;43mself\u001B[39;49m\u001B[38;5;241;43m.\u001B[39;49m\u001B[43m_engine\u001B[49m\u001B[38;5;241;43m.\u001B[39;49m\u001B[43mget_loc\u001B[49m\u001B[43m(\u001B[49m\u001B[43mcasted_key\u001B[49m\u001B[43m)\u001B[49m\n\u001B[1;32m   3362\u001B[0m \u001B[38;5;28;01mexcept\u001B[39;00m \u001B[38;5;167;01mKeyError\u001B[39;00m \u001B[38;5;28;01mas\u001B[39;00m err:\n",
      "File \u001B[0;32m/usr/local/lib/python3.8/site-packages/pandas/_libs/index.pyx:76\u001B[0m, in \u001B[0;36mpandas._libs.index.IndexEngine.get_loc\u001B[0;34m()\u001B[0m\n",
      "File \u001B[0;32m/usr/local/lib/python3.8/site-packages/pandas/_libs/index.pyx:111\u001B[0m, in \u001B[0;36mpandas._libs.index.IndexEngine.get_loc\u001B[0;34m()\u001B[0m\n",
      "\u001B[0;31mKeyError\u001B[0m: 'HE'",
      "\nThe above exception was the direct cause of the following exception:\n",
      "\u001B[0;31mKeyError\u001B[0m                                  Traceback (most recent call last)",
      "Cell \u001B[0;32mIn[126], line 14\u001B[0m\n\u001B[1;32m     12\u001B[0m temp\u001B[38;5;241m.\u001B[39mcolumns \u001B[38;5;241m=\u001B[39m temp\u001B[38;5;241m.\u001B[39miloc[\u001B[38;5;241m0\u001B[39m,:]\n\u001B[1;32m     13\u001B[0m temp \u001B[38;5;241m=\u001B[39m temp\u001B[38;5;241m.\u001B[39miloc[\u001B[38;5;241m1\u001B[39m:,:]\n\u001B[0;32m---> 14\u001B[0m temp \u001B[38;5;241m=\u001B[39m temp[\u001B[43mtemp\u001B[49m\u001B[43m[\u001B[49m\u001B[38;5;124;43m\"\u001B[39;49m\u001B[38;5;124;43mHE\u001B[39;49m\u001B[38;5;124;43m\"\u001B[39;49m\u001B[43m]\u001B[49m\u001B[38;5;241m!=\u001B[39m\u001B[38;5;124m\"\u001B[39m\u001B[38;5;124mSum:\u001B[39m\u001B[38;5;124m\"\u001B[39m]\n\u001B[1;32m     15\u001B[0m temp \u001B[38;5;241m=\u001B[39m temp\u001B[38;5;241m.\u001B[39mdropna()\n\u001B[1;32m     16\u001B[0m temp[\u001B[38;5;124m\"\u001B[39m\u001B[38;5;124mdate\u001B[39m\u001B[38;5;124m\"\u001B[39m] \u001B[38;5;241m=\u001B[39m [f[\u001B[38;5;241m-\u001B[39m\u001B[38;5;241m14\u001B[39m:\u001B[38;5;241m-\u001B[39m\u001B[38;5;241m4\u001B[39m]\u001B[38;5;241m.\u001B[39mreplace(\u001B[38;5;124m\"\u001B[39m\u001B[38;5;124m_\u001B[39m\u001B[38;5;124m\"\u001B[39m,\u001B[38;5;124m\"\u001B[39m\u001B[38;5;124m-\u001B[39m\u001B[38;5;124m\"\u001B[39m) \u001B[38;5;28;01mfor\u001B[39;00m _ \u001B[38;5;129;01min\u001B[39;00m \u001B[38;5;28mrange\u001B[39m(\u001B[38;5;28mlen\u001B[39m(temp))]\n",
      "File \u001B[0;32m/usr/local/lib/python3.8/site-packages/pandas/core/frame.py:3458\u001B[0m, in \u001B[0;36mDataFrame.__getitem__\u001B[0;34m(self, key)\u001B[0m\n\u001B[1;32m   3456\u001B[0m \u001B[38;5;28;01mif\u001B[39;00m \u001B[38;5;28mself\u001B[39m\u001B[38;5;241m.\u001B[39mcolumns\u001B[38;5;241m.\u001B[39mnlevels \u001B[38;5;241m>\u001B[39m \u001B[38;5;241m1\u001B[39m:\n\u001B[1;32m   3457\u001B[0m     \u001B[38;5;28;01mreturn\u001B[39;00m \u001B[38;5;28mself\u001B[39m\u001B[38;5;241m.\u001B[39m_getitem_multilevel(key)\n\u001B[0;32m-> 3458\u001B[0m indexer \u001B[38;5;241m=\u001B[39m \u001B[38;5;28;43mself\u001B[39;49m\u001B[38;5;241;43m.\u001B[39;49m\u001B[43mcolumns\u001B[49m\u001B[38;5;241;43m.\u001B[39;49m\u001B[43mget_loc\u001B[49m\u001B[43m(\u001B[49m\u001B[43mkey\u001B[49m\u001B[43m)\u001B[49m\n\u001B[1;32m   3459\u001B[0m \u001B[38;5;28;01mif\u001B[39;00m is_integer(indexer):\n\u001B[1;32m   3460\u001B[0m     indexer \u001B[38;5;241m=\u001B[39m [indexer]\n",
      "File \u001B[0;32m/usr/local/lib/python3.8/site-packages/pandas/core/indexes/base.py:3363\u001B[0m, in \u001B[0;36mIndex.get_loc\u001B[0;34m(self, key, method, tolerance)\u001B[0m\n\u001B[1;32m   3361\u001B[0m         \u001B[38;5;28;01mreturn\u001B[39;00m \u001B[38;5;28mself\u001B[39m\u001B[38;5;241m.\u001B[39m_engine\u001B[38;5;241m.\u001B[39mget_loc(casted_key)\n\u001B[1;32m   3362\u001B[0m     \u001B[38;5;28;01mexcept\u001B[39;00m \u001B[38;5;167;01mKeyError\u001B[39;00m \u001B[38;5;28;01mas\u001B[39;00m err:\n\u001B[0;32m-> 3363\u001B[0m         \u001B[38;5;28;01mraise\u001B[39;00m \u001B[38;5;167;01mKeyError\u001B[39;00m(key) \u001B[38;5;28;01mfrom\u001B[39;00m \u001B[38;5;21;01merr\u001B[39;00m\n\u001B[1;32m   3365\u001B[0m \u001B[38;5;28;01mif\u001B[39;00m is_scalar(key) \u001B[38;5;129;01mand\u001B[39;00m isna(key) \u001B[38;5;129;01mand\u001B[39;00m \u001B[38;5;129;01mnot\u001B[39;00m \u001B[38;5;28mself\u001B[39m\u001B[38;5;241m.\u001B[39mhasnans:\n\u001B[1;32m   3366\u001B[0m     \u001B[38;5;28;01mraise\u001B[39;00m \u001B[38;5;167;01mKeyError\u001B[39;00m(key)\n",
      "\u001B[0;31mKeyError\u001B[0m: 'HE'"
     ]
    }
   ],
   "source": [
    "ISO_done = [\"MISO\"]\n",
    "FILE_PATH = \"/Users/evanlipton/Dropbox (YSE)/Solar_ElectricData/Data/MISO/new\"\n",
    "for file in (listdir_nohidden(FILE_PATH)):\n",
    "    if file in [\"generation_rt\", \"generation_da\"]:\n",
    "        dfs = []\n",
    "        for f in tqdm(listdir_nohidden(f\"{FILE_PATH}/{file}\")):\n",
    "            temp = pd.read_csv(f\"{FILE_PATH}/{file}/{f}\")\n",
    "            temp1 = temp[temp.eq(\"Total\").any(1)].reset_index()\n",
    "            temp2 = temp1.iloc[0,:]\n",
    "            col = int(test2.index[test2 == \"Total\"][0].replace(\"Unnamed: \", \"\"))\n",
    "            temp = temp.iloc[3:,(col+1):]\n",
    "            temp.columns = temp.iloc[0,:]\n",
    "            temp = temp.iloc[1:,:]\n",
    "            temp = temp[temp[\"HE\"]!=\"Sum:\"]\n",
    "            temp = temp.dropna()\n",
    "            temp[\"date\"] = [f[-14:-4].replace(\"_\",\"-\") for _ in range(len(temp))]\n",
    "\n",
    "        temp = pd.concat(dfs)\n",
    "        os.makedirs(f\"{FILE_PATH}/combined\", exist_ok=True)\n",
    "        temp.to_csv(f\"{FILE_PATH}/combined/{file}.csv\")"
   ],
   "metadata": {
    "collapsed": false
   }
  },
  {
   "cell_type": "code",
   "execution_count": null,
   "outputs": [],
   "source": [],
   "metadata": {
    "collapsed": false
   }
  }
 ],
 "metadata": {
  "kernelspec": {
   "display_name": "Python 3",
   "language": "python",
   "name": "python3"
  },
  "language_info": {
   "codemirror_mode": {
    "name": "ipython",
    "version": 2
   },
   "file_extension": ".py",
   "mimetype": "text/x-python",
   "name": "python",
   "nbconvert_exporter": "python",
   "pygments_lexer": "ipython2",
   "version": "2.7.6"
  }
 },
 "nbformat": 4,
 "nbformat_minor": 0
}
