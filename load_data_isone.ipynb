{
 "cells": [
  {
   "cell_type": "code",
   "execution_count": 1,
   "outputs": [],
   "source": [
    "import numpy as np\n",
    "import pandas as pd\n",
    "import os\n",
    "import re\n",
    "from tqdm import tqdm\n",
    "import requests\n",
    "from io import StringIO\n",
    "from os import listdir\n",
    "from os.path import isfile, join\n",
    "import datetime as dt\n",
    "from datetime import datetime, timedelta\n",
    "\n",
    "import gridstatus"
   ],
   "metadata": {
    "collapsed": false
   }
  },
  {
   "cell_type": "code",
   "execution_count": 2,
   "outputs": [],
   "source": [
    "def listdir_nohidden(path):\n",
    "    for f in os.listdir(path):\n",
    "        if not f.startswith('.'):\n",
    "            yield f\n",
    "\n"
   ],
   "metadata": {
    "collapsed": false
   }
  },
  {
   "cell_type": "code",
   "execution_count": 3,
   "outputs": [],
   "source": [
    "FILE_PATH = \"/Users/evanlipton/Dropbox (YSE)/Solar_ElectricData/Data\""
   ],
   "metadata": {
    "collapsed": false
   }
  },
  {
   "cell_type": "code",
   "execution_count": 4,
   "outputs": [],
   "source": [
    "ISOS = [\"ISONE\"]"
   ],
   "metadata": {
    "collapsed": false
   }
  },
  {
   "cell_type": "code",
   "execution_count": 37,
   "outputs": [
    {
     "name": "stderr",
     "output_type": "stream",
     "text": [
      "19it [00:01, 10.94it/s]\n"
     ]
    }
   ],
   "source": [
    "ISO_files = {}\n",
    "ISO_data = {}\n",
    "ISO_final = {}\n",
    "\n",
    "#load in\n",
    "for ISO in ISOS:\n",
    "    ISO_files[ISO] = listdir_nohidden(f\"{FILE_PATH}/{ISO}/old\")\n",
    "    ISO_data[ISO] = {}\n",
    "    for file in tqdm(ISO_files[ISO]):\n",
    "        compiled = re.compile(re.escape(f\"{ISO}_\"), re.IGNORECASE)\n",
    "\n",
    "        ISO_data[ISO][compiled.sub(\"\", file).replace(\".csv\",\"\")] = pd.read_csv(f\"{FILE_PATH}/{ISO}/old/{file}\")"
   ],
   "metadata": {
    "collapsed": false
   }
  },
  {
   "cell_type": "code",
   "execution_count": 38,
   "outputs": [
    {
     "name": "stdout",
     "output_type": "stream",
     "text": [
      "ISONE\n"
     ]
    }
   ],
   "source": [
    "#add merge datetime\n",
    "titles = {}\n",
    "for key in ISO_data:\n",
    "    print(key)\n",
    "    titles[key]= []\n",
    "    for k in ISO_data[key]:\n",
    "        try:\n",
    "            ISO_data[key][k][\"time_tomerge\"] = pd.to_datetime(ISO_data[key][k].iloc[:,0], utc=True)\n",
    "        except:\n",
    "            ISO_data[key][k] = ISO_data[key][k][ISO_data[key][k].index % 24 != 0]\n",
    "            ISO_data[key][k][\"time_tomerge\"] = pd.to_datetime(ISO_data[key][k].iloc[:,0], utc=True)\n",
    "            print(type(ISO_data[key][k][\"time_tomerge\"]))"
   ],
   "metadata": {
    "collapsed": false
   }
  },
  {
   "cell_type": "code",
   "execution_count": 39,
   "outputs": [],
   "source": [
    "ISO_final = {}\n",
    "def clean_final(ISO: str, df: str):\n",
    "    ISO_data[ISO][df].columns = ISO_data[ISO][df].columns.str.lower()\n",
    "    no_date = [col for col in ISO_data[ISO][df].columns if \"date\" not in col]\n",
    "    ISO_data[ISO][df] = ISO_data[ISO][df][no_date]\n",
    "    try:\n",
    "        ISO_data[ISO][df] = ISO_data[ISO][df].drop(\"unnamed: 0\")\n",
    "        ISO_data[ISO][df] = ISO_data[ISO][df].drop(\"hour\")\n",
    "    except:\n",
    "        pass\n",
    "    ISO_data[ISO][df] = ISO_data[ISO][df].sort_values(by=\"time_tomerge\")\n",
    "    ISO_data[ISO][df] = ISO_data[ISO][df].set_index(\"time_tomerge\")\n",
    "    ISO_final[ISO] = ISO_data[ISO][df]\n",
    "    for column in ISO_final[ISO].columns:\n",
    "        if str(ISO).lower() in column:\n",
    "            ISO_final[ISO] = ISO_final[ISO].rename(columns={column: column.replace(f\"{str(ISO).lower()}_\",\"\")})\n",
    "    print(ISO_final[ISO])"
   ],
   "metadata": {
    "collapsed": false
   }
  },
  {
   "cell_type": "code",
   "execution_count": 40,
   "outputs": [
    {
     "name": "stdout",
     "output_type": "stream",
     "text": [
      "                           congestion_da  congestion_rt  energy_da  energy_rt  \\\n",
      "time_tomerge                                                                    \n",
      "2014-01-01 05:00:00+00:00            0.0        0.00000      62.04     117.43   \n",
      "2014-01-01 06:00:00+00:00            0.0        0.00000      54.65     148.38   \n",
      "2014-01-01 07:00:00+00:00            0.0        0.00000      38.40      97.06   \n",
      "2014-01-01 08:00:00+00:00            0.0        0.00000      38.02      38.54   \n",
      "2014-01-01 09:00:00+00:00            0.0        0.00000      37.48      79.01   \n",
      "...                                  ...            ...        ...        ...   \n",
      "2019-01-01 00:00:00+00:00            0.0       -0.01875      69.19      24.96   \n",
      "2019-01-01 01:00:00+00:00            0.0       -0.01125      68.83      21.33   \n",
      "2019-01-01 02:00:00+00:00            0.0        0.00000      59.21      22.37   \n",
      "2019-01-01 03:00:00+00:00            0.0        0.00000      53.27      24.91   \n",
      "2019-01-01 04:00:00+00:00            0.0        0.00000      56.03      39.89   \n",
      "\n",
      "                           exchange_rt                 unnamed: 0  gas_price  \\\n",
      "time_tomerge                                                                   \n",
      "2014-01-01 05:00:00+00:00     -3134.00  2014-01-01 00:00:00-05:00  20.151667   \n",
      "2014-01-01 06:00:00+00:00     -3168.00  2014-01-01 01:00:00-05:00  20.151667   \n",
      "2014-01-01 07:00:00+00:00     -3550.00  2014-01-01 02:00:00-05:00  20.151667   \n",
      "2014-01-01 08:00:00+00:00     -3883.00  2014-01-01 03:00:00-05:00  20.151667   \n",
      "2014-01-01 09:00:00+00:00     -3806.00  2014-01-01 04:00:00-05:00  20.151667   \n",
      "...                                ...                        ...        ...   \n",
      "2019-01-01 00:00:00+00:00     -2806.00  2018-12-31 19:00:00-05:00   3.342333   \n",
      "2019-01-01 01:00:00+00:00     -2731.00  2018-12-31 20:00:00-05:00   3.342333   \n",
      "2019-01-01 02:00:00+00:00     -3036.75  2018-12-31 21:00:00-05:00   3.342333   \n",
      "2019-01-01 03:00:00+00:00     -2898.25  2018-12-31 22:00:00-05:00   3.342333   \n",
      "2019-01-01 04:00:00+00:00     -2466.50  2018-12-31 23:00:00-05:00   3.342333   \n",
      "\n",
      "                           gen_coal    gen_hydro  gen_landfillgas  ...  \\\n",
      "time_tomerge                                                       ...   \n",
      "2014-01-01 05:00:00+00:00       NaN          NaN              NaN  ...   \n",
      "2014-01-01 06:00:00+00:00       NaN          NaN              NaN  ...   \n",
      "2014-01-01 07:00:00+00:00       NaN          NaN              NaN  ...   \n",
      "2014-01-01 08:00:00+00:00       NaN          NaN              NaN  ...   \n",
      "2014-01-01 09:00:00+00:00       NaN          NaN              NaN  ...   \n",
      "...                             ...          ...              ...  ...   \n",
      "2019-01-01 00:00:00+00:00  3.142857  1418.142857        25.000000  ...   \n",
      "2019-01-01 01:00:00+00:00  2.000000  1218.875000        25.000000  ...   \n",
      "2019-01-01 02:00:00+00:00  2.750000  1050.714286        25.000000  ...   \n",
      "2019-01-01 03:00:00+00:00  1.000000  1038.000000        25.222222  ...   \n",
      "2019-01-01 04:00:00+00:00       NaN  1426.666667        25.888889  ...   \n",
      "\n",
      "                             gen_wood   load_rt  losses_da  losses_rt  \\\n",
      "time_tomerge                                                            \n",
      "2014-01-01 05:00:00+00:00         NaN  14312.05   -0.17375   -0.05125   \n",
      "2014-01-01 06:00:00+00:00         NaN  14235.98   -0.15500   -0.02375   \n",
      "2014-01-01 07:00:00+00:00         NaN  14364.54   -0.07500   -0.02875   \n",
      "2014-01-01 08:00:00+00:00         NaN  14258.79   -0.09625   -0.03625   \n",
      "2014-01-01 09:00:00+00:00         NaN  14300.04   -0.08875   -0.08000   \n",
      "...                               ...       ...        ...        ...   \n",
      "2019-01-01 00:00:00+00:00  356.000000  14829.33   -0.27375   -0.02500   \n",
      "2019-01-01 01:00:00+00:00  354.375000  14118.90   -0.32500   -0.03250   \n",
      "2019-01-01 02:00:00+00:00  352.142857  13481.26   -0.27625   -0.01625   \n",
      "2019-01-01 03:00:00+00:00  352.666667  12795.10   -0.22875   -0.01375   \n",
      "2019-01-01 04:00:00+00:00  362.888889  12131.76   -0.19000   -0.03875   \n",
      "\n",
      "                           regulation_price  regulation_quantity  \\\n",
      "time_tomerge                                                       \n",
      "2014-01-01 05:00:00+00:00             38.92                38.92   \n",
      "2014-01-01 06:00:00+00:00             59.24                59.24   \n",
      "2014-01-01 07:00:00+00:00             43.18                43.18   \n",
      "2014-01-01 08:00:00+00:00             81.93                81.93   \n",
      "2014-01-01 09:00:00+00:00             49.27                49.27   \n",
      "...                                     ...                  ...   \n",
      "2019-01-01 00:00:00+00:00               NaN                  NaN   \n",
      "2019-01-01 01:00:00+00:00               NaN                  NaN   \n",
      "2019-01-01 02:00:00+00:00               NaN                  NaN   \n",
      "2019-01-01 03:00:00+00:00               NaN                  NaN   \n",
      "2019-01-01 04:00:00+00:00               NaN                  NaN   \n",
      "\n",
      "                           reserves_price  reserves_quantity  gen_solar2  \\\n",
      "time_tomerge                                                               \n",
      "2014-01-01 05:00:00+00:00            0.00            526.100         0.0   \n",
      "2014-01-01 06:00:00+00:00            0.00            441.233         0.0   \n",
      "2014-01-01 07:00:00+00:00            0.00            541.325         0.0   \n",
      "2014-01-01 08:00:00+00:00            0.00            641.900         0.0   \n",
      "2014-01-01 09:00:00+00:00            0.00            651.575         0.0   \n",
      "...                                   ...                ...         ...   \n",
      "2019-01-01 00:00:00+00:00            0.00            480.533         0.0   \n",
      "2019-01-01 01:00:00+00:00            0.00            469.825         0.0   \n",
      "2019-01-01 02:00:00+00:00            0.00            282.300         0.0   \n",
      "2019-01-01 03:00:00+00:00            0.11            185.142         0.0   \n",
      "2019-01-01 04:00:00+00:00           27.05            215.475         0.0   \n",
      "\n",
      "                           gen_wind2  \n",
      "time_tomerge                          \n",
      "2014-01-01 05:00:00+00:00    326.311  \n",
      "2014-01-01 06:00:00+00:00    315.052  \n",
      "2014-01-01 07:00:00+00:00    313.679  \n",
      "2014-01-01 08:00:00+00:00    339.119  \n",
      "2014-01-01 09:00:00+00:00    323.333  \n",
      "...                              ...  \n",
      "2019-01-01 00:00:00+00:00    442.529  \n",
      "2019-01-01 01:00:00+00:00    481.186  \n",
      "2019-01-01 02:00:00+00:00    521.210  \n",
      "2019-01-01 03:00:00+00:00    538.620  \n",
      "2019-01-01 04:00:00+00:00    625.168  \n",
      "\n",
      "[43824 rows x 27 columns]\n"
     ]
    }
   ],
   "source": [
    "for iso in ISOS:\n",
    "    clean_final(iso, \"all_data\")"
   ],
   "metadata": {
    "collapsed": false
   }
  },
  {
   "cell_type": "code",
   "execution_count": 41,
   "outputs": [
    {
     "data": {
      "text/plain": "Index(['congestion_da', 'congestion_rt', 'energy_da', 'energy_rt',\n       'exchange_rt', 'unnamed: 0', 'gas_price', 'gen_coal', 'gen_hydro',\n       'gen_landfillgas', 'gen_gas', 'gen_nuclear', 'gen_oil', 'gen_other',\n       'gen_refuse', 'gen_solar', 'gen_wind', 'gen_wood', 'load_rt',\n       'losses_da', 'losses_rt', 'regulation_price', 'regulation_quantity',\n       'reserves_price', 'reserves_quantity', 'gen_solar2', 'gen_wind2'],\n      dtype='object')"
     },
     "execution_count": 41,
     "metadata": {},
     "output_type": "execute_result"
    }
   ],
   "source": [
    "ISO_final[\"ISONE\"].columns"
   ],
   "metadata": {
    "collapsed": false
   }
  },
  {
   "cell_type": "code",
   "execution_count": 42,
   "outputs": [],
   "source": [
    "from datetime import datetime, timedelta\n",
    "def date_range(start_date, end_date):\n",
    "    date_list = []\n",
    "    current = start_date\n",
    "    end_dt = end_date\n",
    "    for n in range(int((end_dt - current).days)+1):\n",
    "        d = current + timedelta(n)\n",
    "        date_list.append(d.strftime('%Y-%m-%d'))\n",
    "    return [date.replace(\"-\", \"\") for date in date_list]\n",
    "\n",
    "\n"
   ],
   "metadata": {
    "collapsed": false
   }
  },
  {
   "cell_type": "markdown",
   "source": [
    "##FOR COMBINING DATA\n",
    "ISO_done = [\"ISONE\"]\n",
    "FILE_PATH = \"/Users/evanlipton/Dropbox (YSE)/Solar_ElectricData/Data/ISONE/new\"\n",
    "for file in (listdir_nohidden(FILE_PATH)):\n",
    "    if file in [\"wind_gen\", \"solar_gen\"]:\n",
    "        dfs = []\n",
    "        try:\n",
    "            for f in tqdm(listdir_nohidden(f\"{FILE_PATH}/{file}\")):\n",
    "                dfs.append(pd.read_csv(f\"{FILE_PATH}/{file}/{f}\", skiprows=4).iloc[1:,:])\n",
    "        except:\n",
    "            for f in tqdm(listdir_nohidden(f\"{FILE_PATH}/{file}\")):\n",
    "                print(f)\n",
    "                dfs.append(pd.read_csv(f\"{FILE_PATH}/{file}/{f}\"))\n",
    "        temp = pd.concat(dfs)\n",
    "        os.makedirs(f\"{FILE_PATH}/combined\", exist_ok=True)\n",
    "        temp.to_csv(f\"{FILE_PATH}/combined/{file}.csv\")"
   ],
   "metadata": {
    "collapsed": false
   }
  },
  {
   "cell_type": "code",
   "execution_count": 11,
   "outputs": [
    {
     "name": "stderr",
     "output_type": "stream",
     "text": [
      "/usr/local/lib/python3.8/site-packages/IPython/core/interactiveshell.py:3442: DtypeWarning: Columns (3) have mixed types.Specify dtype option on import or set low_memory=False.\n",
      "  exec(code_obj, self.user_global_ns, self.user_ns)\n"
     ]
    }
   ],
   "source": [
    "energy_da = pd.read_csv(\"/Users/evanlipton/Dropbox (YSE)/Solar_ElectricData/Data/ISONE/new/combined/energy_da.csv\")\n",
    "energy_da = energy_da[energy_da[\"Location Name\"] == \".H.INTERNAL_HUB\"]\n",
    "energy_rt = pd.read_csv(\"/Users/evanlipton/Dropbox (YSE)/Solar_ElectricData/Data/ISONE/new/combined/energy_rt.csv\")\n",
    "energy_rt = energy_rt[energy_rt[\"Location Name\"] == \".H.INTERNAL_HUB\"]\n"
   ],
   "metadata": {
    "collapsed": false
   }
  },
  {
   "cell_type": "code",
   "execution_count": 11,
   "outputs": [],
   "source": [],
   "metadata": {
    "collapsed": false
   }
  },
  {
   "cell_type": "code",
   "execution_count": 11,
   "outputs": [],
   "source": [],
   "metadata": {
    "collapsed": false
   }
  },
  {
   "cell_type": "code",
   "execution_count": 12,
   "outputs": [],
   "source": [
    "def clean_frame(energy: pd.DataFrame, group_cols: list, to_keep_cols: list, date_format: str):\n",
    "\n",
    "    #remove the daylight savings hours\n",
    "    energy= energy[energy[group_cols[1]] != \"02X\"]\n",
    "\n",
    "    #groupby and average\n",
    "    energy_mean = pd.DataFrame(energy.groupby(group_cols)[to_keep_cols].mean())\n",
    "\n",
    "    #construct the times\n",
    "    time_tomerge = []\n",
    "\n",
    "    for i in tqdm(range(len(energy_mean))):\n",
    "        try:\n",
    "            time_tomerge.append(datetime.strptime(str(energy_mean.index[i][0]), date_format) + timedelta(hours = int(energy_mean.index[i][1])))\n",
    "        except:\n",
    "            print(energy_mean.index[i])\n",
    "\n",
    "\n",
    "    energy_mean['time_tomerge'] = time_tomerge\n",
    "    energy_mean = energy_mean.sort_values(by='time_tomerge')\n",
    "    energy_mean = energy_mean.reset_index(drop=True)\n",
    "\n",
    "    return energy_mean"
   ],
   "metadata": {
    "collapsed": false
   }
  },
  {
   "cell_type": "code",
   "execution_count": 13,
   "outputs": [
    {
     "name": "stderr",
     "output_type": "stream",
     "text": [
      "100%|██████████| 35060/35060 [00:01<00:00, 23243.17it/s]\n",
      "100%|██████████| 35012/35012 [00:01<00:00, 22364.72it/s]\n"
     ]
    }
   ],
   "source": [
    "energy_da = clean_frame(energy_da, ['Date', \"Hour Ending\"], ['Locational Marginal Price', 'Energy Component', 'Congestion Component', 'Marginal Loss Component'],'%m/%d/%Y')\n",
    "energy_rt = clean_frame(energy_rt, ['Date', \"Hour Ending\"], ['Locational Marginal Price', 'Energy Component', 'Congestion Component', 'Marginal Loss Component'], '%m/%d/%Y')\n"
   ],
   "metadata": {
    "collapsed": false
   }
  },
  {
   "cell_type": "code",
   "execution_count": 14,
   "outputs": [
    {
     "name": "stdout",
     "output_type": "stream",
     "text": [
      "       Locational Marginal Price  Energy Component  Congestion Component  \\\n",
      "0                          35.65             35.42                  0.04   \n",
      "1                          38.63             38.38                  0.00   \n",
      "2                          21.23             21.09                  0.00   \n",
      "3                          18.45             18.29                  0.03   \n",
      "4                           7.54              7.48                  0.01   \n",
      "...                          ...               ...                   ...   \n",
      "35007                      26.36             26.27                  0.00   \n",
      "35008                      25.38             25.31                  0.00   \n",
      "35009                      31.80             31.69                  0.00   \n",
      "35010                      44.29             44.16                  0.00   \n",
      "35011                      58.75             58.63                  0.00   \n",
      "\n",
      "       Marginal Loss Component        time_tomerge  \n",
      "0                         0.19 2019-01-01 01:00:00  \n",
      "1                         0.25 2019-01-01 02:00:00  \n",
      "2                         0.14 2019-01-01 03:00:00  \n",
      "3                         0.13 2019-01-01 04:00:00  \n",
      "4                         0.05 2019-01-01 05:00:00  \n",
      "...                        ...                 ...  \n",
      "35007                     0.09 2022-12-31 20:00:00  \n",
      "35008                     0.07 2022-12-31 21:00:00  \n",
      "35009                     0.11 2022-12-31 22:00:00  \n",
      "35010                     0.13 2022-12-31 23:00:00  \n",
      "35011                     0.12 2023-01-01 00:00:00  \n",
      "\n",
      "[35012 rows x 5 columns]\n"
     ]
    }
   ],
   "source": [
    "print(energy_rt)"
   ],
   "metadata": {
    "collapsed": false
   }
  },
  {
   "cell_type": "code",
   "execution_count": 43,
   "outputs": [
    {
     "name": "stderr",
     "output_type": "stream",
     "text": [
      "100%|██████████| 35034/35034 [00:01<00:00, 17776.39it/s]\n"
     ]
    },
    {
     "name": "stdout",
     "output_type": "stream",
     "text": [
      "       Actual Interchange   Purchases       Sales        time_tomerge\n",
      "0             -458.916667 -619.458333  160.541667 2019-01-01 01:00:00\n",
      "1             -454.416667 -603.875000  149.458333 2019-01-01 02:00:00\n",
      "2             -482.083333 -613.625000  131.541667 2019-01-01 03:00:00\n",
      "3             -486.875000 -679.625000  192.750000 2019-01-01 04:00:00\n",
      "4             -516.666667 -683.166667  166.500000 2019-01-01 05:00:00\n",
      "...                   ...         ...         ...                 ...\n",
      "35029         -474.375000 -683.166667  208.791667 2022-12-31 20:00:00\n",
      "35030         -439.666667 -669.833333  230.166667 2022-12-31 21:00:00\n",
      "35031         -330.916667 -512.583333  181.666667 2022-12-31 22:00:00\n",
      "35032         -309.666667 -503.958333  194.291667 2022-12-31 23:00:00\n",
      "35033         -314.375000 -508.208333  193.833333 2023-01-01 00:00:00\n",
      "\n",
      "[35034 rows x 4 columns]\n"
     ]
    }
   ],
   "source": [
    "exchange = pd.read_csv(\"/Users/evanlipton/Dropbox (YSE)/Solar_ElectricData/Data/ISONE/new/combined/exchange.csv\")\n",
    "exchange = clean_frame(exchange, [\"Local Date\", \"Local Hour Ending\"], [\"Actual Interchange\", \"Purchases\", \"Sales\"], '%Y-%m-%d')\n",
    "print(exchange)"
   ],
   "metadata": {
    "collapsed": false
   }
  },
  {
   "cell_type": "code",
   "execution_count": 44,
   "outputs": [
    {
     "data": {
      "text/plain": "str"
     },
     "execution_count": 44,
     "metadata": {},
     "output_type": "execute_result"
    }
   ],
   "source": [
    "generation = pd.read_csv(\"/Users/evanlipton/Dropbox (YSE)/Solar_ElectricData/Data/ISONE/new/combined/generation.csv\")\n",
    "\n",
    "type(generation['Time'][0])"
   ],
   "metadata": {
    "collapsed": false
   }
  },
  {
   "cell_type": "code",
   "execution_count": 45,
   "outputs": [
    {
     "name": "stdout",
     "output_type": "stream",
     "text": [
      "                   time_tomerge        Hydro  Landfill Gas  Natural Gas  \\\n",
      "0     2019-01-01 00:00:00+00:00  1040.285714     25.285714  2389.571429   \n",
      "1     2019-01-01 01:00:00+00:00   880.333333     25.666667  2421.166667   \n",
      "2     2019-01-01 02:00:00+00:00   902.750000     26.000000  2061.250000   \n",
      "3     2019-01-01 03:00:00+00:00   942.000000     26.000000  1966.125000   \n",
      "4     2019-01-01 04:00:00+00:00   954.285714     25.714286  1859.571429   \n",
      "...                         ...          ...           ...          ...   \n",
      "31706 2022-12-31 19:00:00+00:00  1183.888889     36.000000  5088.222222   \n",
      "31707 2022-12-31 20:00:00+00:00  1142.666667     36.000000  4716.222222   \n",
      "31708 2022-12-31 21:00:00+00:00  1141.750000     36.000000  5001.500000   \n",
      "31709 2022-12-31 22:00:00+00:00  1173.666667     35.888889  4296.666667   \n",
      "31710 2022-12-31 23:00:00+00:00  1210.375000     35.875000  3658.375000   \n",
      "\n",
      "           Nuclear     Other      Refuse  Solar        Wind        Wood  Oil  \\\n",
      "0      4016.714286       NaN  358.142857    0.0  671.142857  368.857143  NaN   \n",
      "1      4017.333333       NaN  361.666667    0.0  751.666667  374.500000  NaN   \n",
      "2      4016.500000       NaN  357.125000    0.0  783.875000  369.000000  NaN   \n",
      "3      4016.125000       NaN  361.625000    0.0  757.625000  365.375000  NaN   \n",
      "4      4016.142857       NaN  355.714286    0.0  648.142857  370.857143  NaN   \n",
      "...            ...       ...         ...    ...         ...         ...  ...   \n",
      "31706  3371.444444  6.777778  323.444444    1.0  318.555556  231.444444  NaN   \n",
      "31707  3371.444444  5.444444  345.666667    1.0  271.666667  231.777778  NaN   \n",
      "31708  3370.750000  4.750000  342.250000    1.0  238.125000  231.125000  NaN   \n",
      "31709  3371.444444  6.888889  333.555556    1.0  207.666667  232.222222  NaN   \n",
      "31710  3371.500000  1.125000  338.000000    1.0  204.375000  232.625000  NaN   \n",
      "\n",
      "           Coal  \n",
      "0      0.000000  \n",
      "1      0.000000  \n",
      "2      0.000000  \n",
      "3      0.000000  \n",
      "4      0.000000  \n",
      "...         ...  \n",
      "31706  0.222222  \n",
      "31707  0.000000  \n",
      "31708  0.000000  \n",
      "31709  0.000000  \n",
      "31710  0.000000  \n",
      "\n",
      "[31711 rows x 12 columns]\n"
     ]
    }
   ],
   "source": [
    "generation = pd.read_csv(\"/Users/evanlipton/Dropbox (YSE)/Solar_ElectricData/Data/ISONE/new/combined/generation.csv\")\n",
    "generation = generation.drop(columns = [\"Unnamed: 0\", \"Unnamed: 0.1\"])\n",
    "generation['time_tomerge'] = pd.to_datetime(generation['Time'], utc=True).dt.floor(\"H\")\n",
    "generation['time_tomerge'] = generation['time_tomerge'] - timedelta(hours=5)\n",
    "generation = pd.DataFrame(generation.groupby([\"time_tomerge\"])[generation.columns[1:-1]].mean())\n",
    "generation = generation.reset_index()\n",
    "print(generation)"
   ],
   "metadata": {
    "collapsed": false
   }
  },
  {
   "cell_type": "code",
   "execution_count": 46,
   "outputs": [
    {
     "name": "stdout",
     "output_type": "stream",
     "text": [
      "       Unnamed: 0  H        Date Hour Ending  Total Load\n",
      "0               1  D  07/16/2019          01    13319.45\n",
      "1               2  D  07/16/2019          02    13012.74\n",
      "2               3  D  07/16/2019          03    12572.27\n",
      "3               4  D  07/16/2019          04    12390.46\n",
      "4               5  D  07/16/2019          05    12192.45\n",
      "...           ... ..         ...         ...         ...\n",
      "35188         308  D  02/28/2019          20    17110.14\n",
      "35189         309  D  02/28/2019          21    16597.57\n",
      "35190         310  D  02/28/2019          22    15759.28\n",
      "35191         311  D  02/28/2019          23    14633.02\n",
      "35192         312  D  02/28/2019          24    13828.94\n",
      "\n",
      "[35066 rows x 5 columns]\n"
     ]
    },
    {
     "name": "stderr",
     "output_type": "stream",
     "text": [
      "100%|██████████| 35060/35060 [00:01<00:00, 25226.16it/s]"
     ]
    },
    {
     "name": "stdout",
     "output_type": "stream",
     "text": [
      "       Total Load        time_tomerge\n",
      "0        11613.92 2019-01-01 01:00:00\n",
      "1        11496.66 2019-01-01 02:00:00\n",
      "2        11368.76 2019-01-01 03:00:00\n",
      "3        11270.26 2019-01-01 04:00:00\n",
      "4        11309.61 2019-01-01 05:00:00\n",
      "...           ...                 ...\n",
      "35055    13362.98 2022-12-31 20:00:00\n",
      "35056    12769.96 2022-12-31 21:00:00\n",
      "35057    12376.44 2022-12-31 22:00:00\n",
      "35058    11509.74 2022-12-31 23:00:00\n",
      "35059    10922.34 2023-01-01 00:00:00\n",
      "\n",
      "[35060 rows x 2 columns]\n"
     ]
    },
    {
     "name": "stderr",
     "output_type": "stream",
     "text": [
      "\n"
     ]
    }
   ],
   "source": [
    "load = pd.read_csv(\"/Users/evanlipton/Dropbox (YSE)/Solar_ElectricData/Data/ISONE/new/combined/load.csv\")\n",
    "load = load.dropna()\n",
    "print(load)\n",
    "load = clean_frame(load, ['Date', \"Hour Ending\"], ['Total Load'],'%m/%d/%Y')\n",
    "print(load)"
   ],
   "metadata": {
    "collapsed": false
   }
  },
  {
   "cell_type": "code",
   "execution_count": 47,
   "outputs": [
    {
     "name": "stderr",
     "output_type": "stream",
     "text": [
      "100%|██████████| 35052/35052 [00:01<00:00, 23991.92it/s]\n"
     ]
    },
    {
     "name": "stdout",
     "output_type": "stream",
     "text": [
      "       Ten-Minute Spinning Reserve Clearing Price  \\\n",
      "0                                           17.10   \n",
      "1                                            0.00   \n",
      "2                                            0.00   \n",
      "3                                            0.00   \n",
      "4                                            0.00   \n",
      "...                                           ...   \n",
      "35047                                        0.00   \n",
      "35048                                        0.00   \n",
      "35049                                        0.00   \n",
      "35050                                        2.54   \n",
      "35051                                        1.56   \n",
      "\n",
      "       Ten-Minute Reserve Clearing Price  Total Reserve Clearing Price  \\\n",
      "0                                    0.0                           0.0   \n",
      "1                                    0.0                           0.0   \n",
      "2                                    0.0                           0.0   \n",
      "3                                    0.0                           0.0   \n",
      "4                                    0.0                           0.0   \n",
      "...                                  ...                           ...   \n",
      "35047                                0.0                           0.0   \n",
      "35048                                0.0                           0.0   \n",
      "35049                                0.0                           0.0   \n",
      "35050                                0.0                           0.0   \n",
      "35051                                0.0                           0.0   \n",
      "\n",
      "       TMSR Designated MW  TMNSR Designated MW  TMOR Designated MW  \\\n",
      "0               130.21875            722.05625           281.40400   \n",
      "1               184.84175            669.89575           387.93125   \n",
      "2               274.18750            694.31875           500.29800   \n",
      "3               357.55625            621.44575           571.64175   \n",
      "4               395.02525            594.05000           606.17700   \n",
      "...                   ...                  ...                 ...   \n",
      "35047           155.33550            839.54375           299.48975   \n",
      "35048           147.73750            828.20000           307.00200   \n",
      "35049           138.71875            556.87500           559.17700   \n",
      "35050           108.40425            693.94175           382.14600   \n",
      "35051           108.02075            707.95000           245.75625   \n",
      "\n",
      "             time_tomerge  \n",
      "0     2019-01-01 01:00:00  \n",
      "1     2019-01-01 02:00:00  \n",
      "2     2019-01-01 03:00:00  \n",
      "3     2019-01-01 04:00:00  \n",
      "4     2019-01-01 05:00:00  \n",
      "...                   ...  \n",
      "35047 2022-12-31 20:00:00  \n",
      "35048 2022-12-31 21:00:00  \n",
      "35049 2022-12-31 22:00:00  \n",
      "35050 2022-12-31 23:00:00  \n",
      "35051 2023-01-01 00:00:00  \n",
      "\n",
      "[35052 rows x 7 columns]\n"
     ]
    }
   ],
   "source": [
    "reserve_prices = pd.read_csv(\"/Users/evanlipton/Dropbox (YSE)/Solar_ElectricData/Data/ISONE/new/combined/reserve_price_quantity.csv\")\n",
    "reserve_prices = reserve_prices.dropna()\n",
    "reserve_prices = clean_frame(reserve_prices, ['Unnamed: 1', 'Unnamed: 2'], [\"Ten-Minute Spinning Reserve Clearing Price\", \"Ten-Minute Reserve Clearing Price\", \"Total Reserve Clearing Price\", \"TMSR Designated MW\",\"TMNSR Designated MW\", \"TMOR Designated MW\"],'%Y-%m-%d')\n",
    "print(reserve_prices)"
   ],
   "metadata": {
    "collapsed": false
   }
  },
  {
   "cell_type": "code",
   "execution_count": 48,
   "outputs": [
    {
     "name": "stderr",
     "output_type": "stream",
     "text": [
      "100%|██████████| 35060/35060 [00:01<00:00, 22874.80it/s]\n",
      "100%|██████████| 35060/35060 [00:01<00:00, 21628.88it/s]\n"
     ]
    }
   ],
   "source": [
    "solar_gen = pd.read_csv(\"/Users/evanlipton/Dropbox (YSE)/Solar_ElectricData/Data/ISONE/new/combined/solar_gen.csv\")\n",
    "wind_gen = pd.read_csv(\"/Users/evanlipton/Dropbox (YSE)/Solar_ElectricData/Data/ISONE/new/combined/wind_gen.csv\")\n",
    "\n",
    "solar_gen = clean_frame(solar_gen, [\"local_day\", \"LOCAL_HOUR_END\"], [\"tot_solar_mwh\", \"_FREQ_\"], \"%d-%b-%y\")\n",
    "wind_gen = clean_frame(wind_gen, [\"local_day\", \"local_hour_end\"], [\"tot_wind_mwh\", \"_FREQ_\"], \"%d-%b-%y\")"
   ],
   "metadata": {
    "collapsed": false
   }
  },
  {
   "cell_type": "code",
   "execution_count": 49,
   "outputs": [
    {
     "ename": "KeyError",
     "evalue": "\"['Locational Marginal Price'] not found in axis\"",
     "output_type": "error",
     "traceback": [
      "\u001B[0;31m---------------------------------------------------------------------------\u001B[0m",
      "\u001B[0;31mKeyError\u001B[0m                                  Traceback (most recent call last)",
      "Cell \u001B[0;32mIn[49], line 2\u001B[0m\n\u001B[1;32m      1\u001B[0m energy_rt \u001B[38;5;241m=\u001B[39m energy_rt\u001B[38;5;241m.\u001B[39mrename(columns\u001B[38;5;241m=\u001B[39m{\u001B[38;5;124m\"\u001B[39m\u001B[38;5;124mEnergy Component\u001B[39m\u001B[38;5;124m\"\u001B[39m: \u001B[38;5;124m\"\u001B[39m\u001B[38;5;124menergy_rt\u001B[39m\u001B[38;5;124m\"\u001B[39m, \u001B[38;5;124m\"\u001B[39m\u001B[38;5;124mCongestion Component\u001B[39m\u001B[38;5;124m\"\u001B[39m: \u001B[38;5;124m\"\u001B[39m\u001B[38;5;124mcongestion_rt\u001B[39m\u001B[38;5;124m\"\u001B[39m, \u001B[38;5;124m\"\u001B[39m\u001B[38;5;124mMarginal Loss Component\u001B[39m\u001B[38;5;124m\"\u001B[39m: \u001B[38;5;124m\"\u001B[39m\u001B[38;5;124mlosses_rt\u001B[39m\u001B[38;5;124m\"\u001B[39m})\n\u001B[0;32m----> 2\u001B[0m energy_rt \u001B[38;5;241m=\u001B[39m \u001B[43menergy_rt\u001B[49m\u001B[38;5;241;43m.\u001B[39;49m\u001B[43mdrop\u001B[49m\u001B[43m(\u001B[49m\u001B[43mcolumns\u001B[49m\u001B[43m \u001B[49m\u001B[38;5;241;43m=\u001B[39;49m\u001B[43m \u001B[49m\u001B[43m[\u001B[49m\u001B[38;5;124;43m\"\u001B[39;49m\u001B[38;5;124;43mLocational Marginal Price\u001B[39;49m\u001B[38;5;124;43m\"\u001B[39;49m\u001B[43m]\u001B[49m\u001B[43m)\u001B[49m\n\u001B[1;32m      4\u001B[0m energy_rt\n",
      "File \u001B[0;32m/usr/local/lib/python3.8/site-packages/pandas/util/_decorators.py:311\u001B[0m, in \u001B[0;36mdeprecate_nonkeyword_arguments.<locals>.decorate.<locals>.wrapper\u001B[0;34m(*args, **kwargs)\u001B[0m\n\u001B[1;32m    305\u001B[0m \u001B[38;5;28;01mif\u001B[39;00m \u001B[38;5;28mlen\u001B[39m(args) \u001B[38;5;241m>\u001B[39m num_allow_args:\n\u001B[1;32m    306\u001B[0m     warnings\u001B[38;5;241m.\u001B[39mwarn(\n\u001B[1;32m    307\u001B[0m         msg\u001B[38;5;241m.\u001B[39mformat(arguments\u001B[38;5;241m=\u001B[39marguments),\n\u001B[1;32m    308\u001B[0m         \u001B[38;5;167;01mFutureWarning\u001B[39;00m,\n\u001B[1;32m    309\u001B[0m         stacklevel\u001B[38;5;241m=\u001B[39mstacklevel,\n\u001B[1;32m    310\u001B[0m     )\n\u001B[0;32m--> 311\u001B[0m \u001B[38;5;28;01mreturn\u001B[39;00m \u001B[43mfunc\u001B[49m\u001B[43m(\u001B[49m\u001B[38;5;241;43m*\u001B[39;49m\u001B[43margs\u001B[49m\u001B[43m,\u001B[49m\u001B[43m \u001B[49m\u001B[38;5;241;43m*\u001B[39;49m\u001B[38;5;241;43m*\u001B[39;49m\u001B[43mkwargs\u001B[49m\u001B[43m)\u001B[49m\n",
      "File \u001B[0;32m/usr/local/lib/python3.8/site-packages/pandas/core/frame.py:4906\u001B[0m, in \u001B[0;36mDataFrame.drop\u001B[0;34m(self, labels, axis, index, columns, level, inplace, errors)\u001B[0m\n\u001B[1;32m   4774\u001B[0m \u001B[38;5;129m@deprecate_nonkeyword_arguments\u001B[39m(version\u001B[38;5;241m=\u001B[39m\u001B[38;5;28;01mNone\u001B[39;00m, allowed_args\u001B[38;5;241m=\u001B[39m[\u001B[38;5;124m\"\u001B[39m\u001B[38;5;124mself\u001B[39m\u001B[38;5;124m\"\u001B[39m, \u001B[38;5;124m\"\u001B[39m\u001B[38;5;124mlabels\u001B[39m\u001B[38;5;124m\"\u001B[39m])\n\u001B[1;32m   4775\u001B[0m \u001B[38;5;28;01mdef\u001B[39;00m \u001B[38;5;21mdrop\u001B[39m(\n\u001B[1;32m   4776\u001B[0m     \u001B[38;5;28mself\u001B[39m,\n\u001B[0;32m   (...)\u001B[0m\n\u001B[1;32m   4783\u001B[0m     errors: \u001B[38;5;28mstr\u001B[39m \u001B[38;5;241m=\u001B[39m \u001B[38;5;124m\"\u001B[39m\u001B[38;5;124mraise\u001B[39m\u001B[38;5;124m\"\u001B[39m,\n\u001B[1;32m   4784\u001B[0m ):\n\u001B[1;32m   4785\u001B[0m \u001B[38;5;250m    \u001B[39m\u001B[38;5;124;03m\"\"\"\u001B[39;00m\n\u001B[1;32m   4786\u001B[0m \u001B[38;5;124;03m    Drop specified labels from rows or columns.\u001B[39;00m\n\u001B[1;32m   4787\u001B[0m \n\u001B[0;32m   (...)\u001B[0m\n\u001B[1;32m   4904\u001B[0m \u001B[38;5;124;03m            weight  1.0     0.8\u001B[39;00m\n\u001B[1;32m   4905\u001B[0m \u001B[38;5;124;03m    \"\"\"\u001B[39;00m\n\u001B[0;32m-> 4906\u001B[0m     \u001B[38;5;28;01mreturn\u001B[39;00m \u001B[38;5;28;43msuper\u001B[39;49m\u001B[43m(\u001B[49m\u001B[43m)\u001B[49m\u001B[38;5;241;43m.\u001B[39;49m\u001B[43mdrop\u001B[49m\u001B[43m(\u001B[49m\n\u001B[1;32m   4907\u001B[0m \u001B[43m        \u001B[49m\u001B[43mlabels\u001B[49m\u001B[38;5;241;43m=\u001B[39;49m\u001B[43mlabels\u001B[49m\u001B[43m,\u001B[49m\n\u001B[1;32m   4908\u001B[0m \u001B[43m        \u001B[49m\u001B[43maxis\u001B[49m\u001B[38;5;241;43m=\u001B[39;49m\u001B[43maxis\u001B[49m\u001B[43m,\u001B[49m\n\u001B[1;32m   4909\u001B[0m \u001B[43m        \u001B[49m\u001B[43mindex\u001B[49m\u001B[38;5;241;43m=\u001B[39;49m\u001B[43mindex\u001B[49m\u001B[43m,\u001B[49m\n\u001B[1;32m   4910\u001B[0m \u001B[43m        \u001B[49m\u001B[43mcolumns\u001B[49m\u001B[38;5;241;43m=\u001B[39;49m\u001B[43mcolumns\u001B[49m\u001B[43m,\u001B[49m\n\u001B[1;32m   4911\u001B[0m \u001B[43m        \u001B[49m\u001B[43mlevel\u001B[49m\u001B[38;5;241;43m=\u001B[39;49m\u001B[43mlevel\u001B[49m\u001B[43m,\u001B[49m\n\u001B[1;32m   4912\u001B[0m \u001B[43m        \u001B[49m\u001B[43minplace\u001B[49m\u001B[38;5;241;43m=\u001B[39;49m\u001B[43minplace\u001B[49m\u001B[43m,\u001B[49m\n\u001B[1;32m   4913\u001B[0m \u001B[43m        \u001B[49m\u001B[43merrors\u001B[49m\u001B[38;5;241;43m=\u001B[39;49m\u001B[43merrors\u001B[49m\u001B[43m,\u001B[49m\n\u001B[1;32m   4914\u001B[0m \u001B[43m    \u001B[49m\u001B[43m)\u001B[49m\n",
      "File \u001B[0;32m/usr/local/lib/python3.8/site-packages/pandas/core/generic.py:4150\u001B[0m, in \u001B[0;36mNDFrame.drop\u001B[0;34m(self, labels, axis, index, columns, level, inplace, errors)\u001B[0m\n\u001B[1;32m   4148\u001B[0m \u001B[38;5;28;01mfor\u001B[39;00m axis, labels \u001B[38;5;129;01min\u001B[39;00m axes\u001B[38;5;241m.\u001B[39mitems():\n\u001B[1;32m   4149\u001B[0m     \u001B[38;5;28;01mif\u001B[39;00m labels \u001B[38;5;129;01mis\u001B[39;00m \u001B[38;5;129;01mnot\u001B[39;00m \u001B[38;5;28;01mNone\u001B[39;00m:\n\u001B[0;32m-> 4150\u001B[0m         obj \u001B[38;5;241m=\u001B[39m \u001B[43mobj\u001B[49m\u001B[38;5;241;43m.\u001B[39;49m\u001B[43m_drop_axis\u001B[49m\u001B[43m(\u001B[49m\u001B[43mlabels\u001B[49m\u001B[43m,\u001B[49m\u001B[43m \u001B[49m\u001B[43maxis\u001B[49m\u001B[43m,\u001B[49m\u001B[43m \u001B[49m\u001B[43mlevel\u001B[49m\u001B[38;5;241;43m=\u001B[39;49m\u001B[43mlevel\u001B[49m\u001B[43m,\u001B[49m\u001B[43m \u001B[49m\u001B[43merrors\u001B[49m\u001B[38;5;241;43m=\u001B[39;49m\u001B[43merrors\u001B[49m\u001B[43m)\u001B[49m\n\u001B[1;32m   4152\u001B[0m \u001B[38;5;28;01mif\u001B[39;00m inplace:\n\u001B[1;32m   4153\u001B[0m     \u001B[38;5;28mself\u001B[39m\u001B[38;5;241m.\u001B[39m_update_inplace(obj)\n",
      "File \u001B[0;32m/usr/local/lib/python3.8/site-packages/pandas/core/generic.py:4185\u001B[0m, in \u001B[0;36mNDFrame._drop_axis\u001B[0;34m(self, labels, axis, level, errors)\u001B[0m\n\u001B[1;32m   4183\u001B[0m         new_axis \u001B[38;5;241m=\u001B[39m axis\u001B[38;5;241m.\u001B[39mdrop(labels, level\u001B[38;5;241m=\u001B[39mlevel, errors\u001B[38;5;241m=\u001B[39merrors)\n\u001B[1;32m   4184\u001B[0m     \u001B[38;5;28;01melse\u001B[39;00m:\n\u001B[0;32m-> 4185\u001B[0m         new_axis \u001B[38;5;241m=\u001B[39m \u001B[43maxis\u001B[49m\u001B[38;5;241;43m.\u001B[39;49m\u001B[43mdrop\u001B[49m\u001B[43m(\u001B[49m\u001B[43mlabels\u001B[49m\u001B[43m,\u001B[49m\u001B[43m \u001B[49m\u001B[43merrors\u001B[49m\u001B[38;5;241;43m=\u001B[39;49m\u001B[43merrors\u001B[49m\u001B[43m)\u001B[49m\n\u001B[1;32m   4186\u001B[0m     result \u001B[38;5;241m=\u001B[39m \u001B[38;5;28mself\u001B[39m\u001B[38;5;241m.\u001B[39mreindex(\u001B[38;5;241m*\u001B[39m\u001B[38;5;241m*\u001B[39m{axis_name: new_axis})\n\u001B[1;32m   4188\u001B[0m \u001B[38;5;66;03m# Case for non-unique axis\u001B[39;00m\n\u001B[1;32m   4189\u001B[0m \u001B[38;5;28;01melse\u001B[39;00m:\n",
      "File \u001B[0;32m/usr/local/lib/python3.8/site-packages/pandas/core/indexes/base.py:6017\u001B[0m, in \u001B[0;36mIndex.drop\u001B[0;34m(self, labels, errors)\u001B[0m\n\u001B[1;32m   6015\u001B[0m \u001B[38;5;28;01mif\u001B[39;00m mask\u001B[38;5;241m.\u001B[39many():\n\u001B[1;32m   6016\u001B[0m     \u001B[38;5;28;01mif\u001B[39;00m errors \u001B[38;5;241m!=\u001B[39m \u001B[38;5;124m\"\u001B[39m\u001B[38;5;124mignore\u001B[39m\u001B[38;5;124m\"\u001B[39m:\n\u001B[0;32m-> 6017\u001B[0m         \u001B[38;5;28;01mraise\u001B[39;00m \u001B[38;5;167;01mKeyError\u001B[39;00m(\u001B[38;5;124mf\u001B[39m\u001B[38;5;124m\"\u001B[39m\u001B[38;5;132;01m{\u001B[39;00mlabels[mask]\u001B[38;5;132;01m}\u001B[39;00m\u001B[38;5;124m not found in axis\u001B[39m\u001B[38;5;124m\"\u001B[39m)\n\u001B[1;32m   6018\u001B[0m     indexer \u001B[38;5;241m=\u001B[39m indexer[\u001B[38;5;241m~\u001B[39mmask]\n\u001B[1;32m   6019\u001B[0m \u001B[38;5;28;01mreturn\u001B[39;00m \u001B[38;5;28mself\u001B[39m\u001B[38;5;241m.\u001B[39mdelete(indexer)\n",
      "\u001B[0;31mKeyError\u001B[0m: \"['Locational Marginal Price'] not found in axis\""
     ]
    }
   ],
   "source": [
    "energy_rt = energy_rt.rename(columns={\"Energy Component\": \"energy_rt\", \"Congestion Component\": \"congestion_rt\", \"Marginal Loss Component\": \"losses_rt\"})\n",
    "energy_rt = energy_rt.drop(columns = [\"Locational Marginal Price\"])\n",
    "\n",
    "energy_rt"
   ],
   "metadata": {
    "collapsed": false
   }
  },
  {
   "cell_type": "code",
   "execution_count": 22,
   "outputs": [
    {
     "data": {
      "text/plain": "       energy_da  congestion_da  losses_da        time_tomerge\n0          25.57           0.02       0.04 2019-01-01 01:00:00\n1          20.44           0.01       0.04 2019-01-01 02:00:00\n2          18.84           0.01       0.01 2019-01-01 03:00:00\n3          19.09           0.01       0.02 2019-01-01 04:00:00\n4          17.78           0.00       0.02 2019-01-01 05:00:00\n...          ...            ...        ...                 ...\n35055      38.97           0.00       0.04 2022-12-31 20:00:00\n35056      38.88           0.00       0.00 2022-12-31 21:00:00\n35057      38.73           0.00      -0.05 2022-12-31 22:00:00\n35058      38.69           0.00      -0.04 2022-12-31 23:00:00\n35059      38.95           0.00       0.00 2023-01-01 00:00:00\n\n[35060 rows x 4 columns]",
      "text/html": "<div>\n<style scoped>\n    .dataframe tbody tr th:only-of-type {\n        vertical-align: middle;\n    }\n\n    .dataframe tbody tr th {\n        vertical-align: top;\n    }\n\n    .dataframe thead th {\n        text-align: right;\n    }\n</style>\n<table border=\"1\" class=\"dataframe\">\n  <thead>\n    <tr style=\"text-align: right;\">\n      <th></th>\n      <th>energy_da</th>\n      <th>congestion_da</th>\n      <th>losses_da</th>\n      <th>time_tomerge</th>\n    </tr>\n  </thead>\n  <tbody>\n    <tr>\n      <th>0</th>\n      <td>25.57</td>\n      <td>0.02</td>\n      <td>0.04</td>\n      <td>2019-01-01 01:00:00</td>\n    </tr>\n    <tr>\n      <th>1</th>\n      <td>20.44</td>\n      <td>0.01</td>\n      <td>0.04</td>\n      <td>2019-01-01 02:00:00</td>\n    </tr>\n    <tr>\n      <th>2</th>\n      <td>18.84</td>\n      <td>0.01</td>\n      <td>0.01</td>\n      <td>2019-01-01 03:00:00</td>\n    </tr>\n    <tr>\n      <th>3</th>\n      <td>19.09</td>\n      <td>0.01</td>\n      <td>0.02</td>\n      <td>2019-01-01 04:00:00</td>\n    </tr>\n    <tr>\n      <th>4</th>\n      <td>17.78</td>\n      <td>0.00</td>\n      <td>0.02</td>\n      <td>2019-01-01 05:00:00</td>\n    </tr>\n    <tr>\n      <th>...</th>\n      <td>...</td>\n      <td>...</td>\n      <td>...</td>\n      <td>...</td>\n    </tr>\n    <tr>\n      <th>35055</th>\n      <td>38.97</td>\n      <td>0.00</td>\n      <td>0.04</td>\n      <td>2022-12-31 20:00:00</td>\n    </tr>\n    <tr>\n      <th>35056</th>\n      <td>38.88</td>\n      <td>0.00</td>\n      <td>0.00</td>\n      <td>2022-12-31 21:00:00</td>\n    </tr>\n    <tr>\n      <th>35057</th>\n      <td>38.73</td>\n      <td>0.00</td>\n      <td>-0.05</td>\n      <td>2022-12-31 22:00:00</td>\n    </tr>\n    <tr>\n      <th>35058</th>\n      <td>38.69</td>\n      <td>0.00</td>\n      <td>-0.04</td>\n      <td>2022-12-31 23:00:00</td>\n    </tr>\n    <tr>\n      <th>35059</th>\n      <td>38.95</td>\n      <td>0.00</td>\n      <td>0.00</td>\n      <td>2023-01-01 00:00:00</td>\n    </tr>\n  </tbody>\n</table>\n<p>35060 rows × 4 columns</p>\n</div>"
     },
     "execution_count": 22,
     "metadata": {},
     "output_type": "execute_result"
    }
   ],
   "source": [
    "energy_da = energy_da.rename(columns={\"Energy Component\": \"energy_da\", \"Congestion Component\": \"congestion_da\", \"Marginal Loss Component\": \"losses_da\"})\n",
    "energy_da = energy_da.drop(columns = [\"Locational Marginal Price\"])\n",
    "energy_da"
   ],
   "metadata": {
    "collapsed": false
   }
  },
  {
   "cell_type": "code",
   "execution_count": 50,
   "outputs": [
    {
     "data": {
      "text/plain": "                   time_tomerge    gen_hydro  gen_landfillgas      gen_gas  \\\n0     2019-01-01 00:00:00+00:00  1040.285714        25.285714  2389.571429   \n1     2019-01-01 01:00:00+00:00   880.333333        25.666667  2421.166667   \n2     2019-01-01 02:00:00+00:00   902.750000        26.000000  2061.250000   \n3     2019-01-01 03:00:00+00:00   942.000000        26.000000  1966.125000   \n4     2019-01-01 04:00:00+00:00   954.285714        25.714286  1859.571429   \n...                         ...          ...              ...          ...   \n31706 2022-12-31 19:00:00+00:00  1183.888889        36.000000  5088.222222   \n31707 2022-12-31 20:00:00+00:00  1142.666667        36.000000  4716.222222   \n31708 2022-12-31 21:00:00+00:00  1141.750000        36.000000  5001.500000   \n31709 2022-12-31 22:00:00+00:00  1173.666667        35.888889  4296.666667   \n31710 2022-12-31 23:00:00+00:00  1210.375000        35.875000  3658.375000   \n\n       gen_nuclear  gen_other  gen_refuse  gen_solar    gen_wind    gen_wood  \\\n0      4016.714286        NaN  358.142857        0.0  671.142857  368.857143   \n1      4017.333333        NaN  361.666667        0.0  751.666667  374.500000   \n2      4016.500000        NaN  357.125000        0.0  783.875000  369.000000   \n3      4016.125000        NaN  361.625000        0.0  757.625000  365.375000   \n4      4016.142857        NaN  355.714286        0.0  648.142857  370.857143   \n...            ...        ...         ...        ...         ...         ...   \n31706  3371.444444   6.777778  323.444444        1.0  318.555556  231.444444   \n31707  3371.444444   5.444444  345.666667        1.0  271.666667  231.777778   \n31708  3370.750000   4.750000  342.250000        1.0  238.125000  231.125000   \n31709  3371.444444   6.888889  333.555556        1.0  207.666667  232.222222   \n31710  3371.500000   1.125000  338.000000        1.0  204.375000  232.625000   \n\n       gen_oil  gen_coal  \n0          NaN  0.000000  \n1          NaN  0.000000  \n2          NaN  0.000000  \n3          NaN  0.000000  \n4          NaN  0.000000  \n...        ...       ...  \n31706      NaN  0.222222  \n31707      NaN  0.000000  \n31708      NaN  0.000000  \n31709      NaN  0.000000  \n31710      NaN  0.000000  \n\n[31711 rows x 12 columns]",
      "text/html": "<div>\n<style scoped>\n    .dataframe tbody tr th:only-of-type {\n        vertical-align: middle;\n    }\n\n    .dataframe tbody tr th {\n        vertical-align: top;\n    }\n\n    .dataframe thead th {\n        text-align: right;\n    }\n</style>\n<table border=\"1\" class=\"dataframe\">\n  <thead>\n    <tr style=\"text-align: right;\">\n      <th></th>\n      <th>time_tomerge</th>\n      <th>gen_hydro</th>\n      <th>gen_landfillgas</th>\n      <th>gen_gas</th>\n      <th>gen_nuclear</th>\n      <th>gen_other</th>\n      <th>gen_refuse</th>\n      <th>gen_solar</th>\n      <th>gen_wind</th>\n      <th>gen_wood</th>\n      <th>gen_oil</th>\n      <th>gen_coal</th>\n    </tr>\n  </thead>\n  <tbody>\n    <tr>\n      <th>0</th>\n      <td>2019-01-01 00:00:00+00:00</td>\n      <td>1040.285714</td>\n      <td>25.285714</td>\n      <td>2389.571429</td>\n      <td>4016.714286</td>\n      <td>NaN</td>\n      <td>358.142857</td>\n      <td>0.0</td>\n      <td>671.142857</td>\n      <td>368.857143</td>\n      <td>NaN</td>\n      <td>0.000000</td>\n    </tr>\n    <tr>\n      <th>1</th>\n      <td>2019-01-01 01:00:00+00:00</td>\n      <td>880.333333</td>\n      <td>25.666667</td>\n      <td>2421.166667</td>\n      <td>4017.333333</td>\n      <td>NaN</td>\n      <td>361.666667</td>\n      <td>0.0</td>\n      <td>751.666667</td>\n      <td>374.500000</td>\n      <td>NaN</td>\n      <td>0.000000</td>\n    </tr>\n    <tr>\n      <th>2</th>\n      <td>2019-01-01 02:00:00+00:00</td>\n      <td>902.750000</td>\n      <td>26.000000</td>\n      <td>2061.250000</td>\n      <td>4016.500000</td>\n      <td>NaN</td>\n      <td>357.125000</td>\n      <td>0.0</td>\n      <td>783.875000</td>\n      <td>369.000000</td>\n      <td>NaN</td>\n      <td>0.000000</td>\n    </tr>\n    <tr>\n      <th>3</th>\n      <td>2019-01-01 03:00:00+00:00</td>\n      <td>942.000000</td>\n      <td>26.000000</td>\n      <td>1966.125000</td>\n      <td>4016.125000</td>\n      <td>NaN</td>\n      <td>361.625000</td>\n      <td>0.0</td>\n      <td>757.625000</td>\n      <td>365.375000</td>\n      <td>NaN</td>\n      <td>0.000000</td>\n    </tr>\n    <tr>\n      <th>4</th>\n      <td>2019-01-01 04:00:00+00:00</td>\n      <td>954.285714</td>\n      <td>25.714286</td>\n      <td>1859.571429</td>\n      <td>4016.142857</td>\n      <td>NaN</td>\n      <td>355.714286</td>\n      <td>0.0</td>\n      <td>648.142857</td>\n      <td>370.857143</td>\n      <td>NaN</td>\n      <td>0.000000</td>\n    </tr>\n    <tr>\n      <th>...</th>\n      <td>...</td>\n      <td>...</td>\n      <td>...</td>\n      <td>...</td>\n      <td>...</td>\n      <td>...</td>\n      <td>...</td>\n      <td>...</td>\n      <td>...</td>\n      <td>...</td>\n      <td>...</td>\n      <td>...</td>\n    </tr>\n    <tr>\n      <th>31706</th>\n      <td>2022-12-31 19:00:00+00:00</td>\n      <td>1183.888889</td>\n      <td>36.000000</td>\n      <td>5088.222222</td>\n      <td>3371.444444</td>\n      <td>6.777778</td>\n      <td>323.444444</td>\n      <td>1.0</td>\n      <td>318.555556</td>\n      <td>231.444444</td>\n      <td>NaN</td>\n      <td>0.222222</td>\n    </tr>\n    <tr>\n      <th>31707</th>\n      <td>2022-12-31 20:00:00+00:00</td>\n      <td>1142.666667</td>\n      <td>36.000000</td>\n      <td>4716.222222</td>\n      <td>3371.444444</td>\n      <td>5.444444</td>\n      <td>345.666667</td>\n      <td>1.0</td>\n      <td>271.666667</td>\n      <td>231.777778</td>\n      <td>NaN</td>\n      <td>0.000000</td>\n    </tr>\n    <tr>\n      <th>31708</th>\n      <td>2022-12-31 21:00:00+00:00</td>\n      <td>1141.750000</td>\n      <td>36.000000</td>\n      <td>5001.500000</td>\n      <td>3370.750000</td>\n      <td>4.750000</td>\n      <td>342.250000</td>\n      <td>1.0</td>\n      <td>238.125000</td>\n      <td>231.125000</td>\n      <td>NaN</td>\n      <td>0.000000</td>\n    </tr>\n    <tr>\n      <th>31709</th>\n      <td>2022-12-31 22:00:00+00:00</td>\n      <td>1173.666667</td>\n      <td>35.888889</td>\n      <td>4296.666667</td>\n      <td>3371.444444</td>\n      <td>6.888889</td>\n      <td>333.555556</td>\n      <td>1.0</td>\n      <td>207.666667</td>\n      <td>232.222222</td>\n      <td>NaN</td>\n      <td>0.000000</td>\n    </tr>\n    <tr>\n      <th>31710</th>\n      <td>2022-12-31 23:00:00+00:00</td>\n      <td>1210.375000</td>\n      <td>35.875000</td>\n      <td>3658.375000</td>\n      <td>3371.500000</td>\n      <td>1.125000</td>\n      <td>338.000000</td>\n      <td>1.0</td>\n      <td>204.375000</td>\n      <td>232.625000</td>\n      <td>NaN</td>\n      <td>0.000000</td>\n    </tr>\n  </tbody>\n</table>\n<p>31711 rows × 12 columns</p>\n</div>"
     },
     "execution_count": 50,
     "metadata": {},
     "output_type": "execute_result"
    }
   ],
   "source": [
    "generation = generation.rename(columns = {\"Solar\": \"gen_solar\", \"Wind\": \"gen_wind\", \"Hydro\": \"gen_hydro\", \"Coal\": \"gen_coal\", \"Nuclear\": \"gen_nuclear\", \"Natural Gas\": \"gen_gas\", \"Landfill Gas\": \"gen_landfillgas\", \"Refuse\": \"gen_refuse\", \"Wood\": \"gen_wood\", \"Oil\": \"gen_oil\", \"Other\": \"gen_other\"})\n",
    "generation"
   ],
   "metadata": {
    "collapsed": false
   }
  },
  {
   "cell_type": "code",
   "execution_count": 51,
   "outputs": [
    {
     "data": {
      "text/plain": "        load_rt        time_tomerge\n0      11613.92 2019-01-01 01:00:00\n1      11496.66 2019-01-01 02:00:00\n2      11368.76 2019-01-01 03:00:00\n3      11270.26 2019-01-01 04:00:00\n4      11309.61 2019-01-01 05:00:00\n...         ...                 ...\n35055  13362.98 2022-12-31 20:00:00\n35056  12769.96 2022-12-31 21:00:00\n35057  12376.44 2022-12-31 22:00:00\n35058  11509.74 2022-12-31 23:00:00\n35059  10922.34 2023-01-01 00:00:00\n\n[35060 rows x 2 columns]",
      "text/html": "<div>\n<style scoped>\n    .dataframe tbody tr th:only-of-type {\n        vertical-align: middle;\n    }\n\n    .dataframe tbody tr th {\n        vertical-align: top;\n    }\n\n    .dataframe thead th {\n        text-align: right;\n    }\n</style>\n<table border=\"1\" class=\"dataframe\">\n  <thead>\n    <tr style=\"text-align: right;\">\n      <th></th>\n      <th>load_rt</th>\n      <th>time_tomerge</th>\n    </tr>\n  </thead>\n  <tbody>\n    <tr>\n      <th>0</th>\n      <td>11613.92</td>\n      <td>2019-01-01 01:00:00</td>\n    </tr>\n    <tr>\n      <th>1</th>\n      <td>11496.66</td>\n      <td>2019-01-01 02:00:00</td>\n    </tr>\n    <tr>\n      <th>2</th>\n      <td>11368.76</td>\n      <td>2019-01-01 03:00:00</td>\n    </tr>\n    <tr>\n      <th>3</th>\n      <td>11270.26</td>\n      <td>2019-01-01 04:00:00</td>\n    </tr>\n    <tr>\n      <th>4</th>\n      <td>11309.61</td>\n      <td>2019-01-01 05:00:00</td>\n    </tr>\n    <tr>\n      <th>...</th>\n      <td>...</td>\n      <td>...</td>\n    </tr>\n    <tr>\n      <th>35055</th>\n      <td>13362.98</td>\n      <td>2022-12-31 20:00:00</td>\n    </tr>\n    <tr>\n      <th>35056</th>\n      <td>12769.96</td>\n      <td>2022-12-31 21:00:00</td>\n    </tr>\n    <tr>\n      <th>35057</th>\n      <td>12376.44</td>\n      <td>2022-12-31 22:00:00</td>\n    </tr>\n    <tr>\n      <th>35058</th>\n      <td>11509.74</td>\n      <td>2022-12-31 23:00:00</td>\n    </tr>\n    <tr>\n      <th>35059</th>\n      <td>10922.34</td>\n      <td>2023-01-01 00:00:00</td>\n    </tr>\n  </tbody>\n</table>\n<p>35060 rows × 2 columns</p>\n</div>"
     },
     "execution_count": 51,
     "metadata": {},
     "output_type": "execute_result"
    }
   ],
   "source": [
    "load = load.rename(columns = {\"Total Load\": \"load_rt\"})\n",
    "load"
   ],
   "metadata": {
    "collapsed": false
   }
  },
  {
   "cell_type": "code",
   "execution_count": 52,
   "outputs": [
    {
     "data": {
      "text/plain": "             time_tomerge  reserves_price  reserves_quantity\n0     2019-01-01 01:00:00        5.700000         377.893000\n1     2019-01-01 02:00:00        0.000000         414.222917\n2     2019-01-01 03:00:00        0.000000         489.601417\n3     2019-01-01 04:00:00        0.000000         516.881250\n4     2019-01-01 05:00:00        0.000000         531.750750\n...                   ...             ...                ...\n35047 2022-12-31 20:00:00        0.000000         431.456333\n35048 2022-12-31 21:00:00        0.000000         427.646500\n35049 2022-12-31 22:00:00        0.000000         418.256917\n35050 2022-12-31 23:00:00        0.846667         394.830667\n35051 2023-01-01 00:00:00        0.520000         353.909000\n\n[35052 rows x 3 columns]",
      "text/html": "<div>\n<style scoped>\n    .dataframe tbody tr th:only-of-type {\n        vertical-align: middle;\n    }\n\n    .dataframe tbody tr th {\n        vertical-align: top;\n    }\n\n    .dataframe thead th {\n        text-align: right;\n    }\n</style>\n<table border=\"1\" class=\"dataframe\">\n  <thead>\n    <tr style=\"text-align: right;\">\n      <th></th>\n      <th>time_tomerge</th>\n      <th>reserves_price</th>\n      <th>reserves_quantity</th>\n    </tr>\n  </thead>\n  <tbody>\n    <tr>\n      <th>0</th>\n      <td>2019-01-01 01:00:00</td>\n      <td>5.700000</td>\n      <td>377.893000</td>\n    </tr>\n    <tr>\n      <th>1</th>\n      <td>2019-01-01 02:00:00</td>\n      <td>0.000000</td>\n      <td>414.222917</td>\n    </tr>\n    <tr>\n      <th>2</th>\n      <td>2019-01-01 03:00:00</td>\n      <td>0.000000</td>\n      <td>489.601417</td>\n    </tr>\n    <tr>\n      <th>3</th>\n      <td>2019-01-01 04:00:00</td>\n      <td>0.000000</td>\n      <td>516.881250</td>\n    </tr>\n    <tr>\n      <th>4</th>\n      <td>2019-01-01 05:00:00</td>\n      <td>0.000000</td>\n      <td>531.750750</td>\n    </tr>\n    <tr>\n      <th>...</th>\n      <td>...</td>\n      <td>...</td>\n      <td>...</td>\n    </tr>\n    <tr>\n      <th>35047</th>\n      <td>2022-12-31 20:00:00</td>\n      <td>0.000000</td>\n      <td>431.456333</td>\n    </tr>\n    <tr>\n      <th>35048</th>\n      <td>2022-12-31 21:00:00</td>\n      <td>0.000000</td>\n      <td>427.646500</td>\n    </tr>\n    <tr>\n      <th>35049</th>\n      <td>2022-12-31 22:00:00</td>\n      <td>0.000000</td>\n      <td>418.256917</td>\n    </tr>\n    <tr>\n      <th>35050</th>\n      <td>2022-12-31 23:00:00</td>\n      <td>0.846667</td>\n      <td>394.830667</td>\n    </tr>\n    <tr>\n      <th>35051</th>\n      <td>2023-01-01 00:00:00</td>\n      <td>0.520000</td>\n      <td>353.909000</td>\n    </tr>\n  </tbody>\n</table>\n<p>35052 rows × 3 columns</p>\n</div>"
     },
     "execution_count": 52,
     "metadata": {},
     "output_type": "execute_result"
    }
   ],
   "source": [
    "reserve_prices[\"reserves_price\"] = reserve_prices[['Ten-Minute Spinning Reserve Clearing Price',\n",
    "       'Ten-Minute Reserve Clearing Price', 'Total Reserve Clearing Price']].mean(axis=1)\n",
    "reserve_prices[\"reserves_quantity\"] = reserve_prices[['TMSR Designated MW', 'TMNSR Designated MW', 'TMOR Designated MW']].mean(axis=1)\n",
    "reserve_prices = reserve_prices.drop(columns = ['Ten-Minute Spinning Reserve Clearing Price',\n",
    "       'Ten-Minute Reserve Clearing Price', 'Total Reserve Clearing Price', 'TMSR Designated MW', 'TMNSR Designated MW', 'TMOR Designated MW'])\n",
    "reserve_prices"
   ],
   "metadata": {
    "collapsed": false
   }
  },
  {
   "cell_type": "code",
   "execution_count": 53,
   "outputs": [
    {
     "data": {
      "text/plain": "             time_tomerge  gen_wind2\n0     2019-01-01 01:00:00    683.931\n1     2019-01-01 02:00:00    764.107\n2     2019-01-01 03:00:00    799.717\n3     2019-01-01 04:00:00    770.408\n4     2019-01-01 05:00:00    665.267\n...                   ...        ...\n35055 2022-12-31 20:00:00    322.118\n35056 2022-12-31 21:00:00    283.284\n35057 2022-12-31 22:00:00    240.049\n35058 2022-12-31 23:00:00    216.036\n35059 2023-01-01 00:00:00    209.268\n\n[35060 rows x 2 columns]",
      "text/html": "<div>\n<style scoped>\n    .dataframe tbody tr th:only-of-type {\n        vertical-align: middle;\n    }\n\n    .dataframe tbody tr th {\n        vertical-align: top;\n    }\n\n    .dataframe thead th {\n        text-align: right;\n    }\n</style>\n<table border=\"1\" class=\"dataframe\">\n  <thead>\n    <tr style=\"text-align: right;\">\n      <th></th>\n      <th>time_tomerge</th>\n      <th>gen_wind2</th>\n    </tr>\n  </thead>\n  <tbody>\n    <tr>\n      <th>0</th>\n      <td>2019-01-01 01:00:00</td>\n      <td>683.931</td>\n    </tr>\n    <tr>\n      <th>1</th>\n      <td>2019-01-01 02:00:00</td>\n      <td>764.107</td>\n    </tr>\n    <tr>\n      <th>2</th>\n      <td>2019-01-01 03:00:00</td>\n      <td>799.717</td>\n    </tr>\n    <tr>\n      <th>3</th>\n      <td>2019-01-01 04:00:00</td>\n      <td>770.408</td>\n    </tr>\n    <tr>\n      <th>4</th>\n      <td>2019-01-01 05:00:00</td>\n      <td>665.267</td>\n    </tr>\n    <tr>\n      <th>...</th>\n      <td>...</td>\n      <td>...</td>\n    </tr>\n    <tr>\n      <th>35055</th>\n      <td>2022-12-31 20:00:00</td>\n      <td>322.118</td>\n    </tr>\n    <tr>\n      <th>35056</th>\n      <td>2022-12-31 21:00:00</td>\n      <td>283.284</td>\n    </tr>\n    <tr>\n      <th>35057</th>\n      <td>2022-12-31 22:00:00</td>\n      <td>240.049</td>\n    </tr>\n    <tr>\n      <th>35058</th>\n      <td>2022-12-31 23:00:00</td>\n      <td>216.036</td>\n    </tr>\n    <tr>\n      <th>35059</th>\n      <td>2023-01-01 00:00:00</td>\n      <td>209.268</td>\n    </tr>\n  </tbody>\n</table>\n<p>35060 rows × 2 columns</p>\n</div>"
     },
     "execution_count": 53,
     "metadata": {},
     "output_type": "execute_result"
    }
   ],
   "source": [
    "wind_gen['gen_wind2'] = wind_gen['tot_wind_mwh']\n",
    "wind_gen = wind_gen.drop(columns = ['tot_wind_mwh', '_FREQ_'])\n",
    "wind_gen"
   ],
   "metadata": {
    "collapsed": false
   }
  },
  {
   "cell_type": "code",
   "execution_count": 54,
   "outputs": [
    {
     "data": {
      "text/plain": "         time_tomerge  gen_solar2\n0 2019-01-01 01:00:00         NaN\n1 2019-01-01 02:00:00         NaN\n2 2019-01-01 03:00:00         NaN\n3 2019-01-01 04:00:00         NaN\n4 2019-01-01 05:00:00         NaN\n5 2019-01-01 06:00:00         NaN\n6 2019-01-01 07:00:00       2.196\n7 2019-01-01 08:00:00       7.978\n8 2019-01-01 09:00:00      56.889\n9 2019-01-01 10:00:00     140.145",
      "text/html": "<div>\n<style scoped>\n    .dataframe tbody tr th:only-of-type {\n        vertical-align: middle;\n    }\n\n    .dataframe tbody tr th {\n        vertical-align: top;\n    }\n\n    .dataframe thead th {\n        text-align: right;\n    }\n</style>\n<table border=\"1\" class=\"dataframe\">\n  <thead>\n    <tr style=\"text-align: right;\">\n      <th></th>\n      <th>time_tomerge</th>\n      <th>gen_solar2</th>\n    </tr>\n  </thead>\n  <tbody>\n    <tr>\n      <th>0</th>\n      <td>2019-01-01 01:00:00</td>\n      <td>NaN</td>\n    </tr>\n    <tr>\n      <th>1</th>\n      <td>2019-01-01 02:00:00</td>\n      <td>NaN</td>\n    </tr>\n    <tr>\n      <th>2</th>\n      <td>2019-01-01 03:00:00</td>\n      <td>NaN</td>\n    </tr>\n    <tr>\n      <th>3</th>\n      <td>2019-01-01 04:00:00</td>\n      <td>NaN</td>\n    </tr>\n    <tr>\n      <th>4</th>\n      <td>2019-01-01 05:00:00</td>\n      <td>NaN</td>\n    </tr>\n    <tr>\n      <th>5</th>\n      <td>2019-01-01 06:00:00</td>\n      <td>NaN</td>\n    </tr>\n    <tr>\n      <th>6</th>\n      <td>2019-01-01 07:00:00</td>\n      <td>2.196</td>\n    </tr>\n    <tr>\n      <th>7</th>\n      <td>2019-01-01 08:00:00</td>\n      <td>7.978</td>\n    </tr>\n    <tr>\n      <th>8</th>\n      <td>2019-01-01 09:00:00</td>\n      <td>56.889</td>\n    </tr>\n    <tr>\n      <th>9</th>\n      <td>2019-01-01 10:00:00</td>\n      <td>140.145</td>\n    </tr>\n  </tbody>\n</table>\n</div>"
     },
     "execution_count": 54,
     "metadata": {},
     "output_type": "execute_result"
    }
   ],
   "source": [
    "solar_gen['gen_solar2'] = solar_gen['tot_solar_mwh']\n",
    "solar_gen = solar_gen.drop(columns = ['tot_solar_mwh', '_FREQ_'])\n",
    "solar_gen.head(10)"
   ],
   "metadata": {
    "collapsed": false
   }
  },
  {
   "cell_type": "code",
   "execution_count": 55,
   "outputs": [],
   "source": [
    "generation[\"time_tomerge\"] = pd.to_datetime(generation[\"time_tomerge\"])"
   ],
   "metadata": {
    "collapsed": false
   }
  },
  {
   "cell_type": "code",
   "execution_count": 57,
   "outputs": [],
   "source": [
    "exchange = exchange.rename(columns= {\"Actual Interchange\": \"exchange_rt\", \"Purchases\": \"exchange_negative\", \"Sales\":\"exchange_positive\"})"
   ],
   "metadata": {
    "collapsed": false
   }
  },
  {
   "cell_type": "code",
   "execution_count": 58,
   "outputs": [],
   "source": [
    "dfs = [energy_rt, energy_da, exchange, generation, load, wind_gen, solar_gen]"
   ],
   "metadata": {
    "collapsed": false
   }
  },
  {
   "cell_type": "code",
   "execution_count": 59,
   "outputs": [
    {
     "name": "stdout",
     "output_type": "stream",
     "text": [
      "Index(['energy_rt', 'congestion_rt', 'losses_rt', 'time_tomerge'], dtype='object')\n"
     ]
    },
    {
     "name": "stderr",
     "output_type": "stream",
     "text": [
      "100%|██████████| 6/6 [00:00<00:00, 24.73it/s]"
     ]
    },
    {
     "name": "stdout",
     "output_type": "stream",
     "text": [
      "       energy_rt  congestion_rt  losses_rt              time_tomerge  \\\n",
      "35060        NaN            NaN        NaN 2019-01-01 00:00:00+00:00   \n",
      "0          35.42           0.04       0.19 2019-01-01 01:00:00+00:00   \n",
      "1          38.38           0.00       0.25 2019-01-01 02:00:00+00:00   \n",
      "2          21.09           0.00       0.14 2019-01-01 03:00:00+00:00   \n",
      "3          18.29           0.03       0.13 2019-01-01 04:00:00+00:00   \n",
      "...          ...            ...        ...                       ...   \n",
      "35007      26.27           0.00       0.09 2022-12-31 20:00:00+00:00   \n",
      "35008      25.31           0.00       0.07 2022-12-31 21:00:00+00:00   \n",
      "35009      31.69           0.00       0.11 2022-12-31 22:00:00+00:00   \n",
      "35010      44.16           0.00       0.13 2022-12-31 23:00:00+00:00   \n",
      "35011      58.63           0.00       0.12 2023-01-01 00:00:00+00:00   \n",
      "\n",
      "       energy_da  congestion_da  losses_da  exchange_rt  exchange_negative  \\\n",
      "35060        NaN            NaN        NaN          NaN                NaN   \n",
      "0          25.57           0.02       0.04  -458.916667        -619.458333   \n",
      "1          20.44           0.01       0.04  -454.416667        -603.875000   \n",
      "2          18.84           0.01       0.01  -482.083333        -613.625000   \n",
      "3          19.09           0.01       0.02  -486.875000        -679.625000   \n",
      "...          ...            ...        ...          ...                ...   \n",
      "35007      38.97           0.00       0.04  -474.375000        -683.166667   \n",
      "35008      38.88           0.00       0.00  -439.666667        -669.833333   \n",
      "35009      38.73           0.00      -0.05  -330.916667        -512.583333   \n",
      "35010      38.69           0.00      -0.04  -309.666667        -503.958333   \n",
      "35011      38.95           0.00       0.00  -314.375000        -508.208333   \n",
      "\n",
      "       exchange_positive  ...  gen_other  gen_refuse  gen_solar    gen_wind  \\\n",
      "35060                NaN  ...        NaN  358.142857        0.0  671.142857   \n",
      "0             160.541667  ...        NaN  361.666667        0.0  751.666667   \n",
      "1             149.458333  ...        NaN  357.125000        0.0  783.875000   \n",
      "2             131.541667  ...        NaN  361.625000        0.0  757.625000   \n",
      "3             192.750000  ...        NaN  355.714286        0.0  648.142857   \n",
      "...                  ...  ...        ...         ...        ...         ...   \n",
      "35007         208.791667  ...   5.444444  345.666667        1.0  271.666667   \n",
      "35008         230.166667  ...   4.750000  342.250000        1.0  238.125000   \n",
      "35009         181.666667  ...   6.888889  333.555556        1.0  207.666667   \n",
      "35010         194.291667  ...   1.125000  338.000000        1.0  204.375000   \n",
      "35011         193.833333  ...        NaN         NaN        NaN         NaN   \n",
      "\n",
      "         gen_wood  gen_oil  gen_coal   load_rt  gen_wind2  gen_solar2  \n",
      "35060  368.857143      NaN       0.0       NaN        NaN         NaN  \n",
      "0      374.500000      NaN       0.0  11613.92    683.931         NaN  \n",
      "1      369.000000      NaN       0.0  11496.66    764.107         NaN  \n",
      "2      365.375000      NaN       0.0  11368.76    799.717         NaN  \n",
      "3      370.857143      NaN       0.0  11270.26    770.408         NaN  \n",
      "...           ...      ...       ...       ...        ...         ...  \n",
      "35007  231.777778      NaN       0.0  13362.98    322.118         NaN  \n",
      "35008  231.125000      NaN       0.0  12769.96    283.284         NaN  \n",
      "35009  232.222222      NaN       0.0  12376.44    240.049         NaN  \n",
      "35010  232.625000      NaN       0.0  11509.74    216.036         NaN  \n",
      "35011         NaN      NaN       NaN  10922.34    209.268         NaN  \n",
      "\n",
      "[35065 rows x 24 columns]\n"
     ]
    },
    {
     "name": "stderr",
     "output_type": "stream",
     "text": [
      "\n"
     ]
    }
   ],
   "source": [
    "total = dfs[0]\n",
    "print(total.columns)\n",
    "total[\"time_tomerge\"] = pd.to_datetime(total[\"time_tomerge\"],utc =True)\n",
    "for df in tqdm(dfs[1:]):\n",
    "    df[\"time_tomerge\"] = pd.to_datetime(df[\"time_tomerge\"],utc =True)\n",
    "    total = pd.merge(total, df, on=\"time_tomerge\", how = \"outer\")\n",
    "total = total.sort_values(by=\"time_tomerge\")\n",
    "total = total.drop_duplicates('time_tomerge')\n",
    "print(total)"
   ],
   "metadata": {
    "collapsed": false
   }
  },
  {
   "cell_type": "code",
   "execution_count": 60,
   "outputs": [],
   "source": [
    "ISO_final[\"ISONE\"] = ISO_final[\"ISONE\"].reset_index()\n",
    "ISO_final[\"ISONE\"][\"time_tomerge\"] = ISO_final[\"ISONE\"][\"time_tomerge\"] - timedelta(hours=5)"
   ],
   "metadata": {
    "collapsed": false
   }
  },
  {
   "cell_type": "code",
   "execution_count": 61,
   "outputs": [
    {
     "data": {
      "text/plain": "                   time_tomerge  congestion_da  congestion_rt  energy_da  \\\n0     2014-01-01 00:00:00+00:00            0.0            0.0      62.04   \n1     2014-01-01 01:00:00+00:00            0.0            0.0      54.65   \n2     2014-01-01 02:00:00+00:00            0.0            0.0      38.40   \n3     2014-01-01 03:00:00+00:00            0.0            0.0      38.02   \n4     2014-01-01 04:00:00+00:00            0.0            0.0      37.48   \n...                         ...            ...            ...        ...   \n35007 2022-12-31 20:00:00+00:00            0.0            0.0      38.97   \n35008 2022-12-31 21:00:00+00:00            0.0            0.0      38.88   \n35009 2022-12-31 22:00:00+00:00            0.0            0.0      38.73   \n35010 2022-12-31 23:00:00+00:00            0.0            0.0      38.69   \n35011 2023-01-01 00:00:00+00:00            0.0            0.0      38.95   \n\n       energy_rt  exchange_rt                 unnamed: 0  gas_price  gen_coal  \\\n0         117.43 -3134.000000  2014-01-01 00:00:00-05:00  20.151667       NaN   \n1         148.38 -3168.000000  2014-01-01 01:00:00-05:00  20.151667       NaN   \n2          97.06 -3550.000000  2014-01-01 02:00:00-05:00  20.151667       NaN   \n3          38.54 -3883.000000  2014-01-01 03:00:00-05:00  20.151667       NaN   \n4          79.01 -3806.000000  2014-01-01 04:00:00-05:00  20.151667       NaN   \n...          ...          ...                        ...        ...       ...   \n35007      26.27  -474.375000                        NaN        NaN       0.0   \n35008      25.31  -439.666667                        NaN        NaN       0.0   \n35009      31.69  -330.916667                        NaN        NaN       0.0   \n35010      44.16  -309.666667                        NaN        NaN       0.0   \n35011      58.63  -314.375000                        NaN        NaN       NaN   \n\n         gen_hydro  ...    gen_wood   load_rt  losses_da  losses_rt  \\\n0              NaN  ...         NaN  14312.05   -0.17375   -0.05125   \n1              NaN  ...         NaN  14235.98   -0.15500   -0.02375   \n2              NaN  ...         NaN  14364.54   -0.07500   -0.02875   \n3              NaN  ...         NaN  14258.79   -0.09625   -0.03625   \n4              NaN  ...         NaN  14300.04   -0.08875   -0.08000   \n...            ...  ...         ...       ...        ...        ...   \n35007  1142.666667  ...  231.777778  13362.98    0.04000    0.09000   \n35008  1141.750000  ...  231.125000  12769.96    0.00000    0.07000   \n35009  1173.666667  ...  232.222222  12376.44   -0.05000    0.11000   \n35010  1210.375000  ...  232.625000  11509.74   -0.04000    0.13000   \n35011          NaN  ...         NaN  10922.34    0.00000    0.12000   \n\n       regulation_price  regulation_quantity  reserves_price  \\\n0                 38.92                38.92             0.0   \n1                 59.24                59.24             0.0   \n2                 43.18                43.18             0.0   \n3                 81.93                81.93             0.0   \n4                 49.27                49.27             0.0   \n...                 ...                  ...             ...   \n35007               NaN                  NaN             NaN   \n35008               NaN                  NaN             NaN   \n35009               NaN                  NaN             NaN   \n35010               NaN                  NaN             NaN   \n35011               NaN                  NaN             NaN   \n\n       reserves_quantity  exchange_negative  exchange_positive  \n0                526.100                NaN                NaN  \n1                441.233                NaN                NaN  \n2                541.325                NaN                NaN  \n3                641.900                NaN                NaN  \n4                651.575                NaN                NaN  \n...                  ...                ...                ...  \n35007                NaN        -683.166667         208.791667  \n35008                NaN        -669.833333         230.166667  \n35009                NaN        -512.583333         181.666667  \n35010                NaN        -503.958333         194.291667  \n35011                NaN        -508.208333         193.833333  \n\n[78889 rows x 28 columns]",
      "text/html": "<div>\n<style scoped>\n    .dataframe tbody tr th:only-of-type {\n        vertical-align: middle;\n    }\n\n    .dataframe tbody tr th {\n        vertical-align: top;\n    }\n\n    .dataframe thead th {\n        text-align: right;\n    }\n</style>\n<table border=\"1\" class=\"dataframe\">\n  <thead>\n    <tr style=\"text-align: right;\">\n      <th></th>\n      <th>time_tomerge</th>\n      <th>congestion_da</th>\n      <th>congestion_rt</th>\n      <th>energy_da</th>\n      <th>energy_rt</th>\n      <th>exchange_rt</th>\n      <th>unnamed: 0</th>\n      <th>gas_price</th>\n      <th>gen_coal</th>\n      <th>gen_hydro</th>\n      <th>...</th>\n      <th>gen_wood</th>\n      <th>load_rt</th>\n      <th>losses_da</th>\n      <th>losses_rt</th>\n      <th>regulation_price</th>\n      <th>regulation_quantity</th>\n      <th>reserves_price</th>\n      <th>reserves_quantity</th>\n      <th>exchange_negative</th>\n      <th>exchange_positive</th>\n    </tr>\n  </thead>\n  <tbody>\n    <tr>\n      <th>0</th>\n      <td>2014-01-01 00:00:00+00:00</td>\n      <td>0.0</td>\n      <td>0.0</td>\n      <td>62.04</td>\n      <td>117.43</td>\n      <td>-3134.000000</td>\n      <td>2014-01-01 00:00:00-05:00</td>\n      <td>20.151667</td>\n      <td>NaN</td>\n      <td>NaN</td>\n      <td>...</td>\n      <td>NaN</td>\n      <td>14312.05</td>\n      <td>-0.17375</td>\n      <td>-0.05125</td>\n      <td>38.92</td>\n      <td>38.92</td>\n      <td>0.0</td>\n      <td>526.100</td>\n      <td>NaN</td>\n      <td>NaN</td>\n    </tr>\n    <tr>\n      <th>1</th>\n      <td>2014-01-01 01:00:00+00:00</td>\n      <td>0.0</td>\n      <td>0.0</td>\n      <td>54.65</td>\n      <td>148.38</td>\n      <td>-3168.000000</td>\n      <td>2014-01-01 01:00:00-05:00</td>\n      <td>20.151667</td>\n      <td>NaN</td>\n      <td>NaN</td>\n      <td>...</td>\n      <td>NaN</td>\n      <td>14235.98</td>\n      <td>-0.15500</td>\n      <td>-0.02375</td>\n      <td>59.24</td>\n      <td>59.24</td>\n      <td>0.0</td>\n      <td>441.233</td>\n      <td>NaN</td>\n      <td>NaN</td>\n    </tr>\n    <tr>\n      <th>2</th>\n      <td>2014-01-01 02:00:00+00:00</td>\n      <td>0.0</td>\n      <td>0.0</td>\n      <td>38.40</td>\n      <td>97.06</td>\n      <td>-3550.000000</td>\n      <td>2014-01-01 02:00:00-05:00</td>\n      <td>20.151667</td>\n      <td>NaN</td>\n      <td>NaN</td>\n      <td>...</td>\n      <td>NaN</td>\n      <td>14364.54</td>\n      <td>-0.07500</td>\n      <td>-0.02875</td>\n      <td>43.18</td>\n      <td>43.18</td>\n      <td>0.0</td>\n      <td>541.325</td>\n      <td>NaN</td>\n      <td>NaN</td>\n    </tr>\n    <tr>\n      <th>3</th>\n      <td>2014-01-01 03:00:00+00:00</td>\n      <td>0.0</td>\n      <td>0.0</td>\n      <td>38.02</td>\n      <td>38.54</td>\n      <td>-3883.000000</td>\n      <td>2014-01-01 03:00:00-05:00</td>\n      <td>20.151667</td>\n      <td>NaN</td>\n      <td>NaN</td>\n      <td>...</td>\n      <td>NaN</td>\n      <td>14258.79</td>\n      <td>-0.09625</td>\n      <td>-0.03625</td>\n      <td>81.93</td>\n      <td>81.93</td>\n      <td>0.0</td>\n      <td>641.900</td>\n      <td>NaN</td>\n      <td>NaN</td>\n    </tr>\n    <tr>\n      <th>4</th>\n      <td>2014-01-01 04:00:00+00:00</td>\n      <td>0.0</td>\n      <td>0.0</td>\n      <td>37.48</td>\n      <td>79.01</td>\n      <td>-3806.000000</td>\n      <td>2014-01-01 04:00:00-05:00</td>\n      <td>20.151667</td>\n      <td>NaN</td>\n      <td>NaN</td>\n      <td>...</td>\n      <td>NaN</td>\n      <td>14300.04</td>\n      <td>-0.08875</td>\n      <td>-0.08000</td>\n      <td>49.27</td>\n      <td>49.27</td>\n      <td>0.0</td>\n      <td>651.575</td>\n      <td>NaN</td>\n      <td>NaN</td>\n    </tr>\n    <tr>\n      <th>...</th>\n      <td>...</td>\n      <td>...</td>\n      <td>...</td>\n      <td>...</td>\n      <td>...</td>\n      <td>...</td>\n      <td>...</td>\n      <td>...</td>\n      <td>...</td>\n      <td>...</td>\n      <td>...</td>\n      <td>...</td>\n      <td>...</td>\n      <td>...</td>\n      <td>...</td>\n      <td>...</td>\n      <td>...</td>\n      <td>...</td>\n      <td>...</td>\n      <td>...</td>\n      <td>...</td>\n    </tr>\n    <tr>\n      <th>35007</th>\n      <td>2022-12-31 20:00:00+00:00</td>\n      <td>0.0</td>\n      <td>0.0</td>\n      <td>38.97</td>\n      <td>26.27</td>\n      <td>-474.375000</td>\n      <td>NaN</td>\n      <td>NaN</td>\n      <td>0.0</td>\n      <td>1142.666667</td>\n      <td>...</td>\n      <td>231.777778</td>\n      <td>13362.98</td>\n      <td>0.04000</td>\n      <td>0.09000</td>\n      <td>NaN</td>\n      <td>NaN</td>\n      <td>NaN</td>\n      <td>NaN</td>\n      <td>-683.166667</td>\n      <td>208.791667</td>\n    </tr>\n    <tr>\n      <th>35008</th>\n      <td>2022-12-31 21:00:00+00:00</td>\n      <td>0.0</td>\n      <td>0.0</td>\n      <td>38.88</td>\n      <td>25.31</td>\n      <td>-439.666667</td>\n      <td>NaN</td>\n      <td>NaN</td>\n      <td>0.0</td>\n      <td>1141.750000</td>\n      <td>...</td>\n      <td>231.125000</td>\n      <td>12769.96</td>\n      <td>0.00000</td>\n      <td>0.07000</td>\n      <td>NaN</td>\n      <td>NaN</td>\n      <td>NaN</td>\n      <td>NaN</td>\n      <td>-669.833333</td>\n      <td>230.166667</td>\n    </tr>\n    <tr>\n      <th>35009</th>\n      <td>2022-12-31 22:00:00+00:00</td>\n      <td>0.0</td>\n      <td>0.0</td>\n      <td>38.73</td>\n      <td>31.69</td>\n      <td>-330.916667</td>\n      <td>NaN</td>\n      <td>NaN</td>\n      <td>0.0</td>\n      <td>1173.666667</td>\n      <td>...</td>\n      <td>232.222222</td>\n      <td>12376.44</td>\n      <td>-0.05000</td>\n      <td>0.11000</td>\n      <td>NaN</td>\n      <td>NaN</td>\n      <td>NaN</td>\n      <td>NaN</td>\n      <td>-512.583333</td>\n      <td>181.666667</td>\n    </tr>\n    <tr>\n      <th>35010</th>\n      <td>2022-12-31 23:00:00+00:00</td>\n      <td>0.0</td>\n      <td>0.0</td>\n      <td>38.69</td>\n      <td>44.16</td>\n      <td>-309.666667</td>\n      <td>NaN</td>\n      <td>NaN</td>\n      <td>0.0</td>\n      <td>1210.375000</td>\n      <td>...</td>\n      <td>232.625000</td>\n      <td>11509.74</td>\n      <td>-0.04000</td>\n      <td>0.13000</td>\n      <td>NaN</td>\n      <td>NaN</td>\n      <td>NaN</td>\n      <td>NaN</td>\n      <td>-503.958333</td>\n      <td>194.291667</td>\n    </tr>\n    <tr>\n      <th>35011</th>\n      <td>2023-01-01 00:00:00+00:00</td>\n      <td>0.0</td>\n      <td>0.0</td>\n      <td>38.95</td>\n      <td>58.63</td>\n      <td>-314.375000</td>\n      <td>NaN</td>\n      <td>NaN</td>\n      <td>NaN</td>\n      <td>NaN</td>\n      <td>...</td>\n      <td>NaN</td>\n      <td>10922.34</td>\n      <td>0.00000</td>\n      <td>0.12000</td>\n      <td>NaN</td>\n      <td>NaN</td>\n      <td>NaN</td>\n      <td>NaN</td>\n      <td>-508.208333</td>\n      <td>193.833333</td>\n    </tr>\n  </tbody>\n</table>\n<p>78889 rows × 28 columns</p>\n</div>"
     },
     "execution_count": 61,
     "metadata": {},
     "output_type": "execute_result"
    }
   ],
   "source": [
    "final = pd.concat([ISO_final[\"ISONE\"], total])\n",
    "final.drop(columns=[\"gen_solar2\", \"gen_wind2\"])"
   ],
   "metadata": {
    "collapsed": false
   }
  },
  {
   "cell_type": "code",
   "execution_count": 62,
   "outputs": [],
   "source": [
    "final.to_csv(\"/Users/evanlipton/Dropbox (YSE)/Solar_ElectricData/ISOs/ISONE2.csv\")\n"
   ],
   "metadata": {
    "collapsed": false
   }
  },
  {
   "cell_type": "code",
   "execution_count": null,
   "outputs": [],
   "source": [],
   "metadata": {
    "collapsed": false
   }
  }
 ],
 "metadata": {
  "kernelspec": {
   "display_name": "Python 3",
   "language": "python",
   "name": "python3"
  },
  "language_info": {
   "codemirror_mode": {
    "name": "ipython",
    "version": 2
   },
   "file_extension": ".py",
   "mimetype": "text/x-python",
   "name": "python",
   "nbconvert_exporter": "python",
   "pygments_lexer": "ipython2",
   "version": "2.7.6"
  }
 },
 "nbformat": 4,
 "nbformat_minor": 0
}
